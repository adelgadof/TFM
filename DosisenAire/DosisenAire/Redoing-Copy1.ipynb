{
 "cells": [
  {
   "cell_type": "code",
   "execution_count": 1,
   "id": "8605b492",
   "metadata": {},
   "outputs": [],
   "source": [
    "import pandas as pd \n",
    "import numpy as np \n",
    "pd.options.plotting.backend = 'plotly'"
   ]
  },
  {
   "cell_type": "code",
   "execution_count": 5,
   "id": "f73cd09a",
   "metadata": {},
   "outputs": [
    {
     "data": {
      "text/plain": [
       "531441"
      ]
     },
     "execution_count": 5,
     "metadata": {},
     "output_type": "execute_result"
    }
   ],
   "source": [
    "9**6"
   ]
  },
  {
   "cell_type": "code",
   "execution_count": 3,
   "id": "9e0470dd",
   "metadata": {},
   "outputs": [
    {
     "data": {
      "text/plain": [
       "array([ 0.  ,  1.25,  2.5 ,  3.75,  5.  ,  6.25,  7.5 ,  8.75, 10.  ])"
      ]
     },
     "execution_count": 3,
     "metadata": {},
     "output_type": "execute_result"
    }
   ],
   "source": [
    "np.linspace(0, 10, 9)"
   ]
  },
  {
   "cell_type": "markdown",
   "id": "a019c346",
   "metadata": {},
   "source": [
    "# Cuadrados 100"
   ]
  },
  {
   "cell_type": "markdown",
   "id": "ef29d037",
   "metadata": {},
   "source": [
    "## 5x5"
   ]
  },
  {
   "cell_type": "code",
   "execution_count": 2,
   "id": "d339b5c2",
   "metadata": {},
   "outputs": [
    {
     "name": "stderr",
     "output_type": "stream",
     "text": [
      "/home/armando/anaconda3/lib/python3.7/site-packages/ipykernel_launcher.py:1: ParserWarning: Falling back to the 'python' engine because the 'c' engine does not support regex separators (separators > 1 char and different from '\\s+' are interpreted as regex); you can avoid this warning by specifying engine='python'.\n",
      "  \"\"\"Entry point for launching an IPython kernel.\n",
      "/home/armando/anaconda3/lib/python3.7/site-packages/ipykernel_launcher.py:2: ParserWarning: Falling back to the 'python' engine because the 'c' engine does not support regex separators (separators > 1 char and different from '\\s+' are interpreted as regex); you can avoid this warning by specifying engine='python'.\n",
      "  \n",
      "/home/armando/anaconda3/lib/python3.7/site-packages/ipykernel_launcher.py:3: ParserWarning: Falling back to the 'python' engine because the 'c' engine does not support regex separators (separators > 1 char and different from '\\s+' are interpreted as regex); you can avoid this warning by specifying engine='python'.\n",
      "  This is separate from the ipykernel package so we can avoid doing imports until\n",
      "/home/armando/anaconda3/lib/python3.7/site-packages/ipykernel_launcher.py:5: ParserWarning: Falling back to the 'python' engine because the 'c' engine does not support regex separators (separators > 1 char and different from '\\s+' are interpreted as regex); you can avoid this warning by specifying engine='python'.\n",
      "  \"\"\"\n",
      "/home/armando/anaconda3/lib/python3.7/site-packages/ipykernel_launcher.py:6: ParserWarning: Falling back to the 'python' engine because the 'c' engine does not support regex separators (separators > 1 char and different from '\\s+' are interpreted as regex); you can avoid this warning by specifying engine='python'.\n",
      "  \n",
      "/home/armando/anaconda3/lib/python3.7/site-packages/ipykernel_launcher.py:7: ParserWarning: Falling back to the 'python' engine because the 'c' engine does not support regex separators (separators > 1 char and different from '\\s+' are interpreted as regex); you can avoid this warning by specifying engine='python'.\n",
      "  import sys\n"
     ]
    }
   ],
   "source": [
    "pddopen5 = pd.read_csv('OPEN/txt/5x5/5x5pdd.txt', delimiter='\t\t', names=['r', 'señal open 5x5', 'error open 5x5'])\n",
    "pcropen5 = pd.read_csv('OPEN/txt/5x5/5x5pro-cr-100.txt', delimiter='\t\t', names=['r', 'señal open 5x5', 'error open 5x5'])\n",
    "pinopen5 = pd.read_csv('OPEN/txt/5x5/5x5pro-in-100.txt', delimiter='\t\t', names=['r', 'señal open 5x5', 'error open 5x5'])\n",
    "\n",
    "pddFFF5 = pd.read_csv('FFF/txt/5x5/5x5pdd.txt', delimiter='\t\t', names=['r', 'señal fff 5x5', 'error fff 5x5'])\n",
    "pcrFFF5 = pd.read_csv('FFF/txt/5x5/5x5pro-cr-100.txt', delimiter='\t\t', names=['r', 'señal fff 5x5', 'error fff 5x5'])\n",
    "pinFFF5 = pd.read_csv('FFF/txt/5x5/5x5pro-in-100.txt', delimiter='\t\t', names=['r', 'señal fff 5x5', 'error fff 5x5'])\n"
   ]
  },
  {
   "cell_type": "markdown",
   "id": "c04c88df",
   "metadata": {},
   "source": [
    "## 10x10"
   ]
  },
  {
   "cell_type": "code",
   "execution_count": 3,
   "id": "9945d1fa",
   "metadata": {},
   "outputs": [
    {
     "name": "stderr",
     "output_type": "stream",
     "text": [
      "/home/armando/anaconda3/lib/python3.7/site-packages/ipykernel_launcher.py:1: ParserWarning: Falling back to the 'python' engine because the 'c' engine does not support regex separators (separators > 1 char and different from '\\s+' are interpreted as regex); you can avoid this warning by specifying engine='python'.\n",
      "  \"\"\"Entry point for launching an IPython kernel.\n",
      "/home/armando/anaconda3/lib/python3.7/site-packages/ipykernel_launcher.py:2: ParserWarning: Falling back to the 'python' engine because the 'c' engine does not support regex separators (separators > 1 char and different from '\\s+' are interpreted as regex); you can avoid this warning by specifying engine='python'.\n",
      "  \n",
      "/home/armando/anaconda3/lib/python3.7/site-packages/ipykernel_launcher.py:3: ParserWarning: Falling back to the 'python' engine because the 'c' engine does not support regex separators (separators > 1 char and different from '\\s+' are interpreted as regex); you can avoid this warning by specifying engine='python'.\n",
      "  This is separate from the ipykernel package so we can avoid doing imports until\n",
      "/home/armando/anaconda3/lib/python3.7/site-packages/ipykernel_launcher.py:5: ParserWarning: Falling back to the 'python' engine because the 'c' engine does not support regex separators (separators > 1 char and different from '\\s+' are interpreted as regex); you can avoid this warning by specifying engine='python'.\n",
      "  \"\"\"\n",
      "/home/armando/anaconda3/lib/python3.7/site-packages/ipykernel_launcher.py:6: ParserWarning: Falling back to the 'python' engine because the 'c' engine does not support regex separators (separators > 1 char and different from '\\s+' are interpreted as regex); you can avoid this warning by specifying engine='python'.\n",
      "  \n",
      "/home/armando/anaconda3/lib/python3.7/site-packages/ipykernel_launcher.py:7: ParserWarning: Falling back to the 'python' engine because the 'c' engine does not support regex separators (separators > 1 char and different from '\\s+' are interpreted as regex); you can avoid this warning by specifying engine='python'.\n",
      "  import sys\n"
     ]
    }
   ],
   "source": [
    "pddopen10 = pd.read_csv('OPEN/txt/10x10/10x10pdd.txt', delimiter='\t\t', names=['r', 'señal open 10x10', 'error open 10x10'])\n",
    "pcropen10 = pd.read_csv('OPEN/txt/10x10/10x10pro-cr-100.txt', delimiter='\t\t', names=['r', 'señal open 10x10', 'error open 10x10'])\n",
    "pinopen10 = pd.read_csv('OPEN/txt/10x10/10x10pro-in-100.txt', delimiter='\t\t', names=['r', 'señal open 10x10', 'error open 10x10'])\n",
    "\n",
    "pddFFF10 = pd.read_csv('FFF/txt/10x10/10x10pdd.txt', delimiter='\t\t', names=['r', 'señal fff 10x10', 'error fff 10x10'])\n",
    "pcrFFF10 = pd.read_csv('FFF/txt/10x10/10x10pro-cr-100.txt', delimiter='\t\t', names=['r', 'señal fff 10x10', 'error fff 10x10'])\n",
    "pinFFF10 = pd.read_csv('FFF/txt/10x10/10x10pro-in-100.txt', delimiter='\t\t', names=['r', 'señal fff 10x10', 'error fff 10x10'])\n"
   ]
  },
  {
   "cell_type": "markdown",
   "id": "5fbeede9",
   "metadata": {},
   "source": [
    "## 20x20"
   ]
  },
  {
   "cell_type": "code",
   "execution_count": 4,
   "id": "b0e24717",
   "metadata": {
    "scrolled": true
   },
   "outputs": [
    {
     "name": "stderr",
     "output_type": "stream",
     "text": [
      "/home/armando/anaconda3/lib/python3.7/site-packages/ipykernel_launcher.py:1: ParserWarning: Falling back to the 'python' engine because the 'c' engine does not support regex separators (separators > 1 char and different from '\\s+' are interpreted as regex); you can avoid this warning by specifying engine='python'.\n",
      "  \"\"\"Entry point for launching an IPython kernel.\n",
      "/home/armando/anaconda3/lib/python3.7/site-packages/ipykernel_launcher.py:2: ParserWarning: Falling back to the 'python' engine because the 'c' engine does not support regex separators (separators > 1 char and different from '\\s+' are interpreted as regex); you can avoid this warning by specifying engine='python'.\n",
      "  \n",
      "/home/armando/anaconda3/lib/python3.7/site-packages/ipykernel_launcher.py:3: ParserWarning: Falling back to the 'python' engine because the 'c' engine does not support regex separators (separators > 1 char and different from '\\s+' are interpreted as regex); you can avoid this warning by specifying engine='python'.\n",
      "  This is separate from the ipykernel package so we can avoid doing imports until\n",
      "/home/armando/anaconda3/lib/python3.7/site-packages/ipykernel_launcher.py:5: ParserWarning: Falling back to the 'python' engine because the 'c' engine does not support regex separators (separators > 1 char and different from '\\s+' are interpreted as regex); you can avoid this warning by specifying engine='python'.\n",
      "  \"\"\"\n",
      "/home/armando/anaconda3/lib/python3.7/site-packages/ipykernel_launcher.py:6: ParserWarning: Falling back to the 'python' engine because the 'c' engine does not support regex separators (separators > 1 char and different from '\\s+' are interpreted as regex); you can avoid this warning by specifying engine='python'.\n",
      "  \n",
      "/home/armando/anaconda3/lib/python3.7/site-packages/ipykernel_launcher.py:7: ParserWarning: Falling back to the 'python' engine because the 'c' engine does not support regex separators (separators > 1 char and different from '\\s+' are interpreted as regex); you can avoid this warning by specifying engine='python'.\n",
      "  import sys\n"
     ]
    }
   ],
   "source": [
    "pddopen20 = pd.read_csv('OPEN/txt/20x20/20x20pdd.txt', delimiter='\t\t', names=['r', 'señal open 20x20', 'error open 20x20'])\n",
    "pcropen20 = pd.read_csv('OPEN/txt/20x20/20x20pro-cr-100.txt', delimiter='\t\t', names=['r', 'señal open 20x20', 'error open 20x20'])\n",
    "pinopen20 = pd.read_csv('OPEN/txt/20x20/20x20pro-in-100.txt', delimiter='\t\t', names=['r', 'señal open 20x20', 'error open 20x20'])\n",
    "\n",
    "pddFFF20 = pd.read_csv('FFF/txt/20x20/20x20pdd.txt', delimiter='\t\t', names=['r', 'señal fff 20x20', 'error fff 20x20'])\n",
    "pcrFFF20 = pd.read_csv('FFF/txt/20x20/20x20pro-cr-100.txt', delimiter='\t\t', names=['r', 'señal fff 20x20', 'error fff 20x20'])\n",
    "pinFFF20 = pd.read_csv('FFF/txt/20x20/20x20pro-in-100.txt', delimiter='\t\t', names=['r', 'señal fff 20x20', 'error fff 20x20'])\n"
   ]
  },
  {
   "cell_type": "markdown",
   "id": "f339a46f",
   "metadata": {},
   "source": [
    "\n",
    "\n",
    "\n",
    "\n",
    "\n",
    "## 40x40"
   ]
  },
  {
   "cell_type": "code",
   "execution_count": 5,
   "id": "f35cf3d9",
   "metadata": {
    "scrolled": true
   },
   "outputs": [
    {
     "name": "stderr",
     "output_type": "stream",
     "text": [
      "/home/armando/anaconda3/lib/python3.7/site-packages/ipykernel_launcher.py:1: ParserWarning: Falling back to the 'python' engine because the 'c' engine does not support regex separators (separators > 1 char and different from '\\s+' are interpreted as regex); you can avoid this warning by specifying engine='python'.\n",
      "  \"\"\"Entry point for launching an IPython kernel.\n",
      "/home/armando/anaconda3/lib/python3.7/site-packages/ipykernel_launcher.py:2: ParserWarning: Falling back to the 'python' engine because the 'c' engine does not support regex separators (separators > 1 char and different from '\\s+' are interpreted as regex); you can avoid this warning by specifying engine='python'.\n",
      "  \n",
      "/home/armando/anaconda3/lib/python3.7/site-packages/ipykernel_launcher.py:3: ParserWarning: Falling back to the 'python' engine because the 'c' engine does not support regex separators (separators > 1 char and different from '\\s+' are interpreted as regex); you can avoid this warning by specifying engine='python'.\n",
      "  This is separate from the ipykernel package so we can avoid doing imports until\n",
      "/home/armando/anaconda3/lib/python3.7/site-packages/ipykernel_launcher.py:5: ParserWarning: Falling back to the 'python' engine because the 'c' engine does not support regex separators (separators > 1 char and different from '\\s+' are interpreted as regex); you can avoid this warning by specifying engine='python'.\n",
      "  \"\"\"\n",
      "/home/armando/anaconda3/lib/python3.7/site-packages/ipykernel_launcher.py:6: ParserWarning: Falling back to the 'python' engine because the 'c' engine does not support regex separators (separators > 1 char and different from '\\s+' are interpreted as regex); you can avoid this warning by specifying engine='python'.\n",
      "  \n",
      "/home/armando/anaconda3/lib/python3.7/site-packages/ipykernel_launcher.py:7: ParserWarning: Falling back to the 'python' engine because the 'c' engine does not support regex separators (separators > 1 char and different from '\\s+' are interpreted as regex); you can avoid this warning by specifying engine='python'.\n",
      "  import sys\n"
     ]
    }
   ],
   "source": [
    "pddopen40 = pd.read_csv('OPEN/txt/40x40/40x40pdd.txt', delimiter='\t\t', names=['r', 'señal open 40x40', 'error open 40x40'])\n",
    "pcropen40 = pd.read_csv('OPEN/txt/40x40/40x40pro-cr-100.txt', delimiter='\t\t', names=['r', 'señal open 40x40', 'error open 40x40'])\n",
    "pinopen40 = pd.read_csv('OPEN/txt/40x40/40x40pro-in-100.txt', delimiter='\t\t', names=['r', 'señal open 40x40', 'error open 40x40'])\n",
    "\n",
    "pddFFF40 = pd.read_csv('FFF/txt/40x40/40x40pdd.txt', delimiter='\t\t', names=['r', 'señal fff 40x40', 'error fff 40x40'])\n",
    "pcrFFF40 = pd.read_csv('FFF/txt/40x40/40x40pro-cr-100.txt', delimiter='\t\t', names=['r', 'señal fff 40x40', 'error fff 40x40'])\n",
    "pinFFF40 = pd.read_csv('FFF/txt/40x40/40x40pro-in-100.txt', delimiter='\t\t', names=['r', 'señal fff 40x40', 'error fff 40x40'])\n"
   ]
  },
  {
   "cell_type": "markdown",
   "id": "e4531bba",
   "metadata": {},
   "source": [
    "# Cuadrados 115"
   ]
  },
  {
   "cell_type": "markdown",
   "id": "105a6bd7",
   "metadata": {},
   "source": [
    "## 5x5"
   ]
  },
  {
   "cell_type": "code",
   "execution_count": 6,
   "id": "59cf23bf",
   "metadata": {},
   "outputs": [
    {
     "name": "stderr",
     "output_type": "stream",
     "text": [
      "/home/armando/anaconda3/lib/python3.7/site-packages/ipykernel_launcher.py:1: ParserWarning: Falling back to the 'python' engine because the 'c' engine does not support regex separators (separators > 1 char and different from '\\s+' are interpreted as regex); you can avoid this warning by specifying engine='python'.\n",
      "  \"\"\"Entry point for launching an IPython kernel.\n",
      "/home/armando/anaconda3/lib/python3.7/site-packages/ipykernel_launcher.py:2: ParserWarning: Falling back to the 'python' engine because the 'c' engine does not support regex separators (separators > 1 char and different from '\\s+' are interpreted as regex); you can avoid this warning by specifying engine='python'.\n",
      "  \n",
      "/home/armando/anaconda3/lib/python3.7/site-packages/ipykernel_launcher.py:3: ParserWarning: Falling back to the 'python' engine because the 'c' engine does not support regex separators (separators > 1 char and different from '\\s+' are interpreted as regex); you can avoid this warning by specifying engine='python'.\n",
      "  This is separate from the ipykernel package so we can avoid doing imports until\n",
      "/home/armando/anaconda3/lib/python3.7/site-packages/ipykernel_launcher.py:5: ParserWarning: Falling back to the 'python' engine because the 'c' engine does not support regex separators (separators > 1 char and different from '\\s+' are interpreted as regex); you can avoid this warning by specifying engine='python'.\n",
      "  \"\"\"\n",
      "/home/armando/anaconda3/lib/python3.7/site-packages/ipykernel_launcher.py:6: ParserWarning: Falling back to the 'python' engine because the 'c' engine does not support regex separators (separators > 1 char and different from '\\s+' are interpreted as regex); you can avoid this warning by specifying engine='python'.\n",
      "  \n",
      "/home/armando/anaconda3/lib/python3.7/site-packages/ipykernel_launcher.py:7: ParserWarning: Falling back to the 'python' engine because the 'c' engine does not support regex separators (separators > 1 char and different from '\\s+' are interpreted as regex); you can avoid this warning by specifying engine='python'.\n",
      "  import sys\n"
     ]
    }
   ],
   "source": [
    "pddopen5_115 = pd.read_csv('OPEN/txt/5x5/5x5pdd.txt', delimiter='\t\t', names=['r', 'señal open 5x5', 'error open 5x5'])\n",
    "pcropen5_115 = pd.read_csv('OPEN/txt/5x5/5x5pro-cr-115.txt', delimiter='\t\t', names=['r', 'señal open 5x5', 'error open 5x5'])\n",
    "pinopen5_115 = pd.read_csv('OPEN/txt/5x5/5x5pro-in-115.txt', delimiter='\t\t', names=['r', 'señal open 5x5', 'error open 5x5'])\n",
    "\n",
    "pddFFF5_115 = pd.read_csv('FFF/txt/5x5/5x5pdd.txt', delimiter='\t\t', names=['r', 'señal fff 5x5', 'error fff 5x5'])\n",
    "pcrFFF5_115 = pd.read_csv('FFF/txt/5x5/5x5pro-cr-115.txt', delimiter='\t\t', names=['r', 'señal fff 5x5', 'error fff 5x5'])\n",
    "pinFFF5_115 = pd.read_csv('FFF/txt/5x5/5x5pro-in-115.txt', delimiter='\t\t', names=['r', 'señal fff 5x5', 'error fff 5x5'])\n"
   ]
  },
  {
   "cell_type": "markdown",
   "id": "e22a47c0",
   "metadata": {},
   "source": [
    "## 10x10"
   ]
  },
  {
   "cell_type": "code",
   "execution_count": 7,
   "id": "3c54b0b0",
   "metadata": {},
   "outputs": [
    {
     "name": "stderr",
     "output_type": "stream",
     "text": [
      "/home/armando/anaconda3/lib/python3.7/site-packages/ipykernel_launcher.py:1: ParserWarning: Falling back to the 'python' engine because the 'c' engine does not support regex separators (separators > 1 char and different from '\\s+' are interpreted as regex); you can avoid this warning by specifying engine='python'.\n",
      "  \"\"\"Entry point for launching an IPython kernel.\n",
      "/home/armando/anaconda3/lib/python3.7/site-packages/ipykernel_launcher.py:2: ParserWarning: Falling back to the 'python' engine because the 'c' engine does not support regex separators (separators > 1 char and different from '\\s+' are interpreted as regex); you can avoid this warning by specifying engine='python'.\n",
      "  \n",
      "/home/armando/anaconda3/lib/python3.7/site-packages/ipykernel_launcher.py:3: ParserWarning: Falling back to the 'python' engine because the 'c' engine does not support regex separators (separators > 1 char and different from '\\s+' are interpreted as regex); you can avoid this warning by specifying engine='python'.\n",
      "  This is separate from the ipykernel package so we can avoid doing imports until\n",
      "/home/armando/anaconda3/lib/python3.7/site-packages/ipykernel_launcher.py:5: ParserWarning: Falling back to the 'python' engine because the 'c' engine does not support regex separators (separators > 1 char and different from '\\s+' are interpreted as regex); you can avoid this warning by specifying engine='python'.\n",
      "  \"\"\"\n",
      "/home/armando/anaconda3/lib/python3.7/site-packages/ipykernel_launcher.py:6: ParserWarning: Falling back to the 'python' engine because the 'c' engine does not support regex separators (separators > 1 char and different from '\\s+' are interpreted as regex); you can avoid this warning by specifying engine='python'.\n",
      "  \n",
      "/home/armando/anaconda3/lib/python3.7/site-packages/ipykernel_launcher.py:7: ParserWarning: Falling back to the 'python' engine because the 'c' engine does not support regex separators (separators > 1 char and different from '\\s+' are interpreted as regex); you can avoid this warning by specifying engine='python'.\n",
      "  import sys\n"
     ]
    }
   ],
   "source": [
    "pddopen10_115 = pd.read_csv('OPEN/txt/10x10/10x10pdd.txt', delimiter='\t\t', names=['r', 'señal open 10x10', 'error open 10x10'])\n",
    "pcropen10_115 = pd.read_csv('OPEN/txt/10x10/10x10pro-cr-115.txt', delimiter='\t\t', names=['r', 'señal open 10x10', 'error open 10x10'])\n",
    "pinopen10_115 = pd.read_csv('OPEN/txt/10x10/10x10pro-in-115.txt', delimiter='\t\t', names=['r', 'señal open 10x10', 'error open 10x10'])\n",
    "\n",
    "pddFFF10_115 = pd.read_csv('FFF/txt/10x10/10x10pdd.txt', delimiter='\t\t', names=['r', 'señal fff 10x10', 'error fff 10x10'])\n",
    "pcrFFF10_115 = pd.read_csv('FFF/txt/10x10/10x10pro-cr-115.txt', delimiter='\t\t', names=['r', 'señal fff 10x10', 'error fff 10x10'])\n",
    "pinFFF10_115 = pd.read_csv('FFF/txt/10x10/10x10pro-in-115.txt', delimiter='\t\t', names=['r', 'señal fff 10x10', 'error fff 10x10'])\n"
   ]
  },
  {
   "cell_type": "markdown",
   "id": "871d9041",
   "metadata": {},
   "source": [
    "## 20x20"
   ]
  },
  {
   "cell_type": "code",
   "execution_count": 8,
   "id": "687e7947",
   "metadata": {
    "scrolled": true
   },
   "outputs": [
    {
     "name": "stderr",
     "output_type": "stream",
     "text": [
      "/home/armando/anaconda3/lib/python3.7/site-packages/ipykernel_launcher.py:1: ParserWarning: Falling back to the 'python' engine because the 'c' engine does not support regex separators (separators > 1 char and different from '\\s+' are interpreted as regex); you can avoid this warning by specifying engine='python'.\n",
      "  \"\"\"Entry point for launching an IPython kernel.\n",
      "/home/armando/anaconda3/lib/python3.7/site-packages/ipykernel_launcher.py:2: ParserWarning: Falling back to the 'python' engine because the 'c' engine does not support regex separators (separators > 1 char and different from '\\s+' are interpreted as regex); you can avoid this warning by specifying engine='python'.\n",
      "  \n",
      "/home/armando/anaconda3/lib/python3.7/site-packages/ipykernel_launcher.py:3: ParserWarning: Falling back to the 'python' engine because the 'c' engine does not support regex separators (separators > 1 char and different from '\\s+' are interpreted as regex); you can avoid this warning by specifying engine='python'.\n",
      "  This is separate from the ipykernel package so we can avoid doing imports until\n",
      "/home/armando/anaconda3/lib/python3.7/site-packages/ipykernel_launcher.py:5: ParserWarning: Falling back to the 'python' engine because the 'c' engine does not support regex separators (separators > 1 char and different from '\\s+' are interpreted as regex); you can avoid this warning by specifying engine='python'.\n",
      "  \"\"\"\n",
      "/home/armando/anaconda3/lib/python3.7/site-packages/ipykernel_launcher.py:6: ParserWarning: Falling back to the 'python' engine because the 'c' engine does not support regex separators (separators > 1 char and different from '\\s+' are interpreted as regex); you can avoid this warning by specifying engine='python'.\n",
      "  \n",
      "/home/armando/anaconda3/lib/python3.7/site-packages/ipykernel_launcher.py:7: ParserWarning: Falling back to the 'python' engine because the 'c' engine does not support regex separators (separators > 1 char and different from '\\s+' are interpreted as regex); you can avoid this warning by specifying engine='python'.\n",
      "  import sys\n"
     ]
    }
   ],
   "source": [
    "pddopen20_115 = pd.read_csv('OPEN/txt/20x20/20x20pdd.txt', delimiter='\t\t', names=['r', 'señal open 20x20', 'error open 20x20'])\n",
    "pcropen20_115 = pd.read_csv('OPEN/txt/20x20/20x20pro-cr-115.txt', delimiter='\t\t', names=['r', 'señal open 20x20', 'error open 20x20'])\n",
    "pinopen20_115 = pd.read_csv('OPEN/txt/20x20/20x20pro-in-115.txt', delimiter='\t\t', names=['r', 'señal open 20x20', 'error open 20x20'])\n",
    "\n",
    "pddFFF20_115 = pd.read_csv('FFF/txt/20x20/20x20pdd.txt', delimiter='\t\t', names=['r', 'señal fff 20x20', 'error fff 20x20'])\n",
    "pcrFFF20_115 = pd.read_csv('FFF/txt/20x20/20x20pro-cr-115.txt', delimiter='\t\t', names=['r', 'señal fff 20x20', 'error fff 20x20'])\n",
    "pinFFF20_115 = pd.read_csv('FFF/txt/20x20/20x20pro-in-115.txt', delimiter='\t\t', names=['r', 'señal fff 20x20', 'error fff 20x20'])\n"
   ]
  },
  {
   "cell_type": "markdown",
   "id": "d39a58fe",
   "metadata": {},
   "source": [
    "## 40x40"
   ]
  },
  {
   "cell_type": "code",
   "execution_count": 9,
   "id": "88cb2bc5",
   "metadata": {
    "scrolled": true
   },
   "outputs": [
    {
     "name": "stderr",
     "output_type": "stream",
     "text": [
      "/home/armando/anaconda3/lib/python3.7/site-packages/ipykernel_launcher.py:1: ParserWarning: Falling back to the 'python' engine because the 'c' engine does not support regex separators (separators > 1 char and different from '\\s+' are interpreted as regex); you can avoid this warning by specifying engine='python'.\n",
      "  \"\"\"Entry point for launching an IPython kernel.\n",
      "/home/armando/anaconda3/lib/python3.7/site-packages/ipykernel_launcher.py:2: ParserWarning: Falling back to the 'python' engine because the 'c' engine does not support regex separators (separators > 1 char and different from '\\s+' are interpreted as regex); you can avoid this warning by specifying engine='python'.\n",
      "  \n",
      "/home/armando/anaconda3/lib/python3.7/site-packages/ipykernel_launcher.py:3: ParserWarning: Falling back to the 'python' engine because the 'c' engine does not support regex separators (separators > 1 char and different from '\\s+' are interpreted as regex); you can avoid this warning by specifying engine='python'.\n",
      "  This is separate from the ipykernel package so we can avoid doing imports until\n",
      "/home/armando/anaconda3/lib/python3.7/site-packages/ipykernel_launcher.py:5: ParserWarning: Falling back to the 'python' engine because the 'c' engine does not support regex separators (separators > 1 char and different from '\\s+' are interpreted as regex); you can avoid this warning by specifying engine='python'.\n",
      "  \"\"\"\n",
      "/home/armando/anaconda3/lib/python3.7/site-packages/ipykernel_launcher.py:6: ParserWarning: Falling back to the 'python' engine because the 'c' engine does not support regex separators (separators > 1 char and different from '\\s+' are interpreted as regex); you can avoid this warning by specifying engine='python'.\n",
      "  \n",
      "/home/armando/anaconda3/lib/python3.7/site-packages/ipykernel_launcher.py:7: ParserWarning: Falling back to the 'python' engine because the 'c' engine does not support regex separators (separators > 1 char and different from '\\s+' are interpreted as regex); you can avoid this warning by specifying engine='python'.\n",
      "  import sys\n"
     ]
    }
   ],
   "source": [
    "pddopen40_115 = pd.read_csv('OPEN/txt/40x40/40x40pdd.txt', delimiter='\t\t', names=['r', 'señal open 40x40', 'error open 40x40'])\n",
    "pcropen40_115 = pd.read_csv('OPEN/txt/40x40/40x40pro-cr-115.txt', delimiter='\t\t', names=['r', 'señal open 40x40', 'error open 40x40'])\n",
    "pinopen40_115 = pd.read_csv('OPEN/txt/40x40/40x40pro-in-115.txt', delimiter='\t\t', names=['r', 'señal open 40x40', 'error open 40x40'])\n",
    "\n",
    "pddFFF40_115 = pd.read_csv('FFF/txt/40x40/40x40pdd.txt', delimiter='\t\t', names=['r', 'señal fff 40x40', 'error fff 40x40'])\n",
    "pcrFFF40_115 = pd.read_csv('FFF/txt/40x40/40x40pro-cr-115.txt', delimiter='\t\t', names=['r', 'señal fff 40x40', 'error fff 40x40'])\n",
    "pinFFF40_115 = pd.read_csv('FFF/txt/40x40/40x40pro-in-115.txt', delimiter='\t\t', names=['r', 'señal fff 40x40', 'error fff 40x40'])\n"
   ]
  },
  {
   "cell_type": "markdown",
   "id": "5438186e",
   "metadata": {},
   "source": [
    "# 115"
   ]
  },
  {
   "cell_type": "markdown",
   "id": "48d00a8a",
   "metadata": {},
   "source": [
    "## 5x5"
   ]
  },
  {
   "cell_type": "code",
   "execution_count": 10,
   "id": "d36d5869",
   "metadata": {},
   "outputs": [
    {
     "name": "stderr",
     "output_type": "stream",
     "text": [
      "/home/armando/anaconda3/lib/python3.7/site-packages/ipykernel_launcher.py:1: ParserWarning: Falling back to the 'python' engine because the 'c' engine does not support regex separators (separators > 1 char and different from '\\s+' are interpreted as regex); you can avoid this warning by specifying engine='python'.\n",
      "  \"\"\"Entry point for launching an IPython kernel.\n",
      "/home/armando/anaconda3/lib/python3.7/site-packages/ipykernel_launcher.py:2: ParserWarning: Falling back to the 'python' engine because the 'c' engine does not support regex separators (separators > 1 char and different from '\\s+' are interpreted as regex); you can avoid this warning by specifying engine='python'.\n",
      "  \n",
      "/home/armando/anaconda3/lib/python3.7/site-packages/ipykernel_launcher.py:3: ParserWarning: Falling back to the 'python' engine because the 'c' engine does not support regex separators (separators > 1 char and different from '\\s+' are interpreted as regex); you can avoid this warning by specifying engine='python'.\n",
      "  This is separate from the ipykernel package so we can avoid doing imports until\n",
      "/home/armando/anaconda3/lib/python3.7/site-packages/ipykernel_launcher.py:5: ParserWarning: Falling back to the 'python' engine because the 'c' engine does not support regex separators (separators > 1 char and different from '\\s+' are interpreted as regex); you can avoid this warning by specifying engine='python'.\n",
      "  \"\"\"\n",
      "/home/armando/anaconda3/lib/python3.7/site-packages/ipykernel_launcher.py:6: ParserWarning: Falling back to the 'python' engine because the 'c' engine does not support regex separators (separators > 1 char and different from '\\s+' are interpreted as regex); you can avoid this warning by specifying engine='python'.\n",
      "  \n",
      "/home/armando/anaconda3/lib/python3.7/site-packages/ipykernel_launcher.py:7: ParserWarning: Falling back to the 'python' engine because the 'c' engine does not support regex separators (separators > 1 char and different from '\\s+' are interpreted as regex); you can avoid this warning by specifying engine='python'.\n",
      "  import sys\n"
     ]
    }
   ],
   "source": [
    "pddopen5_85 = pd.read_csv('OPEN/txt/5x5/5x5pdd.txt', delimiter='\t\t', names=['r', 'señal open 5x5', 'error open 5x5'])\n",
    "pcropen5_85 = pd.read_csv('OPEN/txt/5x5/5x5pro-cr-85.txt', delimiter='\t\t', names=['r', 'señal open 5x5', 'error open 5x5'])\n",
    "pinopen5_85 = pd.read_csv('OPEN/txt/5x5/5x5pro-in-85.txt', delimiter='\t\t', names=['r', 'señal open 5x5', 'error open 5x5'])\n",
    "\n",
    "pddFFF5_85 = pd.read_csv('FFF/txt/5x5/5x5pdd.txt', delimiter='\t\t', names=['r', 'señal fff 5x5', 'error fff 5x5'])\n",
    "pcrFFF5_85 = pd.read_csv('FFF/txt/5x5/5x5pro-cr-85.txt', delimiter='\t\t', names=['r', 'señal fff 5x5', 'error fff 5x5'])\n",
    "pinFFF5_85 = pd.read_csv('FFF/txt/5x5/5x5pro-in-85.txt', delimiter='\t\t', names=['r', 'señal fff 5x5', 'error fff 5x5'])\n"
   ]
  },
  {
   "cell_type": "markdown",
   "id": "b946e4d5",
   "metadata": {},
   "source": [
    "## 10x10"
   ]
  },
  {
   "cell_type": "code",
   "execution_count": 11,
   "id": "46d19212",
   "metadata": {},
   "outputs": [
    {
     "name": "stderr",
     "output_type": "stream",
     "text": [
      "/home/armando/anaconda3/lib/python3.7/site-packages/ipykernel_launcher.py:1: ParserWarning: Falling back to the 'python' engine because the 'c' engine does not support regex separators (separators > 1 char and different from '\\s+' are interpreted as regex); you can avoid this warning by specifying engine='python'.\n",
      "  \"\"\"Entry point for launching an IPython kernel.\n",
      "/home/armando/anaconda3/lib/python3.7/site-packages/ipykernel_launcher.py:2: ParserWarning: Falling back to the 'python' engine because the 'c' engine does not support regex separators (separators > 1 char and different from '\\s+' are interpreted as regex); you can avoid this warning by specifying engine='python'.\n",
      "  \n",
      "/home/armando/anaconda3/lib/python3.7/site-packages/ipykernel_launcher.py:3: ParserWarning: Falling back to the 'python' engine because the 'c' engine does not support regex separators (separators > 1 char and different from '\\s+' are interpreted as regex); you can avoid this warning by specifying engine='python'.\n",
      "  This is separate from the ipykernel package so we can avoid doing imports until\n",
      "/home/armando/anaconda3/lib/python3.7/site-packages/ipykernel_launcher.py:5: ParserWarning: Falling back to the 'python' engine because the 'c' engine does not support regex separators (separators > 1 char and different from '\\s+' are interpreted as regex); you can avoid this warning by specifying engine='python'.\n",
      "  \"\"\"\n",
      "/home/armando/anaconda3/lib/python3.7/site-packages/ipykernel_launcher.py:6: ParserWarning: Falling back to the 'python' engine because the 'c' engine does not support regex separators (separators > 1 char and different from '\\s+' are interpreted as regex); you can avoid this warning by specifying engine='python'.\n",
      "  \n",
      "/home/armando/anaconda3/lib/python3.7/site-packages/ipykernel_launcher.py:7: ParserWarning: Falling back to the 'python' engine because the 'c' engine does not support regex separators (separators > 1 char and different from '\\s+' are interpreted as regex); you can avoid this warning by specifying engine='python'.\n",
      "  import sys\n"
     ]
    }
   ],
   "source": [
    "pddopen10_85 = pd.read_csv('OPEN/txt/10x10/10x10pdd.txt', delimiter='\t\t', names=['r', 'señal open 10x10', 'error open 10x10'])\n",
    "pcropen10_85 = pd.read_csv('OPEN/txt/10x10/10x10pro-cr-85.txt', delimiter='\t\t', names=['r', 'señal open 10x10', 'error open 10x10'])\n",
    "pinopen10_85 = pd.read_csv('OPEN/txt/10x10/10x10pro-in-85.txt', delimiter='\t\t', names=['r', 'señal open 10x10', 'error open 10x10'])\n",
    "\n",
    "pddFFF10_85 = pd.read_csv('FFF/txt/10x10/10x10pdd.txt', delimiter='\t\t', names=['r', 'señal fff 10x10', 'error fff 10x10'])\n",
    "pcrFFF10_85 = pd.read_csv('FFF/txt/10x10/10x10pro-cr-85.txt', delimiter='\t\t', names=['r', 'señal fff 10x10', 'error fff 10x10'])\n",
    "pinFFF10_85 = pd.read_csv('FFF/txt/10x10/10x10pro-in-85.txt', delimiter='\t\t', names=['r', 'señal fff 10x10', 'error fff 10x10'])\n"
   ]
  },
  {
   "cell_type": "markdown",
   "id": "aaa31482",
   "metadata": {},
   "source": [
    "## 20x20"
   ]
  },
  {
   "cell_type": "code",
   "execution_count": 12,
   "id": "0c04053a",
   "metadata": {
    "scrolled": true
   },
   "outputs": [
    {
     "name": "stderr",
     "output_type": "stream",
     "text": [
      "/home/armando/anaconda3/lib/python3.7/site-packages/ipykernel_launcher.py:1: ParserWarning: Falling back to the 'python' engine because the 'c' engine does not support regex separators (separators > 1 char and different from '\\s+' are interpreted as regex); you can avoid this warning by specifying engine='python'.\n",
      "  \"\"\"Entry point for launching an IPython kernel.\n",
      "/home/armando/anaconda3/lib/python3.7/site-packages/ipykernel_launcher.py:2: ParserWarning: Falling back to the 'python' engine because the 'c' engine does not support regex separators (separators > 1 char and different from '\\s+' are interpreted as regex); you can avoid this warning by specifying engine='python'.\n",
      "  \n",
      "/home/armando/anaconda3/lib/python3.7/site-packages/ipykernel_launcher.py:3: ParserWarning: Falling back to the 'python' engine because the 'c' engine does not support regex separators (separators > 1 char and different from '\\s+' are interpreted as regex); you can avoid this warning by specifying engine='python'.\n",
      "  This is separate from the ipykernel package so we can avoid doing imports until\n",
      "/home/armando/anaconda3/lib/python3.7/site-packages/ipykernel_launcher.py:5: ParserWarning: Falling back to the 'python' engine because the 'c' engine does not support regex separators (separators > 1 char and different from '\\s+' are interpreted as regex); you can avoid this warning by specifying engine='python'.\n",
      "  \"\"\"\n",
      "/home/armando/anaconda3/lib/python3.7/site-packages/ipykernel_launcher.py:6: ParserWarning: Falling back to the 'python' engine because the 'c' engine does not support regex separators (separators > 1 char and different from '\\s+' are interpreted as regex); you can avoid this warning by specifying engine='python'.\n",
      "  \n",
      "/home/armando/anaconda3/lib/python3.7/site-packages/ipykernel_launcher.py:7: ParserWarning: Falling back to the 'python' engine because the 'c' engine does not support regex separators (separators > 1 char and different from '\\s+' are interpreted as regex); you can avoid this warning by specifying engine='python'.\n",
      "  import sys\n"
     ]
    }
   ],
   "source": [
    "pddopen20_85 = pd.read_csv('OPEN/txt/20x20/20x20pdd.txt', delimiter='\t\t', names=['r', 'señal open 20x20', 'error open 20x20'])\n",
    "pcropen20_85 = pd.read_csv('OPEN/txt/20x20/20x20pro-cr-85.txt', delimiter='\t\t', names=['r', 'señal open 20x20', 'error open 20x20'])\n",
    "pinopen20_85 = pd.read_csv('OPEN/txt/20x20/20x20pro-in-85.txt', delimiter='\t\t', names=['r', 'señal open 20x20', 'error open 20x20'])\n",
    "\n",
    "pddFFF20_85 = pd.read_csv('FFF/txt/20x20/20x20pdd.txt', delimiter='\t\t', names=['r', 'señal fff 20x20', 'error fff 20x20'])\n",
    "pcrFFF20_85 = pd.read_csv('FFF/txt/20x20/20x20pro-cr-85.txt', delimiter='\t\t', names=['r', 'señal fff 20x20', 'error fff 20x20'])\n",
    "pinFFF20_85 = pd.read_csv('FFF/txt/20x20/20x20pro-in-85.txt', delimiter='\t\t', names=['r', 'señal fff 20x20', 'error fff 20x20'])\n"
   ]
  },
  {
   "cell_type": "markdown",
   "id": "d1d1ec83",
   "metadata": {},
   "source": [
    "## 40x40"
   ]
  },
  {
   "cell_type": "code",
   "execution_count": 13,
   "id": "4494ab02",
   "metadata": {
    "scrolled": true
   },
   "outputs": [
    {
     "name": "stderr",
     "output_type": "stream",
     "text": [
      "/home/armando/anaconda3/lib/python3.7/site-packages/ipykernel_launcher.py:1: ParserWarning: Falling back to the 'python' engine because the 'c' engine does not support regex separators (separators > 1 char and different from '\\s+' are interpreted as regex); you can avoid this warning by specifying engine='python'.\n",
      "  \"\"\"Entry point for launching an IPython kernel.\n",
      "/home/armando/anaconda3/lib/python3.7/site-packages/ipykernel_launcher.py:2: ParserWarning: Falling back to the 'python' engine because the 'c' engine does not support regex separators (separators > 1 char and different from '\\s+' are interpreted as regex); you can avoid this warning by specifying engine='python'.\n",
      "  \n",
      "/home/armando/anaconda3/lib/python3.7/site-packages/ipykernel_launcher.py:3: ParserWarning: Falling back to the 'python' engine because the 'c' engine does not support regex separators (separators > 1 char and different from '\\s+' are interpreted as regex); you can avoid this warning by specifying engine='python'.\n",
      "  This is separate from the ipykernel package so we can avoid doing imports until\n",
      "/home/armando/anaconda3/lib/python3.7/site-packages/ipykernel_launcher.py:5: ParserWarning: Falling back to the 'python' engine because the 'c' engine does not support regex separators (separators > 1 char and different from '\\s+' are interpreted as regex); you can avoid this warning by specifying engine='python'.\n",
      "  \"\"\"\n",
      "/home/armando/anaconda3/lib/python3.7/site-packages/ipykernel_launcher.py:6: ParserWarning: Falling back to the 'python' engine because the 'c' engine does not support regex separators (separators > 1 char and different from '\\s+' are interpreted as regex); you can avoid this warning by specifying engine='python'.\n",
      "  \n",
      "/home/armando/anaconda3/lib/python3.7/site-packages/ipykernel_launcher.py:7: ParserWarning: Falling back to the 'python' engine because the 'c' engine does not support regex separators (separators > 1 char and different from '\\s+' are interpreted as regex); you can avoid this warning by specifying engine='python'.\n",
      "  import sys\n"
     ]
    }
   ],
   "source": [
    "pddopen40_85 = pd.read_csv('OPEN/txt/40x40/40x40pdd.txt', delimiter='\t\t', names=['r', 'señal open 40x40', 'error open 40x40'])\n",
    "pcropen40_85 = pd.read_csv('OPEN/txt/40x40/40x40pro-cr-85.txt', delimiter='\t\t', names=['r', 'señal open 40x40', 'error open 40x40'])\n",
    "pinopen40_85 = pd.read_csv('OPEN/txt/40x40/40x40pro-in-85.txt', delimiter='\t\t', names=['r', 'señal open 40x40', 'error open 40x40'])\n",
    "\n",
    "pddFFF40_85 = pd.read_csv('FFF/txt/40x40/40x40pdd.txt', delimiter='\t\t', names=['r', 'señal fff 40x40', 'error fff 40x40'])\n",
    "pcrFFF40_85 = pd.read_csv('FFF/txt/40x40/40x40pro-cr-85.txt', delimiter='\t\t', names=['r', 'señal fff 40x40', 'error fff 40x40'])\n",
    "pinFFF40_85 = pd.read_csv('FFF/txt/40x40/40x40pro-in-85.txt', delimiter='\t\t', names=['r', 'señal fff 40x40', 'error fff 40x40'])\n"
   ]
  },
  {
   "cell_type": "markdown",
   "id": "c47ad251",
   "metadata": {},
   "source": [
    "# Merge Data"
   ]
  },
  {
   "cell_type": "markdown",
   "id": "f88ffe1d",
   "metadata": {},
   "source": [
    "## Z = 100; In = 1"
   ]
  },
  {
   "cell_type": "code",
   "execution_count": 14,
   "id": "eafa01e4",
   "metadata": {},
   "outputs": [],
   "source": [
    "FFF5 = pinFFF5.iloc[:,:2]\n",
    "FFF5['FFF'] = 1\n",
    "FFF5.columns = ['r', 'señal', 'FFF']\n",
    "FFF5['Area'] = 25\n",
    "FFF5['Limit'] = 25\n",
    "\n",
    "Open5 = pinopen5.iloc[:,:2]\n",
    "Open5['FFF'] = 0\n",
    "Open5.columns = ['r', 'señal', 'FFF']\n",
    "Open5['Area'] = 25\n",
    "Open5['Limit'] = 25\n",
    "\n",
    "FFF10 = pinFFF10.iloc[:,:2]\n",
    "FFF10['FFF'] = 1\n",
    "FFF10.columns = ['r', 'señal', 'FFF']\n",
    "FFF10['Area'] = 100\n",
    "FFF10['Limit'] = 50\n",
    "\n",
    "Open10 = pinopen10.iloc[:,:2]\n",
    "Open10['FFF'] = 0\n",
    "Open10.columns = ['r', 'señal', 'FFF']\n",
    "Open10['Area'] = 100\n",
    "Open10['Limit'] = 50\n",
    "\n",
    "FFF20 = pinFFF20.iloc[:,:2]\n",
    "FFF20['FFF'] = 1\n",
    "FFF20.columns = ['r', 'señal', 'FFF']\n",
    "FFF20['Area'] = 400\n",
    "FFF20['Limit'] = 100\n",
    "\n",
    "Open20 = pinopen20.iloc[:,:2]\n",
    "Open20['FFF'] = 0\n",
    "Open20.columns = ['r', 'señal', 'FFF']\n",
    "Open20['Area'] = 400\n",
    "Open20['Limit'] = 100\n",
    "\n",
    "FFF40 = pinFFF40.iloc[:,:2]\n",
    "FFF40['FFF'] = 1\n",
    "FFF40.columns = ['r', 'señal', 'FFF']\n",
    "FFF40['Area'] = 1600\n",
    "FFF40['Limit'] = 200\n",
    "\n",
    "Open40 = pinopen40.iloc[:,:2]\n",
    "Open40['FFF'] = 0\n",
    "Open40.columns = ['r', 'señal', 'FFF']\n",
    "Open40['Area'] = 1600\n",
    "Open40['Limit'] = 200\n",
    "\n",
    "MixedIN = pd.concat([Open5, FFF5, Open10, FFF10, Open20, FFF20, Open40, FFF40]) \n",
    "MixedIN['In'] = 1\n",
    "MixedIN['Z'] = 100"
   ]
  },
  {
   "cell_type": "markdown",
   "id": "7ea94e06",
   "metadata": {},
   "source": [
    "## Z = 100; In = 0"
   ]
  },
  {
   "cell_type": "code",
   "execution_count": 15,
   "id": "274ac79a",
   "metadata": {},
   "outputs": [],
   "source": [
    "FFF5 = pcrFFF5.iloc[:,:2]\n",
    "FFF5['FFF'] = 1\n",
    "FFF5.columns = ['r', 'señal', 'FFF']\n",
    "FFF5['Area'] = 25\n",
    "FFF5['Limit'] = 25\n",
    "\n",
    "Open5 = pcropen5.iloc[:,:2]\n",
    "Open5['FFF'] = 0\n",
    "Open5.columns = ['r', 'señal', 'FFF']\n",
    "Open5['Area'] = 25\n",
    "Open5['Limit'] = 25\n",
    "\n",
    "FFF10 = pcrFFF10.iloc[:,:2]\n",
    "FFF10['FFF'] = 1\n",
    "FFF10.columns = ['r', 'señal', 'FFF']\n",
    "FFF10['Area'] = 100\n",
    "FFF10['Limit'] = 50\n",
    "\n",
    "Open10 = pcropen10.iloc[:,:2]\n",
    "Open10['FFF'] = 0\n",
    "Open10.columns = ['r', 'señal', 'FFF']\n",
    "Open10['Area'] = 100\n",
    "Open10['Limit'] = 50\n",
    "\n",
    "FFF20 = pcrFFF20.iloc[:,:2]\n",
    "FFF20['FFF'] = 1\n",
    "FFF20.columns = ['r', 'señal', 'FFF']\n",
    "FFF20['Area'] = 400\n",
    "FFF20['Limit'] = 100\n",
    "\n",
    "Open20 = pcropen20.iloc[:,:2]\n",
    "Open20['FFF'] = 0\n",
    "Open20.columns = ['r', 'señal', 'FFF']\n",
    "Open20['Area'] = 400\n",
    "Open20['Limit'] = 100\n",
    "\n",
    "FFF40 = pcrFFF40.iloc[:,:2]\n",
    "FFF40['FFF'] = 1\n",
    "FFF40.columns = ['r', 'señal', 'FFF']\n",
    "FFF40['Area'] = 1600\n",
    "FFF40['Limit'] = 200\n",
    "\n",
    "Open40 = pcropen40.iloc[:,:2]\n",
    "Open40['FFF'] = 0\n",
    "Open40.columns = ['r', 'señal', 'FFF']\n",
    "Open40['Area'] = 1600\n",
    "Open40['Limit'] = 200\n",
    "\n",
    "MixedCR = pd.concat([Open5, FFF5, Open10, FFF10, Open20, FFF20, Open40, FFF40]) \n",
    "MixedCR['In'] = 0\n",
    "MixedCR['Z'] = 100"
   ]
  },
  {
   "cell_type": "markdown",
   "id": "53b55f35",
   "metadata": {},
   "source": [
    "## Z = 85; In = 1"
   ]
  },
  {
   "cell_type": "code",
   "execution_count": 16,
   "id": "f5309703",
   "metadata": {},
   "outputs": [],
   "source": [
    "FFF5 = pinFFF5_85.iloc[:,:2]\n",
    "FFF5['FFF'] = 1\n",
    "FFF5.columns = ['r', 'señal', 'FFF']\n",
    "FFF5['Area'] = 25\n",
    "FFF5['Limit'] = 25\n",
    "\n",
    "Open5 = pinopen5_85.iloc[:,:2]\n",
    "Open5['FFF'] = 0\n",
    "Open5.columns = ['r', 'señal', 'FFF']\n",
    "Open5['Area'] = 25\n",
    "Open5['Limit'] = 25\n",
    "\n",
    "FFF10 = pinFFF10_85.iloc[:,:2]\n",
    "FFF10['FFF'] = 1\n",
    "FFF10.columns = ['r', 'señal', 'FFF']\n",
    "FFF10['Area'] = 100\n",
    "FFF10['Limit'] = 50\n",
    "\n",
    "Open10 = pinopen10_85.iloc[:,:2]\n",
    "Open10['FFF'] = 0\n",
    "Open10.columns = ['r', 'señal', 'FFF']\n",
    "Open10['Area'] = 100\n",
    "Open10['Limit'] = 50\n",
    "\n",
    "FFF20 = pinFFF20_85.iloc[:,:2]\n",
    "FFF20['FFF'] = 1\n",
    "FFF20.columns = ['r', 'señal', 'FFF']\n",
    "FFF20['Area'] = 400\n",
    "FFF20['Limit'] = 100\n",
    "\n",
    "Open20 = pinopen20_85.iloc[:,:2]\n",
    "Open20['FFF'] = 0\n",
    "Open20.columns = ['r', 'señal', 'FFF']\n",
    "Open20['Area'] = 400\n",
    "Open20['Limit'] = 100\n",
    "\n",
    "FFF40 = pinFFF40_85.iloc[:,:2]\n",
    "FFF40['FFF'] = 1\n",
    "FFF40.columns = ['r', 'señal', 'FFF']\n",
    "FFF40['Area'] = 1600\n",
    "FFF40['Limit'] = 200\n",
    "\n",
    "Open40 = pinopen40_85.iloc[:,:2]\n",
    "Open40['FFF'] = 0\n",
    "Open40.columns = ['r', 'señal', 'FFF']\n",
    "Open40['Area'] = 1600\n",
    "Open40['Limit'] = 200\n",
    "\n",
    "MixedIN85 = pd.concat([Open5, FFF5, Open10, FFF10, Open20, FFF20, Open40, FFF40]) \n",
    "MixedIN85['In'] = 1\n",
    "MixedIN85['Z'] = 85"
   ]
  },
  {
   "cell_type": "code",
   "execution_count": 17,
   "id": "388074ff",
   "metadata": {},
   "outputs": [],
   "source": [
    "FFF5 = pcrFFF5_85.iloc[:,:2]\n",
    "FFF5['FFF'] = 1\n",
    "FFF5.columns = ['r', 'señal', 'FFF']\n",
    "FFF5['Area'] = 25\n",
    "FFF5['Limit'] = 25\n",
    "\n",
    "Open5 = pcropen5_85.iloc[:,:2]\n",
    "Open5['FFF'] = 0\n",
    "Open5.columns = ['r', 'señal', 'FFF']\n",
    "Open5['Area'] = 25\n",
    "Open5['Limit'] = 25\n",
    "\n",
    "FFF10 = pcrFFF10_85.iloc[:,:2]\n",
    "FFF10['FFF'] = 1\n",
    "FFF10.columns = ['r', 'señal', 'FFF']\n",
    "FFF10['Area'] = 100\n",
    "FFF10['Limit'] = 50\n",
    "\n",
    "Open10 = pcropen10_85.iloc[:,:2]\n",
    "Open10['FFF'] = 0\n",
    "Open10.columns = ['r', 'señal', 'FFF']\n",
    "Open10['Area'] = 100\n",
    "Open10['Limit'] = 50\n",
    "\n",
    "FFF20 = pcrFFF20_85.iloc[:,:2]\n",
    "FFF20['FFF'] = 1\n",
    "FFF20.columns = ['r', 'señal', 'FFF']\n",
    "FFF20['Area'] = 400\n",
    "FFF20['Limit'] = 100\n",
    "\n",
    "Open20 = pcropen20_85.iloc[:,:2]\n",
    "Open20['FFF'] = 0\n",
    "Open20.columns = ['r', 'señal', 'FFF']\n",
    "Open20['Area'] = 400\n",
    "Open20['Limit'] = 100\n",
    "\n",
    "FFF40 = pcrFFF40_85.iloc[:,:2]\n",
    "FFF40['FFF'] = 1\n",
    "FFF40.columns = ['r', 'señal', 'FFF']\n",
    "FFF40['Area'] = 1600\n",
    "FFF40['Limit'] = 200\n",
    "\n",
    "Open40 = pcropen40_85.iloc[:,:2]\n",
    "Open40['FFF'] = 0\n",
    "Open40.columns = ['r', 'señal', 'FFF']\n",
    "Open40['Area'] = 1600\n",
    "Open40['Limit'] = 200\n",
    "\n",
    "MixedCR85 = pd.concat([Open5, FFF5, Open10, FFF10, Open20, FFF20, Open40, FFF40]) \n",
    "MixedCR85['In'] = 0\n",
    "MixedCR85['Z'] = 85"
   ]
  },
  {
   "cell_type": "code",
   "execution_count": 18,
   "id": "fca7e4ad",
   "metadata": {},
   "outputs": [],
   "source": [
    "FFF5 = pinFFF5_115.iloc[:,:2]\n",
    "FFF5['FFF'] = 1\n",
    "FFF5.columns = ['r', 'señal', 'FFF']\n",
    "FFF5['Area'] = 25\n",
    "FFF5['Limit'] = 25\n",
    "\n",
    "Open5 = pinopen5_115.iloc[:,:2]\n",
    "Open5['FFF'] = 0\n",
    "Open5.columns = ['r', 'señal', 'FFF']\n",
    "Open5['Area'] = 25\n",
    "Open5['Limit'] = 25\n",
    "\n",
    "FFF10 = pinFFF10_115.iloc[:,:2]\n",
    "FFF10['FFF'] = 1\n",
    "FFF10.columns = ['r', 'señal', 'FFF']\n",
    "FFF10['Area'] = 100\n",
    "FFF10['Limit'] = 50\n",
    "\n",
    "Open10 = pinopen10_115.iloc[:,:2]\n",
    "Open10['FFF'] = 0\n",
    "Open10.columns = ['r', 'señal', 'FFF']\n",
    "Open10['Area'] = 100\n",
    "Open10['Limit'] = 50\n",
    "\n",
    "FFF20 = pinFFF20_115.iloc[:,:2]\n",
    "FFF20['FFF'] = 1\n",
    "FFF20.columns = ['r', 'señal', 'FFF']\n",
    "FFF20['Area'] = 400\n",
    "FFF20['Limit'] = 100\n",
    "\n",
    "Open20 = pinopen20_115.iloc[:,:2]\n",
    "Open20['FFF'] = 0\n",
    "Open20.columns = ['r', 'señal', 'FFF']\n",
    "Open20['Area'] = 400\n",
    "Open20['Limit'] = 100\n",
    "\n",
    "FFF40 = pinFFF40_115.iloc[:,:2]\n",
    "FFF40['FFF'] = 1\n",
    "FFF40.columns = ['r', 'señal', 'FFF']\n",
    "FFF40['Area'] = 1600\n",
    "FFF40['Limit'] = 200\n",
    "\n",
    "Open40 = pinopen40_115.iloc[:,:2]\n",
    "Open40['FFF'] = 0\n",
    "Open40.columns = ['r', 'señal', 'FFF']\n",
    "Open40['Area'] = 1600\n",
    "Open40['Limit'] = 200\n",
    "\n",
    "MixedIN115 = pd.concat([Open5, FFF5, Open10, FFF10, Open20, FFF20, Open40, FFF40]) \n",
    "MixedIN115['In'] = 1\n",
    "MixedIN115['Z'] = 115"
   ]
  },
  {
   "cell_type": "code",
   "execution_count": 19,
   "id": "f75c2c95",
   "metadata": {},
   "outputs": [],
   "source": [
    "FFF5 = pcrFFF5_115.iloc[:,:2]\n",
    "FFF5['FFF'] = 1\n",
    "FFF5.columns = ['r', 'señal', 'FFF']\n",
    "FFF5['Area'] = 25\n",
    "FFF5['Limit'] = 25\n",
    "\n",
    "Open5 = pcropen5_115.iloc[:,:2]\n",
    "Open5['FFF'] = 0\n",
    "Open5.columns = ['r', 'señal', 'FFF']\n",
    "Open5['Area'] = 25\n",
    "Open5['Limit'] = 25\n",
    "\n",
    "FFF10 = pcrFFF10_115.iloc[:,:2]\n",
    "FFF10['FFF'] = 1\n",
    "FFF10.columns = ['r', 'señal', 'FFF']\n",
    "FFF10['Area'] = 100\n",
    "FFF10['Limit'] = 50\n",
    "\n",
    "Open10 = pcropen10_115.iloc[:,:2]\n",
    "Open10['FFF'] = 0\n",
    "Open10.columns = ['r', 'señal', 'FFF']\n",
    "Open10['Area'] = 100\n",
    "Open10['Limit'] = 50\n",
    "\n",
    "FFF20 = pcrFFF20_115.iloc[:,:2]\n",
    "FFF20['FFF'] = 1\n",
    "FFF20.columns = ['r', 'señal', 'FFF']\n",
    "FFF20['Area'] = 400\n",
    "FFF20['Limit'] = 100\n",
    "\n",
    "Open20 = pcropen20_115.iloc[:,:2]\n",
    "Open20['FFF'] = 0\n",
    "Open20.columns = ['r', 'señal', 'FFF']\n",
    "Open20['Area'] = 400\n",
    "Open20['Limit'] = 100\n",
    "\n",
    "FFF40 = pcrFFF40_115.iloc[:,:2]\n",
    "FFF40['FFF'] = 1\n",
    "FFF40.columns = ['r', 'señal', 'FFF']\n",
    "FFF40['Area'] = 1600\n",
    "FFF40['Limit'] = 200\n",
    "\n",
    "Open40 = pcropen40_115.iloc[:,:2]\n",
    "Open40['FFF'] = 0\n",
    "Open40.columns = ['r', 'señal', 'FFF']\n",
    "Open40['Area'] = 1600\n",
    "Open40['Limit'] = 200\n",
    "\n",
    "MixedCR115 = pd.concat([Open5, FFF5, Open10, FFF10, Open20, FFF20, Open40, FFF40]) \n",
    "MixedCR115['In'] = 0\n",
    "MixedCR115['Z'] = 115"
   ]
  },
  {
   "cell_type": "code",
   "execution_count": 20,
   "id": "ac1286bc",
   "metadata": {},
   "outputs": [],
   "source": [
    "Mixed = pd.concat([MixedCR, MixedIN, MixedCR85, MixedIN85, MixedCR115, MixedIN115]).reset_index(drop=True)"
   ]
  },
  {
   "cell_type": "code",
   "execution_count": 21,
   "id": "ef3fb682",
   "metadata": {},
   "outputs": [],
   "source": [
    "Mixed = Mixed.loc[:,['r', 'señal', 'FFF', 'Limit', 'In', 'Z']]"
   ]
  },
  {
   "cell_type": "markdown",
   "id": "e3b6c078",
   "metadata": {},
   "source": [
    "\\\\[ \\Phi_\\gamma (x,y,z) = w_0 \\Phi_0(x,y,z) \\Phi_{horn}^\\gamma (x,y,z) \\\\]\n",
    "\n",
    "Primero calcularemos \\\\(\\Phi_0^\\gamma\\\\)"
   ]
  },
  {
   "cell_type": "markdown",
   "id": "e90143c4",
   "metadata": {},
   "source": [
    "\\\\[ \\Phi_\\alpha = Z(z; z_D^x, z_D^y, z_\\alpha) T_\\alpha(x_\\alpha^+, x_\\alpha^-) T_\\alpha(y_\\alpha^+, y_\\alpha^- ) \\\\]"
   ]
  },
  {
   "cell_type": "markdown",
   "id": "5cbdc318",
   "metadata": {},
   "source": [
    "\\\\[ Z(z; z^x_D, z^y_D, z_0) = \\frac{1}{4} \\frac{(z_D^x - z_0) (z^y_D - z_0 )}{(z-z_0)^2} \\\\]\n",
    "\n",
    "\n",
    "\n",
    "\n",
    "\n",
    "Donde \\\\( z_U^x  = 43.1cm ; z_U^y = 29.8cm ; z^x_D = 50.9cm ; z_D^y= 42.6cm \\\\)\n",
    "\n",
    "\n",
    "\\\\[ Z(z; z^x_D, z^y_D, z_0) = \\frac{1}{4} \\frac{(50.9 - z_0) (42.6 - z_0 )}{(z-z_0)^2} \\\\]\n",
    "\\\\[ Z(z; z^x_D, z^y_D, z_s) = \\frac{1}{4} \\frac{(50.9 - z_s) (42.6 - z_s )}{(z-z_s)^2} \\\\]\n",
    "\n",
    "\n",
    "Vamos a establecer z_0 como 0\n",
    "\n",
    "\\\\[ Z(z; z^x_D, z^y_D, z_0) = \\frac{1}{4} \\frac{(50.9) (42.6)}{(z)^2} \\\\]\n"
   ]
  },
  {
   "cell_type": "markdown",
   "id": "9e79e7e6",
   "metadata": {},
   "source": [
    "# Z "
   ]
  },
  {
   "cell_type": "code",
   "execution_count": 33,
   "id": "a62bed48",
   "metadata": {},
   "outputs": [],
   "source": [
    "Z_s = []\n",
    "\n",
    "for i in np.arange(0, Mixed.shape[0]):\n",
    "    if Mixed['FFF'].loc[i]==1:\n",
    "        Z_s.append(12.47)\n",
    "    else:\n",
    "        Z_s.append(0)\n",
    "        \n",
    "Mixed['Zs'] = Z_s"
   ]
  },
  {
   "cell_type": "code",
   "execution_count": 43,
   "id": "3133c8bb",
   "metadata": {},
   "outputs": [],
   "source": [
    "z_x_u = 36.7\n",
    "z_y_u = 28\n",
    "\n",
    "z_x_d = 44.5\n",
    "z_y_d = 35.8\n",
    "\n",
    "\n",
    "\n",
    "Mixed['Big Z'] = (0.25*z_x_d*z_y_d)/(Mixed['Z']**2)\n",
    "Mixed['Big Z Col'] = (0.25*(z_x_d-Mixed[['Zs']].to_numpy())*(z_y_d-Mixed[['Zs']].to_numpy()))/(Mixed[['Z']].to_numpy()**2)"
   ]
  },
  {
   "cell_type": "markdown",
   "id": "890eded3",
   "metadata": {},
   "source": [
    "Por tanto:\n",
    "\n",
    "\\\\[X_0 = \\frac{\\frac{x_0^+}{\\delta_0}}{\\sqrt{1+\\frac{x_0^+}{\\delta_0}}} + \\frac{\\frac{x_0^-}{\\delta_0}}{\\sqrt{1-\\frac{x_0^-}{\\delta_0}}} = \\frac{\\frac{x_0^+}{0.185}}{\\sqrt{1+\\frac{x_0^+}{0.185}}} + \\frac{\\frac{x_0^-}{0.185}}{\\sqrt{1-\\frac{x_0^-}{0.185}}}\\\\]\n",
    "\n",
    "\\\\[Y_0 = \\frac{\\frac{y_0^+}{\\delta_0}}{\\sqrt{1+\\frac{y_0^+}{\\delta_0}}} + \\frac{\\frac{y_0^-}{\\delta_0}}{\\sqrt{1-\\frac{y_0^-}{\\delta_0}}} = \\frac{\\frac{y_0^+}{0.185}}{\\sqrt{1+\\frac{y_0^+}{0.185}}} + \\frac{\\frac{y_0^-}{0.185}}{\\sqrt{1-\\frac{y_0^-}{0.185}}}\\\\]\n",
    "\n",
    "\n",
    "\n"
   ]
  },
  {
   "cell_type": "markdown",
   "id": "b4704cd1",
   "metadata": {},
   "source": [
    "\\\\[ \\Phi_\\alpha = \\frac{542.085}{z^2}* (\\frac{\\frac{x_0^+}{0.185}}{\\sqrt{1+\\frac{x_0^+}{0.185}}} + \\frac{\\frac{x_0^-}{0.185}}{\\sqrt{1-\\frac{x_0^-}{0.185}}}) * (\\frac{\\frac{y_0^+}{0.185}}{\\sqrt{1+\\frac{y_0^+}{0.185}}} + \\frac{\\frac{y_0^-}{0.185}}{\\sqrt{1-\\frac{y_0^-}{0.185}}}) \\\\]\n",
    "\n"
   ]
  },
  {
   "cell_type": "markdown",
   "id": "e72caf90",
   "metadata": {},
   "source": [
    "Donde \\\\(x_\\alpha; y_\\alpha\\\\)\n",
    "\n",
    "\\\\[x_\\alpha^{\\pm}  = min[\\frac{w_I^xz_U^x(z-z_0) \\pm 2xz_I(z_0 - z_U^x)}{2z_I(z-z_U^x)}, \\frac{w_I^xz_D^x(z-z_0) \\pm 2xz_I (z_0-z_D^x)}{2z_I(z-z_D^x)}] \\\\]\n",
    "\n",
    "\\\\[y_\\alpha^{\\pm}  = min[\\frac{w_I^yz_U^y(z-z_0) \\pm 2yz_I(z_0 - z_U^y)}{2z_I(z-z_U^y)}, \\frac{w_I^yz_D^y(z-z_0) \\pm 2yz_I (z_0-z_D^y)}{2z_I(z-z_D^y)}] \\\\]\n",
    "\n",
    "\n",
    "Por tanto sabiendo que \\\\(z_0\\\\) es 0 y \\\\Z_I = 100\\\\)\n",
    "\n",
    "\\\\[x_\\alpha^{\\pm} = min[ \\frac{43.1*w_I^x*z \\pm -8620*x}{200(z-43.1)} , \\frac{ 50.9* w_I^x*(z) \\pm -10180*x* }{200(z-50.9)}] \\\\]\n",
    "\n",
    "\\\\[y_\\alpha^{\\pm}  = min[\\frac{29.8*w_I^y * z \\pm -5960*y}{200(z-29.8)}, \\frac{42.6*w_I^y*(z) \\pm -8520*y)}{200(z-42.6)}] \\\\]\n"
   ]
  },
  {
   "cell_type": "markdown",
   "id": "a55c5cde",
   "metadata": {},
   "source": [
    "# Ts"
   ]
  },
  {
   "cell_type": "code",
   "execution_count": 132,
   "id": "52606a4f",
   "metadata": {},
   "outputs": [],
   "source": [
    "\n",
    "\n",
    "\n",
    "def pos_neg(number, zs):\n",
    "\n",
    "    x_01pos = []\n",
    "    x_01neg = []\n",
    "    x_02pos = []\n",
    "    x_02neg = []\n",
    "    y_01pos = []\n",
    "    y_01neg = []\n",
    "    y_02pos = []\n",
    "    y_02neg = []\n",
    "\n",
    "    for i in np.arange(number, Mixed.shape[0]):\n",
    "        if Mixed[['In']].loc[i].to_numpy() == 0:\n",
    "            x_01pos.append(float((z_x_u*Mixed[['Limit']].loc[i].to_numpy()*(Mixed[['Z']].loc[i].to_numpy()-zs) + (zs - z_x_u)*2*100*Mixed[['r']].loc[i].to_numpy())/(2*100*(Mixed[['Z']].loc[i].to_numpy() - z_x_u))))\n",
    "            x_01neg.append(float((z_x_u*Mixed[['Limit']].loc[i].to_numpy()*(Mixed[['Z']].loc[i].to_numpy()-zs) - (zs - z_x_u)*2*100*Mixed[['r']].loc[i].to_numpy())/(2*100*(Mixed[['Z']].loc[i].to_numpy() - z_x_u))))\n",
    "            x_02pos.append(float((z_x_d*Mixed[['Limit']].loc[i].to_numpy()*(Mixed[['Z']].loc[i].to_numpy()-zs) + (zs - z_x_u)*2*100*Mixed[['r']].loc[i].to_numpy())/(2*100*(Mixed[['Z']].loc[i].to_numpy() - z_x_d))))\n",
    "            x_02neg.append(float((z_x_d*Mixed[['Limit']].loc[i].to_numpy()*(Mixed[['Z']].loc[i].to_numpy()-zs) - (zs - z_x_u)*2*100*Mixed[['r']].loc[i].to_numpy())/(2*100*(Mixed[['Z']].loc[i].to_numpy() - z_x_d))))\n",
    "\n",
    "            y_01pos.append(float((z_y_u*Mixed[['Limit']].loc[i].to_numpy()*(Mixed[['Z']].loc[i].to_numpy()-zs))/(2*100*(Mixed[['Z']].loc[i].to_numpy() - z_y_u))))\n",
    "            y_01neg.append(float((z_y_u*Mixed[['Limit']].loc[i].to_numpy()*(Mixed[['Z']].loc[i].to_numpy()-zs))/(2*100*(Mixed[['Z']].loc[i].to_numpy() - z_y_u))))\n",
    "            y_02pos.append(float((z_y_d*Mixed[['Limit']].loc[i].to_numpy()*(Mixed[['Z']].loc[i].to_numpy()-zs))/(2*100*(Mixed[['Z']].loc[i].to_numpy() - z_y_d))))\n",
    "            y_02neg.append(float((z_y_d*Mixed[['Limit']].loc[i].to_numpy()*(Mixed[['Z']].loc[i].to_numpy()-zs))/(2*100*(Mixed[['Z']].loc[i].to_numpy() - z_y_d))))\n",
    "\n",
    "\n",
    "\n",
    "        else:    \n",
    "            x_01pos.append(float((z_x_u*Mixed[['Limit']].loc[i].to_numpy()*(Mixed[['Z']].loc[i].to_numpy()-zs))/(2*100*(Mixed[['Z']].loc[i].to_numpy() - z_x_u))))\n",
    "            x_01neg.append(float((z_x_u*Mixed[['Limit']].loc[i].to_numpy()*(Mixed[['Z']].loc[i].to_numpy()-zs))/(2*100*(Mixed[['Z']].loc[i].to_numpy() - z_x_u))))\n",
    "            x_02pos.append(float((z_x_d*Mixed[['Limit']].loc[i].to_numpy()*(Mixed[['Z']].loc[i].to_numpy()-zs))/(2*100*(Mixed[['Z']].loc[i].to_numpy() - z_x_d))))\n",
    "            x_02neg.append(float((z_x_d*Mixed[['Limit']].loc[i].to_numpy()*(Mixed[['Z']].loc[i].to_numpy()-zs))/(2*100*(Mixed[['Z']].loc[i].to_numpy() - z_x_d))))\n",
    "\n",
    "\n",
    "            y_01pos.append(float((z_y_u*Mixed[['Limit']].loc[i].to_numpy()*(Mixed[['Z']].loc[i].to_numpy()-zs) + (zs - z_y_u)*2*100*Mixed[['r']].loc[i].to_numpy())/(2*100*(Mixed[['Z']].loc[i].to_numpy() - z_y_u))))\n",
    "            y_01neg.append(float((z_y_u*Mixed[['Limit']].loc[i].to_numpy()*(Mixed[['Z']].loc[i].to_numpy()-zs) - (zs - z_y_u)*2*100*Mixed[['r']].loc[i].to_numpy())/(2*100*(Mixed[['Z']].loc[i].to_numpy() - z_y_u))))\n",
    "            y_02pos.append(float((z_y_d*Mixed[['Limit']].loc[i].to_numpy()*(Mixed[['Z']].loc[i].to_numpy()-zs) + (zs - z_y_u)*2*100*Mixed[['r']].loc[i].to_numpy())/(2*100*(Mixed[['Z']].loc[i].to_numpy() - z_y_d))))\n",
    "            y_02neg.append(float((z_y_d*Mixed[['Limit']].loc[i].to_numpy()*(Mixed[['Z']].loc[i].to_numpy()-zs) - (zs - z_y_u)*2*100*Mixed[['r']].loc[i].to_numpy())/(2*100*(Mixed[['Z']].loc[i].to_numpy() - z_y_d))))\n",
    "\n",
    "\n",
    "\n",
    "    x_0pos = []\n",
    "    for i, j in zip(x_01pos, x_02pos):\n",
    "        if i<j:\n",
    "            x_0pos.append(float(i))\n",
    "        else:\n",
    "            x_0pos.append(float(j))\n",
    "\n",
    "    y_0pos = []\n",
    "    for i, j in zip(y_01pos, y_02pos):\n",
    "        if i<j:\n",
    "            y_0pos.append(float(i))\n",
    "        else:\n",
    "            y_0pos.append(float(j))\n",
    "\n",
    "\n",
    "    x_0neg = []\n",
    "    for i, j in zip(x_01neg, x_02neg):\n",
    "        if i<j:\n",
    "            x_0neg.append(float(i))\n",
    "        else:\n",
    "            x_0neg.append(float(j))\n",
    "\n",
    "    y_0neg = []\n",
    "    for i, j in zip(y_01neg, y_02neg):\n",
    "        if i<j:\n",
    "            y_0neg.append(float(i))\n",
    "        else:\n",
    "            y_0neg.append(float(j))\n",
    "\n",
    "    if zs==0:\n",
    "        \n",
    "    \n",
    "        Mixed['xpos'] = x_0pos\n",
    "        Mixed['xneg'] = x_0neg\n",
    "\n",
    "        Mixed['ypos'] = y_0pos\n",
    "        Mixed['yneg'] = y_0neg\n",
    "    \n",
    "    if zs!=0:\n",
    "        Mixed['xpos col'] = x_0pos\n",
    "        Mixed['xneg col'] = x_0neg\n",
    "\n",
    "        Mixed['ypos col'] = y_0pos\n",
    "        Mixed['yneg col'] = y_0neg\n",
    "\n",
    "    \n",
    "\n",
    "pos_neg(0, 0)\n",
    "pos_neg(0, Mixed[['Zs']].loc[i].to_numpy())"
   ]
  },
  {
   "cell_type": "markdown",
   "id": "51021e4a",
   "metadata": {},
   "source": [
    "Volviendo a la ecuación mostrada antes\n",
    "\n",
    "\\\\[ \\Phi_\\alpha = \\frac{542.085}{z^2}* (\\frac{\\frac{x_0^+}{\\delta_0}}{\\sqrt{1+\\frac{x_0^+}{\\delta_0}}} + \\frac{\\frac{x_0^-}{\\delta_0}}{\\sqrt{1-\\frac{x_0^-}{\\delta_0}}}) * (\\frac{\\frac{y_0^+}{\\delta_0}}{\\sqrt{1+\\frac{y_0^+}{\\delta_0}}} + \\frac{\\frac{y_0^-}{\\delta_0}}{\\sqrt{1-\\frac{y_0^-}{\\delta_0}}}) \\\\]\n"
   ]
  },
  {
   "cell_type": "markdown",
   "id": "17a44f12",
   "metadata": {},
   "source": [
    "\\\\[ \\Phi_\\gamma (x,y,z) = w_0 \\Phi_0(x,y,z) \\Phi_{horn}^\\gamma (x,y,z) \\\\]\n",
    "\n",
    "w_0 es la importancia de la fluencia primaria, que es la que estamos usando únicamente.\n",
    "\n",
    "\\\\[ \\Phi_\\gamma (x,y,z) = \\Phi_0(x,y,z) * \\Phi_{horn}^\\gamma (x,y,z) \\\\]\n",
    "\n",
    "\n",
    "Por lo que tenemos ya una de las dos partes, ahora calculamos \\\\(\\phi^\\gamma_{horn}\\\\)"
   ]
  },
  {
   "cell_type": "markdown",
   "id": "3e750970",
   "metadata": {},
   "source": [
    "\\\\[\\Phi_{horn} = 1+ \\rho^2\\sum^4_{j=0} h_j^{\\gamma, e} \\rho^j \\\\]\n"
   ]
  },
  {
   "cell_type": "markdown",
   "id": "bd0878ab",
   "metadata": {},
   "source": [
    "# Rho"
   ]
  },
  {
   "cell_type": "code",
   "execution_count": 133,
   "id": "526c708d",
   "metadata": {},
   "outputs": [],
   "source": [
    "Mixed['Rho'] = np.abs(Mixed['r'])/(Mixed['Z'])"
   ]
  },
  {
   "cell_type": "markdown",
   "id": "58d9364f",
   "metadata": {},
   "source": [
    "# Analytic equation"
   ]
  },
  {
   "cell_type": "code",
   "execution_count": 134,
   "id": "5b52c5e4",
   "metadata": {},
   "outputs": [],
   "source": [
    "from sklearn.ensemble import RandomForestRegressor\n",
    "from sklearn.metrics import mean_absolute_error\n",
    "from sklearn.model_selection import train_test_split\n",
    "\n",
    "RF = RandomForestRegressor()\n",
    "\n",
    "\n",
    "y = Mixed[Mixed['FFF']==0][['señal']]\n",
    "\n",
    "ScoresMAE = []\n",
    "ScoresRF = []\n",
    "Analyticresult = []\n"
   ]
  },
  {
   "cell_type": "code",
   "execution_count": null,
   "id": "5387983f",
   "metadata": {},
   "outputs": [],
   "source": [
    "def Iterator(number):\n",
    "    Counter = 0\n",
    "    for delt0 in np.linspace(0.0001, 1, number):\n",
    "        Counter = Counter+1\n",
    "\n",
    "        Arg1 = (Mixed[Mixed['FFF']==0]['xpos']/delt0)/((1 + (Mixed[Mixed['FFF']==0]['xpos']/delt0)**2)**(1/2))\n",
    "        Arg2 = (Mixed[Mixed['FFF']==0]['xneg']/delt0)/((1 + (Mixed[Mixed['FFF']==0]['xneg']/delt0)**2)**(1/2))\n",
    "\n",
    "        Arg3 = (Mixed[Mixed['FFF']==0]['ypos']/delt0)/((1 + (Mixed[Mixed['FFF']==0]['ypos']/delt0)**2)**(1/2))\n",
    "        Arg4 = (Mixed[Mixed['FFF']==0]['yneg']/delt0)/((1 + (Mixed[Mixed['FFF']==0]['yneg']/delt0)**2)**(1/2))\n",
    "        \n",
    "        for h0 in np.linspace(150, 300, number):\n",
    "            Counter = Counter + 1\n",
    "\n",
    "            for h1 in np.linspace(-4000, -2000, number):\n",
    "                Counter = Counter + 1\n",
    "\n",
    "                for h2 in np.linspace(25000, 50000, number):\n",
    "                    Counter = Counter + 1\n",
    "\n",
    "                    for h3 in np.linspace(-650000, -1300000, number):\n",
    "                        Counter = Counter + 1\n",
    "\n",
    "                        for h4 in np.linspace(100000, 1000000, number):\n",
    "                            Counter = Counter + 1\n",
    "                            if Counter % 1000 == 0:\n",
    "                                print(str((Counter/(number**6))*100) + str('%'))\n",
    "                                print('time elapsed: ' + str(datetime.now() - time0))\n",
    "                                \n",
    "                            Analytic = Mixed[Mixed['FFF']==0]['Big Z'] * (Arg1+Arg2) * (Arg3+Arg4) * (1 + Mixed[Mixed['FFF']==0]['Rho']**2 * (h0 * Mixed[Mixed['FFF']==0]['Rho'] + h1 * Mixed[Mixed['FFF']==0]['Rho'] + h2 * Mixed[Mixed['FFF']==0]['Rho'] + h3 * Mixed[Mixed['FFF']==0]['Rho']+ h4 * Mixed[Mixed['FFF']==0]['Rho']))\n",
    "                            Analyticresult.append('delta 0 = ' + str(delt0) + '; h0 = ' +  str(h0) + '; h1 =' + str(h1) + '; h2 = ' + str(h2) + 'h3 = ' + str(h3) + 'h4 =' + str(h4))\n",
    "\n",
    "                            ScoresMAE.append(mean_absolute_error(Analytic, y))\n",
    "                            RFx = np.hstack([Mixed[Mixed['FFF']==0][['r', 'Limit', 'In', 'Z', 'Big Z', 'xpos', 'xneg', 'ypos', 'yneg', 'Rho']].to_numpy(), Analytic.to_numpy().reshape(Analytic.shape[0], 1)])\n",
    "                            x_train, x_test, y_train, y_test = train_test_split(RFx, y)\n",
    "                            RF.fit(x_train, np.ravel(y_train))\n",
    "                            ScoresRF.append(mean_absolute_error(RF.predict(x_test), y_test))\n",
    "\n",
    "Iterator(3)"
   ]
  },
  {
   "cell_type": "code",
   "execution_count": null,
   "id": "69949b17",
   "metadata": {},
   "outputs": [],
   "source": [
    "Results = pd.DataFrame(Analyticresult, columns=['Combination used'])\n",
    "Results['Analytic Function score'] = ScoresMAE\n",
    "Results['RF score'] = ScoresRF\n"
   ]
  },
  {
   "cell_type": "code",
   "execution_count": null,
   "id": "1de52a61",
   "metadata": {},
   "outputs": [],
   "source": [
    "Results.sort_values('RF score')['Combination used'][0]"
   ]
  },
  {
   "cell_type": "code",
   "execution_count": null,
   "id": "ab513c73",
   "metadata": {},
   "outputs": [],
   "source": [
    "from sklearn.ensemble import GradientBoostingRegressor\n",
    "from sklearn.metrics import mean_absolute_error\n",
    "from sklearn.model_selection import train_test_split\n",
    "\n",
    "from sklearn.preprocessing import MinMaxScaler\n",
    "\n",
    "MMS = MinMaxScaler()\n",
    "\n",
    "NormX = MMS.fit_transform(MixedNoFFF.iloc[:,[0, 3, 4, 5, 6, 7, 8, 9, 10]])\n",
    "\n",
    "NormX = pd.DataFrame(NormX, index=MixedNoFFF.index, columns = MixedNoFFF.iloc[:,[0, 3, 4, 5, 6, 7, 8, 9, 10]].columns)\n",
    "NormX = NormX.merge(MixedNoFFF.iloc[:,10:], right_index=True, left_index=True)\n",
    "\n",
    "GB = GradientBoostingRegressor()\n",
    "\n",
    "y = MixedNoFFF[['señal']]\n",
    "\n",
    "\n",
    "ScoresGB = []\n",
    "for i in np.arange(9, NormX.shape[1]):\n",
    "\n",
    "    x = NormX.iloc[:,[0, 1, 2, 3, 4, 5, 6, 7, 8, i]]\n",
    "    print(i)\n",
    "\n",
    "    x_train, x_test, y_train, y_test = train_test_split(x, y)\n",
    "\n",
    "    GB.fit(x_train, y_train)\n",
    "    ScoresGB.append((mean_absolute_error(GB.predict(x_test), y_test)))"
   ]
  },
  {
   "cell_type": "code",
   "execution_count": null,
   "id": "2945c2dc",
   "metadata": {},
   "outputs": [],
   "source": []
  },
  {
   "cell_type": "code",
   "execution_count": null,
   "id": "d26fd711",
   "metadata": {},
   "outputs": [],
   "source": []
  },
  {
   "cell_type": "code",
   "execution_count": null,
   "id": "28022c09",
   "metadata": {},
   "outputs": [],
   "source": []
  },
  {
   "cell_type": "code",
   "execution_count": null,
   "id": "c46d8f99",
   "metadata": {},
   "outputs": [],
   "source": []
  },
  {
   "cell_type": "code",
   "execution_count": null,
   "id": "366d15fd",
   "metadata": {},
   "outputs": [],
   "source": []
  },
  {
   "cell_type": "code",
   "execution_count": null,
   "id": "8d001e22",
   "metadata": {},
   "outputs": [],
   "source": []
  },
  {
   "cell_type": "code",
   "execution_count": null,
   "id": "3033319b",
   "metadata": {},
   "outputs": [],
   "source": []
  },
  {
   "cell_type": "code",
   "execution_count": null,
   "id": "3801baa9",
   "metadata": {},
   "outputs": [],
   "source": []
  },
  {
   "cell_type": "code",
   "execution_count": null,
   "id": "0583f8fe",
   "metadata": {},
   "outputs": [],
   "source": []
  },
  {
   "cell_type": "code",
   "execution_count": null,
   "id": "5e58ddb0",
   "metadata": {},
   "outputs": [],
   "source": []
  },
  {
   "cell_type": "code",
   "execution_count": null,
   "id": "eccc2017",
   "metadata": {},
   "outputs": [],
   "source": []
  },
  {
   "cell_type": "code",
   "execution_count": null,
   "id": "d038744c",
   "metadata": {},
   "outputs": [],
   "source": []
  },
  {
   "cell_type": "code",
   "execution_count": null,
   "id": "b300dc81",
   "metadata": {},
   "outputs": [],
   "source": []
  },
  {
   "cell_type": "code",
   "execution_count": null,
   "id": "c5d12d88",
   "metadata": {},
   "outputs": [],
   "source": []
  },
  {
   "cell_type": "code",
   "execution_count": null,
   "id": "321a1aa8",
   "metadata": {},
   "outputs": [],
   "source": []
  },
  {
   "cell_type": "code",
   "execution_count": null,
   "id": "a62c4033",
   "metadata": {},
   "outputs": [],
   "source": []
  },
  {
   "cell_type": "code",
   "execution_count": null,
   "id": "b677b842",
   "metadata": {},
   "outputs": [],
   "source": []
  },
  {
   "cell_type": "code",
   "execution_count": null,
   "id": "22cc2416",
   "metadata": {},
   "outputs": [],
   "source": []
  },
  {
   "cell_type": "code",
   "execution_count": null,
   "id": "3550ddb6",
   "metadata": {},
   "outputs": [],
   "source": []
  },
  {
   "cell_type": "code",
   "execution_count": null,
   "id": "f6811e50",
   "metadata": {},
   "outputs": [],
   "source": []
  },
  {
   "cell_type": "code",
   "execution_count": null,
   "id": "3a922825",
   "metadata": {},
   "outputs": [],
   "source": []
  }
 ],
 "metadata": {
  "kernelspec": {
   "display_name": "Python 3",
   "language": "python",
   "name": "python3"
  },
  "language_info": {
   "codemirror_mode": {
    "name": "ipython",
    "version": 3
   },
   "file_extension": ".py",
   "mimetype": "text/x-python",
   "name": "python",
   "nbconvert_exporter": "python",
   "pygments_lexer": "ipython3",
   "version": "3.7.6"
  },
  "toc": {
   "base_numbering": 1,
   "nav_menu": {},
   "number_sections": true,
   "sideBar": true,
   "skip_h1_title": false,
   "title_cell": "Table of Contents",
   "title_sidebar": "Contents",
   "toc_cell": false,
   "toc_position": {},
   "toc_section_display": true,
   "toc_window_display": true
  },
  "varInspector": {
   "cols": {
    "lenName": 16,
    "lenType": 16,
    "lenVar": 40
   },
   "kernels_config": {
    "python": {
     "delete_cmd_postfix": "",
     "delete_cmd_prefix": "del ",
     "library": "var_list.py",
     "varRefreshCmd": "print(var_dic_list())"
    },
    "r": {
     "delete_cmd_postfix": ") ",
     "delete_cmd_prefix": "rm(",
     "library": "var_list.r",
     "varRefreshCmd": "cat(var_dic_list()) "
    }
   },
   "types_to_exclude": [
    "module",
    "function",
    "builtin_function_or_method",
    "instance",
    "_Feature"
   ],
   "window_display": false
  }
 },
 "nbformat": 4,
 "nbformat_minor": 5
}
