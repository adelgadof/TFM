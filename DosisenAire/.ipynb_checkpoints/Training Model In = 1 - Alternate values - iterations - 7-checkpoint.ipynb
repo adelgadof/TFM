{
 "cells": [
  {
   "cell_type": "code",
   "execution_count": 1,
   "id": "8605b492",
   "metadata": {},
   "outputs": [],
   "source": [
    "import pandas as pd \n",
    "import numpy as np \n",
    "pd.options.plotting.backend = 'plotly'\n",
    "import datetime \n",
    "from datetime import datetime "
   ]
  },
  {
   "cell_type": "code",
   "execution_count": null,
   "id": "2ceb4023",
   "metadata": {},
   "outputs": [],
   "source": []
  },
  {
   "cell_type": "markdown",
   "id": "a019c346",
   "metadata": {},
   "source": [
    "# Cuadrados 100"
   ]
  },
  {
   "cell_type": "markdown",
   "id": "ef29d037",
   "metadata": {},
   "source": [
    "## 5x5"
   ]
  },
  {
   "cell_type": "code",
   "execution_count": 2,
   "id": "d339b5c2",
   "metadata": {},
   "outputs": [],
   "source": [
    "pddopen5 = pd.read_csv('OPEN/txt/5x5/5x5pdd.txt', delimiter='\t\t', names=['r', 'señal open 5x5', 'error open 5x5'], engine='python')\n",
    "pcropen5 = pd.read_csv('OPEN/txt/5x5/5x5pro-cr-100.txt', delimiter='\t\t', names=['r', 'señal open 5x5', 'error open 5x5'], engine='python')\n",
    "pinopen5 = pd.read_csv('OPEN/txt/5x5/5x5pro-in-100.txt', delimiter='\t\t', names=['r', 'señal open 5x5', 'error open 5x5'], engine='python')\n",
    "\n",
    "pddFFF5 = pd.read_csv('FFF/txt/5x5/5x5pdd.txt', delimiter='\t\t', names=['r', 'señal fff 5x5', 'error fff 5x5'], engine='python')\n",
    "pcrFFF5 = pd.read_csv('FFF/txt/5x5/5x5pro-cr-100.txt', delimiter='\t\t', names=['r', 'señal fff 5x5', 'error fff 5x5'], engine='python')\n",
    "pinFFF5 = pd.read_csv('FFF/txt/5x5/5x5pro-in-100.txt', delimiter='\t\t', names=['r', 'señal fff 5x5', 'error fff 5x5'], engine='python')\n"
   ]
  },
  {
   "cell_type": "markdown",
   "id": "c04c88df",
   "metadata": {},
   "source": [
    "## 10x10"
   ]
  },
  {
   "cell_type": "code",
   "execution_count": 3,
   "id": "9945d1fa",
   "metadata": {},
   "outputs": [],
   "source": [
    "pddopen10 = pd.read_csv('OPEN/txt/10x10/10x10pdd.txt', delimiter='\t\t', names=['r', 'señal open 10x10', 'error open 10x10'], engine='python')\n",
    "pcropen10 = pd.read_csv('OPEN/txt/10x10/10x10pro-cr-100.txt', delimiter='\t\t', names=['r', 'señal open 10x10', 'error open 10x10'], engine='python')\n",
    "pinopen10 = pd.read_csv('OPEN/txt/10x10/10x10pro-in-100.txt', delimiter='\t\t', names=['r', 'señal open 10x10', 'error open 10x10'], engine='python')\n",
    "\n",
    "pddFFF10 = pd.read_csv('FFF/txt/10x10/10x10pdd.txt', delimiter='\t\t', names=['r', 'señal fff 10x10', 'error fff 10x10'], engine='python')\n",
    "pcrFFF10 = pd.read_csv('FFF/txt/10x10/10x10pro-cr-100.txt', delimiter='\t\t', names=['r', 'señal fff 10x10', 'error fff 10x10'], engine='python')\n",
    "pinFFF10 = pd.read_csv('FFF/txt/10x10/10x10pro-in-100.txt', delimiter='\t\t', names=['r', 'señal fff 10x10', 'error fff 10x10'], engine='python')\n"
   ]
  },
  {
   "cell_type": "markdown",
   "id": "5fbeede9",
   "metadata": {},
   "source": [
    "## 20x20"
   ]
  },
  {
   "cell_type": "code",
   "execution_count": 4,
   "id": "b0e24717",
   "metadata": {
    "scrolled": true
   },
   "outputs": [],
   "source": [
    "pddopen20 = pd.read_csv('OPEN/txt/20x20/20x20pdd.txt', delimiter='\t\t', names=['r', 'señal open 20x20', 'error open 20x20'], engine='python')\n",
    "pcropen20 = pd.read_csv('OPEN/txt/20x20/20x20pro-cr-100.txt', delimiter='\t\t', names=['r', 'señal open 20x20', 'error open 20x20'], engine='python')\n",
    "pinopen20 = pd.read_csv('OPEN/txt/20x20/20x20pro-in-100.txt', delimiter='\t\t', names=['r', 'señal open 20x20', 'error open 20x20'], engine='python')\n",
    "\n",
    "pddFFF20 = pd.read_csv('FFF/txt/20x20/20x20pdd.txt', delimiter='\t\t', names=['r', 'señal fff 20x20', 'error fff 20x20'], engine='python')\n",
    "pcrFFF20 = pd.read_csv('FFF/txt/20x20/20x20pro-cr-100.txt', delimiter='\t\t', names=['r', 'señal fff 20x20', 'error fff 20x20'], engine='python')\n",
    "pinFFF20 = pd.read_csv('FFF/txt/20x20/20x20pro-in-100.txt', delimiter='\t\t', names=['r', 'señal fff 20x20', 'error fff 20x20'], engine='python')\n"
   ]
  },
  {
   "cell_type": "markdown",
   "id": "f339a46f",
   "metadata": {},
   "source": [
    "\n",
    "\n",
    "\n",
    "\n",
    "\n",
    "## 40x40"
   ]
  },
  {
   "cell_type": "code",
   "execution_count": 5,
   "id": "f35cf3d9",
   "metadata": {
    "scrolled": true
   },
   "outputs": [],
   "source": [
    "pddopen40 = pd.read_csv('OPEN/txt/40x40/40x40pdd.txt', delimiter='\t\t', names=['r', 'señal open 40x40', 'error open 40x40'], engine='python')\n",
    "pcropen40 = pd.read_csv('OPEN/txt/40x40/40x40pro-cr-100.txt', delimiter='\t\t', names=['r', 'señal open 40x40', 'error open 40x40'], engine='python')\n",
    "pinopen40 = pd.read_csv('OPEN/txt/40x40/40x40pro-in-100.txt', delimiter='\t\t', names=['r', 'señal open 40x40', 'error open 40x40'], engine='python')\n",
    "\n",
    "pddFFF40 = pd.read_csv('FFF/txt/40x40/40x40pdd.txt', delimiter='\t\t', names=['r', 'señal fff 40x40', 'error fff 40x40'], engine='python')\n",
    "pcrFFF40 = pd.read_csv('FFF/txt/40x40/40x40pro-cr-100.txt', delimiter='\t\t', names=['r', 'señal fff 40x40', 'error fff 40x40'], engine='python')\n",
    "pinFFF40 = pd.read_csv('FFF/txt/40x40/40x40pro-in-100.txt', delimiter='\t\t', names=['r', 'señal fff 40x40', 'error fff 40x40'], engine='python')\n"
   ]
  },
  {
   "cell_type": "markdown",
   "id": "e4531bba",
   "metadata": {},
   "source": [
    "# Cuadrados 115"
   ]
  },
  {
   "cell_type": "markdown",
   "id": "105a6bd7",
   "metadata": {},
   "source": [
    "## 5x5"
   ]
  },
  {
   "cell_type": "code",
   "execution_count": 6,
   "id": "59cf23bf",
   "metadata": {},
   "outputs": [],
   "source": [
    "pddopen5_115 = pd.read_csv('OPEN/txt/5x5/5x5pdd.txt', delimiter='\t\t', names=['r', 'señal open 5x5', 'error open 5x5'], engine='python')\n",
    "pcropen5_115 = pd.read_csv('OPEN/txt/5x5/5x5pro-cr-115.txt', delimiter='\t\t', names=['r', 'señal open 5x5', 'error open 5x5'], engine='python')\n",
    "pinopen5_115 = pd.read_csv('OPEN/txt/5x5/5x5pro-in-115.txt', delimiter='\t\t', names=['r', 'señal open 5x5', 'error open 5x5'], engine='python')\n",
    "\n",
    "pddFFF5_115 = pd.read_csv('FFF/txt/5x5/5x5pdd.txt', delimiter='\t\t', names=['r', 'señal fff 5x5', 'error fff 5x5'], engine='python')\n",
    "pcrFFF5_115 = pd.read_csv('FFF/txt/5x5/5x5pro-cr-115.txt', delimiter='\t\t', names=['r', 'señal fff 5x5', 'error fff 5x5'], engine='python')\n",
    "pinFFF5_115 = pd.read_csv('FFF/txt/5x5/5x5pro-in-115.txt', delimiter='\t\t', names=['r', 'señal fff 5x5', 'error fff 5x5'], engine='python')\n"
   ]
  },
  {
   "cell_type": "markdown",
   "id": "e22a47c0",
   "metadata": {},
   "source": [
    "## 10x10"
   ]
  },
  {
   "cell_type": "code",
   "execution_count": 7,
   "id": "3c54b0b0",
   "metadata": {},
   "outputs": [],
   "source": [
    "pddopen10_115 = pd.read_csv('OPEN/txt/10x10/10x10pdd.txt', delimiter='\t\t', names=['r', 'señal open 10x10', 'error open 10x10'], engine='python')\n",
    "pcropen10_115 = pd.read_csv('OPEN/txt/10x10/10x10pro-cr-115.txt', delimiter='\t\t', names=['r', 'señal open 10x10', 'error open 10x10'], engine='python')\n",
    "pinopen10_115 = pd.read_csv('OPEN/txt/10x10/10x10pro-in-115.txt', delimiter='\t\t', names=['r', 'señal open 10x10', 'error open 10x10'], engine='python')\n",
    "\n",
    "pddFFF10_115 = pd.read_csv('FFF/txt/10x10/10x10pdd.txt', delimiter='\t\t', names=['r', 'señal fff 10x10', 'error fff 10x10'], engine='python')\n",
    "pcrFFF10_115 = pd.read_csv('FFF/txt/10x10/10x10pro-cr-115.txt', delimiter='\t\t', names=['r', 'señal fff 10x10', 'error fff 10x10'], engine='python')\n",
    "pinFFF10_115 = pd.read_csv('FFF/txt/10x10/10x10pro-in-115.txt', delimiter='\t\t', names=['r', 'señal fff 10x10', 'error fff 10x10'], engine='python')\n"
   ]
  },
  {
   "cell_type": "markdown",
   "id": "871d9041",
   "metadata": {},
   "source": [
    "## 20x20"
   ]
  },
  {
   "cell_type": "code",
   "execution_count": 8,
   "id": "687e7947",
   "metadata": {
    "scrolled": true
   },
   "outputs": [],
   "source": [
    "pddopen20_115 = pd.read_csv('OPEN/txt/20x20/20x20pdd.txt', delimiter='\t\t', names=['r', 'señal open 20x20', 'error open 20x20'], engine='python')\n",
    "pcropen20_115 = pd.read_csv('OPEN/txt/20x20/20x20pro-cr-115.txt', delimiter='\t\t', names=['r', 'señal open 20x20', 'error open 20x20'], engine='python')\n",
    "pinopen20_115 = pd.read_csv('OPEN/txt/20x20/20x20pro-in-115.txt', delimiter='\t\t', names=['r', 'señal open 20x20', 'error open 20x20'], engine='python')\n",
    "\n",
    "pddFFF20_115 = pd.read_csv('FFF/txt/20x20/20x20pdd.txt', delimiter='\t\t', names=['r', 'señal fff 20x20', 'error fff 20x20'], engine='python')\n",
    "pcrFFF20_115 = pd.read_csv('FFF/txt/20x20/20x20pro-cr-115.txt', delimiter='\t\t', names=['r', 'señal fff 20x20', 'error fff 20x20'], engine='python')\n",
    "pinFFF20_115 = pd.read_csv('FFF/txt/20x20/20x20pro-in-115.txt', delimiter='\t\t', names=['r', 'señal fff 20x20', 'error fff 20x20'], engine='python')\n"
   ]
  },
  {
   "cell_type": "markdown",
   "id": "d39a58fe",
   "metadata": {},
   "source": [
    "## 40x40"
   ]
  },
  {
   "cell_type": "code",
   "execution_count": 9,
   "id": "88cb2bc5",
   "metadata": {
    "scrolled": true
   },
   "outputs": [],
   "source": [
    "pddopen40_115 = pd.read_csv('OPEN/txt/40x40/40x40pdd.txt', delimiter='\t\t', names=['r', 'señal open 40x40', 'error open 40x40'], engine='python')\n",
    "pcropen40_115 = pd.read_csv('OPEN/txt/40x40/40x40pro-cr-115.txt', delimiter='\t\t', names=['r', 'señal open 40x40', 'error open 40x40'], engine='python')\n",
    "pinopen40_115 = pd.read_csv('OPEN/txt/40x40/40x40pro-in-115.txt', delimiter='\t\t', names=['r', 'señal open 40x40', 'error open 40x40'], engine='python')\n",
    "\n",
    "pddFFF40_115 = pd.read_csv('FFF/txt/40x40/40x40pdd.txt', delimiter='\t\t', names=['r', 'señal fff 40x40', 'error fff 40x40'], engine='python')\n",
    "pcrFFF40_115 = pd.read_csv('FFF/txt/40x40/40x40pro-cr-115.txt', delimiter='\t\t', names=['r', 'señal fff 40x40', 'error fff 40x40'], engine='python')\n",
    "pinFFF40_115 = pd.read_csv('FFF/txt/40x40/40x40pro-in-115.txt', delimiter='\t\t', names=['r', 'señal fff 40x40', 'error fff 40x40'], engine='python')\n"
   ]
  },
  {
   "cell_type": "markdown",
   "id": "5438186e",
   "metadata": {},
   "source": [
    "# 85"
   ]
  },
  {
   "cell_type": "markdown",
   "id": "48d00a8a",
   "metadata": {},
   "source": [
    "## 5x5"
   ]
  },
  {
   "cell_type": "code",
   "execution_count": 10,
   "id": "d36d5869",
   "metadata": {},
   "outputs": [],
   "source": [
    "pddopen5_85 = pd.read_csv('OPEN/txt/5x5/5x5pdd.txt', delimiter='\t\t', names=['r', 'señal open 5x5', 'error open 5x5'], engine='python')\n",
    "pcropen5_85 = pd.read_csv('OPEN/txt/5x5/5x5pro-cr-85.txt', delimiter='\t\t', names=['r', 'señal open 5x5', 'error open 5x5'], engine='python')\n",
    "pinopen5_85 = pd.read_csv('OPEN/txt/5x5/5x5pro-in-85.txt', delimiter='\t\t', names=['r', 'señal open 5x5', 'error open 5x5'], engine='python')\n",
    "\n",
    "pddFFF5_85 = pd.read_csv('FFF/txt/5x5/5x5pdd.txt', delimiter='\t\t', names=['r', 'señal fff 5x5', 'error fff 5x5'], engine='python')\n",
    "pcrFFF5_85 = pd.read_csv('FFF/txt/5x5/5x5pro-cr-85.txt', delimiter='\t\t', names=['r', 'señal fff 5x5', 'error fff 5x5'], engine='python')\n",
    "pinFFF5_85 = pd.read_csv('FFF/txt/5x5/5x5pro-in-85.txt', delimiter='\t\t', names=['r', 'señal fff 5x5', 'error fff 5x5'], engine='python')\n"
   ]
  },
  {
   "cell_type": "markdown",
   "id": "b946e4d5",
   "metadata": {},
   "source": [
    "## 10x10"
   ]
  },
  {
   "cell_type": "code",
   "execution_count": 11,
   "id": "46d19212",
   "metadata": {},
   "outputs": [],
   "source": [
    "pddopen10_85 = pd.read_csv('OPEN/txt/10x10/10x10pdd.txt', delimiter='\t\t', names=['r', 'señal open 10x10', 'error open 10x10'], engine='python')\n",
    "pcropen10_85 = pd.read_csv('OPEN/txt/10x10/10x10pro-cr-85.txt', delimiter='\t\t', names=['r', 'señal open 10x10', 'error open 10x10'], engine='python')\n",
    "pinopen10_85 = pd.read_csv('OPEN/txt/10x10/10x10pro-in-85.txt', delimiter='\t\t', names=['r', 'señal open 10x10', 'error open 10x10'], engine='python')\n",
    "\n",
    "pddFFF10_85 = pd.read_csv('FFF/txt/10x10/10x10pdd.txt', delimiter='\t\t', names=['r', 'señal fff 10x10', 'error fff 10x10'], engine='python')\n",
    "pcrFFF10_85 = pd.read_csv('FFF/txt/10x10/10x10pro-cr-85.txt', delimiter='\t\t', names=['r', 'señal fff 10x10', 'error fff 10x10'], engine='python')\n",
    "pinFFF10_85 = pd.read_csv('FFF/txt/10x10/10x10pro-in-85.txt', delimiter='\t\t', names=['r', 'señal fff 10x10', 'error fff 10x10'], engine='python')\n"
   ]
  },
  {
   "cell_type": "markdown",
   "id": "aaa31482",
   "metadata": {},
   "source": [
    "## 20x20"
   ]
  },
  {
   "cell_type": "code",
   "execution_count": 12,
   "id": "0c04053a",
   "metadata": {
    "scrolled": true
   },
   "outputs": [],
   "source": [
    "pddopen20_85 = pd.read_csv('OPEN/txt/20x20/20x20pdd.txt', delimiter='\t\t', names=['r', 'señal open 20x20', 'error open 20x20'], engine='python')\n",
    "pcropen20_85 = pd.read_csv('OPEN/txt/20x20/20x20pro-cr-85.txt', delimiter='\t\t', names=['r', 'señal open 20x20', 'error open 20x20'], engine='python')\n",
    "pinopen20_85 = pd.read_csv('OPEN/txt/20x20/20x20pro-in-85.txt', delimiter='\t\t', names=['r', 'señal open 20x20', 'error open 20x20'], engine='python')\n",
    "\n",
    "pddFFF20_85 = pd.read_csv('FFF/txt/20x20/20x20pdd.txt', delimiter='\t\t', names=['r', 'señal fff 20x20', 'error fff 20x20'], engine='python')\n",
    "pcrFFF20_85 = pd.read_csv('FFF/txt/20x20/20x20pro-cr-85.txt', delimiter='\t\t', names=['r', 'señal fff 20x20', 'error fff 20x20'], engine='python')\n",
    "pinFFF20_85 = pd.read_csv('FFF/txt/20x20/20x20pro-in-85.txt', delimiter='\t\t', names=['r', 'señal fff 20x20', 'error fff 20x20'], engine='python')\n"
   ]
  },
  {
   "cell_type": "markdown",
   "id": "d1d1ec83",
   "metadata": {},
   "source": [
    "## 40x40"
   ]
  },
  {
   "cell_type": "code",
   "execution_count": 13,
   "id": "4494ab02",
   "metadata": {
    "scrolled": true
   },
   "outputs": [],
   "source": [
    "pddopen40_85 = pd.read_csv('OPEN/txt/40x40/40x40pdd.txt', delimiter='\t\t', names=['r', 'señal open 40x40', 'error open 40x40'], engine='python')\n",
    "pcropen40_85 = pd.read_csv('OPEN/txt/40x40/40x40pro-cr-85.txt', delimiter='\t\t', names=['r', 'señal open 40x40', 'error open 40x40'], engine='python')\n",
    "pinopen40_85 = pd.read_csv('OPEN/txt/40x40/40x40pro-in-85.txt', delimiter='\t\t', names=['r', 'señal open 40x40', 'error open 40x40'], engine='python')\n",
    "\n",
    "pddFFF40_85 = pd.read_csv('FFF/txt/40x40/40x40pdd.txt', delimiter='\t\t', names=['r', 'señal fff 40x40', 'error fff 40x40'], engine='python')\n",
    "pcrFFF40_85 = pd.read_csv('FFF/txt/40x40/40x40pro-cr-85.txt', delimiter='\t\t', names=['r', 'señal fff 40x40', 'error fff 40x40'], engine='python')\n",
    "pinFFF40_85 = pd.read_csv('FFF/txt/40x40/40x40pro-in-85.txt', delimiter='\t\t', names=['r', 'señal fff 40x40', 'error fff 40x40'], engine='python')\n"
   ]
  },
  {
   "cell_type": "markdown",
   "id": "16cd01bc",
   "metadata": {},
   "source": [
    "# Rectangular"
   ]
  },
  {
   "cell_type": "markdown",
   "id": "9f8e9c1b",
   "metadata": {},
   "source": [
    "## 40x5"
   ]
  },
  {
   "cell_type": "code",
   "execution_count": 14,
   "id": "7f84e1c1",
   "metadata": {
    "scrolled": true
   },
   "outputs": [],
   "source": [
    "pddopen40x5 = pd.read_csv('OPEN/txt/40x5/40x5pdd.txt', delimiter='\t\t', names=['r', 'señal open 40x5', 'error open 40x5'], engine='python')\n",
    "pcropen40x5 = pd.read_csv('OPEN/txt/40x5/40x5pro-cr-100.txt', delimiter='\t\t', names=['r', 'señal open 40x5', 'error open 40x5'], engine='python')\n",
    "pinopen40x5 = pd.read_csv('OPEN/txt/40x5/40x5pro-in-100.txt', delimiter='\t\t', names=['r', 'señal open 40x5', 'error open 40x5'], engine='python')\n",
    "\n",
    "pddFFF40x5 = pd.read_csv('FFF/txt/40x5/40x5pdd.txt', delimiter='\t\t', names=['r', 'señal fff 40x5', 'error fff 40x5'], engine='python')\n",
    "pcrFFF40x5 = pd.read_csv('FFF/txt/40x5/40x5pro-cr-100.txt', delimiter='\t\t', names=['r', 'señal fff 40x5', 'error fff 40x5'], engine='python')\n",
    "pinFFF40x5 = pd.read_csv('FFF/txt/40x5/40x5pro-in-100.txt', delimiter='\t\t', names=['r', 'señal fff 40x5', 'error fff 40x5'], engine='python')\n",
    "\n",
    "\n",
    "pddopen40x5_85 = pd.read_csv('OPEN/txt/40x5/40x5pdd.txt', delimiter='\t\t', names=['r', 'señal open 40x5', 'error open 40x5'], engine='python')\n",
    "pcropen40x5_85 = pd.read_csv('OPEN/txt/40x5/40x5pro-cr-85.txt', delimiter='\t\t', names=['r', 'señal open 40x5', 'error open 40x5'], engine='python')\n",
    "pinopen40x5_85 = pd.read_csv('OPEN/txt/40x5/40x5pro-in-85.txt', delimiter='\t\t', names=['r', 'señal open 40x5', 'error open 40x5'], engine='python')\n",
    "\n",
    "pddFFF40x5_85 = pd.read_csv('FFF/txt/40x5/40x5pdd.txt', delimiter='\t\t', names=['r', 'señal fff 40x5', 'error fff 40x5'], engine='python')\n",
    "pcrFFF40x5_85 = pd.read_csv('FFF/txt/40x5/40x5pro-cr-85.txt', delimiter='\t\t', names=['r', 'señal fff 40x5', 'error fff 40x5'], engine='python')\n",
    "pinFFF40x5_85 = pd.read_csv('FFF/txt/40x5/40x5pro-in-85.txt', delimiter='\t\t', names=['r', 'señal fff 40x5', 'error fff 40x5'], engine='python')\n",
    "\n",
    "\n",
    "pddopen40x5_115 = pd.read_csv('OPEN/txt/40x5/40x5pdd.txt', delimiter='\t\t', names=['r', 'señal open 40x5', 'error open 40x5'], engine='python')\n",
    "pcropen40x5_115 = pd.read_csv('OPEN/txt/40x5/40x5pro-cr-115.txt', delimiter='\t\t', names=['r', 'señal open 40x5', 'error open 40x5'], engine='python')\n",
    "pinopen40x5_115 = pd.read_csv('OPEN/txt/40x5/40x5pro-in-115.txt', delimiter='\t\t', names=['r', 'señal open 40x5', 'error open 40x5'], engine='python')\n",
    "\n",
    "pddFFF40x5_115 = pd.read_csv('FFF/txt/40x5/40x5pdd.txt', delimiter='\t\t', names=['r', 'señal fff 40x5', 'error fff 40x5'], engine='python')\n",
    "pcrFFF40x5_115 = pd.read_csv('FFF/txt/40x5/40x5pro-cr-115.txt', delimiter='\t\t', names=['r', 'señal fff 40x5', 'error fff 40x5'], engine='python')\n",
    "pinFFF40x5_115 = pd.read_csv('FFF/txt/40x5/40x5pro-in-115.txt', delimiter='\t\t', names=['r', 'señal fff 40x5', 'error fff 40x5'], engine='python')\n"
   ]
  },
  {
   "cell_type": "markdown",
   "id": "c47ad251",
   "metadata": {},
   "source": [
    "# Merge Data"
   ]
  },
  {
   "cell_type": "code",
   "execution_count": 15,
   "id": "81483ace",
   "metadata": {},
   "outputs": [],
   "source": [
    "def Delimiting(data, FFF, Limit):\n",
    "    global Mixed\n",
    "    NewData = data.iloc[:,:2]\n",
    "    NewData['FFF'] = FFF\n",
    "    NewData.columns = ['r', 'señal', 'FFF']\n",
    "    NewData['Limit'] = Limit\n",
    "    NewData['Area'] = Limit**2\n",
    "    Mixed = pd.concat([Mixed, NewData])"
   ]
  },
  {
   "cell_type": "code",
   "execution_count": 16,
   "id": "a4fbc50c",
   "metadata": {},
   "outputs": [],
   "source": [
    "Mixed = pd.DataFrame(columns=['r', 'señal', 'FFF', 'Limit'])\n",
    "\n",
    "Delimiting(pinFFF5, 1, 50)\n",
    "Delimiting(pinopen5, 0, 50)\n",
    "Delimiting(pinFFF10, 1, 100)\n",
    "Delimiting(pinopen10, 0, 100)\n",
    "Delimiting(pinFFF20, 1, 200)\n",
    "Delimiting(pinopen20, 0, 200)\n",
    "Delimiting(pinFFF40, 1, 400)\n",
    "Delimiting(pinopen40, 0, 400)\n",
    "\n",
    "MixedIN = Mixed\n",
    "MixedIN['In'] = 1\n",
    "MixedIN['Z'] = 100"
   ]
  },
  {
   "cell_type": "code",
   "execution_count": 17,
   "id": "fe1744b5",
   "metadata": {},
   "outputs": [],
   "source": [
    "Mixed = pd.DataFrame(columns=['r', 'señal', 'FFF', 'Limit'])\n",
    "\n",
    "Delimiting(pcrFFF5, 1, 50)\n",
    "Delimiting(pcropen5, 0, 50)\n",
    "Delimiting(pcrFFF10, 1, 100)\n",
    "Delimiting(pcropen10, 0, 100)\n",
    "Delimiting(pcrFFF20, 1, 200)\n",
    "Delimiting(pcropen20, 0, 200)\n",
    "Delimiting(pcrFFF40, 1, 400)\n",
    "Delimiting(pcropen40, 0, 400)\n",
    "\n",
    "MixedCR = Mixed\n",
    "MixedCR['In'] = 0\n",
    "MixedCR['Z'] = 100"
   ]
  },
  {
   "cell_type": "code",
   "execution_count": 18,
   "id": "99c24561",
   "metadata": {},
   "outputs": [],
   "source": [
    "Mixed = pd.DataFrame(columns=['r', 'señal', 'FFF', 'Limit'])\n",
    "\n",
    "Delimiting(pinFFF5_85, 1, 50)\n",
    "Delimiting(pinopen5_85, 0, 50)\n",
    "Delimiting(pinFFF10_85, 1_85, 100)\n",
    "Delimiting(pinopen10_85, 0, 100)\n",
    "Delimiting(pinFFF20_85, 1, 200)\n",
    "Delimiting(pinopen20_85, 0, 200)\n",
    "Delimiting(pinFFF40_85, 1, 400)\n",
    "Delimiting(pinopen40_85, 0, 400)\n",
    "\n",
    "MixedIN85 = Mixed\n",
    "MixedIN85['In'] = 1\n",
    "MixedIN85['Z'] = 85"
   ]
  },
  {
   "cell_type": "code",
   "execution_count": 19,
   "id": "d370266a",
   "metadata": {},
   "outputs": [],
   "source": [
    "Mixed = pd.DataFrame(columns=['r', 'señal', 'FFF', 'Limit'])\n",
    "\n",
    "Delimiting(pcrFFF5_85, 1, 50)\n",
    "Delimiting(pcropen5_85, 0, 50)\n",
    "Delimiting(pcrFFF10_85, 1_85, 100)\n",
    "Delimiting(pcropen10_85, 0, 100)\n",
    "Delimiting(pcrFFF20_85, 1, 200)\n",
    "Delimiting(pcropen20_85, 0, 200)\n",
    "Delimiting(pcrFFF40_85, 1, 400)\n",
    "Delimiting(pcropen40_85, 0, 400)\n",
    "\n",
    "MixedCR85 = Mixed\n",
    "MixedCR85['In'] = 0\n",
    "MixedCR85['Z'] = 85"
   ]
  },
  {
   "cell_type": "code",
   "execution_count": 20,
   "id": "2b9e590a",
   "metadata": {},
   "outputs": [],
   "source": [
    "Mixed = pd.DataFrame(columns=['r', 'señal', 'FFF', 'Limit'])\n",
    "\n",
    "Delimiting(pinFFF5_115, 1, 50)\n",
    "Delimiting(pinopen5_115, 0, 50)\n",
    "Delimiting(pinFFF10_115, 1_115, 100)\n",
    "Delimiting(pinopen10_115, 0, 100)\n",
    "Delimiting(pinFFF20_115, 1, 200)\n",
    "Delimiting(pinopen20_115, 0, 200)\n",
    "Delimiting(pinFFF40_115, 1, 400)\n",
    "Delimiting(pinopen40_115, 0, 400)\n",
    "\n",
    "MixedIN115 = Mixed\n",
    "MixedIN115['In'] = 1\n",
    "MixedIN115['Z'] = 115"
   ]
  },
  {
   "cell_type": "code",
   "execution_count": 21,
   "id": "9fabe6ef",
   "metadata": {},
   "outputs": [],
   "source": [
    "Mixed = pd.DataFrame(columns=['r', 'señal', 'FFF', 'Limit'])\n",
    "\n",
    "Delimiting(pcrFFF5_115, 1, 50)\n",
    "Delimiting(pcropen5_115, 0, 50)\n",
    "Delimiting(pcrFFF10_115, 1_115, 100)\n",
    "Delimiting(pcropen10_115, 0, 100)\n",
    "Delimiting(pcrFFF20_115, 1, 200)\n",
    "Delimiting(pcropen20_115, 0, 200)\n",
    "Delimiting(pcrFFF40_115, 1, 400)\n",
    "Delimiting(pcropen40_115, 0, 400)\n",
    "\n",
    "MixedCR115 = Mixed\n",
    "MixedCR115['In'] = 0\n",
    "MixedCR115['Z'] = 115"
   ]
  },
  {
   "cell_type": "code",
   "execution_count": 22,
   "id": "27b7a492",
   "metadata": {},
   "outputs": [],
   "source": [
    "def Delimiting(data, FFF, Limit1, Limit2, In, Z):\n",
    "    global Mixed\n",
    "    NewData = data.iloc[:,:2]\n",
    "    NewData['FFF'] = FFF\n",
    "    NewData.columns = ['r', 'señal', 'FFF']\n",
    "    NewData['Limit'] = Limit1\n",
    "    NewData['Area'] = Limit1*Limit2\n",
    "    NewData['In'] = In\n",
    "    NewData['Z'] = Z\n",
    "    Mixed = pd.concat([Mixed, NewData])\n",
    "    \n",
    "    \n",
    "Mixed = pd.DataFrame(columns=['r', 'señal', 'FFF', 'Limit', 'Z'])\n",
    "\n",
    "Delimiting(pcropen40x5, 0, 50, 400, 0, 100)\n",
    "Delimiting(pinopen40x5, 0, 400, 50, 1, 100)\n",
    "Delimiting(pcrFFF40x5, 1, 50, 400, 0, 100)\n",
    "Delimiting(pinFFF40x5, 1, 400, 50, 1, 100)\n",
    "Delimiting(pcropen40x5_85, 0, 50, 400, 0, 85)\n",
    "Delimiting(pinopen40x5_85, 0, 400, 50, 1, 85)\n",
    "Delimiting(pcrFFF40x5_85, 1, 50, 400, 0, 85)\n",
    "Delimiting(pinFFF40x5_85, 1, 400, 50, 1, 85)\n",
    "Delimiting(pcropen40x5_115, 0, 50, 400, 0, 115)\n",
    "Delimiting(pinopen40x5_115, 0, 400, 50, 1, 115)\n",
    "Delimiting(pcrFFF40x5_115, 1, 50, 400, 0, 115)\n",
    "Delimiting(pinFFF40x5_115, 1, 400, 50, 1, 115)\n",
    "\n",
    "\n",
    "Mixed40x5 = Mixed.reset_index(drop=True)\n"
   ]
  },
  {
   "cell_type": "code",
   "execution_count": 23,
   "id": "ac1286bc",
   "metadata": {},
   "outputs": [],
   "source": [
    "Mixed = pd.concat([MixedCR, MixedIN, MixedIN85, MixedCR85, MixedCR115, MixedIN115, Mixed40x5]).reset_index(drop=True)\n",
    "Mixed['Limit'] = Mixed['Limit']\n",
    "Mixed = Mixed.loc[:,['r', 'señal', 'FFF', 'Limit', 'Area', 'In', 'Z']]\n",
    "Mixed = Mixed[Mixed['In']==1].reset_index(drop=True)"
   ]
  },
  {
   "cell_type": "markdown",
   "id": "f06ada41",
   "metadata": {},
   "source": [
    "\n",
    "\n",
    "\\\\[ \\Phi_\\gamma (x,y,z) = w_0 \\Phi_0(x,y,z) \\Phi_{horn}^\\gamma (x,y,z) \\\\]\n",
    "\n",
    "Primero calcularemos \\\\(\\Phi_0^\\gamma\\\\)"
   ]
  },
  {
   "cell_type": "markdown",
   "id": "e90143c4",
   "metadata": {},
   "source": [
    "\\\\[ \\Phi_\\alpha = Z(z; z_D^x, z_D^y, z_\\alpha) T_\\alpha(x_\\alpha^+, x_\\alpha^-) T_\\alpha(y_\\alpha^+, y_\\alpha^- ) \\\\]"
   ]
  },
  {
   "cell_type": "markdown",
   "id": "5cbdc318",
   "metadata": {},
   "source": [
    "\\\\[ Z(z; z^x_D, z^y_D, z_0) = \\frac{1}{4} \\frac{(z_D^x - z_0) (z^y_D - z_0 )}{(z-z_0)^2} \\\\]\n",
    "\n",
    "\n",
    "\n",
    "\n",
    "\n",
    "Donde \\\\( z_U^x  = 43.1cm ; z_U^y = 29.8cm ; z^x_D = 50.9cm ; z_D^y= 42.6cm \\\\)\n",
    "\n",
    "\n",
    "\\\\[ Z(z; z^x_D, z^y_D, z_0) = \\frac{1}{4} \\frac{(50.9 - z_0) (42.6 - z_0 )}{(z-z_0)^2} \\\\]\n",
    "\\\\[ Z(z; z^x_D, z^y_D, z_s) = \\frac{1}{4} \\frac{(50.9 - z_s) (42.6 - z_s )}{(z-z_s)^2} \\\\]\n",
    "\n",
    "\n",
    "Vamos a establecer z_0 como 0\n",
    "\n",
    "\\\\[ Z(z; z^x_D, z^y_D, z_0) = \\frac{1}{4} \\frac{(50.9) (42.6)}{(z)^2} \\\\]\n"
   ]
  },
  {
   "cell_type": "markdown",
   "id": "ff262400",
   "metadata": {},
   "source": [
    "# Z "
   ]
  },
  {
   "cell_type": "code",
   "execution_count": 24,
   "id": "07b903d4",
   "metadata": {},
   "outputs": [],
   "source": [
    "Z_s = []\n",
    "\n",
    "for i in np.arange(0, Mixed.shape[0]):\n",
    "    if Mixed['FFF'].loc[i]==1:\n",
    "        Z_s.append(12.47)\n",
    "    else:\n",
    "        Z_s.append(0)\n",
    "        \n",
    "Mixed['Zs'] = Z_s"
   ]
  },
  {
   "cell_type": "code",
   "execution_count": 25,
   "id": "3133c8bb",
   "metadata": {},
   "outputs": [],
   "source": [
    "z_x_u = 43.1\n",
    "z_y_u = 29.8\n",
    "\n",
    "z_x_d = 50.9\n",
    "z_y_d = 42.6\n",
    "\n",
    "\n",
    "Mixed['Big Z'] = (0.25*z_x_d*z_y_d)/(Mixed['Z']**2)\n",
    "Mixed['Big Z Col'] = (0.25*(z_x_d-Mixed[['Zs']].to_numpy())*(z_y_d-Mixed[['Zs']].to_numpy()))/(Mixed[['Z']].to_numpy()**2)"
   ]
  },
  {
   "cell_type": "markdown",
   "id": "890eded3",
   "metadata": {},
   "source": [
    "Por tanto:\n",
    "\n",
    "\\\\[X_0 = \\frac{\\frac{x_0^+}{\\delta_0}}{\\sqrt{1+\\frac{x_0^+}{\\delta_0}}} + \\frac{\\frac{x_0^-}{\\delta_0}}{\\sqrt{1-\\frac{x_0^-}{\\delta_0}}}\\\\]\n",
    "\n",
    "\\\\[Y_0 = \\frac{\\frac{y_0^+}{\\delta_0}}{\\sqrt{1+\\frac{y_0^+}{\\delta_0}}} + \\frac{\\frac{y_0^-}{\\delta_0}}{\\sqrt{1-\\frac{y_0^-}{\\delta_0}}}\\\\]\n",
    "\n",
    "\n",
    "\n"
   ]
  },
  {
   "cell_type": "markdown",
   "id": "b4704cd1",
   "metadata": {},
   "source": [
    "\\\\[ \\Phi_\\alpha = \\frac{542.085}{z^2}* (\\frac{\\frac{x_0^+}{\\delta_0}}{\\sqrt{1+\\frac{x_0^+}{\\delta_0}}} + \\frac{\\frac{x_0^-}{\\delta_0}}{\\sqrt{1-\\frac{x_0^-}{\\delta_0}}}) * (\\frac{\\frac{y_0^+}{\\delta_0}}{\\sqrt{1+\\frac{y_0^+}{\\delta_0}}} + \\frac{\\frac{y_0^-}{\\delta_0}}{\\sqrt{1-\\frac{y_0^-}{\\delta_0}}}) \\\\]\n",
    "\n"
   ]
  },
  {
   "cell_type": "markdown",
   "id": "e72caf90",
   "metadata": {},
   "source": [
    "Donde \\\\(x_\\alpha; y_\\alpha\\\\)\n",
    "\n",
    "\\\\[x_\\alpha^{\\pm}  = min[\\frac{w_I^xz_U^x(z-z_0) \\pm 2xz_I(z_0 - z_U^x)}{2z_I(z-z_U^x)}, \\frac{w_I^xz_D^x(z-z_0) \\pm 2xz_I (z_0-z_D^x)}{2z_I(z-z_D^x)}] \\\\]\n",
    "\n",
    "\\\\[y_\\alpha^{\\pm}  = min[\\frac{w_I^yz_U^y(z-z_0) \\pm 2yz_I(z_0 - z_U^y)}{2z_I(z-z_U^y)}, \\frac{w_I^yz_D^y(z-z_0) \\pm 2yz_I (z_0-z_D^y)}{2z_I(z-z_D^y)}] \\\\]\n",
    "\n",
    "\n",
    "Por tanto sabiendo que \\\\(z_0\\\\) es 0 y \\\\Z_I = 100\\\\)\n",
    "\n",
    "\\\\[x_\\alpha^{\\pm} = min[ \\frac{43.1*w_I^x*z \\pm -8620*x}{200(z-43.1)} , \\frac{ 50.9* w_I^x*(z) \\pm -10180*x* }{200(z-50.9)}] \\\\]\n",
    "\n",
    "\\\\[y_\\alpha^{\\pm}  = min[\\frac{29.8*w_I^y * z \\pm -5960*y}{200(z-29.8)}, \\frac{42.6*w_I^y*(z) \\pm -8520*y)}{200(z-42.6)}] \\\\]\n"
   ]
  },
  {
   "cell_type": "markdown",
   "id": "677ec3ca",
   "metadata": {},
   "source": [
    "# Ts"
   ]
  },
  {
   "cell_type": "markdown",
   "id": "0cf36ccb",
   "metadata": {},
   "source": [
    "In = 1 -> X \n",
    "In = 0 -> Y"
   ]
  },
  {
   "cell_type": "code",
   "execution_count": 26,
   "id": "52606a4f",
   "metadata": {},
   "outputs": [
    {
     "ename": "KeyboardInterrupt",
     "evalue": "",
     "output_type": "error",
     "traceback": [
      "\u001b[0;31m---------------------------------------------------------------------------\u001b[0m",
      "\u001b[0;31mKeyboardInterrupt\u001b[0m                         Traceback (most recent call last)",
      "\u001b[0;32m<ipython-input-26-3f521006b441>\u001b[0m in \u001b[0;36m<module>\u001b[0;34m\u001b[0m\n\u001b[1;32m     85\u001b[0m \u001b[0;34m\u001b[0m\u001b[0m\n\u001b[1;32m     86\u001b[0m \u001b[0;34m\u001b[0m\u001b[0m\n\u001b[0;32m---> 87\u001b[0;31m \u001b[0mpos_neg\u001b[0m\u001b[0;34m(\u001b[0m\u001b[0;36m0\u001b[0m\u001b[0;34m,\u001b[0m \u001b[0;36m0\u001b[0m\u001b[0;34m)\u001b[0m\u001b[0;34m\u001b[0m\u001b[0;34m\u001b[0m\u001b[0m\n\u001b[0m\u001b[1;32m     88\u001b[0m \u001b[0mpos_neg\u001b[0m\u001b[0;34m(\u001b[0m\u001b[0;36m0\u001b[0m\u001b[0;34m,\u001b[0m \u001b[0mMixed\u001b[0m\u001b[0;34m[\u001b[0m\u001b[0;34m[\u001b[0m\u001b[0;34m'Zs'\u001b[0m\u001b[0;34m]\u001b[0m\u001b[0;34m]\u001b[0m\u001b[0;34m.\u001b[0m\u001b[0mloc\u001b[0m\u001b[0;34m[\u001b[0m\u001b[0mi\u001b[0m\u001b[0;34m]\u001b[0m\u001b[0;34m.\u001b[0m\u001b[0mto_numpy\u001b[0m\u001b[0;34m(\u001b[0m\u001b[0;34m)\u001b[0m\u001b[0;34m)\u001b[0m\u001b[0;34m\u001b[0m\u001b[0;34m\u001b[0m\u001b[0m\n",
      "\u001b[0;32m<ipython-input-26-3f521006b441>\u001b[0m in \u001b[0;36mpos_neg\u001b[0;34m(number, zs)\u001b[0m\n\u001b[1;32m     15\u001b[0m             \u001b[0mx_01neg\u001b[0m\u001b[0;34m.\u001b[0m\u001b[0mappend\u001b[0m\u001b[0;34m(\u001b[0m\u001b[0mfloat\u001b[0m\u001b[0;34m(\u001b[0m\u001b[0;34m(\u001b[0m\u001b[0mz_x_u\u001b[0m\u001b[0;34m*\u001b[0m\u001b[0mMixed\u001b[0m\u001b[0;34m[\u001b[0m\u001b[0;34m[\u001b[0m\u001b[0;34m'Limit'\u001b[0m\u001b[0;34m]\u001b[0m\u001b[0;34m]\u001b[0m\u001b[0;34m.\u001b[0m\u001b[0mloc\u001b[0m\u001b[0;34m[\u001b[0m\u001b[0mi\u001b[0m\u001b[0;34m]\u001b[0m\u001b[0;34m.\u001b[0m\u001b[0mto_numpy\u001b[0m\u001b[0;34m(\u001b[0m\u001b[0;34m)\u001b[0m\u001b[0;34m*\u001b[0m\u001b[0;34m(\u001b[0m\u001b[0mMixed\u001b[0m\u001b[0;34m[\u001b[0m\u001b[0;34m[\u001b[0m\u001b[0;34m'Z'\u001b[0m\u001b[0;34m]\u001b[0m\u001b[0;34m]\u001b[0m\u001b[0;34m.\u001b[0m\u001b[0mloc\u001b[0m\u001b[0;34m[\u001b[0m\u001b[0mi\u001b[0m\u001b[0;34m]\u001b[0m\u001b[0;34m.\u001b[0m\u001b[0mto_numpy\u001b[0m\u001b[0;34m(\u001b[0m\u001b[0;34m)\u001b[0m\u001b[0;34m-\u001b[0m\u001b[0mzs\u001b[0m\u001b[0;34m)\u001b[0m \u001b[0;34m-\u001b[0m \u001b[0;34m(\u001b[0m\u001b[0mzs\u001b[0m \u001b[0;34m-\u001b[0m \u001b[0mz_x_u\u001b[0m\u001b[0;34m)\u001b[0m\u001b[0;34m*\u001b[0m\u001b[0;36m2\u001b[0m\u001b[0;34m*\u001b[0m\u001b[0;36m100\u001b[0m\u001b[0;34m*\u001b[0m\u001b[0mMixed\u001b[0m\u001b[0;34m[\u001b[0m\u001b[0;34m[\u001b[0m\u001b[0;34m'r'\u001b[0m\u001b[0;34m]\u001b[0m\u001b[0;34m]\u001b[0m\u001b[0;34m.\u001b[0m\u001b[0mloc\u001b[0m\u001b[0;34m[\u001b[0m\u001b[0mi\u001b[0m\u001b[0;34m]\u001b[0m\u001b[0;34m.\u001b[0m\u001b[0mto_numpy\u001b[0m\u001b[0;34m(\u001b[0m\u001b[0;34m)\u001b[0m\u001b[0;34m)\u001b[0m\u001b[0;34m/\u001b[0m\u001b[0;34m(\u001b[0m\u001b[0;36m2\u001b[0m\u001b[0;34m*\u001b[0m\u001b[0;36m100\u001b[0m\u001b[0;34m*\u001b[0m\u001b[0;34m(\u001b[0m\u001b[0mMixed\u001b[0m\u001b[0;34m[\u001b[0m\u001b[0;34m[\u001b[0m\u001b[0;34m'Z'\u001b[0m\u001b[0;34m]\u001b[0m\u001b[0;34m]\u001b[0m\u001b[0;34m.\u001b[0m\u001b[0mloc\u001b[0m\u001b[0;34m[\u001b[0m\u001b[0mi\u001b[0m\u001b[0;34m]\u001b[0m\u001b[0;34m.\u001b[0m\u001b[0mto_numpy\u001b[0m\u001b[0;34m(\u001b[0m\u001b[0;34m)\u001b[0m \u001b[0;34m-\u001b[0m \u001b[0mz_x_u\u001b[0m\u001b[0;34m)\u001b[0m\u001b[0;34m)\u001b[0m\u001b[0;34m)\u001b[0m\u001b[0;34m)\u001b[0m\u001b[0;34m\u001b[0m\u001b[0;34m\u001b[0m\u001b[0m\n\u001b[1;32m     16\u001b[0m             \u001b[0mx_02pos\u001b[0m\u001b[0;34m.\u001b[0m\u001b[0mappend\u001b[0m\u001b[0;34m(\u001b[0m\u001b[0mfloat\u001b[0m\u001b[0;34m(\u001b[0m\u001b[0;34m(\u001b[0m\u001b[0mz_x_d\u001b[0m\u001b[0;34m*\u001b[0m\u001b[0mMixed\u001b[0m\u001b[0;34m[\u001b[0m\u001b[0;34m[\u001b[0m\u001b[0;34m'Limit'\u001b[0m\u001b[0;34m]\u001b[0m\u001b[0;34m]\u001b[0m\u001b[0;34m.\u001b[0m\u001b[0mloc\u001b[0m\u001b[0;34m[\u001b[0m\u001b[0mi\u001b[0m\u001b[0;34m]\u001b[0m\u001b[0;34m.\u001b[0m\u001b[0mto_numpy\u001b[0m\u001b[0;34m(\u001b[0m\u001b[0;34m)\u001b[0m\u001b[0;34m*\u001b[0m\u001b[0;34m(\u001b[0m\u001b[0mMixed\u001b[0m\u001b[0;34m[\u001b[0m\u001b[0;34m[\u001b[0m\u001b[0;34m'Z'\u001b[0m\u001b[0;34m]\u001b[0m\u001b[0;34m]\u001b[0m\u001b[0;34m.\u001b[0m\u001b[0mloc\u001b[0m\u001b[0;34m[\u001b[0m\u001b[0mi\u001b[0m\u001b[0;34m]\u001b[0m\u001b[0;34m.\u001b[0m\u001b[0mto_numpy\u001b[0m\u001b[0;34m(\u001b[0m\u001b[0;34m)\u001b[0m\u001b[0;34m-\u001b[0m\u001b[0mzs\u001b[0m\u001b[0;34m)\u001b[0m \u001b[0;34m+\u001b[0m \u001b[0;34m(\u001b[0m\u001b[0mzs\u001b[0m \u001b[0;34m-\u001b[0m \u001b[0mz_x_u\u001b[0m\u001b[0;34m)\u001b[0m\u001b[0;34m*\u001b[0m\u001b[0;36m2\u001b[0m\u001b[0;34m*\u001b[0m\u001b[0;36m100\u001b[0m\u001b[0;34m*\u001b[0m\u001b[0mMixed\u001b[0m\u001b[0;34m[\u001b[0m\u001b[0;34m[\u001b[0m\u001b[0;34m'r'\u001b[0m\u001b[0;34m]\u001b[0m\u001b[0;34m]\u001b[0m\u001b[0;34m.\u001b[0m\u001b[0mloc\u001b[0m\u001b[0;34m[\u001b[0m\u001b[0mi\u001b[0m\u001b[0;34m]\u001b[0m\u001b[0;34m.\u001b[0m\u001b[0mto_numpy\u001b[0m\u001b[0;34m(\u001b[0m\u001b[0;34m)\u001b[0m\u001b[0;34m)\u001b[0m\u001b[0;34m/\u001b[0m\u001b[0;34m(\u001b[0m\u001b[0;36m2\u001b[0m\u001b[0;34m*\u001b[0m\u001b[0;36m100\u001b[0m\u001b[0;34m*\u001b[0m\u001b[0;34m(\u001b[0m\u001b[0mMixed\u001b[0m\u001b[0;34m[\u001b[0m\u001b[0;34m[\u001b[0m\u001b[0;34m'Z'\u001b[0m\u001b[0;34m]\u001b[0m\u001b[0;34m]\u001b[0m\u001b[0;34m.\u001b[0m\u001b[0mloc\u001b[0m\u001b[0;34m[\u001b[0m\u001b[0mi\u001b[0m\u001b[0;34m]\u001b[0m\u001b[0;34m.\u001b[0m\u001b[0mto_numpy\u001b[0m\u001b[0;34m(\u001b[0m\u001b[0;34m)\u001b[0m \u001b[0;34m-\u001b[0m \u001b[0mz_x_d\u001b[0m\u001b[0;34m)\u001b[0m\u001b[0;34m)\u001b[0m\u001b[0;34m)\u001b[0m\u001b[0;34m)\u001b[0m\u001b[0;34m\u001b[0m\u001b[0;34m\u001b[0m\u001b[0m\n\u001b[0;32m---> 17\u001b[0;31m             \u001b[0mx_02neg\u001b[0m\u001b[0;34m.\u001b[0m\u001b[0mappend\u001b[0m\u001b[0;34m(\u001b[0m\u001b[0mfloat\u001b[0m\u001b[0;34m(\u001b[0m\u001b[0;34m(\u001b[0m\u001b[0mz_x_d\u001b[0m\u001b[0;34m*\u001b[0m\u001b[0mMixed\u001b[0m\u001b[0;34m[\u001b[0m\u001b[0;34m[\u001b[0m\u001b[0;34m'Limit'\u001b[0m\u001b[0;34m]\u001b[0m\u001b[0;34m]\u001b[0m\u001b[0;34m.\u001b[0m\u001b[0mloc\u001b[0m\u001b[0;34m[\u001b[0m\u001b[0mi\u001b[0m\u001b[0;34m]\u001b[0m\u001b[0;34m.\u001b[0m\u001b[0mto_numpy\u001b[0m\u001b[0;34m(\u001b[0m\u001b[0;34m)\u001b[0m\u001b[0;34m*\u001b[0m\u001b[0;34m(\u001b[0m\u001b[0mMixed\u001b[0m\u001b[0;34m[\u001b[0m\u001b[0;34m[\u001b[0m\u001b[0;34m'Z'\u001b[0m\u001b[0;34m]\u001b[0m\u001b[0;34m]\u001b[0m\u001b[0;34m.\u001b[0m\u001b[0mloc\u001b[0m\u001b[0;34m[\u001b[0m\u001b[0mi\u001b[0m\u001b[0;34m]\u001b[0m\u001b[0;34m.\u001b[0m\u001b[0mto_numpy\u001b[0m\u001b[0;34m(\u001b[0m\u001b[0;34m)\u001b[0m\u001b[0;34m-\u001b[0m\u001b[0mzs\u001b[0m\u001b[0;34m)\u001b[0m \u001b[0;34m-\u001b[0m \u001b[0;34m(\u001b[0m\u001b[0mzs\u001b[0m \u001b[0;34m-\u001b[0m \u001b[0mz_x_u\u001b[0m\u001b[0;34m)\u001b[0m\u001b[0;34m*\u001b[0m\u001b[0;36m2\u001b[0m\u001b[0;34m*\u001b[0m\u001b[0;36m100\u001b[0m\u001b[0;34m*\u001b[0m\u001b[0mMixed\u001b[0m\u001b[0;34m[\u001b[0m\u001b[0;34m[\u001b[0m\u001b[0;34m'r'\u001b[0m\u001b[0;34m]\u001b[0m\u001b[0;34m]\u001b[0m\u001b[0;34m.\u001b[0m\u001b[0mloc\u001b[0m\u001b[0;34m[\u001b[0m\u001b[0mi\u001b[0m\u001b[0;34m]\u001b[0m\u001b[0;34m.\u001b[0m\u001b[0mto_numpy\u001b[0m\u001b[0;34m(\u001b[0m\u001b[0;34m)\u001b[0m\u001b[0;34m)\u001b[0m\u001b[0;34m/\u001b[0m\u001b[0;34m(\u001b[0m\u001b[0;36m2\u001b[0m\u001b[0;34m*\u001b[0m\u001b[0;36m100\u001b[0m\u001b[0;34m*\u001b[0m\u001b[0;34m(\u001b[0m\u001b[0mMixed\u001b[0m\u001b[0;34m[\u001b[0m\u001b[0;34m[\u001b[0m\u001b[0;34m'Z'\u001b[0m\u001b[0;34m]\u001b[0m\u001b[0;34m]\u001b[0m\u001b[0;34m.\u001b[0m\u001b[0mloc\u001b[0m\u001b[0;34m[\u001b[0m\u001b[0mi\u001b[0m\u001b[0;34m]\u001b[0m\u001b[0;34m.\u001b[0m\u001b[0mto_numpy\u001b[0m\u001b[0;34m(\u001b[0m\u001b[0;34m)\u001b[0m \u001b[0;34m-\u001b[0m \u001b[0mz_x_d\u001b[0m\u001b[0;34m)\u001b[0m\u001b[0;34m)\u001b[0m\u001b[0;34m)\u001b[0m\u001b[0;34m)\u001b[0m\u001b[0;34m\u001b[0m\u001b[0;34m\u001b[0m\u001b[0m\n\u001b[0m\u001b[1;32m     18\u001b[0m \u001b[0;34m\u001b[0m\u001b[0m\n\u001b[1;32m     19\u001b[0m             \u001b[0my_01pos\u001b[0m\u001b[0;34m.\u001b[0m\u001b[0mappend\u001b[0m\u001b[0;34m(\u001b[0m\u001b[0mfloat\u001b[0m\u001b[0;34m(\u001b[0m\u001b[0;34m(\u001b[0m\u001b[0mz_y_u\u001b[0m\u001b[0;34m*\u001b[0m\u001b[0mMixed\u001b[0m\u001b[0;34m[\u001b[0m\u001b[0;34m[\u001b[0m\u001b[0;34m'Limit'\u001b[0m\u001b[0;34m]\u001b[0m\u001b[0;34m]\u001b[0m\u001b[0;34m.\u001b[0m\u001b[0mloc\u001b[0m\u001b[0;34m[\u001b[0m\u001b[0mi\u001b[0m\u001b[0;34m]\u001b[0m\u001b[0;34m.\u001b[0m\u001b[0mto_numpy\u001b[0m\u001b[0;34m(\u001b[0m\u001b[0;34m)\u001b[0m\u001b[0;34m*\u001b[0m\u001b[0;34m(\u001b[0m\u001b[0mMixed\u001b[0m\u001b[0;34m[\u001b[0m\u001b[0;34m[\u001b[0m\u001b[0;34m'Z'\u001b[0m\u001b[0;34m]\u001b[0m\u001b[0;34m]\u001b[0m\u001b[0;34m.\u001b[0m\u001b[0mloc\u001b[0m\u001b[0;34m[\u001b[0m\u001b[0mi\u001b[0m\u001b[0;34m]\u001b[0m\u001b[0;34m.\u001b[0m\u001b[0mto_numpy\u001b[0m\u001b[0;34m(\u001b[0m\u001b[0;34m)\u001b[0m\u001b[0;34m-\u001b[0m\u001b[0mzs\u001b[0m\u001b[0;34m)\u001b[0m\u001b[0;34m)\u001b[0m\u001b[0;34m/\u001b[0m\u001b[0;34m(\u001b[0m\u001b[0;36m2\u001b[0m\u001b[0;34m*\u001b[0m\u001b[0;36m100\u001b[0m\u001b[0;34m*\u001b[0m\u001b[0;34m(\u001b[0m\u001b[0mMixed\u001b[0m\u001b[0;34m[\u001b[0m\u001b[0;34m[\u001b[0m\u001b[0;34m'Z'\u001b[0m\u001b[0;34m]\u001b[0m\u001b[0;34m]\u001b[0m\u001b[0;34m.\u001b[0m\u001b[0mloc\u001b[0m\u001b[0;34m[\u001b[0m\u001b[0mi\u001b[0m\u001b[0;34m]\u001b[0m\u001b[0;34m.\u001b[0m\u001b[0mto_numpy\u001b[0m\u001b[0;34m(\u001b[0m\u001b[0;34m)\u001b[0m \u001b[0;34m-\u001b[0m \u001b[0mz_y_u\u001b[0m\u001b[0;34m)\u001b[0m\u001b[0;34m)\u001b[0m\u001b[0;34m)\u001b[0m\u001b[0;34m)\u001b[0m\u001b[0;34m\u001b[0m\u001b[0;34m\u001b[0m\u001b[0m\n",
      "\u001b[0;32m~/anaconda3/lib/python3.7/site-packages/pandas/core/frame.py\u001b[0m in \u001b[0;36m__getitem__\u001b[0;34m(self, key)\u001b[0m\n\u001b[1;32m   3017\u001b[0m         \u001b[0;31m# We are left with two options: a single key, and a collection of keys,\u001b[0m\u001b[0;34m\u001b[0m\u001b[0;34m\u001b[0m\u001b[0;34m\u001b[0m\u001b[0m\n\u001b[1;32m   3018\u001b[0m         \u001b[0;31m# We interpret tuples as collections only for non-MultiIndex\u001b[0m\u001b[0;34m\u001b[0m\u001b[0;34m\u001b[0m\u001b[0;34m\u001b[0m\u001b[0m\n\u001b[0;32m-> 3019\u001b[0;31m         \u001b[0mis_single_key\u001b[0m \u001b[0;34m=\u001b[0m \u001b[0misinstance\u001b[0m\u001b[0;34m(\u001b[0m\u001b[0mkey\u001b[0m\u001b[0;34m,\u001b[0m \u001b[0mtuple\u001b[0m\u001b[0;34m)\u001b[0m \u001b[0;32mor\u001b[0m \u001b[0;32mnot\u001b[0m \u001b[0mis_list_like\u001b[0m\u001b[0;34m(\u001b[0m\u001b[0mkey\u001b[0m\u001b[0;34m)\u001b[0m\u001b[0;34m\u001b[0m\u001b[0;34m\u001b[0m\u001b[0m\n\u001b[0m\u001b[1;32m   3020\u001b[0m \u001b[0;34m\u001b[0m\u001b[0m\n\u001b[1;32m   3021\u001b[0m         \u001b[0;32mif\u001b[0m \u001b[0mis_single_key\u001b[0m\u001b[0;34m:\u001b[0m\u001b[0;34m\u001b[0m\u001b[0;34m\u001b[0m\u001b[0m\n",
      "\u001b[0;32mpandas/_libs/lib.pyx\u001b[0m in \u001b[0;36mpandas._libs.lib.is_list_like\u001b[0;34m()\u001b[0m\n",
      "\u001b[0;32mpandas/_libs/lib.pyx\u001b[0m in \u001b[0;36mpandas._libs.lib.c_is_list_like\u001b[0;34m()\u001b[0m\n",
      "\u001b[0;32m~/anaconda3/lib/python3.7/abc.py\u001b[0m in \u001b[0;36m__instancecheck__\u001b[0;34m(cls, instance)\u001b[0m\n\u001b[1;32m    135\u001b[0m             \u001b[0;32mreturn\u001b[0m \u001b[0m_abc_register\u001b[0m\u001b[0;34m(\u001b[0m\u001b[0mcls\u001b[0m\u001b[0;34m,\u001b[0m \u001b[0msubclass\u001b[0m\u001b[0;34m)\u001b[0m\u001b[0;34m\u001b[0m\u001b[0;34m\u001b[0m\u001b[0m\n\u001b[1;32m    136\u001b[0m \u001b[0;34m\u001b[0m\u001b[0m\n\u001b[0;32m--> 137\u001b[0;31m         \u001b[0;32mdef\u001b[0m \u001b[0m__instancecheck__\u001b[0m\u001b[0;34m(\u001b[0m\u001b[0mcls\u001b[0m\u001b[0;34m,\u001b[0m \u001b[0minstance\u001b[0m\u001b[0;34m)\u001b[0m\u001b[0;34m:\u001b[0m\u001b[0;34m\u001b[0m\u001b[0;34m\u001b[0m\u001b[0m\n\u001b[0m\u001b[1;32m    138\u001b[0m             \u001b[0;34m\"\"\"Override for isinstance(instance, cls).\"\"\"\u001b[0m\u001b[0;34m\u001b[0m\u001b[0;34m\u001b[0m\u001b[0m\n\u001b[1;32m    139\u001b[0m             \u001b[0;32mreturn\u001b[0m \u001b[0m_abc_instancecheck\u001b[0m\u001b[0;34m(\u001b[0m\u001b[0mcls\u001b[0m\u001b[0;34m,\u001b[0m \u001b[0minstance\u001b[0m\u001b[0;34m)\u001b[0m\u001b[0;34m\u001b[0m\u001b[0;34m\u001b[0m\u001b[0m\n",
      "\u001b[0;31mKeyboardInterrupt\u001b[0m: "
     ]
    }
   ],
   "source": [
    "\n",
    "\n",
    "\n",
    "def pos_neg(number, zs):\n",
    "\n",
    "    x_01pos = []\n",
    "    x_01neg = []\n",
    "    x_02pos = []\n",
    "    x_02neg = []\n",
    "    y_01pos = []\n",
    "    y_01neg = []\n",
    "    y_02pos = []\n",
    "    y_02neg = []\n",
    "\n",
    "    for i in np.arange(number, Mixed.shape[0]):\n",
    "        if Mixed[['In']].loc[i].to_numpy() == 1:\n",
    "            x_01pos.append(float((z_x_u*Mixed[['Limit']].loc[i].to_numpy()*(Mixed[['Z']].loc[i].to_numpy()-zs) + (zs - z_x_u)*2*100*Mixed[['r']].loc[i].to_numpy())/(2*100*(Mixed[['Z']].loc[i].to_numpy() - z_x_u))))\n",
    "            x_01neg.append(float((z_x_u*Mixed[['Limit']].loc[i].to_numpy()*(Mixed[['Z']].loc[i].to_numpy()-zs) - (zs - z_x_u)*2*100*Mixed[['r']].loc[i].to_numpy())/(2*100*(Mixed[['Z']].loc[i].to_numpy() - z_x_u))))\n",
    "            x_02pos.append(float((z_x_d*Mixed[['Limit']].loc[i].to_numpy()*(Mixed[['Z']].loc[i].to_numpy()-zs) + (zs - z_x_u)*2*100*Mixed[['r']].loc[i].to_numpy())/(2*100*(Mixed[['Z']].loc[i].to_numpy() - z_x_d))))\n",
    "            x_02neg.append(float((z_x_d*Mixed[['Limit']].loc[i].to_numpy()*(Mixed[['Z']].loc[i].to_numpy()-zs) - (zs - z_x_u)*2*100*Mixed[['r']].loc[i].to_numpy())/(2*100*(Mixed[['Z']].loc[i].to_numpy() - z_x_d))))\n",
    "\n",
    "            y_01pos.append(float((z_y_u*Mixed[['Limit']].loc[i].to_numpy()*(Mixed[['Z']].loc[i].to_numpy()-zs))/(2*100*(Mixed[['Z']].loc[i].to_numpy() - z_y_u))))\n",
    "            y_01neg.append(float((z_y_u*Mixed[['Limit']].loc[i].to_numpy()*(Mixed[['Z']].loc[i].to_numpy()-zs))/(2*100*(Mixed[['Z']].loc[i].to_numpy() - z_y_u))))\n",
    "            y_02pos.append(float((z_y_d*Mixed[['Limit']].loc[i].to_numpy()*(Mixed[['Z']].loc[i].to_numpy()-zs))/(2*100*(Mixed[['Z']].loc[i].to_numpy() - z_y_d))))\n",
    "            y_02neg.append(float((z_y_d*Mixed[['Limit']].loc[i].to_numpy()*(Mixed[['Z']].loc[i].to_numpy()-zs))/(2*100*(Mixed[['Z']].loc[i].to_numpy() - z_y_d))))\n",
    "\n",
    "\n",
    "\n",
    "        else:    \n",
    "            x_01pos.append(float((z_x_u*Mixed[['Limit']].loc[i].to_numpy()*(Mixed[['Z']].loc[i].to_numpy()-zs))/(2*100*(Mixed[['Z']].loc[i].to_numpy() - z_x_u))))\n",
    "            x_01neg.append(float((z_x_u*Mixed[['Limit']].loc[i].to_numpy()*(Mixed[['Z']].loc[i].to_numpy()-zs))/(2*100*(Mixed[['Z']].loc[i].to_numpy() - z_x_u))))\n",
    "            x_02pos.append(float((z_x_d*Mixed[['Limit']].loc[i].to_numpy()*(Mixed[['Z']].loc[i].to_numpy()-zs))/(2*100*(Mixed[['Z']].loc[i].to_numpy() - z_x_d))))\n",
    "            x_02neg.append(float((z_x_d*Mixed[['Limit']].loc[i].to_numpy()*(Mixed[['Z']].loc[i].to_numpy()-zs))/(2*100*(Mixed[['Z']].loc[i].to_numpy() - z_x_d))))\n",
    "\n",
    "\n",
    "            y_01pos.append(float((z_y_u*Mixed[['Limit']].loc[i].to_numpy()*(Mixed[['Z']].loc[i].to_numpy()-zs) + (zs - z_y_u)*2*100*Mixed[['r']].loc[i].to_numpy())/(2*100*(Mixed[['Z']].loc[i].to_numpy() - z_y_u))))\n",
    "            y_01neg.append(float((z_y_u*Mixed[['Limit']].loc[i].to_numpy()*(Mixed[['Z']].loc[i].to_numpy()-zs) - (zs - z_y_u)*2*100*Mixed[['r']].loc[i].to_numpy())/(2*100*(Mixed[['Z']].loc[i].to_numpy() - z_y_u))))\n",
    "            y_02pos.append(float((z_y_d*Mixed[['Limit']].loc[i].to_numpy()*(Mixed[['Z']].loc[i].to_numpy()-zs) + (zs - z_y_u)*2*100*Mixed[['r']].loc[i].to_numpy())/(2*100*(Mixed[['Z']].loc[i].to_numpy() - z_y_d))))\n",
    "            y_02neg.append(float((z_y_d*Mixed[['Limit']].loc[i].to_numpy()*(Mixed[['Z']].loc[i].to_numpy()-zs) - (zs - z_y_u)*2*100*Mixed[['r']].loc[i].to_numpy())/(2*100*(Mixed[['Z']].loc[i].to_numpy() - z_y_d))))\n",
    "\n",
    "\n",
    "\n",
    "    x_0pos = []\n",
    "    for i, j in zip(x_01pos, x_02pos):\n",
    "        if i<j:\n",
    "            x_0pos.append(float(i))\n",
    "        else:\n",
    "            x_0pos.append(float(j))\n",
    "\n",
    "    y_0pos = []\n",
    "    for i, j in zip(y_01pos, y_02pos):\n",
    "        if i<j:\n",
    "            y_0pos.append(float(i))\n",
    "        else:\n",
    "            y_0pos.append(float(j))\n",
    "\n",
    "\n",
    "    x_0neg = []\n",
    "    for i, j in zip(x_01neg, x_02neg):\n",
    "        if i<j:\n",
    "            x_0neg.append(float(i))\n",
    "        else:\n",
    "            x_0neg.append(float(j))\n",
    "\n",
    "    y_0neg = []\n",
    "    for i, j in zip(y_01neg, y_02neg):\n",
    "        if i<j:\n",
    "            y_0neg.append(float(i))\n",
    "        else:\n",
    "            y_0neg.append(float(j))\n",
    "\n",
    "    if zs==0:\n",
    "        \n",
    "    \n",
    "        Mixed['xpos'] = x_0pos\n",
    "        Mixed['xneg'] = x_0neg\n",
    "\n",
    "        Mixed['ypos'] = y_0pos\n",
    "        Mixed['yneg'] = y_0neg\n",
    "    \n",
    "    if zs!=0:\n",
    "        Mixed['xpos col'] = x_0pos\n",
    "        Mixed['xneg col'] = x_0neg\n",
    "\n",
    "        Mixed['ypos col'] = y_0pos\n",
    "        Mixed['yneg col'] = y_0neg\n",
    "\n",
    "    \n",
    "\n",
    "pos_neg(0, 0)\n",
    "pos_neg(0, Mixed[['Zs']].loc[i].to_numpy())"
   ]
  },
  {
   "cell_type": "markdown",
   "id": "51021e4a",
   "metadata": {},
   "source": [
    "Volviendo a la ecuación mostrada antes\n",
    "\n",
    "\\\\[ \\Phi_\\alpha = \\frac{542.085}{z^2}* (\\frac{\\frac{x_0^+}{\\delta_0}}{\\sqrt{1+\\frac{x_0^+}{\\delta_0}}} + \\frac{\\frac{x_0^-}{\\delta_0}}{\\sqrt{1+\\frac{x_0^-}{\\delta_0}}}) * (\\frac{\\frac{y_0^+}{\\delta_0}}{\\sqrt{1+\\frac{y_0^+}{\\delta_0}}} + \\frac{\\frac{y_0^-}{\\delta_0}}{\\sqrt{1+\\frac{y_0^-}{\\delta_0}}}) \\\\]\n"
   ]
  },
  {
   "cell_type": "markdown",
   "id": "17a44f12",
   "metadata": {},
   "source": [
    "\\\\[ \\Phi_\\gamma (x,y,z) = w_0 \\Phi_0(x,y,z) \\Phi_{horn}^\\gamma (x,y,z) \\\\]\n",
    "\n",
    "w_0 es la importancia de la fluencia primaria, que es la que estamos usando únicamente.\n",
    "\n",
    "\\\\[ \\Phi_\\gamma (x,y,z) = \\Phi_0(x,y,z) * \\Phi_{horn}^\\gamma (x,y,z) \\\\]\n",
    "\n",
    "\n",
    "Por lo que tenemos ya una de las dos partes, ahora calculamos \\\\(\\phi^\\gamma_{horn}\\\\)"
   ]
  },
  {
   "cell_type": "markdown",
   "id": "3e750970",
   "metadata": {},
   "source": [
    "\\\\[\\Phi_{horn} = 1+ \\rho^2\\sum^4_{j=0} h_j^{\\gamma, e} \\rho^j \\\\]\n",
    "\n",
    "Donde\n",
    "\n",
    "\\\\[\\rho = \\frac{\\sqrt{x^2 + y^2}}{z-z_0} \\\\]\n"
   ]
  },
  {
   "cell_type": "markdown",
   "id": "2cd01cc9",
   "metadata": {},
   "source": [
    "# Rho"
   ]
  },
  {
   "cell_type": "code",
   "execution_count": null,
   "id": "526c708d",
   "metadata": {},
   "outputs": [],
   "source": [
    "Mixed['Rho'] = np.abs((Mixed['r']))/(Mixed['Z'])"
   ]
  },
  {
   "cell_type": "markdown",
   "id": "f74bd822",
   "metadata": {},
   "source": [
    "# Analytic equation"
   ]
  },
  {
   "cell_type": "code",
   "execution_count": null,
   "id": "393ad1e5",
   "metadata": {},
   "outputs": [],
   "source": [
    "scores = pd.read_csv('Scores30Oct.csv')\n"
   ]
  },
  {
   "cell_type": "code",
   "execution_count": null,
   "id": "32d0d453",
   "metadata": {},
   "outputs": [],
   "source": [
    "print(scores.loc[0]['Combination used'])"
   ]
  },
  {
   "cell_type": "code",
   "execution_count": null,
   "id": "eba9135b",
   "metadata": {},
   "outputs": [],
   "source": [
    "np.log10(0.04)"
   ]
  },
  {
   "cell_type": "code",
   "execution_count": null,
   "id": "57429412",
   "metadata": {},
   "outputs": [],
   "source": [
    "ksminus = -10**np.linspace(-3, -6, 7)\n"
   ]
  },
  {
   "cell_type": "code",
   "execution_count": null,
   "id": "0dbc7f54",
   "metadata": {},
   "outputs": [],
   "source": [
    "-10**np.linspace(-3, -1.4, 20)"
   ]
  },
  {
   "cell_type": "code",
   "execution_count": null,
   "id": "b4ee1044",
   "metadata": {},
   "outputs": [],
   "source": [
    "from sklearn.metrics import mean_absolute_error\n",
    "\n",
    "\n",
    "ls = np.linspace(0.03, 0.05, 10)\n",
    "\n",
    "ks = 10**np.linspace(-1.5, -2.5, 10)\n",
    "\n",
    "js = -10**np.linspace(-1.25, -1.75, 10)\n",
    "\n",
    "hs = 10**np.linspace(-1, -3, 10)\n",
    "\n",
    "gs = 10**np.linspace(-3.5, -4.5, 10)\n",
    "\n",
    "\n",
    "error = []\n",
    "usedl = []\n",
    "usedk = []\n",
    "usedj = []\n",
    "usedh = []\n",
    "usedg = []\n",
    "\n",
    "\n",
    "\n",
    "counter = 0\n",
    "\n",
    "MIXEDF0 = Mixed[Mixed['FFF']==0].reset_index(drop=True)\n",
    "\n",
    "\n",
    "\n",
    "Arg1 = (Mixed[Mixed['FFF']==0]['xpos']/2.71)/((1 + (Mixed[Mixed['FFF']==0]['xpos']/2.71)**2)**(1/2))\n",
    "Arg2 = (Mixed[Mixed['FFF']==0]['xneg']/2.71)/((1 + (Mixed[Mixed['FFF']==0]['xneg']/2.71)**2)**(1/2))\n",
    "\n",
    "Arg3 = (Mixed[Mixed['FFF']==0]['ypos']/2.71)/((1 + (Mixed[Mixed['FFF']==0]['ypos']/2.71)**2)**(1/2))\n",
    "Arg4 = (Mixed[Mixed['FFF']==0]['yneg']/2.71)/((1 + (Mixed[Mixed['FFF']==0]['yneg']/2.71)**2)**(1/2))\n",
    "\n",
    "MIXEDF0['x'] = Arg1.values*Arg2.values\n",
    "MIXEDF0['y'] = Arg3.values*Arg4.values\n",
    "MIXEDF0['2nd leg'] = Arg3.values*Arg4.values*Arg1.values*Arg2.values\n",
    "MIXEDF0['Signal'] = MIXEDF0['señal'] \n",
    "MIXEDF0['r (cm)'] = MIXEDF0['r'] \n",
    "\n",
    "from datetime import datetime\n",
    "\n",
    "time0 = datetime.now()\n",
    "for l in ls:\n",
    "    for k in ks:\n",
    "        for j in js:\n",
    "            for h in hs:\n",
    "                for g in gs:\n",
    "      \n",
    "                    if l == ls[0] and k == ks[0] and g==gs[1] and h==hs[0] and j == js[0]:\n",
    "                        time1 = datetime.now()\n",
    "                        iteration_time = time1-time0\n",
    "\n",
    "                    counter = counter + 1 \n",
    "\n",
    "\n",
    "                    a = Mixed[Mixed['FFF']==0]['Big Z'] * (Arg1+Arg2) * (Arg3+Arg4) * (1 + (Mixed[Mixed['FFF']==0]['Rho']**2) * (l + k*Mixed[Mixed['FFF']==0]['Rho'] + j*Mixed[Mixed['FFF']==0]['Rho']**2 + h*Mixed[Mixed['FFF']==0]['Rho']**3 + g*Mixed[Mixed['FFF']==0]['Rho']**5))\n",
    "\n",
    "                    a = a.reset_index(drop=True)\n",
    "\n",
    "                    MIXEDF0 = Mixed[Mixed['FFF']==0].reset_index(drop=True)\n",
    "\n",
    "\n",
    "\n",
    "                    MIXEDF0['a'] = a\n",
    "\n",
    "\n",
    "\n",
    "                    NewA = []\n",
    "                    for i in np.arange(0, MIXEDF0.shape[0]):\n",
    "                        Limit = float(MIXEDF0.loc[i, 'Limit'])\n",
    "                        Area = float(MIXEDF0.loc[i, 'Area'])\n",
    "                        zforanalytic = float(MIXEDF0.loc[i, 'Z'])\n",
    "                        maxsignal = MIXEDF0[(MIXEDF0['Limit']==Limit) & (MIXEDF0['Area']==Area) & (MIXEDF0['Z']==zforanalytic)]['señal'].max()\n",
    "                        maxanalytic = MIXEDF0[(MIXEDF0['Limit']==Limit) & (MIXEDF0['Area']==Area) & (MIXEDF0['Z']==zforanalytic)]['a'].max()\n",
    "                        NewA.append(MIXEDF0.loc[i, 'a']*(maxsignal/maxanalytic))\n",
    "\n",
    "                    MIXEDF0.drop('a', axis=1, inplace=True)\n",
    "                    MIXEDF0['Analytic function'] = NewA\n",
    "                    momerror = np.median(np.abs(NewA-MIXEDF0['señal']))\n",
    "                    error.append(momerror)\n",
    "                    usedl.append(l)\n",
    "                    usedk.append(k)\n",
    "                    usedj.append(j)\n",
    "                    usedh.append(h)\n",
    "                    usedg.append(g)\n",
    "                    \n",
    "                    print(str(counter) + '/' + str(10**5))\n",
    "                    print('Error: ' + str(momerror))\n",
    "                    print(l, k, j, h, g)\n",
    "                    if counter>1:\n",
    "                        print('Approx time left: ' + str(iteration_time*((10**5)-counter)))\n",
    "\n",
    "errors = pd.DataFrame(np.stack([usedl, usedk, usedj, usedh, usedg])).transpose()\n",
    "errors.index=error\n",
    "errors.columns = ['l', 'k', 'j', 'h', 'g']\n",
    "errors.sort_index()"
   ]
  },
  {
   "cell_type": "code",
   "execution_count": null,
   "id": "6f9bb9b5",
   "metadata": {},
   "outputs": [],
   "source": [
    "\n",
    "coef = 0 \n",
    "errorcoef = np.inf\n",
    "for l in np.linspace(2, 3.5, 50):\n",
    "\n",
    "    Arg1 = (Mixed[Mixed['FFF']==0]['xpos']/l)/((1 + (Mixed[Mixed['FFF']==0]['xpos']/l)**2)**(1/2))\n",
    "    Arg2 = (Mixed[Mixed['FFF']==0]['xneg']/l)/((1 + (Mixed[Mixed['FFF']==0]['xneg']/l)**2)**(1/2))\n",
    "\n",
    "    Arg3 = (Mixed[Mixed['FFF']==0]['ypos']/l)/((1 + (Mixed[Mixed['FFF']==0]['ypos']/l)**2)**(1/2))\n",
    "    Arg4 = (Mixed[Mixed['FFF']==0]['yneg']/l)/((1 + (Mixed[Mixed['FFF']==0]['yneg']/l)**2)**(1/2))\n",
    "    a = Mixed[Mixed['FFF']==0]['Big Z'] * (Arg1+Arg2) * (Arg3+Arg4) * (1 + (Mixed[Mixed['FFF']==0]['Rho']**2) * (float(errors.sort_index().iloc[[0], [0]].values) + float(errors.sort_index().iloc[[0], [1]].values)*Mixed[Mixed['FFF']==0]['Rho'] +float(errors.sort_index().iloc[[0], [2]].values)*Mixed[Mixed['FFF']==0]['Rho']**2 + float(errors.sort_index().iloc[[0], [3]].values)*Mixed[Mixed['FFF']==0]['Rho']**3 + float(errors.sort_index().iloc[[0], [4]].values)*Mixed[Mixed['FFF']==0]['Rho']**5))\n",
    "\n",
    "    a = a.reset_index(drop=True)\n",
    "\n",
    "    MIXEDF0 = Mixed[Mixed['FFF']==0].reset_index(drop=True)\n",
    "\n",
    "\n",
    "\n",
    "    MIXEDF0['a'] = a\n",
    "    LimitedSignal = []\n",
    "\n",
    "\n",
    "    NewA = []\n",
    "    for i in np.arange(0, MIXEDF0.shape[0]):\n",
    "        Limit = float(MIXEDF0.loc[i, 'Limit'])\n",
    "        Area = float(MIXEDF0.loc[i, 'Area'])\n",
    "        zforanalytic = float(MIXEDF0.loc[i, 'Z'])\n",
    "        maxsignal = MIXEDF0[(MIXEDF0['Limit']==Limit) & (MIXEDF0['Area']==Area) & (MIXEDF0['Z']==zforanalytic)]['señal'].max()\n",
    "        maxanalytic = MIXEDF0[(MIXEDF0['Limit']==Limit) & (MIXEDF0['Area']==Area) & (MIXEDF0['Z']==zforanalytic)]['a'].max()\n",
    "        NewA.append(MIXEDF0.loc[i, 'a']*(maxsignal/maxanalytic))\n",
    "\n",
    "        if np.abs(MIXEDF0.loc[i, 'r']) > MIXEDF0.loc[i, 'Limit']/2:\n",
    "            LimitedSignal.append(0)\n",
    "        else:\n",
    "            LimitedSignal.append(1)\n",
    "\n",
    "    MIXEDF0.drop('a', axis=1, inplace=True)\n",
    "    MIXEDF0['Analytic function'] = NewA\n",
    "    MIXEDF0['Limited'] = LimitedSignal\n",
    "\n",
    "\n",
    "\n",
    "    print(np.median(np.abs(NewA-MIXEDF0['señal'])))\n",
    "    if np.median(np.abs(NewA-MIXEDF0['señal'])) < errorcoef:\n",
    "        errorcoef = np.median(np.abs(NewA-MIXEDF0['señal']))\n",
    "        coef = l\n",
    "        \n",
    "        \n",
    "Arg1 = (Mixed[Mixed['FFF']==0]['xpos']/coef)/((1 + (Mixed[Mixed['FFF']==0]['xpos']/coef)**2)**(1/2))\n",
    "Arg2 = (Mixed[Mixed['FFF']==0]['xneg']/coef)/((1 + (Mixed[Mixed['FFF']==0]['xneg']/coef)**2)**(1/2))\n",
    "\n",
    "Arg3 = (Mixed[Mixed['FFF']==0]['ypos']/coef)/((1 + (Mixed[Mixed['FFF']==0]['ypos']/coef)**2)**(1/2))\n",
    "Arg4 = (Mixed[Mixed['FFF']==0]['yneg']/coef)/((1 + (Mixed[Mixed['FFF']==0]['yneg']/coef)**2)**(1/2))\n",
    "a = Mixed[Mixed['FFF']==0]['Big Z'] * (Arg1+Arg2) * (Arg3+Arg4) * (1 + (Mixed[Mixed['FFF']==0]['Rho']**2) * (0.046416 + 0.004642*Mixed[Mixed['FFF']==0]['Rho'] - 0.031623*Mixed[Mixed['FFF']==0]['Rho']**2 + 0.01*Mixed[Mixed['FFF']==0]['Rho']**3 +0.000316*Mixed[Mixed['FFF']==0]['Rho']**5))\n",
    "\n",
    "a = a.reset_index(drop=True)\n",
    "\n",
    "MIXEDF0 = Mixed[Mixed['FFF']==0].reset_index(drop=True)\n",
    "\n",
    "\n",
    "\n",
    "MIXEDF0['a'] = a\n",
    "LimitedSignal = []\n",
    "\n",
    "\n",
    "NewA = []\n",
    "for i in np.arange(0, MIXEDF0.shape[0]):\n",
    "    Limit = float(MIXEDF0.loc[i, 'Limit'])\n",
    "    Area = float(MIXEDF0.loc[i, 'Area'])\n",
    "    zforanalytic = float(MIXEDF0.loc[i, 'Z'])\n",
    "    maxsignal = MIXEDF0[(MIXEDF0['Limit']==Limit) & (MIXEDF0['Area']==Area) & (MIXEDF0['Z']==zforanalytic)]['señal'].max()\n",
    "    maxanalytic = MIXEDF0[(MIXEDF0['Limit']==Limit) & (MIXEDF0['Area']==Area) & (MIXEDF0['Z']==zforanalytic)]['a'].max()\n",
    "    NewA.append(MIXEDF0.loc[i, 'a']*(maxsignal/maxanalytic))\n",
    "\n",
    "    if np.abs(MIXEDF0.loc[i, 'r']) > MIXEDF0.loc[i, 'Limit']/2:\n",
    "        LimitedSignal.append(0)\n",
    "    else:\n",
    "        LimitedSignal.append(1)\n",
    "\n",
    "MIXEDF0.drop('a', axis=1, inplace=True)\n",
    "MIXEDF0['Analytic function'] = NewA\n",
    "MIXEDF0['Limited'] = LimitedSignal\n",
    "\n",
    "MIXEDF0.set_index('r')[['señal', 'Analytic function', 'Limited']].plot()"
   ]
  },
  {
   "cell_type": "code",
   "execution_count": null,
   "id": "20f59e91",
   "metadata": {},
   "outputs": [],
   "source": [
    "y = MIXEDF0.set_index('r')[['señal']]\n",
    "x = MIXEDF0[['r', 'Limited', 'Z', 'Rho', 'Analytic function']]\n"
   ]
  },
  {
   "cell_type": "markdown",
   "id": "2cb77927",
   "metadata": {},
   "source": [
    "# NN"
   ]
  },
  {
   "cell_type": "code",
   "execution_count": null,
   "id": "b7c796c3",
   "metadata": {},
   "outputs": [],
   "source": [
    "import tensorflow as tf \n",
    "from keras.models import Sequential\n",
    "from keras.layers import Dense, Activation, Dropout\n",
    "from tensorflow.keras.callbacks import EarlyStopping\n",
    "from sklearn.metrics import mean_absolute_error\n",
    "import keras_tuner as kt\n",
    "from sklearn.preprocessing import MinMaxScaler\n",
    "from sklearn.model_selection import train_test_split\n",
    "\n",
    "\n",
    "early_stopping = EarlyStopping(monitor='loss', patience=5)\n"
   ]
  },
  {
   "cell_type": "code",
   "execution_count": null,
   "id": "23343806",
   "metadata": {},
   "outputs": [],
   "source": [
    "y = MIXEDF0.set_index('r')[['señal']]\n",
    "MMS = MinMaxScaler()\n",
    "\n",
    "x = MIXEDF0[['r', 'Limit', 'Z', 'Rho', 'Analytic function']]\n",
    "NewX = pd.DataFrame(MMS.fit_transform(x), index=x.index, columns=x.columns)\n",
    "\n",
    "x_train, x_test, y_train, y_test = train_test_split(NewX, y.values)"
   ]
  },
  {
   "cell_type": "code",
   "execution_count": null,
   "id": "68c6a8ba",
   "metadata": {
    "scrolled": true
   },
   "outputs": [],
   "source": [
    "def model_builder(hp):\n",
    "\n",
    "    hp_units1 = hp.Int('units 1', min_value=10, max_value=50, step=10)\n",
    "    hp_units2 = hp.Int('units 2', min_value=100, max_value=300, step=50)\n",
    "    hp_units3 = hp.Int('units 3', min_value=50, max_value=150, step=20)\n",
    "    hp_units4 = hp.Int('units 4', min_value=5, max_value=50, step=5)\n",
    "    hp_learning_rate = hp.Choice('learning_rate', values=[1e-3])\n",
    "\n",
    "    activation1=hp.Choice('dense_activation 1',values=['relu', 'relu', 'elu', 'selu'])\n",
    "    activation2=hp.Choice('dense_activation 2',values=['relu', 'relu', 'elu', 'selu'])\n",
    "    activation3=hp.Choice('dense_activation 3',values=['relu', 'relu', 'elu', 'selu'])\n",
    "    activation4=hp.Choice('dense_activation 4',values=['relu', 'relu', 'elu', 'selu'])\n",
    "    activation5=hp.Choice('dense_activation 5',values=['relu', 'linear'])\n",
    "\n",
    "\n",
    "    model = Sequential()\n",
    "    model.add(Dense(hp_units1, activation=activation1))\n",
    "    model.add(Dense(hp_units2, activation=activation2))\n",
    "    model.add(Dense(hp_units3, activation=activation3))\n",
    "    model.add(Dense(hp_units4, activation=activation4))\n",
    "    model.add(Dense(1, activation=activation5))\n",
    "    model.compile(optimizer=tf.keras.optimizers.Adamax(learning_rate=hp_learning_rate)\n",
    "                                , loss='mse', metrics = ['MAE'])\n",
    "    return model\n",
    "\n",
    "tuner = kt.BayesianOptimization(model_builder,\n",
    "                     objective='val_loss',\n",
    "                     directory='my_dir', \n",
    "                     project_name='bayesian5_trials=5000',\n",
    "                               max_trials=100)\n",
    "\n",
    "\n",
    "stop_early = tf.keras.callbacks.EarlyStopping(monitor='loss', patience=5)\n",
    "\n",
    "tuner.search(x_train, y_train, epochs=2000, validation_data=(x_test, y_test), callbacks=[stop_early])\n",
    "\n",
    "# Get the optimal hyperparameters\n",
    "best_hps=tuner.get_best_hyperparameters(num_trials=1)\n",
    "\n",
    "model = tuner.hypermodel.build(best_hps[0])\n",
    "history = model.fit(x_train, y_train, epochs=2000, validation_data=(x_test, y_test), callbacks=[stop_early])\n",
    "\n",
    "mean_absolute_error(model.predict(x_test), y_test)"
   ]
  },
  {
   "cell_type": "code",
   "execution_count": null,
   "id": "844483f0",
   "metadata": {},
   "outputs": [],
   "source": []
  },
  {
   "cell_type": "markdown",
   "id": "5127bdc0",
   "metadata": {},
   "source": [
    "# Compare"
   ]
  },
  {
   "cell_type": "code",
   "execution_count": null,
   "id": "098e227e",
   "metadata": {},
   "outputs": [],
   "source": [
    "REP = x.copy()\n",
    "REP['Signal'] = y['señal'].values\n",
    "REP['Analytical Function'] = x['Analytic function'].values\n",
    "REP['r (cm)'] = x['r'].values\n",
    "REP['Neural Network'] = model.predict(NewX.values)\n",
    "\n",
    "REP.set_index('r (cm)').iloc[:,[-3,-2,-1]].plot()"
   ]
  },
  {
   "cell_type": "markdown",
   "id": "867dbfba",
   "metadata": {},
   "source": [
    "# Validation"
   ]
  },
  {
   "cell_type": "code",
   "execution_count": null,
   "id": "ec7d6350",
   "metadata": {},
   "outputs": [],
   "source": [
    "pddopen5x40 = pd.read_csv('OPEN/txt/5x40/5x40pdd.txt', delimiter='\t\t', names=['r', 'señal open 5x40', 'error open 5x40'], engine='python')\n",
    "pcropen5x40 = pd.read_csv('OPEN/txt/5x40/5x40pro-cr-100.txt', delimiter='\t\t', names=['r', 'señal open 5x40', 'error open 5x40'], engine='python')\n",
    "pinopen5x40 = pd.read_csv('OPEN/txt/5x40/5x40pro-in-100.txt', delimiter='\t\t', names=['r', 'señal open 5x40', 'error open 5x40'], engine='python')\n",
    "\n",
    "pddFFF5x40 = pd.read_csv('FFF/txt/5x40/5x40pdd.txt', delimiter='\t\t', names=['r', 'señal fff 5x40', 'error fff 5x40'], engine='python')\n",
    "pcrFFF5x40 = pd.read_csv('FFF/txt/5x40/5x40pro-cr-100.txt', delimiter='\t\t', names=['r', 'señal fff 5x40', 'error fff 5x40'], engine='python')\n",
    "pinFFF5x40 = pd.read_csv('FFF/txt/5x40/5x40pro-in-100.txt', delimiter='\t\t', names=['r', 'señal fff 5x40', 'error fff 5x40'], engine='python')\n",
    "\n",
    "\n",
    "pddopen5x40_85 = pd.read_csv('OPEN/txt/5x40/5x40pdd.txt', delimiter='\t\t', names=['r', 'señal open 5x40', 'error open 5x40'], engine='python')\n",
    "pcropen5x40_85 = pd.read_csv('OPEN/txt/5x40/5x40pro-cr-85.txt', delimiter='\t\t', names=['r', 'señal open 5x40', 'error open 5x40'], engine='python')\n",
    "pinopen5x40_85 = pd.read_csv('OPEN/txt/5x40/5x40pro-in-85.txt', delimiter='\t\t', names=['r', 'señal open 5x40', 'error open 5x40'], engine='python')\n",
    "\n",
    "pddFFF5x40_85 = pd.read_csv('FFF/txt/5x40/5x40pdd.txt', delimiter='\t\t', names=['r', 'señal fff 5x40', 'error fff 5x40'], engine='python')\n",
    "pcrFFF5x40_85 = pd.read_csv('FFF/txt/5x40/5x40pro-cr-85.txt', delimiter='\t\t', names=['r', 'señal fff 5x40', 'error fff 5x40'], engine='python')\n",
    "pinFFF5x40_85 = pd.read_csv('FFF/txt/5x40/5x40pro-in-85.txt', delimiter='\t\t', names=['r', 'señal fff 5x40', 'error fff 5x40'], engine='python')\n",
    "\n",
    "\n",
    "pddopen5x40_115 = pd.read_csv('OPEN/txt/5x40/5x40pdd.txt', delimiter='\t\t', names=['r', 'señal open 5x40', 'error open 5x40'], engine='python')\n",
    "pcropen5x40_115 = pd.read_csv('OPEN/txt/5x40/5x40pro-cr-115.txt', delimiter='\t\t', names=['r', 'señal open 5x40', 'error open 5x40'], engine='python')\n",
    "pinopen5x40_115 = pd.read_csv('OPEN/txt/5x40/5x40pro-in-115.txt', delimiter='\t\t', names=['r', 'señal open 5x40', 'error open 5x40'], engine='python')\n",
    "\n",
    "pddFFF5x40_115 = pd.read_csv('FFF/txt/5x40/5x40pdd.txt', delimiter='\t\t', names=['r', 'señal fff 5x40', 'error fff 5x40'], engine='python')\n",
    "pcrFFF5x40_115 = pd.read_csv('FFF/txt/5x40/5x40pro-cr-115.txt', delimiter='\t\t', names=['r', 'señal fff 5x40', 'error fff 5x40'], engine='python')\n",
    "pinFFF5x40_115 = pd.read_csv('FFF/txt/5x40/5x40pro-in-115.txt', delimiter='\t\t', names=['r', 'señal fff 5x40', 'error fff 5x40'], engine='python')\n"
   ]
  },
  {
   "cell_type": "code",
   "execution_count": null,
   "id": "11ed9050",
   "metadata": {},
   "outputs": [],
   "source": [
    "def Delimiting(data, FFF, Limit, In, Z):\n",
    "    global Mixed\n",
    "    NewData = data.iloc[:,:2]\n",
    "    NewData['FFF'] = FFF\n",
    "    NewData.columns = ['r', 'señal', 'FFF']\n",
    "    NewData['Limit'] = Limit\n",
    "    NewData['In'] = In\n",
    "    NewData['Z'] = Z\n",
    "    Mixed = pd.concat([Mixed, NewData])\n",
    "    \n",
    "    \n",
    "Mixed = pd.DataFrame(columns=['r', 'señal', 'FFF', 'Limit', 'Z'])\n",
    "\n",
    "Delimiting(pcropen5x40, 0, 400, 0, 100)\n",
    "Delimiting(pinopen5x40, 0, 50, 1, 100)\n",
    "Delimiting(pcrFFF5x40, 1, 400, 0, 100)\n",
    "Delimiting(pinFFF5x40, 1, 50, 1, 100)\n",
    "Delimiting(pcropen5x40_85, 0, 400, 0, 85)\n",
    "Delimiting(pinopen5x40_85, 0, 50, 1, 85)\n",
    "Delimiting(pcrFFF5x40_85, 1, 400, 0, 85)\n",
    "Delimiting(pinFFF5x40_85, 1, 50, 1, 85)\n",
    "Delimiting(pcropen5x40_115, 0, 400, 0, 115)\n",
    "Delimiting(pinopen5x40_115, 0, 50, 1, 115)\n",
    "Delimiting(pcrFFF5x40_115, 1, 400, 0, 115)\n",
    "Delimiting(pinFFF5x40_115, 1, 50, 1, 115)\n",
    "\n",
    "\n",
    "MixedValidation = Mixed.reset_index(drop=True)\n"
   ]
  },
  {
   "cell_type": "code",
   "execution_count": null,
   "id": "48831576",
   "metadata": {},
   "outputs": [],
   "source": [
    "MixedValidation"
   ]
  },
  {
   "cell_type": "code",
   "execution_count": null,
   "id": "9bebcbc6",
   "metadata": {},
   "outputs": [],
   "source": [
    "Z_s = []\n",
    "\n",
    "for i in np.arange(0, MixedValidation.shape[0]):\n",
    "    if MixedValidation['FFF'].loc[i]==1:\n",
    "        Z_s.append(12.47)\n",
    "    else:\n",
    "        Z_s.append(0)\n",
    "        \n",
    "MixedValidation['Zs'] = Z_s\n",
    "\n",
    "z_x_u = 43.1\n",
    "z_y_u = 29.8\n",
    "\n",
    "z_x_d = 50.9\n",
    "z_y_d = 42.6\n",
    "\n",
    "\n",
    "\n",
    "MixedValidation['Big Z'] = (0.25*z_x_d*z_y_d)/(MixedValidation['Z']**2)\n",
    "MixedValidation['Big Z Col'] = (0.25*(z_x_d-MixedValidation[['Zs']].to_numpy())*(z_y_d-MixedValidation[['Zs']].to_numpy()))/(MixedValidation[['Z']].to_numpy()**2)"
   ]
  },
  {
   "cell_type": "code",
   "execution_count": null,
   "id": "d377a796",
   "metadata": {},
   "outputs": [],
   "source": [
    "\n",
    "\n",
    "\n",
    "def pos_neg(number, zs):\n",
    "\n",
    "    x_01pos = []\n",
    "    x_01neg = []\n",
    "    x_02pos = []\n",
    "    x_02neg = []\n",
    "    y_01pos = []\n",
    "    y_01neg = []\n",
    "    y_02pos = []\n",
    "    y_02neg = []\n",
    "\n",
    "    for i in np.arange(number, MixedValidation.shape[0]):\n",
    "        if MixedValidation[['In']].loc[i].to_numpy() == 1:\n",
    "            x_01pos.append(float((z_x_u*MixedValidation[['Limit']].loc[i].to_numpy()*(MixedValidation[['Z']].loc[i].to_numpy()-zs) + (zs - z_x_u)*2*100*MixedValidation[['r']].loc[i].to_numpy())/(2*100*(MixedValidation[['Z']].loc[i].to_numpy() - z_x_u))))\n",
    "            x_01neg.append(float((z_x_u*MixedValidation[['Limit']].loc[i].to_numpy()*(MixedValidation[['Z']].loc[i].to_numpy()-zs) - (zs - z_x_u)*2*100*MixedValidation[['r']].loc[i].to_numpy())/(2*100*(MixedValidation[['Z']].loc[i].to_numpy() - z_x_u))))\n",
    "            x_02pos.append(float((z_x_d*MixedValidation[['Limit']].loc[i].to_numpy()*(MixedValidation[['Z']].loc[i].to_numpy()-zs) + (zs - z_x_u)*2*100*MixedValidation[['r']].loc[i].to_numpy())/(2*100*(MixedValidation[['Z']].loc[i].to_numpy() - z_x_d))))\n",
    "            x_02neg.append(float((z_x_d*MixedValidation[['Limit']].loc[i].to_numpy()*(MixedValidation[['Z']].loc[i].to_numpy()-zs) - (zs - z_x_u)*2*100*MixedValidation[['r']].loc[i].to_numpy())/(2*100*(MixedValidation[['Z']].loc[i].to_numpy() - z_x_d))))\n",
    "\n",
    "            y_01pos.append(float((z_y_u*MixedValidation[['Limit']].loc[i].to_numpy()*(MixedValidation[['Z']].loc[i].to_numpy()-zs))/(2*100*(MixedValidation[['Z']].loc[i].to_numpy() - z_y_u))))\n",
    "            y_01neg.append(float((z_y_u*MixedValidation[['Limit']].loc[i].to_numpy()*(MixedValidation[['Z']].loc[i].to_numpy()-zs))/(2*100*(MixedValidation[['Z']].loc[i].to_numpy() - z_y_u))))\n",
    "            y_02pos.append(float((z_y_d*MixedValidation[['Limit']].loc[i].to_numpy()*(MixedValidation[['Z']].loc[i].to_numpy()-zs))/(2*100*(MixedValidation[['Z']].loc[i].to_numpy() - z_y_d))))\n",
    "            y_02neg.append(float((z_y_d*MixedValidation[['Limit']].loc[i].to_numpy()*(MixedValidation[['Z']].loc[i].to_numpy()-zs))/(2*100*(MixedValidation[['Z']].loc[i].to_numpy() - z_y_d))))\n",
    "\n",
    "\n",
    "\n",
    "        else:    \n",
    "            x_01pos.append(float((z_x_u*MixedValidation[['Limit']].loc[i].to_numpy()*(MixedValidation[['Z']].loc[i].to_numpy()-zs))/(2*100*(MixedValidation[['Z']].loc[i].to_numpy() - z_x_u))))\n",
    "            x_01neg.append(float((z_x_u*MixedValidation[['Limit']].loc[i].to_numpy()*(MixedValidation[['Z']].loc[i].to_numpy()-zs))/(2*100*(MixedValidation[['Z']].loc[i].to_numpy() - z_x_u))))\n",
    "            x_02pos.append(float((z_x_d*MixedValidation[['Limit']].loc[i].to_numpy()*(MixedValidation[['Z']].loc[i].to_numpy()-zs))/(2*100*(MixedValidation[['Z']].loc[i].to_numpy() - z_x_d))))\n",
    "            x_02neg.append(float((z_x_d*MixedValidation[['Limit']].loc[i].to_numpy()*(MixedValidation[['Z']].loc[i].to_numpy()-zs))/(2*100*(MixedValidation[['Z']].loc[i].to_numpy() - z_x_d))))\n",
    "\n",
    "\n",
    "            y_01pos.append(float((z_y_u*MixedValidation[['Limit']].loc[i].to_numpy()*(MixedValidation[['Z']].loc[i].to_numpy()-zs) + (zs - z_y_u)*2*100*MixedValidation[['r']].loc[i].to_numpy())/(2*100*(MixedValidation[['Z']].loc[i].to_numpy() - z_y_u))))\n",
    "            y_01neg.append(float((z_y_u*MixedValidation[['Limit']].loc[i].to_numpy()*(MixedValidation[['Z']].loc[i].to_numpy()-zs) - (zs - z_y_u)*2*100*MixedValidation[['r']].loc[i].to_numpy())/(2*100*(MixedValidation[['Z']].loc[i].to_numpy() - z_y_u))))\n",
    "            y_02pos.append(float((z_y_d*MixedValidation[['Limit']].loc[i].to_numpy()*(MixedValidation[['Z']].loc[i].to_numpy()-zs) + (zs - z_y_u)*2*100*MixedValidation[['r']].loc[i].to_numpy())/(2*100*(MixedValidation[['Z']].loc[i].to_numpy() - z_y_d))))\n",
    "            y_02neg.append(float((z_y_d*MixedValidation[['Limit']].loc[i].to_numpy()*(MixedValidation[['Z']].loc[i].to_numpy()-zs) - (zs - z_y_u)*2*100*MixedValidation[['r']].loc[i].to_numpy())/(2*100*(MixedValidation[['Z']].loc[i].to_numpy() - z_y_d))))\n",
    "\n",
    "\n",
    "\n",
    "    x_0pos = []\n",
    "    for i, j in zip(x_01pos, x_02pos):\n",
    "        if i<j:\n",
    "            x_0pos.append(float(i))\n",
    "        else:\n",
    "            x_0pos.append(float(j))\n",
    "\n",
    "    y_0pos = []\n",
    "    for i, j in zip(y_01pos, y_02pos):\n",
    "        if i<j:\n",
    "            y_0pos.append(float(i))\n",
    "        else:\n",
    "            y_0pos.append(float(j))\n",
    "\n",
    "\n",
    "    x_0neg = []\n",
    "    for i, j in zip(x_01neg, x_02neg):\n",
    "        if i<j:\n",
    "            x_0neg.append(float(i))\n",
    "        else:\n",
    "            x_0neg.append(float(j))\n",
    "\n",
    "    y_0neg = []\n",
    "    for i, j in zip(y_01neg, y_02neg):\n",
    "        if i<j:\n",
    "            y_0neg.append(float(i))\n",
    "        else:\n",
    "            y_0neg.append(float(j))\n",
    "\n",
    "    if zs==0:\n",
    "        \n",
    "    \n",
    "        MixedValidation['xpos'] = x_0pos\n",
    "        MixedValidation['xneg'] = x_0neg\n",
    "\n",
    "        MixedValidation['ypos'] = y_0pos\n",
    "        MixedValidation['yneg'] = y_0neg\n",
    "    \n",
    "    if zs!=0:\n",
    "        MixedValidation['xpos col'] = x_0pos\n",
    "        MixedValidation['xneg col'] = x_0neg\n",
    "\n",
    "        MixedValidation['ypos col'] = y_0pos\n",
    "        MixedValidation['yneg col'] = y_0neg\n",
    "\n",
    "    \n",
    "\n",
    "pos_neg(0, 0)\n",
    "pos_neg(0, MixedValidation[['Zs']].loc[i].to_numpy())"
   ]
  },
  {
   "cell_type": "code",
   "execution_count": null,
   "id": "66d18e70",
   "metadata": {},
   "outputs": [],
   "source": [
    "MixedValidation['Rho'] = np.abs((MixedValidation['r']))/(MixedValidation['Z'])"
   ]
  },
  {
   "cell_type": "code",
   "execution_count": null,
   "id": "2a1def5e",
   "metadata": {},
   "outputs": [],
   "source": [
    "Arg1 = (MixedValidation[MixedValidation['FFF']==0]['xpos']/1.55)/((1 + (MixedValidation[MixedValidation['FFF']==0]['xpos']/1.55)**2)**(1/2))\n",
    "Arg2 = (MixedValidation[MixedValidation['FFF']==0]['xneg']/1.55)/((1 + (MixedValidation[MixedValidation['FFF']==0]['xneg']/1.55)**2)**(1/2))\n",
    "\n",
    "Arg3 = (MixedValidation[MixedValidation['FFF']==0]['ypos']/1.55)/((1 + (MixedValidation[MixedValidation['FFF']==0]['ypos']/1.55)**2)**(1/2))\n",
    "Arg4 = (MixedValidation[MixedValidation['FFF']==0]['yneg']/1.55)/((1 + (MixedValidation[MixedValidation['FFF']==0]['yneg']/1.55)**2)**(1/2))\n",
    "\n",
    "a = MixedValidation[MixedValidation['FFF']==0]['Big Z'] * (Arg1+Arg2) * (Arg3+Arg4) * (1 + (MixedValidation[MixedValidation['FFF']==0]['Rho']**2) * (125.01 * MixedValidation[MixedValidation['FFF']==0]['Rho'] -2625 * MixedValidation[MixedValidation['FFF']==0]['Rho'] + 40000 * MixedValidation[MixedValidation['FFF']==0]['Rho'] -762500 * MixedValidation[MixedValidation['FFF']==0]['Rho'] + 725000 * MixedValidation[MixedValidation['FFF']==0]['Rho']))\n",
    "\n",
    "a = a.reset_index(drop=True)\n",
    "\n",
    "MixedValidationF0 = MixedValidation[MixedValidation['FFF']==0].reset_index(drop=True)\n",
    "\n",
    "\n",
    "\n",
    "MixedValidationF0['a'] = a\n",
    "MixedValidationF0['x'] = Arg1*Arg2\n",
    "MixedValidationF0['y'] = Arg3*Arg4\n",
    "MixedValidationF0['2nd leg'] = Arg3*Arg4*Arg1*Arg2\n",
    "MixedValidationF0['Signal'] = MixedValidationF0['señal'] \n",
    "MixedValidationF0['r (cm)'] = MixedValidationF0['r'] \n",
    "\n",
    "\n",
    "\n",
    "NewA = []\n",
    "for i in np.arange(0, MixedValidationF0.shape[0]):\n",
    "    Limit = float(MixedValidationF0.loc[i, 'Limit'])\n",
    "    maxsignal = MixedValidationF0[MixedValidationF0['Limit']==Limit]['señal'].max()\n",
    "    maxanalytic = MixedValidationF0[MixedValidationF0['Limit']==Limit]['a'].max()\n",
    "    NewA.append(MixedValidationF0.loc[i, 'a']*(maxsignal/maxanalytic))\n",
    "    \n",
    "MixedValidationF0.drop('a', axis=1, inplace=True)\n",
    "MixedValidationF0['Analytic function'] = NewA\n"
   ]
  },
  {
   "cell_type": "code",
   "execution_count": null,
   "id": "e847932f",
   "metadata": {},
   "outputs": [],
   "source": [
    "MixedValidationF0.set_index('r')[['señal', 'Analytic function']].plot()"
   ]
  },
  {
   "cell_type": "code",
   "execution_count": null,
   "id": "d105c9b0",
   "metadata": {},
   "outputs": [],
   "source": [
    "x = MixedValidationF0[['r', 'Limit', 'In', 'Z', 'Big Z', 'xpos', 'ypos', 'xneg', 'yneg', 'Rho', 'Analytic function']]\n",
    "y = MixedValidationF0.set_index('r')[['señal']]\n",
    "\n"
   ]
  },
  {
   "cell_type": "code",
   "execution_count": null,
   "id": "8c3b338e",
   "metadata": {},
   "outputs": [],
   "source": [
    "from keras.models import load_model\n",
    "from sklearn.preprocessing import MinMaxScaler\n",
    "MMS = MinMaxScaler()\n",
    "\n",
    "\n",
    "\n",
    "REPVal = y.copy()\n",
    "REPVal['Adam 1'] = Model22DenseAdam1.predict(MMS.fit_transform(x))\n",
    "\n",
    "\n",
    "\n",
    "REPVal.plot()"
   ]
  },
  {
   "cell_type": "code",
   "execution_count": null,
   "id": "2152f50e",
   "metadata": {},
   "outputs": [],
   "source": []
  },
  {
   "cell_type": "code",
   "execution_count": null,
   "id": "bb238901",
   "metadata": {},
   "outputs": [],
   "source": []
  },
  {
   "cell_type": "code",
   "execution_count": null,
   "id": "9f1557f2",
   "metadata": {},
   "outputs": [],
   "source": []
  },
  {
   "cell_type": "code",
   "execution_count": null,
   "id": "ccea9c50",
   "metadata": {},
   "outputs": [],
   "source": []
  },
  {
   "cell_type": "code",
   "execution_count": null,
   "id": "ce3db9db",
   "metadata": {},
   "outputs": [],
   "source": []
  },
  {
   "cell_type": "code",
   "execution_count": null,
   "id": "43e04195",
   "metadata": {},
   "outputs": [],
   "source": []
  },
  {
   "cell_type": "code",
   "execution_count": null,
   "id": "609e8c1e",
   "metadata": {},
   "outputs": [],
   "source": []
  },
  {
   "cell_type": "code",
   "execution_count": null,
   "id": "0fa95237",
   "metadata": {},
   "outputs": [],
   "source": []
  }
 ],
 "metadata": {
  "kernelspec": {
   "display_name": "Python 3",
   "language": "python",
   "name": "python3"
  },
  "language_info": {
   "codemirror_mode": {
    "name": "ipython",
    "version": 3
   },
   "file_extension": ".py",
   "mimetype": "text/x-python",
   "name": "python",
   "nbconvert_exporter": "python",
   "pygments_lexer": "ipython3",
   "version": "3.7.6"
  },
  "toc": {
   "base_numbering": 1,
   "nav_menu": {},
   "number_sections": true,
   "sideBar": true,
   "skip_h1_title": false,
   "title_cell": "Table of Contents",
   "title_sidebar": "Contents",
   "toc_cell": false,
   "toc_position": {
    "height": "calc(100% - 180px)",
    "left": "10px",
    "top": "150px",
    "width": "383.993px"
   },
   "toc_section_display": true,
   "toc_window_display": true
  },
  "varInspector": {
   "cols": {
    "lenName": 16,
    "lenType": 16,
    "lenVar": 40
   },
   "kernels_config": {
    "python": {
     "delete_cmd_postfix": "",
     "delete_cmd_prefix": "del ",
     "library": "var_list.py",
     "varRefreshCmd": "print(var_dic_list())"
    },
    "r": {
     "delete_cmd_postfix": ") ",
     "delete_cmd_prefix": "rm(",
     "library": "var_list.r",
     "varRefreshCmd": "cat(var_dic_list()) "
    }
   },
   "types_to_exclude": [
    "module",
    "function",
    "builtin_function_or_method",
    "instance",
    "_Feature"
   ],
   "window_display": false
  }
 },
 "nbformat": 4,
 "nbformat_minor": 5
}
