{
 "cells": [
  {
   "cell_type": "code",
   "execution_count": 1,
   "id": "8605b492",
   "metadata": {},
   "outputs": [],
   "source": [
    "import pandas as pd \n",
    "import numpy as np \n",
    "pd.options.plotting.backend = 'plotly'"
   ]
  },
  {
   "cell_type": "markdown",
   "id": "a019c346",
   "metadata": {},
   "source": [
    "# Cuadrados 100"
   ]
  },
  {
   "cell_type": "markdown",
   "id": "ef29d037",
   "metadata": {},
   "source": [
    "## 5x5"
   ]
  },
  {
   "cell_type": "code",
   "execution_count": 2,
   "id": "d339b5c2",
   "metadata": {},
   "outputs": [],
   "source": [
    "pddopen5 = pd.read_csv('OPEN/txt/5x5/5x5pdd.txt', delimiter='\t\t', names=['r', 'señal open 5x5', 'error open 5x5'], engine='python')\n",
    "pcropen5 = pd.read_csv('OPEN/txt/5x5/5x5pro-cr-100.txt', delimiter='\t\t', names=['r', 'señal open 5x5', 'error open 5x5'], engine='python')\n",
    "pinopen5 = pd.read_csv('OPEN/txt/5x5/5x5pro-in-100.txt', delimiter='\t\t', names=['r', 'señal open 5x5', 'error open 5x5'], engine='python')\n",
    "\n",
    "pddFFF5 = pd.read_csv('FFF/txt/5x5/5x5pdd.txt', delimiter='\t\t', names=['r', 'señal fff 5x5', 'error fff 5x5'], engine='python')\n",
    "pcrFFF5 = pd.read_csv('FFF/txt/5x5/5x5pro-cr-100.txt', delimiter='\t\t', names=['r', 'señal fff 5x5', 'error fff 5x5'], engine='python')\n",
    "pinFFF5 = pd.read_csv('FFF/txt/5x5/5x5pro-in-100.txt', delimiter='\t\t', names=['r', 'señal fff 5x5', 'error fff 5x5'], engine='python')\n"
   ]
  },
  {
   "cell_type": "markdown",
   "id": "c04c88df",
   "metadata": {},
   "source": [
    "## 10x10"
   ]
  },
  {
   "cell_type": "code",
   "execution_count": 3,
   "id": "9945d1fa",
   "metadata": {},
   "outputs": [],
   "source": [
    "pddopen10 = pd.read_csv('OPEN/txt/10x10/10x10pdd.txt', delimiter='\t\t', names=['r', 'señal open 10x10', 'error open 10x10'], engine='python')\n",
    "pcropen10 = pd.read_csv('OPEN/txt/10x10/10x10pro-cr-100.txt', delimiter='\t\t', names=['r', 'señal open 10x10', 'error open 10x10'], engine='python')\n",
    "pinopen10 = pd.read_csv('OPEN/txt/10x10/10x10pro-in-100.txt', delimiter='\t\t', names=['r', 'señal open 10x10', 'error open 10x10'], engine='python')\n",
    "\n",
    "pddFFF10 = pd.read_csv('FFF/txt/10x10/10x10pdd.txt', delimiter='\t\t', names=['r', 'señal fff 10x10', 'error fff 10x10'], engine='python')\n",
    "pcrFFF10 = pd.read_csv('FFF/txt/10x10/10x10pro-cr-100.txt', delimiter='\t\t', names=['r', 'señal fff 10x10', 'error fff 10x10'], engine='python')\n",
    "pinFFF10 = pd.read_csv('FFF/txt/10x10/10x10pro-in-100.txt', delimiter='\t\t', names=['r', 'señal fff 10x10', 'error fff 10x10'], engine='python')\n"
   ]
  },
  {
   "cell_type": "markdown",
   "id": "5fbeede9",
   "metadata": {},
   "source": [
    "## 20x20"
   ]
  },
  {
   "cell_type": "code",
   "execution_count": 4,
   "id": "b0e24717",
   "metadata": {
    "scrolled": true
   },
   "outputs": [],
   "source": [
    "pddopen20 = pd.read_csv('OPEN/txt/20x20/20x20pdd.txt', delimiter='\t\t', names=['r', 'señal open 20x20', 'error open 20x20'], engine='python')\n",
    "pcropen20 = pd.read_csv('OPEN/txt/20x20/20x20pro-cr-100.txt', delimiter='\t\t', names=['r', 'señal open 20x20', 'error open 20x20'], engine='python')\n",
    "pinopen20 = pd.read_csv('OPEN/txt/20x20/20x20pro-in-100.txt', delimiter='\t\t', names=['r', 'señal open 20x20', 'error open 20x20'], engine='python')\n",
    "\n",
    "pddFFF20 = pd.read_csv('FFF/txt/20x20/20x20pdd.txt', delimiter='\t\t', names=['r', 'señal fff 20x20', 'error fff 20x20'], engine='python')\n",
    "pcrFFF20 = pd.read_csv('FFF/txt/20x20/20x20pro-cr-100.txt', delimiter='\t\t', names=['r', 'señal fff 20x20', 'error fff 20x20'], engine='python')\n",
    "pinFFF20 = pd.read_csv('FFF/txt/20x20/20x20pro-in-100.txt', delimiter='\t\t', names=['r', 'señal fff 20x20', 'error fff 20x20'], engine='python')\n"
   ]
  },
  {
   "cell_type": "markdown",
   "id": "f339a46f",
   "metadata": {},
   "source": [
    "\n",
    "\n",
    "\n",
    "\n",
    "\n",
    "## 40x40"
   ]
  },
  {
   "cell_type": "code",
   "execution_count": 5,
   "id": "f35cf3d9",
   "metadata": {
    "scrolled": true
   },
   "outputs": [],
   "source": [
    "pddopen40 = pd.read_csv('OPEN/txt/40x40/40x40pdd.txt', delimiter='\t\t', names=['r', 'señal open 40x40', 'error open 40x40'], engine='python')\n",
    "pcropen40 = pd.read_csv('OPEN/txt/40x40/40x40pro-cr-100.txt', delimiter='\t\t', names=['r', 'señal open 40x40', 'error open 40x40'], engine='python')\n",
    "pinopen40 = pd.read_csv('OPEN/txt/40x40/40x40pro-in-100.txt', delimiter='\t\t', names=['r', 'señal open 40x40', 'error open 40x40'], engine='python')\n",
    "\n",
    "pddFFF40 = pd.read_csv('FFF/txt/40x40/40x40pdd.txt', delimiter='\t\t', names=['r', 'señal fff 40x40', 'error fff 40x40'], engine='python')\n",
    "pcrFFF40 = pd.read_csv('FFF/txt/40x40/40x40pro-cr-100.txt', delimiter='\t\t', names=['r', 'señal fff 40x40', 'error fff 40x40'], engine='python')\n",
    "pinFFF40 = pd.read_csv('FFF/txt/40x40/40x40pro-in-100.txt', delimiter='\t\t', names=['r', 'señal fff 40x40', 'error fff 40x40'], engine='python')\n"
   ]
  },
  {
   "cell_type": "markdown",
   "id": "e4531bba",
   "metadata": {},
   "source": [
    "# Cuadrados 115"
   ]
  },
  {
   "cell_type": "markdown",
   "id": "105a6bd7",
   "metadata": {},
   "source": [
    "## 5x5"
   ]
  },
  {
   "cell_type": "code",
   "execution_count": 6,
   "id": "59cf23bf",
   "metadata": {},
   "outputs": [],
   "source": [
    "pddopen5_115 = pd.read_csv('OPEN/txt/5x5/5x5pdd.txt', delimiter='\t\t', names=['r', 'señal open 5x5', 'error open 5x5'], engine='python')\n",
    "pcropen5_115 = pd.read_csv('OPEN/txt/5x5/5x5pro-cr-115.txt', delimiter='\t\t', names=['r', 'señal open 5x5', 'error open 5x5'], engine='python')\n",
    "pinopen5_115 = pd.read_csv('OPEN/txt/5x5/5x5pro-in-115.txt', delimiter='\t\t', names=['r', 'señal open 5x5', 'error open 5x5'], engine='python')\n",
    "\n",
    "pddFFF5_115 = pd.read_csv('FFF/txt/5x5/5x5pdd.txt', delimiter='\t\t', names=['r', 'señal fff 5x5', 'error fff 5x5'], engine='python')\n",
    "pcrFFF5_115 = pd.read_csv('FFF/txt/5x5/5x5pro-cr-115.txt', delimiter='\t\t', names=['r', 'señal fff 5x5', 'error fff 5x5'], engine='python')\n",
    "pinFFF5_115 = pd.read_csv('FFF/txt/5x5/5x5pro-in-115.txt', delimiter='\t\t', names=['r', 'señal fff 5x5', 'error fff 5x5'], engine='python')\n"
   ]
  },
  {
   "cell_type": "markdown",
   "id": "e22a47c0",
   "metadata": {},
   "source": [
    "## 10x10"
   ]
  },
  {
   "cell_type": "code",
   "execution_count": 7,
   "id": "3c54b0b0",
   "metadata": {},
   "outputs": [],
   "source": [
    "pddopen10_115 = pd.read_csv('OPEN/txt/10x10/10x10pdd.txt', delimiter='\t\t', names=['r', 'señal open 10x10', 'error open 10x10'], engine='python')\n",
    "pcropen10_115 = pd.read_csv('OPEN/txt/10x10/10x10pro-cr-115.txt', delimiter='\t\t', names=['r', 'señal open 10x10', 'error open 10x10'], engine='python')\n",
    "pinopen10_115 = pd.read_csv('OPEN/txt/10x10/10x10pro-in-115.txt', delimiter='\t\t', names=['r', 'señal open 10x10', 'error open 10x10'], engine='python')\n",
    "\n",
    "pddFFF10_115 = pd.read_csv('FFF/txt/10x10/10x10pdd.txt', delimiter='\t\t', names=['r', 'señal fff 10x10', 'error fff 10x10'], engine='python')\n",
    "pcrFFF10_115 = pd.read_csv('FFF/txt/10x10/10x10pro-cr-115.txt', delimiter='\t\t', names=['r', 'señal fff 10x10', 'error fff 10x10'], engine='python')\n",
    "pinFFF10_115 = pd.read_csv('FFF/txt/10x10/10x10pro-in-115.txt', delimiter='\t\t', names=['r', 'señal fff 10x10', 'error fff 10x10'], engine='python')\n"
   ]
  },
  {
   "cell_type": "markdown",
   "id": "871d9041",
   "metadata": {},
   "source": [
    "## 20x20"
   ]
  },
  {
   "cell_type": "code",
   "execution_count": 8,
   "id": "687e7947",
   "metadata": {
    "scrolled": true
   },
   "outputs": [],
   "source": [
    "pddopen20_115 = pd.read_csv('OPEN/txt/20x20/20x20pdd.txt', delimiter='\t\t', names=['r', 'señal open 20x20', 'error open 20x20'], engine='python')\n",
    "pcropen20_115 = pd.read_csv('OPEN/txt/20x20/20x20pro-cr-115.txt', delimiter='\t\t', names=['r', 'señal open 20x20', 'error open 20x20'], engine='python')\n",
    "pinopen20_115 = pd.read_csv('OPEN/txt/20x20/20x20pro-in-115.txt', delimiter='\t\t', names=['r', 'señal open 20x20', 'error open 20x20'], engine='python')\n",
    "\n",
    "pddFFF20_115 = pd.read_csv('FFF/txt/20x20/20x20pdd.txt', delimiter='\t\t', names=['r', 'señal fff 20x20', 'error fff 20x20'], engine='python')\n",
    "pcrFFF20_115 = pd.read_csv('FFF/txt/20x20/20x20pro-cr-115.txt', delimiter='\t\t', names=['r', 'señal fff 20x20', 'error fff 20x20'], engine='python')\n",
    "pinFFF20_115 = pd.read_csv('FFF/txt/20x20/20x20pro-in-115.txt', delimiter='\t\t', names=['r', 'señal fff 20x20', 'error fff 20x20'], engine='python')\n"
   ]
  },
  {
   "cell_type": "markdown",
   "id": "d39a58fe",
   "metadata": {},
   "source": [
    "## 40x40"
   ]
  },
  {
   "cell_type": "code",
   "execution_count": 9,
   "id": "88cb2bc5",
   "metadata": {
    "scrolled": true
   },
   "outputs": [],
   "source": [
    "pddopen40_115 = pd.read_csv('OPEN/txt/40x40/40x40pdd.txt', delimiter='\t\t', names=['r', 'señal open 40x40', 'error open 40x40'], engine='python')\n",
    "pcropen40_115 = pd.read_csv('OPEN/txt/40x40/40x40pro-cr-115.txt', delimiter='\t\t', names=['r', 'señal open 40x40', 'error open 40x40'], engine='python')\n",
    "pinopen40_115 = pd.read_csv('OPEN/txt/40x40/40x40pro-in-115.txt', delimiter='\t\t', names=['r', 'señal open 40x40', 'error open 40x40'], engine='python')\n",
    "\n",
    "pddFFF40_115 = pd.read_csv('FFF/txt/40x40/40x40pdd.txt', delimiter='\t\t', names=['r', 'señal fff 40x40', 'error fff 40x40'], engine='python')\n",
    "pcrFFF40_115 = pd.read_csv('FFF/txt/40x40/40x40pro-cr-115.txt', delimiter='\t\t', names=['r', 'señal fff 40x40', 'error fff 40x40'], engine='python')\n",
    "pinFFF40_115 = pd.read_csv('FFF/txt/40x40/40x40pro-in-115.txt', delimiter='\t\t', names=['r', 'señal fff 40x40', 'error fff 40x40'], engine='python')\n"
   ]
  },
  {
   "cell_type": "markdown",
   "id": "5438186e",
   "metadata": {},
   "source": [
    "# 85"
   ]
  },
  {
   "cell_type": "markdown",
   "id": "48d00a8a",
   "metadata": {},
   "source": [
    "## 5x5"
   ]
  },
  {
   "cell_type": "code",
   "execution_count": 10,
   "id": "d36d5869",
   "metadata": {},
   "outputs": [],
   "source": [
    "pddopen5_85 = pd.read_csv('OPEN/txt/5x5/5x5pdd.txt', delimiter='\t\t', names=['r', 'señal open 5x5', 'error open 5x5'], engine='python')\n",
    "pcropen5_85 = pd.read_csv('OPEN/txt/5x5/5x5pro-cr-85.txt', delimiter='\t\t', names=['r', 'señal open 5x5', 'error open 5x5'], engine='python')\n",
    "pinopen5_85 = pd.read_csv('OPEN/txt/5x5/5x5pro-in-85.txt', delimiter='\t\t', names=['r', 'señal open 5x5', 'error open 5x5'], engine='python')\n",
    "\n",
    "pddFFF5_85 = pd.read_csv('FFF/txt/5x5/5x5pdd.txt', delimiter='\t\t', names=['r', 'señal fff 5x5', 'error fff 5x5'], engine='python')\n",
    "pcrFFF5_85 = pd.read_csv('FFF/txt/5x5/5x5pro-cr-85.txt', delimiter='\t\t', names=['r', 'señal fff 5x5', 'error fff 5x5'], engine='python')\n",
    "pinFFF5_85 = pd.read_csv('FFF/txt/5x5/5x5pro-in-85.txt', delimiter='\t\t', names=['r', 'señal fff 5x5', 'error fff 5x5'], engine='python')\n"
   ]
  },
  {
   "cell_type": "markdown",
   "id": "b946e4d5",
   "metadata": {},
   "source": [
    "## 10x10"
   ]
  },
  {
   "cell_type": "code",
   "execution_count": 11,
   "id": "46d19212",
   "metadata": {},
   "outputs": [],
   "source": [
    "pddopen10_85 = pd.read_csv('OPEN/txt/10x10/10x10pdd.txt', delimiter='\t\t', names=['r', 'señal open 10x10', 'error open 10x10'], engine='python')\n",
    "pcropen10_85 = pd.read_csv('OPEN/txt/10x10/10x10pro-cr-85.txt', delimiter='\t\t', names=['r', 'señal open 10x10', 'error open 10x10'], engine='python')\n",
    "pinopen10_85 = pd.read_csv('OPEN/txt/10x10/10x10pro-in-85.txt', delimiter='\t\t', names=['r', 'señal open 10x10', 'error open 10x10'], engine='python')\n",
    "\n",
    "pddFFF10_85 = pd.read_csv('FFF/txt/10x10/10x10pdd.txt', delimiter='\t\t', names=['r', 'señal fff 10x10', 'error fff 10x10'], engine='python')\n",
    "pcrFFF10_85 = pd.read_csv('FFF/txt/10x10/10x10pro-cr-85.txt', delimiter='\t\t', names=['r', 'señal fff 10x10', 'error fff 10x10'], engine='python')\n",
    "pinFFF10_85 = pd.read_csv('FFF/txt/10x10/10x10pro-in-85.txt', delimiter='\t\t', names=['r', 'señal fff 10x10', 'error fff 10x10'], engine='python')\n"
   ]
  },
  {
   "cell_type": "markdown",
   "id": "aaa31482",
   "metadata": {},
   "source": [
    "## 20x20"
   ]
  },
  {
   "cell_type": "code",
   "execution_count": 12,
   "id": "0c04053a",
   "metadata": {
    "scrolled": true
   },
   "outputs": [],
   "source": [
    "pddopen20_85 = pd.read_csv('OPEN/txt/20x20/20x20pdd.txt', delimiter='\t\t', names=['r', 'señal open 20x20', 'error open 20x20'], engine='python')\n",
    "pcropen20_85 = pd.read_csv('OPEN/txt/20x20/20x20pro-cr-85.txt', delimiter='\t\t', names=['r', 'señal open 20x20', 'error open 20x20'], engine='python')\n",
    "pinopen20_85 = pd.read_csv('OPEN/txt/20x20/20x20pro-in-85.txt', delimiter='\t\t', names=['r', 'señal open 20x20', 'error open 20x20'], engine='python')\n",
    "\n",
    "pddFFF20_85 = pd.read_csv('FFF/txt/20x20/20x20pdd.txt', delimiter='\t\t', names=['r', 'señal fff 20x20', 'error fff 20x20'], engine='python')\n",
    "pcrFFF20_85 = pd.read_csv('FFF/txt/20x20/20x20pro-cr-85.txt', delimiter='\t\t', names=['r', 'señal fff 20x20', 'error fff 20x20'], engine='python')\n",
    "pinFFF20_85 = pd.read_csv('FFF/txt/20x20/20x20pro-in-85.txt', delimiter='\t\t', names=['r', 'señal fff 20x20', 'error fff 20x20'], engine='python')\n"
   ]
  },
  {
   "cell_type": "markdown",
   "id": "d1d1ec83",
   "metadata": {},
   "source": [
    "## 40x40"
   ]
  },
  {
   "cell_type": "code",
   "execution_count": 13,
   "id": "4494ab02",
   "metadata": {
    "scrolled": true
   },
   "outputs": [],
   "source": [
    "pddopen40_85 = pd.read_csv('OPEN/txt/40x40/40x40pdd.txt', delimiter='\t\t', names=['r', 'señal open 40x40', 'error open 40x40'], engine='python')\n",
    "pcropen40_85 = pd.read_csv('OPEN/txt/40x40/40x40pro-cr-85.txt', delimiter='\t\t', names=['r', 'señal open 40x40', 'error open 40x40'], engine='python')\n",
    "pinopen40_85 = pd.read_csv('OPEN/txt/40x40/40x40pro-in-85.txt', delimiter='\t\t', names=['r', 'señal open 40x40', 'error open 40x40'], engine='python')\n",
    "\n",
    "pddFFF40_85 = pd.read_csv('FFF/txt/40x40/40x40pdd.txt', delimiter='\t\t', names=['r', 'señal fff 40x40', 'error fff 40x40'], engine='python')\n",
    "pcrFFF40_85 = pd.read_csv('FFF/txt/40x40/40x40pro-cr-85.txt', delimiter='\t\t', names=['r', 'señal fff 40x40', 'error fff 40x40'], engine='python')\n",
    "pinFFF40_85 = pd.read_csv('FFF/txt/40x40/40x40pro-in-85.txt', delimiter='\t\t', names=['r', 'señal fff 40x40', 'error fff 40x40'], engine='python')\n"
   ]
  },
  {
   "cell_type": "markdown",
   "id": "16cd01bc",
   "metadata": {},
   "source": [
    "# Rectangular"
   ]
  },
  {
   "cell_type": "markdown",
   "id": "9f8e9c1b",
   "metadata": {},
   "source": [
    "## 40x5"
   ]
  },
  {
   "cell_type": "code",
   "execution_count": 14,
   "id": "7f84e1c1",
   "metadata": {
    "scrolled": true
   },
   "outputs": [],
   "source": [
    "pddopen40x5 = pd.read_csv('OPEN/txt/40x5/40x5pdd.txt', delimiter='\t\t', names=['r', 'señal open 40x5', 'error open 40x5'], engine='python')\n",
    "pcropen40x5 = pd.read_csv('OPEN/txt/40x5/40x5pro-cr-100.txt', delimiter='\t\t', names=['r', 'señal open 40x5', 'error open 40x5'], engine='python')\n",
    "pinopen40x5 = pd.read_csv('OPEN/txt/40x5/40x5pro-in-100.txt', delimiter='\t\t', names=['r', 'señal open 40x5', 'error open 40x5'], engine='python')\n",
    "\n",
    "pddFFF40x5 = pd.read_csv('FFF/txt/40x5/40x5pdd.txt', delimiter='\t\t', names=['r', 'señal fff 40x5', 'error fff 40x5'], engine='python')\n",
    "pcrFFF40x5 = pd.read_csv('FFF/txt/40x5/40x5pro-cr-100.txt', delimiter='\t\t', names=['r', 'señal fff 40x5', 'error fff 40x5'], engine='python')\n",
    "pinFFF40x5 = pd.read_csv('FFF/txt/40x5/40x5pro-in-100.txt', delimiter='\t\t', names=['r', 'señal fff 40x5', 'error fff 40x5'], engine='python')\n",
    "\n",
    "\n",
    "pddopen40x5_85 = pd.read_csv('OPEN/txt/40x5/40x5pdd.txt', delimiter='\t\t', names=['r', 'señal open 40x5', 'error open 40x5'], engine='python')\n",
    "pcropen40x5_85 = pd.read_csv('OPEN/txt/40x5/40x5pro-cr-85.txt', delimiter='\t\t', names=['r', 'señal open 40x5', 'error open 40x5'], engine='python')\n",
    "pinopen40x5_85 = pd.read_csv('OPEN/txt/40x5/40x5pro-in-85.txt', delimiter='\t\t', names=['r', 'señal open 40x5', 'error open 40x5'], engine='python')\n",
    "\n",
    "pddFFF40x5_85 = pd.read_csv('FFF/txt/40x5/40x5pdd.txt', delimiter='\t\t', names=['r', 'señal fff 40x5', 'error fff 40x5'], engine='python')\n",
    "pcrFFF40x5_85 = pd.read_csv('FFF/txt/40x5/40x5pro-cr-85.txt', delimiter='\t\t', names=['r', 'señal fff 40x5', 'error fff 40x5'], engine='python')\n",
    "pinFFF40x5_85 = pd.read_csv('FFF/txt/40x5/40x5pro-in-85.txt', delimiter='\t\t', names=['r', 'señal fff 40x5', 'error fff 40x5'], engine='python')\n",
    "\n",
    "\n",
    "pddopen40x5_115 = pd.read_csv('OPEN/txt/40x5/40x5pdd.txt', delimiter='\t\t', names=['r', 'señal open 40x5', 'error open 40x5'], engine='python')\n",
    "pcropen40x5_115 = pd.read_csv('OPEN/txt/40x5/40x5pro-cr-115.txt', delimiter='\t\t', names=['r', 'señal open 40x5', 'error open 40x5'], engine='python')\n",
    "pinopen40x5_115 = pd.read_csv('OPEN/txt/40x5/40x5pro-in-115.txt', delimiter='\t\t', names=['r', 'señal open 40x5', 'error open 40x5'], engine='python')\n",
    "\n",
    "pddFFF40x5_115 = pd.read_csv('FFF/txt/40x5/40x5pdd.txt', delimiter='\t\t', names=['r', 'señal fff 40x5', 'error fff 40x5'], engine='python')\n",
    "pcrFFF40x5_115 = pd.read_csv('FFF/txt/40x5/40x5pro-cr-115.txt', delimiter='\t\t', names=['r', 'señal fff 40x5', 'error fff 40x5'], engine='python')\n",
    "pinFFF40x5_115 = pd.read_csv('FFF/txt/40x5/40x5pro-in-115.txt', delimiter='\t\t', names=['r', 'señal fff 40x5', 'error fff 40x5'], engine='python')\n"
   ]
  },
  {
   "cell_type": "markdown",
   "id": "c47ad251",
   "metadata": {},
   "source": [
    "# Merge Data"
   ]
  },
  {
   "cell_type": "code",
   "execution_count": 15,
   "id": "81483ace",
   "metadata": {},
   "outputs": [],
   "source": [
    "NewR = pd.DataFrame(np.linspace(-240, 240, 481), columns=['r'])\n",
    "\n",
    "def Delimiting(data, FFF, Limit):\n",
    "    global Mixed, NewData\n",
    "    NewData = data.iloc[:,:2]\n",
    "    NewData['FFF'] = FFF\n",
    "    NewData.columns = ['r', 'señal', 'FFF']\n",
    "    NewData['Limit'] = Limit\n",
    "    NewData['Area'] = Limit**2\n",
    "    NewData = NewData.merge(NewR, how='outer').sort_values('r').reset_index(drop=True)\n",
    "    NewData.loc[-1,'señal']=0\n",
    "    NewData.loc[0,'señal']=0\n",
    "    NewData.interpolate(method='linear', inplace=True, limit_direction='both')\n",
    "    NewData = NewData.set_index('r').loc[np.linspace(-240, 240, 481)].reset_index()\n",
    "    NewData = NewData.groupby('r').mean().reset_index('r')\n",
    "    Mixed = pd.concat([Mixed, NewData])\n"
   ]
  },
  {
   "cell_type": "code",
   "execution_count": 16,
   "id": "a4fbc50c",
   "metadata": {},
   "outputs": [],
   "source": [
    "Mixed = pd.DataFrame(columns=['r', 'señal', 'FFF', 'Limit'])\n",
    "\n",
    "Delimiting(pinFFF5, 1, 50)\n",
    "Delimiting(pinopen5, 0, 50)\n",
    "Delimiting(pinFFF10, 1, 100)\n",
    "Delimiting(pinopen10, 0, 100)\n",
    "Delimiting(pinFFF20, 1, 200)\n",
    "Delimiting(pinopen20, 0, 200)\n",
    "Delimiting(pinFFF40, 1, 400)\n",
    "Delimiting(pinopen40, 0, 400)\n",
    "\n",
    "MixedIN = Mixed\n",
    "MixedIN['In'] = 1\n",
    "MixedIN['Z'] = 100"
   ]
  },
  {
   "cell_type": "code",
   "execution_count": 17,
   "id": "fe1744b5",
   "metadata": {},
   "outputs": [],
   "source": [
    "Mixed = pd.DataFrame(columns=['r', 'señal', 'FFF', 'Limit'])\n",
    "\n",
    "Delimiting(pcrFFF5, 1, 50)\n",
    "Delimiting(pcropen5, 0, 50)\n",
    "Delimiting(pcrFFF10, 1, 100)\n",
    "Delimiting(pcropen10, 0, 100)\n",
    "Delimiting(pcrFFF20, 1, 200)\n",
    "Delimiting(pcropen20, 0, 200)\n",
    "Delimiting(pcrFFF40, 1, 400)\n",
    "Delimiting(pcropen40, 0, 400)\n",
    "\n",
    "MixedCR = Mixed\n",
    "MixedCR['In'] = 0\n",
    "MixedCR['Z'] = 100"
   ]
  },
  {
   "cell_type": "code",
   "execution_count": 18,
   "id": "99c24561",
   "metadata": {},
   "outputs": [],
   "source": [
    "Mixed = pd.DataFrame(columns=['r', 'señal', 'FFF', 'Limit'])\n",
    "\n",
    "Delimiting(pinFFF5_85, 1, 50)\n",
    "Delimiting(pinopen5_85, 0, 50)\n",
    "Delimiting(pinFFF10_85, 1_85, 100)\n",
    "Delimiting(pinopen10_85, 0, 100)\n",
    "Delimiting(pinFFF20_85, 1, 200)\n",
    "Delimiting(pinopen20_85, 0, 200)\n",
    "Delimiting(pinFFF40_85, 1, 400)\n",
    "Delimiting(pinopen40_85, 0, 400)\n",
    "\n",
    "MixedIN85 = Mixed\n",
    "MixedIN85['In'] = 1\n",
    "MixedIN85['Z'] = 85"
   ]
  },
  {
   "cell_type": "code",
   "execution_count": 19,
   "id": "d370266a",
   "metadata": {},
   "outputs": [],
   "source": [
    "Mixed = pd.DataFrame(columns=['r', 'señal', 'FFF', 'Limit'])\n",
    "\n",
    "Delimiting(pcrFFF5_85, 1, 50)\n",
    "Delimiting(pcropen5_85, 0, 50)\n",
    "Delimiting(pcrFFF10_85, 1_85, 100)\n",
    "Delimiting(pcropen10_85, 0, 100)\n",
    "Delimiting(pcrFFF20_85, 1, 200)\n",
    "Delimiting(pcropen20_85, 0, 200)\n",
    "Delimiting(pcrFFF40_85, 1, 400)\n",
    "Delimiting(pcropen40_85, 0, 400)\n",
    "\n",
    "MixedCR85 = Mixed\n",
    "MixedCR85['In'] = 0\n",
    "MixedCR85['Z'] = 85"
   ]
  },
  {
   "cell_type": "code",
   "execution_count": 20,
   "id": "2b9e590a",
   "metadata": {},
   "outputs": [],
   "source": [
    "Mixed = pd.DataFrame(columns=['r', 'señal', 'FFF', 'Limit'])\n",
    "\n",
    "Delimiting(pinFFF5_115, 1, 50)\n",
    "Delimiting(pinopen5_115, 0, 50)\n",
    "Delimiting(pinFFF10_115, 1_115, 100)\n",
    "Delimiting(pinopen10_115, 0, 100)\n",
    "Delimiting(pinFFF20_115, 1, 200)\n",
    "Delimiting(pinopen20_115, 0, 200)\n",
    "Delimiting(pinFFF40_115, 1, 400)\n",
    "Delimiting(pinopen40_115, 0, 400)\n",
    "\n",
    "MixedIN115 = Mixed\n",
    "MixedIN115['In'] = 1\n",
    "MixedIN115['Z'] = 115"
   ]
  },
  {
   "cell_type": "code",
   "execution_count": 21,
   "id": "9fabe6ef",
   "metadata": {},
   "outputs": [],
   "source": [
    "Mixed = pd.DataFrame(columns=['r', 'señal', 'FFF', 'Limit'])\n",
    "\n",
    "Delimiting(pcrFFF5_115, 1, 50)\n",
    "Delimiting(pcropen5_115, 0, 50)\n",
    "Delimiting(pcrFFF10_115, 1_115, 100)\n",
    "Delimiting(pcropen10_115, 0, 100)\n",
    "Delimiting(pcrFFF20_115, 1, 200)\n",
    "Delimiting(pcropen20_115, 0, 200)\n",
    "Delimiting(pcrFFF40_115, 1, 400)\n",
    "Delimiting(pcropen40_115, 0, 400)\n",
    "\n",
    "MixedCR115 = Mixed\n",
    "MixedCR115['In'] = 0\n",
    "MixedCR115['Z'] = 115"
   ]
  },
  {
   "cell_type": "code",
   "execution_count": 22,
   "id": "27b7a492",
   "metadata": {},
   "outputs": [],
   "source": [
    "def Delimiting(data, FFF, Limit1, Limit2, In, Z):\n",
    "    global Mixed\n",
    "    NewData = data.iloc[:,:2]\n",
    "    NewData['FFF'] = FFF\n",
    "    NewData.columns = ['r', 'señal', 'FFF']\n",
    "    NewData['Limit'] = Limit1\n",
    "    NewData['Area'] = Limit1*Limit2\n",
    "    NewData['In'] = In\n",
    "    NewData['Z'] = Z\n",
    "    Mixed = pd.concat([Mixed, NewData])\n",
    "    NewData = NewData.merge(NewR, how='outer').sort_values('r').reset_index(drop=True)\n",
    "    NewData.loc[-1,'señal']=0\n",
    "    NewData.loc[0,'señal']=0\n",
    "    NewData.interpolate(method='linear', inplace=True, limit_direction='both')\n",
    "    NewData = NewData.set_index('r').loc[np.linspace(-240, 240, 481)].reset_index()\n",
    "    NewData = NewData.groupby('r').mean().reset_index('r')\n",
    "    Mixed = pd.concat([Mixed, NewData])\n",
    "\n",
    "    \n",
    "    \n",
    "    \n",
    "    \n",
    "    \n",
    "Mixed = pd.DataFrame(columns=['r', 'señal', 'FFF', 'Limit', 'Z'])\n",
    "\n",
    "Delimiting(pcropen40x5, 0, 50, 400, 0, 100)\n",
    "Delimiting(pinopen40x5, 0, 400, 50, 1, 100)\n",
    "Delimiting(pcrFFF40x5, 1, 50, 400, 0, 100)\n",
    "Delimiting(pinFFF40x5, 1, 400, 50, 1, 100)\n",
    "Delimiting(pcropen40x5_85, 0, 50, 400, 0, 85)\n",
    "Delimiting(pinopen40x5_85, 0, 400, 50, 1, 85)\n",
    "Delimiting(pcrFFF40x5_85, 1, 50, 400, 0, 85)\n",
    "Delimiting(pinFFF40x5_85, 1, 400, 50, 1, 85)\n",
    "Delimiting(pcropen40x5_115, 0, 50, 400, 0, 115)\n",
    "Delimiting(pinopen40x5_115, 0, 400, 50, 1, 115)\n",
    "Delimiting(pcrFFF40x5_115, 1, 50, 400, 0, 115)\n",
    "Delimiting(pinFFF40x5_115, 1, 400, 50, 1, 115)\n",
    "\n",
    "\n",
    "Mixed40x5 = Mixed.reset_index(drop=True)"
   ]
  },
  {
   "cell_type": "code",
   "execution_count": 23,
   "id": "8fb7d188",
   "metadata": {},
   "outputs": [
    {
     "data": {
      "text/plain": [
       "518.5"
      ]
     },
     "execution_count": 23,
     "metadata": {},
     "output_type": "execute_result"
    }
   ],
   "source": [
    "2074/4"
   ]
  },
  {
   "cell_type": "code",
   "execution_count": 24,
   "id": "ac1286bc",
   "metadata": {},
   "outputs": [],
   "source": [
    "Mixed = pd.concat([MixedCR, MixedIN, MixedIN85, MixedCR85, MixedCR115, MixedIN115]).reset_index(drop=True)\n",
    "Mixed['r'] = Mixed['r']+3\n",
    "Mixed = Mixed.loc[:,['r', 'señal', 'FFF', 'Limit', 'Area', 'In', 'Z']]\n",
    "Mixed = Mixed[Mixed['In']==0].reset_index(drop=True)"
   ]
  },
  {
   "cell_type": "code",
   "execution_count": 25,
   "id": "d3b3f795",
   "metadata": {},
   "outputs": [
    {
     "data": {
      "text/html": [
       "<div>\n",
       "<style scoped>\n",
       "    .dataframe tbody tr th:only-of-type {\n",
       "        vertical-align: middle;\n",
       "    }\n",
       "\n",
       "    .dataframe tbody tr th {\n",
       "        vertical-align: top;\n",
       "    }\n",
       "\n",
       "    .dataframe thead th {\n",
       "        text-align: right;\n",
       "    }\n",
       "</style>\n",
       "<table border=\"1\" class=\"dataframe\">\n",
       "  <thead>\n",
       "    <tr style=\"text-align: right;\">\n",
       "      <th></th>\n",
       "      <th></th>\n",
       "      <th>r</th>\n",
       "      <th>señal</th>\n",
       "      <th>FFF</th>\n",
       "      <th>Area</th>\n",
       "      <th>In</th>\n",
       "    </tr>\n",
       "    <tr>\n",
       "      <th>Limit</th>\n",
       "      <th>Z</th>\n",
       "      <th></th>\n",
       "      <th></th>\n",
       "      <th></th>\n",
       "      <th></th>\n",
       "      <th></th>\n",
       "    </tr>\n",
       "  </thead>\n",
       "  <tbody>\n",
       "    <tr>\n",
       "      <th rowspan=\"3\" valign=\"top\">50.0</th>\n",
       "      <th>85</th>\n",
       "      <td>962</td>\n",
       "      <td>962</td>\n",
       "      <td>962</td>\n",
       "      <td>962</td>\n",
       "      <td>962</td>\n",
       "    </tr>\n",
       "    <tr>\n",
       "      <th>100</th>\n",
       "      <td>962</td>\n",
       "      <td>962</td>\n",
       "      <td>962</td>\n",
       "      <td>962</td>\n",
       "      <td>962</td>\n",
       "    </tr>\n",
       "    <tr>\n",
       "      <th>115</th>\n",
       "      <td>962</td>\n",
       "      <td>962</td>\n",
       "      <td>962</td>\n",
       "      <td>962</td>\n",
       "      <td>962</td>\n",
       "    </tr>\n",
       "    <tr>\n",
       "      <th rowspan=\"3\" valign=\"top\">100.0</th>\n",
       "      <th>85</th>\n",
       "      <td>962</td>\n",
       "      <td>962</td>\n",
       "      <td>962</td>\n",
       "      <td>962</td>\n",
       "      <td>962</td>\n",
       "    </tr>\n",
       "    <tr>\n",
       "      <th>100</th>\n",
       "      <td>962</td>\n",
       "      <td>962</td>\n",
       "      <td>962</td>\n",
       "      <td>962</td>\n",
       "      <td>962</td>\n",
       "    </tr>\n",
       "    <tr>\n",
       "      <th>115</th>\n",
       "      <td>962</td>\n",
       "      <td>962</td>\n",
       "      <td>962</td>\n",
       "      <td>962</td>\n",
       "      <td>962</td>\n",
       "    </tr>\n",
       "    <tr>\n",
       "      <th rowspan=\"3\" valign=\"top\">200.0</th>\n",
       "      <th>85</th>\n",
       "      <td>962</td>\n",
       "      <td>962</td>\n",
       "      <td>962</td>\n",
       "      <td>962</td>\n",
       "      <td>962</td>\n",
       "    </tr>\n",
       "    <tr>\n",
       "      <th>100</th>\n",
       "      <td>962</td>\n",
       "      <td>962</td>\n",
       "      <td>962</td>\n",
       "      <td>962</td>\n",
       "      <td>962</td>\n",
       "    </tr>\n",
       "    <tr>\n",
       "      <th>115</th>\n",
       "      <td>962</td>\n",
       "      <td>962</td>\n",
       "      <td>962</td>\n",
       "      <td>962</td>\n",
       "      <td>962</td>\n",
       "    </tr>\n",
       "    <tr>\n",
       "      <th rowspan=\"3\" valign=\"top\">400.0</th>\n",
       "      <th>85</th>\n",
       "      <td>962</td>\n",
       "      <td>962</td>\n",
       "      <td>962</td>\n",
       "      <td>962</td>\n",
       "      <td>962</td>\n",
       "    </tr>\n",
       "    <tr>\n",
       "      <th>100</th>\n",
       "      <td>962</td>\n",
       "      <td>962</td>\n",
       "      <td>962</td>\n",
       "      <td>962</td>\n",
       "      <td>962</td>\n",
       "    </tr>\n",
       "    <tr>\n",
       "      <th>115</th>\n",
       "      <td>962</td>\n",
       "      <td>962</td>\n",
       "      <td>962</td>\n",
       "      <td>962</td>\n",
       "      <td>962</td>\n",
       "    </tr>\n",
       "  </tbody>\n",
       "</table>\n",
       "</div>"
      ],
      "text/plain": [
       "             r  señal  FFF  Area   In\n",
       "Limit Z                              \n",
       "50.0  85   962    962  962   962  962\n",
       "      100  962    962  962   962  962\n",
       "      115  962    962  962   962  962\n",
       "100.0 85   962    962  962   962  962\n",
       "      100  962    962  962   962  962\n",
       "      115  962    962  962   962  962\n",
       "200.0 85   962    962  962   962  962\n",
       "      100  962    962  962   962  962\n",
       "      115  962    962  962   962  962\n",
       "400.0 85   962    962  962   962  962\n",
       "      100  962    962  962   962  962\n",
       "      115  962    962  962   962  962"
      ]
     },
     "execution_count": 25,
     "metadata": {},
     "output_type": "execute_result"
    }
   ],
   "source": [
    "Mixed.groupby(['Limit', 'Z']).count()"
   ]
  },
  {
   "cell_type": "markdown",
   "id": "f06ada41",
   "metadata": {},
   "source": [
    "\n",
    "\n",
    "\\\\[ \\Phi_\\gamma (x,y,z) = w_0 \\Phi_0(x,y,z) \\Phi_{horn}^\\gamma (x,y,z) \\\\]\n",
    "\n",
    "Primero calcularemos \\\\(\\Phi_0^\\gamma\\\\)"
   ]
  },
  {
   "cell_type": "markdown",
   "id": "e90143c4",
   "metadata": {},
   "source": [
    "\\\\[ \\Phi_\\alpha = Z(z; z_D^x, z_D^y, z_\\alpha) T_\\alpha(x_\\alpha^+, x_\\alpha^-) T_\\alpha(y_\\alpha^+, y_\\alpha^- ) \\\\]"
   ]
  },
  {
   "cell_type": "markdown",
   "id": "5cbdc318",
   "metadata": {},
   "source": [
    "\\\\[ Z(z; z^x_D, z^y_D, z_0) = \\frac{1}{4} \\frac{(z_D^x - z_0) (z^y_D - z_0 )}{(z-z_0)^2} \\\\]\n",
    "\n",
    "\n",
    "\n",
    "\n",
    "\n",
    "Donde \\\\( z_U^x  = 43.1cm ; z_U^y = 29.8cm ; z^x_D = 50.9cm ; z_D^y= 42.6cm \\\\)\n",
    "\n",
    "\n",
    "\\\\[ Z(z; z^x_D, z^y_D, z_0) = \\frac{1}{4} \\frac{(50.9 - z_0) (42.6 - z_0 )}{(z-z_0)^2} \\\\]\n",
    "\\\\[ Z(z; z^x_D, z^y_D, z_s) = \\frac{1}{4} \\frac{(50.9 - z_s) (42.6 - z_s )}{(z-z_s)^2} \\\\]\n",
    "\n",
    "\n",
    "Vamos a establecer z_0 como 0\n",
    "\n",
    "\\\\[ Z(z; z^x_D, z^y_D, z_0) = \\frac{1}{4} \\frac{(50.9) (42.6)}{(z)^2} \\\\]\n"
   ]
  },
  {
   "cell_type": "markdown",
   "id": "ff262400",
   "metadata": {},
   "source": [
    "# Z "
   ]
  },
  {
   "cell_type": "code",
   "execution_count": 26,
   "id": "07b903d4",
   "metadata": {},
   "outputs": [],
   "source": [
    "Z_s = []\n",
    "\n",
    "for i in np.arange(0, Mixed.shape[0]):\n",
    "    if Mixed['FFF'].loc[i]==1:\n",
    "        Z_s.append(12.47)\n",
    "    else:\n",
    "        Z_s.append(0)\n",
    "        \n",
    "Mixed['Zs'] = Z_s"
   ]
  },
  {
   "cell_type": "code",
   "execution_count": 27,
   "id": "3133c8bb",
   "metadata": {},
   "outputs": [],
   "source": [
    "z_x_u = 36.7\n",
    "z_y_u = 28\n",
    "\n",
    "z_x_d = 44.5\n",
    "z_y_d = 35.8\n",
    "\n",
    "\n",
    "\n",
    "Mixed['Big Z'] = (0.25*z_x_d*z_y_d)/(Mixed['Z']**2)\n",
    "Mixed['Big Z Col'] = (0.25*(z_x_d-Mixed[['Zs']].to_numpy())*(z_y_d-Mixed[['Zs']].to_numpy()))/(Mixed[['Z']].to_numpy()**2)"
   ]
  },
  {
   "cell_type": "markdown",
   "id": "890eded3",
   "metadata": {},
   "source": [
    "Por tanto:\n",
    "\n",
    "\\\\[X_0 = \\frac{\\frac{x_0^+}{\\delta_0}}{\\sqrt{1+\\frac{x_0^+}{\\delta_0}}} + \\frac{\\frac{x_0^-}{\\delta_0}}{\\sqrt{1-\\frac{x_0^-}{\\delta_0}}}\\\\]\n",
    "\n",
    "\\\\[Y_0 = \\frac{\\frac{y_0^+}{\\delta_0}}{\\sqrt{1+\\frac{y_0^+}{\\delta_0}}} + \\frac{\\frac{y_0^-}{\\delta_0}}{\\sqrt{1-\\frac{y_0^-}{\\delta_0}}}\\\\]\n",
    "\n",
    "\n",
    "\n"
   ]
  },
  {
   "cell_type": "markdown",
   "id": "b4704cd1",
   "metadata": {},
   "source": [
    "\\\\[ \\Phi_\\alpha = \\frac{542.085}{z^2}* (\\frac{\\frac{x_0^+}{\\delta_0}}{\\sqrt{1+\\frac{x_0^+}{\\delta_0}}} + \\frac{\\frac{x_0^-}{\\delta_0}}{\\sqrt{1-\\frac{x_0^-}{\\delta_0}}}) * (\\frac{\\frac{y_0^+}{\\delta_0}}{\\sqrt{1+\\frac{y_0^+}{\\delta_0}}} + \\frac{\\frac{y_0^-}{\\delta_0}}{\\sqrt{1-\\frac{y_0^-}{\\delta_0}}}) \\\\]\n",
    "\n"
   ]
  },
  {
   "cell_type": "markdown",
   "id": "e72caf90",
   "metadata": {},
   "source": [
    "Donde \\\\(x_\\alpha; y_\\alpha\\\\)\n",
    "\n",
    "\\\\[x_\\alpha^{\\pm}  = min[\\frac{w_I^xz_U^x(z-z_0) \\pm 2xz_I(z_0 - z_U^x)}{2z_I(z-z_U^x)}, \\frac{w_I^xz_D^x(z-z_0) \\pm 2xz_I (z_0-z_D^x)}{2z_I(z-z_D^x)}] \\\\]\n",
    "\n",
    "\\\\[y_\\alpha^{\\pm}  = min[\\frac{w_I^yz_U^y(z-z_0) \\pm 2yz_I(z_0 - z_U^y)}{2z_I(z-z_U^y)}, \\frac{w_I^yz_D^y(z-z_0) \\pm 2yz_I (z_0-z_D^y)}{2z_I(z-z_D^y)}] \\\\]\n",
    "\n",
    "\n",
    "Por tanto sabiendo que \\\\(z_0\\\\) es 0 y \\\\Z_I = 100\\\\)\n",
    "\n",
    "\\\\[x_\\alpha^{\\pm} = min[ \\frac{43.1*w_I^x*z \\pm -8620*x}{200(z-43.1)} , \\frac{ 50.9* w_I^x*(z) \\pm -10180*x* }{200(z-50.9)}] \\\\]\n",
    "\n",
    "\\\\[y_\\alpha^{\\pm}  = min[\\frac{29.8*w_I^y * z \\pm -5960*y}{200(z-29.8)}, \\frac{42.6*w_I^y*(z) \\pm -8520*y)}{200(z-42.6)}] \\\\]\n"
   ]
  },
  {
   "cell_type": "markdown",
   "id": "677ec3ca",
   "metadata": {},
   "source": [
    "# Ts"
   ]
  },
  {
   "cell_type": "markdown",
   "id": "0cf36ccb",
   "metadata": {},
   "source": [
    "In = 1 -> X \n",
    "In = 0 -> Y"
   ]
  },
  {
   "cell_type": "code",
   "execution_count": 28,
   "id": "52606a4f",
   "metadata": {},
   "outputs": [],
   "source": [
    "\n",
    "\n",
    "\n",
    "def pos_neg(number, zs):\n",
    "\n",
    "    x_01pos = []\n",
    "    x_01neg = []\n",
    "    x_02pos = []\n",
    "    x_02neg = []\n",
    "    y_01pos = []\n",
    "    y_01neg = []\n",
    "    y_02pos = []\n",
    "    y_02neg = []\n",
    "\n",
    "    for i in np.arange(number, Mixed.shape[0]):\n",
    "        if Mixed[['In']].loc[i].to_numpy() == 1:\n",
    "            x_01pos.append(float((z_x_u*Mixed[['Limit']].loc[i].to_numpy()*(Mixed[['Z']].loc[i].to_numpy()-zs) + (zs - z_x_u)*2*100*Mixed[['r']].loc[i].to_numpy())/(2*100*(Mixed[['Z']].loc[i].to_numpy() - z_x_u))))\n",
    "            x_01neg.append(float((z_x_u*Mixed[['Limit']].loc[i].to_numpy()*(Mixed[['Z']].loc[i].to_numpy()-zs) - (zs - z_x_u)*2*100*Mixed[['r']].loc[i].to_numpy())/(2*100*(Mixed[['Z']].loc[i].to_numpy() - z_x_u))))\n",
    "            x_02pos.append(float((z_x_d*Mixed[['Limit']].loc[i].to_numpy()*(Mixed[['Z']].loc[i].to_numpy()-zs) + (zs - z_x_u)*2*100*Mixed[['r']].loc[i].to_numpy())/(2*100*(Mixed[['Z']].loc[i].to_numpy() - z_x_d))))\n",
    "            x_02neg.append(float((z_x_d*Mixed[['Limit']].loc[i].to_numpy()*(Mixed[['Z']].loc[i].to_numpy()-zs) - (zs - z_x_u)*2*100*Mixed[['r']].loc[i].to_numpy())/(2*100*(Mixed[['Z']].loc[i].to_numpy() - z_x_d))))\n",
    "\n",
    "            y_01pos.append(float((z_y_u*Mixed[['Limit']].loc[i].to_numpy()*(Mixed[['Z']].loc[i].to_numpy()-zs))/(2*100*(Mixed[['Z']].loc[i].to_numpy() - z_y_u))))\n",
    "            y_01neg.append(float((z_y_u*Mixed[['Limit']].loc[i].to_numpy()*(Mixed[['Z']].loc[i].to_numpy()-zs))/(2*100*(Mixed[['Z']].loc[i].to_numpy() - z_y_u))))\n",
    "            y_02pos.append(float((z_y_d*Mixed[['Limit']].loc[i].to_numpy()*(Mixed[['Z']].loc[i].to_numpy()-zs))/(2*100*(Mixed[['Z']].loc[i].to_numpy() - z_y_d))))\n",
    "            y_02neg.append(float((z_y_d*Mixed[['Limit']].loc[i].to_numpy()*(Mixed[['Z']].loc[i].to_numpy()-zs))/(2*100*(Mixed[['Z']].loc[i].to_numpy() - z_y_d))))\n",
    "\n",
    "\n",
    "\n",
    "        else:    \n",
    "            x_01pos.append(float((z_x_u*Mixed[['Limit']].loc[i].to_numpy()*(Mixed[['Z']].loc[i].to_numpy()-zs))/(2*100*(Mixed[['Z']].loc[i].to_numpy() - z_x_u))))\n",
    "            x_01neg.append(float((z_x_u*Mixed[['Limit']].loc[i].to_numpy()*(Mixed[['Z']].loc[i].to_numpy()-zs))/(2*100*(Mixed[['Z']].loc[i].to_numpy() - z_x_u))))\n",
    "            x_02pos.append(float((z_x_d*Mixed[['Limit']].loc[i].to_numpy()*(Mixed[['Z']].loc[i].to_numpy()-zs))/(2*100*(Mixed[['Z']].loc[i].to_numpy() - z_x_d))))\n",
    "            x_02neg.append(float((z_x_d*Mixed[['Limit']].loc[i].to_numpy()*(Mixed[['Z']].loc[i].to_numpy()-zs))/(2*100*(Mixed[['Z']].loc[i].to_numpy() - z_x_d))))\n",
    "\n",
    "\n",
    "            y_01pos.append(float((z_y_u*Mixed[['Limit']].loc[i].to_numpy()*(Mixed[['Z']].loc[i].to_numpy()-zs) + (zs - z_y_u)*2*100*Mixed[['r']].loc[i].to_numpy())/(2*100*(Mixed[['Z']].loc[i].to_numpy() - z_y_u))))\n",
    "            y_01neg.append(float((z_y_u*Mixed[['Limit']].loc[i].to_numpy()*(Mixed[['Z']].loc[i].to_numpy()-zs) - (zs - z_y_u)*2*100*Mixed[['r']].loc[i].to_numpy())/(2*100*(Mixed[['Z']].loc[i].to_numpy() - z_y_u))))\n",
    "            y_02pos.append(float((z_y_d*Mixed[['Limit']].loc[i].to_numpy()*(Mixed[['Z']].loc[i].to_numpy()-zs) + (zs - z_y_u)*2*100*Mixed[['r']].loc[i].to_numpy())/(2*100*(Mixed[['Z']].loc[i].to_numpy() - z_y_d))))\n",
    "            y_02neg.append(float((z_y_d*Mixed[['Limit']].loc[i].to_numpy()*(Mixed[['Z']].loc[i].to_numpy()-zs) - (zs - z_y_u)*2*100*Mixed[['r']].loc[i].to_numpy())/(2*100*(Mixed[['Z']].loc[i].to_numpy() - z_y_d))))\n",
    "\n",
    "\n",
    "\n",
    "    x_0pos = []\n",
    "    for i, j in zip(x_01pos, x_02pos):\n",
    "        if i<j:\n",
    "            x_0pos.append(float(i))\n",
    "        else:\n",
    "            x_0pos.append(float(j))\n",
    "\n",
    "    y_0pos = []\n",
    "    for i, j in zip(y_01pos, y_02pos):\n",
    "        if i<j:\n",
    "            y_0pos.append(float(i))\n",
    "        else:\n",
    "            y_0pos.append(float(j))\n",
    "\n",
    "\n",
    "    x_0neg = []\n",
    "    for i, j in zip(x_01neg, x_02neg):\n",
    "        if i<j:\n",
    "            x_0neg.append(float(i))\n",
    "        else:\n",
    "            x_0neg.append(float(j))\n",
    "\n",
    "    y_0neg = []\n",
    "    for i, j in zip(y_01neg, y_02neg):\n",
    "        if i<j:\n",
    "            y_0neg.append(float(i))\n",
    "        else:\n",
    "            y_0neg.append(float(j))\n",
    "\n",
    "    if zs==0:\n",
    "        \n",
    "    \n",
    "        Mixed['xpos'] = x_0pos\n",
    "        Mixed['xneg'] = x_0neg\n",
    "\n",
    "        Mixed['ypos'] = y_0pos\n",
    "        Mixed['yneg'] = y_0neg\n",
    "    \n",
    "    if zs!=0:\n",
    "        Mixed['xpos col'] = x_0pos\n",
    "        Mixed['xneg col'] = x_0neg\n",
    "\n",
    "        Mixed['ypos col'] = y_0pos\n",
    "        Mixed['yneg col'] = y_0neg\n",
    "\n",
    "    \n",
    "\n",
    "pos_neg(0, 0)\n",
    "pos_neg(0, Mixed[['Zs']].loc[i].to_numpy())"
   ]
  },
  {
   "cell_type": "markdown",
   "id": "51021e4a",
   "metadata": {},
   "source": [
    "Volviendo a la ecuación mostrada antes\n",
    "\n",
    "\\\\[ \\Phi_\\alpha = \\frac{542.085}{z^2}* (\\frac{\\frac{x_0^+}{\\delta_0}}{\\sqrt{1+\\frac{x_0^+}{\\delta_0}}} + \\frac{\\frac{x_0^-}{\\delta_0}}{\\sqrt{1+\\frac{x_0^-}{\\delta_0}}}) * (\\frac{\\frac{y_0^+}{\\delta_0}}{\\sqrt{1+\\frac{y_0^+}{\\delta_0}}} + \\frac{\\frac{y_0^-}{\\delta_0}}{\\sqrt{1+\\frac{y_0^-}{\\delta_0}}}) \\\\]\n"
   ]
  },
  {
   "cell_type": "markdown",
   "id": "17a44f12",
   "metadata": {},
   "source": [
    "\\\\[ \\Phi_\\gamma (x,y,z) = w_0 \\Phi_0(x,y,z) \\Phi_{horn}^\\gamma (x,y,z) \\\\]\n",
    "\n",
    "w_0 es la importancia de la fluencia primaria, que es la que estamos usando únicamente.\n",
    "\n",
    "\\\\[ \\Phi_\\gamma (x,y,z) = \\Phi_0(x,y,z) * \\Phi_{horn}^\\gamma (x,y,z) \\\\]\n",
    "\n",
    "\n",
    "Por lo que tenemos ya una de las dos partes, ahora calculamos \\\\(\\phi^\\gamma_{horn}\\\\)"
   ]
  },
  {
   "cell_type": "markdown",
   "id": "3e750970",
   "metadata": {},
   "source": [
    "\\\\[\\Phi_{horn} = 1+ \\rho^2\\sum^4_{j=0} h_j^{\\gamma, e} \\rho^j \\\\]\n",
    "\n",
    "Donde\n",
    "\n",
    "\\\\[\\rho = \\frac{\\sqrt{x^2 + y^2}}{z-z_0} \\\\]\n"
   ]
  },
  {
   "cell_type": "markdown",
   "id": "2cd01cc9",
   "metadata": {},
   "source": [
    "# Rho"
   ]
  },
  {
   "cell_type": "code",
   "execution_count": 29,
   "id": "526c708d",
   "metadata": {},
   "outputs": [],
   "source": [
    "Mixed['Rho'] = np.abs((Mixed['r']))/(Mixed['Z'])"
   ]
  },
  {
   "cell_type": "markdown",
   "id": "f74bd822",
   "metadata": {},
   "source": [
    "# Analytic equation"
   ]
  },
  {
   "cell_type": "raw",
   "id": "2852496a",
   "metadata": {},
   "source": [
    "from sklearn.metrics import mean_absolute_error\n",
    "\n",
    "\n",
    "ls1 = 10**np.linspace(-5, -6.6, 10)\n",
    "ls = np.hstack([ls1])\n",
    "\n",
    "ks1 = 10**np.linspace(-1.5, -3, 10)\n",
    "ks = np.hstack([ks1])\n",
    "\n",
    "js1 = 10**np.linspace(-3.5, -5.5, 10)\n",
    "js = np.hstack([js1])\n",
    "\n",
    "hs2 = -10**np.linspace(-2.5, -3.5, 10)\n",
    "hs = np.hstack([hs2])\n",
    "\n",
    "\n",
    "gs1 = 10**np.linspace(-3, -5, 10)\n",
    "gs = np.hstack([gs1])\n",
    "\n",
    "\n",
    "error = []\n",
    "usedl = []\n",
    "usedk = []\n",
    "usedj = []\n",
    "usedh = []\n",
    "usedg = []\n",
    "\n",
    "\n",
    "\n",
    "counter = 0\n",
    "\n",
    "MIXEDF0 = Mixed[Mixed['FFF']==0].reset_index(drop=True)\n",
    "\n",
    "\n",
    "\n",
    "Arg1 = (Mixed[Mixed['FFF']==0]['xpos']/2.71)/((1 + (Mixed[Mixed['FFF']==0]['xpos']/2.71)**2)**(1/2))\n",
    "Arg2 = (Mixed[Mixed['FFF']==0]['xneg']/2.71)/((1 + (Mixed[Mixed['FFF']==0]['xneg']/2.71)**2)**(1/2))\n",
    "\n",
    "Arg3 = (Mixed[Mixed['FFF']==0]['ypos']/2.71)/((1 + (Mixed[Mixed['FFF']==0]['ypos']/2.71)**2)**(1/2))\n",
    "Arg4 = (Mixed[Mixed['FFF']==0]['yneg']/2.71)/((1 + (Mixed[Mixed['FFF']==0]['yneg']/2.71)**2)**(1/2))\n",
    "\n",
    "MIXEDF0['x'] = Arg1.values*Arg2.values\n",
    "MIXEDF0['y'] = Arg3.values*Arg4.values\n",
    "MIXEDF0['2nd leg'] = Arg3.values*Arg4.values*Arg1.values*Arg2.values\n",
    "MIXEDF0['Signal'] = MIXEDF0['señal'] \n",
    "MIXEDF0['r (cm)'] = MIXEDF0['r'] \n",
    "\n",
    "from datetime import datetime\n",
    "\n",
    "time0 = datetime.now()\n",
    "for l in ls:\n",
    "    for k in ks:\n",
    "        for j in js:\n",
    "            for h in hs:\n",
    "                for g in gs:\n",
    "      \n",
    "                    if l == ls[0] and k == ks[0] and g==gs[1] and h==hs[0] and j == js[0]:\n",
    "                        time1 = datetime.now()\n",
    "                        iteration_time = time1-time0\n",
    "\n",
    "                    counter = counter + 1 \n",
    "\n",
    "\n",
    "                    a = Mixed[Mixed['FFF']==0]['Big Z'] * (Arg1+Arg2) * (Arg3+Arg4) * (1 + (Mixed[Mixed['FFF']==0]['Rho']**2) * (l + k*Mixed[Mixed['FFF']==0]['Rho'] + j*Mixed[Mixed['FFF']==0]['Rho']**2 + h*Mixed[Mixed['FFF']==0]['Rho']**3 + g*Mixed[Mixed['FFF']==0]['Rho']**5))\n",
    "\n",
    "                    a = a.reset_index(drop=True)\n",
    "\n",
    "                    MIXEDF0 = Mixed[Mixed['FFF']==0].reset_index(drop=True)\n",
    "\n",
    "\n",
    "\n",
    "                    MIXEDF0['a'] = a\n",
    "\n",
    "\n",
    "\n",
    "                    NewA = []\n",
    "                    for i in np.arange(0, MIXEDF0.shape[0]):\n",
    "                        Limit = float(MIXEDF0.loc[i, 'Limit'])\n",
    "                        Area = float(MIXEDF0.loc[i, 'Area'])\n",
    "                        zforanalytic = float(MIXEDF0.loc[i, 'Z'])\n",
    "                        maxsignal = MIXEDF0[(MIXEDF0['Limit']==Limit) & (MIXEDF0['Area']==Area) & (MIXEDF0['Z']==zforanalytic)]['señal'].max()\n",
    "                        maxanalytic = MIXEDF0[(MIXEDF0['Limit']==Limit) & (MIXEDF0['Area']==Area) & (MIXEDF0['Z']==zforanalytic)]['a'].max()\n",
    "                        NewA.append(MIXEDF0.loc[i, 'a']*(maxsignal/maxanalytic))\n",
    "\n",
    "                    MIXEDF0.drop('a', axis=1, inplace=True)\n",
    "                    MIXEDF0['Analytic function'] = NewA\n",
    "                    momerror = np.median(np.abs(NewA-MIXEDF0['señal']))\n",
    "                    error.append(momerror)\n",
    "                    usedl.append(l)\n",
    "                    usedk.append(k)\n",
    "                    usedj.append(j)\n",
    "                    usedh.append(h)\n",
    "                    usedg.append(g)\n",
    "                    \n",
    "                    print(str(counter) + '/' + str(10**5))\n",
    "                    print('Error: ' + str(momerror))\n",
    "                    if counter>1:\n",
    "                        print('Approx time left: ' + str(iteration_time*((10**5)-counter)))\n",
    "\n",
    "errors = pd.DataFrame(np.stack([usedl, usedk, usedj, usedh, usedg])).transpose()\n",
    "errors.index=error\n",
    "errors.columns = ['l', 'k', 'j', 'h', 'g']\n",
    "errors.sort_index()"
   ]
  },
  {
   "cell_type": "code",
   "execution_count": 30,
   "id": "17cfadd8",
   "metadata": {},
   "outputs": [
    {
     "data": {
      "text/html": [
       "<div>\n",
       "<style scoped>\n",
       "    .dataframe tbody tr th:only-of-type {\n",
       "        vertical-align: middle;\n",
       "    }\n",
       "\n",
       "    .dataframe tbody tr th {\n",
       "        vertical-align: top;\n",
       "    }\n",
       "\n",
       "    .dataframe thead th {\n",
       "        text-align: right;\n",
       "    }\n",
       "</style>\n",
       "<table border=\"1\" class=\"dataframe\">\n",
       "  <thead>\n",
       "    <tr style=\"text-align: right;\">\n",
       "      <th></th>\n",
       "      <th>l</th>\n",
       "      <th>k</th>\n",
       "      <th>j</th>\n",
       "      <th>h</th>\n",
       "      <th>g</th>\n",
       "    </tr>\n",
       "  </thead>\n",
       "  <tbody>\n",
       "    <tr>\n",
       "      <th>0.014853</th>\n",
       "      <td>2.511886e-07</td>\n",
       "      <td>0.010000</td>\n",
       "      <td>0.000068</td>\n",
       "      <td>0.000527</td>\n",
       "      <td>0.00001</td>\n",
       "    </tr>\n",
       "    <tr>\n",
       "      <th>0.014853</th>\n",
       "      <td>3.782490e-07</td>\n",
       "      <td>0.010000</td>\n",
       "      <td>0.000068</td>\n",
       "      <td>0.000527</td>\n",
       "      <td>0.00001</td>\n",
       "    </tr>\n",
       "    <tr>\n",
       "      <th>0.014853</th>\n",
       "      <td>5.695811e-07</td>\n",
       "      <td>0.010000</td>\n",
       "      <td>0.000068</td>\n",
       "      <td>0.000527</td>\n",
       "      <td>0.00001</td>\n",
       "    </tr>\n",
       "    <tr>\n",
       "      <th>0.014853</th>\n",
       "      <td>8.576959e-07</td>\n",
       "      <td>0.010000</td>\n",
       "      <td>0.000068</td>\n",
       "      <td>0.000527</td>\n",
       "      <td>0.00001</td>\n",
       "    </tr>\n",
       "    <tr>\n",
       "      <th>0.014853</th>\n",
       "      <td>1.291550e-06</td>\n",
       "      <td>0.010000</td>\n",
       "      <td>0.000068</td>\n",
       "      <td>0.000527</td>\n",
       "      <td>0.00001</td>\n",
       "    </tr>\n",
       "    <tr>\n",
       "      <th>...</th>\n",
       "      <td>...</td>\n",
       "      <td>...</td>\n",
       "      <td>...</td>\n",
       "      <td>...</td>\n",
       "      <td>...</td>\n",
       "    </tr>\n",
       "    <tr>\n",
       "      <th>0.053775</th>\n",
       "      <td>1.944862e-06</td>\n",
       "      <td>0.031623</td>\n",
       "      <td>0.000003</td>\n",
       "      <td>0.000316</td>\n",
       "      <td>0.00100</td>\n",
       "    </tr>\n",
       "    <tr>\n",
       "      <th>0.053775</th>\n",
       "      <td>2.928645e-06</td>\n",
       "      <td>0.031623</td>\n",
       "      <td>0.000003</td>\n",
       "      <td>0.000316</td>\n",
       "      <td>0.00100</td>\n",
       "    </tr>\n",
       "    <tr>\n",
       "      <th>0.053775</th>\n",
       "      <td>4.410059e-06</td>\n",
       "      <td>0.031623</td>\n",
       "      <td>0.000003</td>\n",
       "      <td>0.000316</td>\n",
       "      <td>0.00100</td>\n",
       "    </tr>\n",
       "    <tr>\n",
       "      <th>0.053775</th>\n",
       "      <td>6.640828e-06</td>\n",
       "      <td>0.031623</td>\n",
       "      <td>0.000003</td>\n",
       "      <td>0.000316</td>\n",
       "      <td>0.00100</td>\n",
       "    </tr>\n",
       "    <tr>\n",
       "      <th>0.053775</th>\n",
       "      <td>1.000000e-05</td>\n",
       "      <td>0.031623</td>\n",
       "      <td>0.000003</td>\n",
       "      <td>0.000316</td>\n",
       "      <td>0.00100</td>\n",
       "    </tr>\n",
       "  </tbody>\n",
       "</table>\n",
       "<p>100000 rows × 5 columns</p>\n",
       "</div>"
      ],
      "text/plain": [
       "                     l         k         j         h        g\n",
       "0.014853  2.511886e-07  0.010000  0.000068  0.000527  0.00001\n",
       "0.014853  3.782490e-07  0.010000  0.000068  0.000527  0.00001\n",
       "0.014853  5.695811e-07  0.010000  0.000068  0.000527  0.00001\n",
       "0.014853  8.576959e-07  0.010000  0.000068  0.000527  0.00001\n",
       "0.014853  1.291550e-06  0.010000  0.000068  0.000527  0.00001\n",
       "...                ...       ...       ...       ...      ...\n",
       "0.053775  1.944862e-06  0.031623  0.000003  0.000316  0.00100\n",
       "0.053775  2.928645e-06  0.031623  0.000003  0.000316  0.00100\n",
       "0.053775  4.410059e-06  0.031623  0.000003  0.000316  0.00100\n",
       "0.053775  6.640828e-06  0.031623  0.000003  0.000316  0.00100\n",
       "0.053775  1.000000e-05  0.031623  0.000003  0.000316  0.00100\n",
       "\n",
       "[100000 rows x 5 columns]"
      ]
     },
     "execution_count": 30,
     "metadata": {},
     "output_type": "execute_result"
    }
   ],
   "source": [
    "errors = pd.read_csv('errors_in=0.csv', index_col=0)\n",
    "errors.columns = ['l', 'k', 'j', 'h', 'g']\n",
    "errors.sort_index()"
   ]
  },
  {
   "cell_type": "code",
   "execution_count": null,
   "id": "4aa925d9",
   "metadata": {
    "scrolled": true
   },
   "outputs": [
    {
     "name": "stdout",
     "output_type": "stream",
     "text": [
      "0.021360565318514123\n",
      "1.0\n",
      "0.02125755597112962\n",
      "1.0133779264214047\n",
      "0.021160486784543915\n",
      "1.0267558528428093\n",
      "0.021066978954549457\n",
      "1.040133779264214\n",
      "0.020977372098267756\n",
      "1.0535117056856187\n",
      "0.02089019544536377\n",
      "1.0668896321070234\n",
      "0.020805297641704683\n",
      "1.080267558528428\n",
      "0.020722273685694185\n",
      "1.0936454849498327\n",
      "0.02064158283820364\n",
      "1.1070234113712374\n",
      "0.02056310638692389\n",
      "1.120401337792642\n",
      "0.02048687079716857\n",
      "1.1337792642140467\n",
      "0.02041234055032558\n",
      "1.1471571906354514\n",
      "0.020340737952466246\n",
      "1.160535117056856\n",
      "0.02027569432215401\n",
      "1.1739130434782608\n",
      "0.020213308033711422\n",
      "1.1872909698996654\n",
      "0.020152146009278508\n",
      "1.2006688963210703\n",
      "0.020093031405286347\n",
      "1.214046822742475\n",
      "0.020038794029184594\n",
      "1.2274247491638797\n",
      "0.019987741406392343\n",
      "1.2408026755852843\n",
      "0.019939535942162814\n",
      "1.254180602006689\n",
      "0.019892348561273407\n",
      "1.2675585284280937\n",
      "0.019848037444957684\n",
      "1.2809364548494984\n",
      "0.01980886621189808\n",
      "1.294314381270903\n",
      "0.01977439600355671\n",
      "1.3076923076923077\n",
      "0.0197433728517871\n",
      "1.3210702341137124\n",
      "0.019716254411576258\n",
      "1.334448160535117\n",
      "0.019690741663154984\n",
      "1.3478260869565217\n",
      "0.019667591711360417\n",
      "1.3612040133779264\n",
      "0.019646832288366535\n",
      "1.374581939799331\n",
      "0.01962894726040241\n",
      "1.3879598662207357\n",
      "0.019613912999732433\n",
      "1.4013377926421404\n",
      "0.019599681035246744\n",
      "1.414715719063545\n",
      "0.019586759446843564\n",
      "1.4280936454849498\n",
      "0.019575495534959964\n",
      "1.4414715719063544\n",
      "0.019566565960619\n",
      "1.4548494983277591\n",
      "0.019559273914446684\n",
      "1.4682274247491638\n",
      "0.019554716274817478\n",
      "1.4816053511705687\n",
      "0.019552733057357035\n",
      "1.4949832775919734\n",
      "0.019551611771979557\n",
      "1.508361204013378\n",
      "0.01955265071418101\n",
      "1.5217391304347827\n",
      "0.01955454406673975\n",
      "1.5351170568561874\n",
      "0.01955719979791341\n",
      "1.548494983277592\n",
      "0.01956342588397008\n",
      "1.5618729096989967\n",
      "0.019571666425096692\n",
      "1.5752508361204014\n",
      "0.01958284284644363\n",
      "1.588628762541806\n",
      "0.019595240232298538\n",
      "1.6020066889632107\n",
      "0.019607886210243702\n",
      "1.6153846153846154\n",
      "0.01962122722329296\n",
      "1.62876254180602\n",
      "0.01963620545423287\n",
      "1.6421404682274248\n",
      "0.01965215835559681\n",
      "1.6555183946488294\n",
      "0.01967054531224276\n",
      "1.6688963210702341\n",
      "0.019691638732544117\n",
      "1.6822742474916388\n",
      "0.019715100832413898\n",
      "1.6956521739130435\n",
      "0.019740533181683423\n",
      "1.7090301003344481\n",
      "0.019766446315397413\n",
      "1.7224080267558528\n",
      "0.019794850528073518\n",
      "1.7357859531772575\n",
      "0.019824748518312046\n",
      "1.7491638795986622\n",
      "0.019855511857108363\n",
      "1.7625418060200668\n",
      "0.019889463955745642\n",
      "1.7759197324414715\n",
      "0.019924551673231875\n",
      "1.7892976588628762\n",
      "0.019959985191401335\n",
      "1.8026755852842808\n",
      "0.01999635652894821\n",
      "1.8160535117056855\n",
      "0.020034720766697427\n",
      "1.8294314381270902\n",
      "0.02007407953620265\n",
      "1.8428093645484949\n",
      "0.020115158018127858\n",
      "1.8561872909698995\n",
      "0.020156777321993953\n",
      "1.8695652173913042\n",
      "0.020199807364917565\n",
      "1.8829431438127089\n",
      "0.020243514914030102\n",
      "1.8963210702341136\n",
      "0.020288012003933716\n",
      "1.9096989966555182\n",
      "0.02033359260524671\n",
      "1.923076923076923\n",
      "0.02038047079953239\n",
      "1.9364548494983276\n",
      "0.0204283039560776\n",
      "1.9498327759197325\n",
      "0.020476775968013467\n",
      "1.9632107023411371\n",
      "0.02052637838073066\n",
      "1.9765886287625418\n",
      "0.020576246350973364\n",
      "1.9899665551839465\n",
      "0.02062912943298987\n",
      "2.0033444816053514\n",
      "0.02068316356274208\n",
      "2.016722408026756\n",
      "0.020739517268873714\n",
      "2.0301003344481607\n",
      "0.02079795714010913\n",
      "2.0434782608695654\n",
      "0.02085682627658939\n",
      "2.05685618729097\n",
      "0.020916107596936625\n",
      "2.0702341137123748\n",
      "0.020975773748862496\n",
      "2.0836120401337794\n",
      "0.021035423105084813\n",
      "2.096989966555184\n",
      "0.021095512230974237\n",
      "2.1103678929765888\n",
      "0.021155896547768623\n",
      "2.1237458193979935\n",
      "0.021216973756007697\n",
      "2.137123745819398\n",
      "0.021278345546809876\n",
      "2.150501672240803\n",
      "0.021340503078714327\n",
      "2.1638795986622075\n",
      "0.021403993358181515\n",
      "2.177257525083612\n",
      "0.021467872551489995\n",
      "2.190635451505017\n",
      "0.02153179981294301\n",
      "2.2040133779264215\n",
      "0.021595799812068567\n",
      "2.217391304347826\n",
      "0.021661924236104867\n",
      "2.230769230769231\n",
      "0.021729000110996027\n",
      "2.2441471571906355\n",
      "0.021797104892241723\n",
      "2.25752508361204\n",
      "0.021865640416998216\n",
      "2.270903010033445\n",
      "0.0219343730086603\n",
      "2.2842809364548495\n",
      "0.02200352317374181\n",
      "2.297658862876254\n",
      "0.022073462758113647\n",
      "2.311036789297659\n",
      "0.02214458315627151\n",
      "2.3244147157190636\n",
      "0.022217014544031154\n",
      "2.3377926421404682\n",
      "0.02229072862449441\n",
      "2.351170568561873\n",
      "0.022364578138603496\n",
      "2.3645484949832776\n",
      "0.022438638463270228\n",
      "2.3779264214046822\n",
      "0.02251306990034939\n",
      "2.391304347826087\n",
      "0.022588164200465492\n",
      "2.4046822742474916\n",
      "0.022663993737031454\n",
      "2.4180602006688963\n",
      "0.022739682396453\n",
      "2.431438127090301\n",
      "0.022815886650985932\n",
      "2.4448160535117056\n",
      "0.02289335564057992\n",
      "2.4581939799331103\n",
      "0.02297070343777904\n",
      "2.471571906354515\n",
      "0.023048137033623857\n",
      "2.4849498327759196\n",
      "0.02312619837425128\n",
      "2.4983277591973243\n",
      "0.023205157791305508\n",
      "2.511705685618729\n",
      "0.023284899675941637\n",
      "2.5250836120401337\n",
      "0.023364496112653534\n",
      "2.5384615384615383\n",
      "0.023444718940878514\n",
      "2.551839464882943\n",
      "0.023525059654700572\n",
      "2.5652173913043477\n",
      "0.02360527586836209\n",
      "2.5785953177257523\n",
      "0.02368533249389908\n",
      "2.591973244147157\n",
      "0.023765226629052488\n",
      "2.6053511705685617\n",
      "0.023845140040153555\n",
      "2.6187290969899664\n",
      "0.02392552911472599\n",
      "2.632107023411371\n",
      "0.024006232425011265\n",
      "2.6454849498327757\n",
      "0.024088099571602017\n",
      "2.6588628762541804\n"
     ]
    }
   ],
   "source": [
    "\n",
    "coef = 0 \n",
    "errorcoef = np.inf\n",
    "for l in np.linspace(1, 5, 300):\n",
    "\n",
    "    Arg1 = (Mixed[Mixed['FFF']==0]['xpos']/l)/((1 + (Mixed[Mixed['FFF']==0]['xpos']/l)**2)**(1/2))\n",
    "    Arg2 = (Mixed[Mixed['FFF']==0]['xneg']/l)/((1 + (Mixed[Mixed['FFF']==0]['xneg']/l)**2)**(1/2))\n",
    "\n",
    "    Arg3 = (Mixed[Mixed['FFF']==0]['ypos']/l)/((1 + (Mixed[Mixed['FFF']==0]['ypos']/l)**2)**(1/2))\n",
    "    Arg4 = (Mixed[Mixed['FFF']==0]['yneg']/l)/((1 + (Mixed[Mixed['FFF']==0]['yneg']/l)**2)**(1/2))\n",
    "    a = Mixed[Mixed['FFF']==0]['Big Z'] * (Arg1+Arg2) * (Arg3+Arg4) * (1 + (Mixed[Mixed['FFF']==0]['Rho']**2) * (0.046416 + 0.004642*Mixed[Mixed['FFF']==0]['Rho'] - 0.031623*Mixed[Mixed['FFF']==0]['Rho']**2 + 0.01*Mixed[Mixed['FFF']==0]['Rho']**3 +0.000316*Mixed[Mixed['FFF']==0]['Rho']**5))\n",
    "\n",
    "    a = a.reset_index(drop=True)\n",
    "\n",
    "    MIXEDF0 = Mixed[Mixed['FFF']==0].reset_index(drop=True)\n",
    "\n",
    "\n",
    "\n",
    "    MIXEDF0['a'] = a\n",
    "    LimitedSignal = []\n",
    "\n",
    "\n",
    "    NewA = []\n",
    "    for i in np.arange(0, MIXEDF0.shape[0]):\n",
    "        Limit = float(MIXEDF0.loc[i, 'Limit'])\n",
    "        Area = float(MIXEDF0.loc[i, 'Area'])\n",
    "        zforanalytic = float(MIXEDF0.loc[i, 'Z'])\n",
    "        maxsignal = MIXEDF0[(MIXEDF0['Limit']==Limit) & (MIXEDF0['Area']==Area) & (MIXEDF0['Z']==zforanalytic)]['señal'].max()\n",
    "        maxanalytic = MIXEDF0[(MIXEDF0['Limit']==Limit) & (MIXEDF0['Area']==Area) & (MIXEDF0['Z']==zforanalytic)]['a'].max()\n",
    "        NewA.append(MIXEDF0.loc[i, 'a']*(maxsignal/maxanalytic))\n",
    "\n",
    "        if np.abs(MIXEDF0.loc[i, 'r']) > MIXEDF0.loc[i, 'Limit']/2:\n",
    "            LimitedSignal.append(0)\n",
    "        else:\n",
    "            LimitedSignal.append(1)\n",
    "\n",
    "    MIXEDF0.drop('a', axis=1, inplace=True)\n",
    "    MIXEDF0['Analytic function'] = NewA\n",
    "    MIXEDF0['Limited'] = LimitedSignal\n",
    "\n",
    "\n",
    "\n",
    "    print(np.mean(np.abs(NewA-MIXEDF0['señal'])))\n",
    "    print(l)\n",
    "    if np.mean(np.abs(NewA-MIXEDF0['señal'])) < errorcoef:\n",
    "        errorcoef = np.mean(np.abs(NewA-MIXEDF0['señal']))\n",
    "        coef = l\n",
    "        \n",
    "        \n",
    "Arg1 = (Mixed[Mixed['FFF']==0]['xpos']/coef)/((1 + (Mixed[Mixed['FFF']==0]['xpos']/coef)**2)**(1/2))\n",
    "Arg2 = (Mixed[Mixed['FFF']==0]['xneg']/coef)/((1 + (Mixed[Mixed['FFF']==0]['xneg']/coef)**2)**(1/2))\n",
    "\n",
    "Arg3 = (Mixed[Mixed['FFF']==0]['ypos']/coef)/((1 + (Mixed[Mixed['FFF']==0]['ypos']/coef)**2)**(1/2))\n",
    "Arg4 = (Mixed[Mixed['FFF']==0]['yneg']/coef)/((1 + (Mixed[Mixed['FFF']==0]['yneg']/coef)**2)**(1/2))\n",
    "a = Mixed[Mixed['FFF']==0]['Big Z'] * (Arg1+Arg2) * (Arg3+Arg4) * (1 + (Mixed[Mixed['FFF']==0]['Rho']**2) * (0.046416 + 0.004642*Mixed[Mixed['FFF']==0]['Rho'] - 0.031623*Mixed[Mixed['FFF']==0]['Rho']**2 + 0.01*Mixed[Mixed['FFF']==0]['Rho']**3 +0.000316*Mixed[Mixed['FFF']==0]['Rho']**5))\n",
    "\n",
    "a = a.reset_index(drop=True)\n",
    "\n",
    "MIXEDF0 = Mixed[Mixed['FFF']==0].reset_index(drop=True)\n",
    "\n",
    "\n",
    "\n",
    "MIXEDF0['a'] = a\n",
    "LimitedSignal = []\n",
    "\n",
    "\n",
    "NewA = []\n",
    "for i in np.arange(0, MIXEDF0.shape[0]):\n",
    "    Limit = float(MIXEDF0.loc[i, 'Limit'])\n",
    "    Area = float(MIXEDF0.loc[i, 'Area'])\n",
    "    zforanalytic = float(MIXEDF0.loc[i, 'Z'])\n",
    "    maxsignal = MIXEDF0[(MIXEDF0['Limit']==Limit) & (MIXEDF0['Area']==Area) & (MIXEDF0['Z']==zforanalytic)]['señal'].max()\n",
    "    maxanalytic = MIXEDF0[(MIXEDF0['Limit']==Limit) & (MIXEDF0['Area']==Area) & (MIXEDF0['Z']==zforanalytic)]['a'].max()\n",
    "    NewA.append(MIXEDF0.loc[i, 'a']*(maxsignal/maxanalytic))\n",
    "\n",
    "    if np.abs(MIXEDF0.loc[i, 'r']) > MIXEDF0.loc[i, 'Limit']/2:\n",
    "        LimitedSignal.append(0)\n",
    "    else:\n",
    "        LimitedSignal.append(1)\n",
    "\n",
    "MIXEDF0.drop('a', axis=1, inplace=True)\n",
    "MIXEDF0['Analytic function'] = NewA\n",
    "MIXEDF0['Limited'] = LimitedSignal\n",
    "\n",
    "MIXEDF0.set_index('r')[['señal', 'Analytic function', 'Limited']].plot()"
   ]
  },
  {
   "cell_type": "code",
   "execution_count": null,
   "id": "59bf5b96",
   "metadata": {},
   "outputs": [],
   "source": [
    "coef"
   ]
  },
  {
   "cell_type": "code",
   "execution_count": null,
   "id": "6ec001f2",
   "metadata": {},
   "outputs": [],
   "source": [
    "MIXEDF0.set_index('r')[['señal', 'Analytic function']].plot()"
   ]
  },
  {
   "cell_type": "markdown",
   "id": "e7881778",
   "metadata": {},
   "source": [
    "# NN creation"
   ]
  },
  {
   "cell_type": "code",
   "execution_count": null,
   "id": "b7c796c3",
   "metadata": {},
   "outputs": [],
   "source": [
    "import tensorflow as tf \n",
    "from tensorflow.keras.models import Sequential\n",
    "from tensorflow.keras.layers import Dense, Activation, Dropout, Conv1D, MaxPooling1D, Reshape, Conv2D, BatchNormalization \n",
    "from tensorflow.keras.callbacks import EarlyStopping\n",
    "from sklearn.metrics import mean_absolute_error\n",
    "import keras_tuner as kt\n",
    "from sklearn.preprocessing import MinMaxScaler\n",
    "from sklearn.model_selection import train_test_split\n",
    "\n",
    "\n",
    "early_stopping = EarlyStopping(monitor='loss', patience=5)\n"
   ]
  },
  {
   "cell_type": "code",
   "execution_count": null,
   "id": "d3b6bb19",
   "metadata": {},
   "outputs": [],
   "source": [
    "MIXEDF0"
   ]
  },
  {
   "cell_type": "code",
   "execution_count": null,
   "id": "463ff388",
   "metadata": {},
   "outputs": [],
   "source": [
    "mean_absolute_error(MIXEDF0['señal'], MIXEDF0['Analytic function'])"
   ]
  },
  {
   "cell_type": "code",
   "execution_count": null,
   "id": "6b369a8d",
   "metadata": {},
   "outputs": [],
   "source": [
    "MIXEDF0.groupby(['Limit', 'Z']).count()"
   ]
  },
  {
   "cell_type": "code",
   "execution_count": null,
   "id": "4dee3275",
   "metadata": {},
   "outputs": [],
   "source": [
    "MMS = MinMaxScaler()"
   ]
  },
  {
   "cell_type": "code",
   "execution_count": null,
   "id": "b1c7d908",
   "metadata": {},
   "outputs": [],
   "source": [
    "MIXEDF0y = MIXEDF0.set_index('r')[['señal']]\n",
    "y = MIXEDF0y.to_numpy().reshape(12, 481, 1)\n",
    "\n",
    "x0 = MIXEDF0[['Analytic function']]\n",
    "x1 = MIXEDF0[['r', 'Z', 'Area', 'Big Z', 'Rho']]\n",
    "\n",
    "from sklearn.decomposition import PCA\n",
    "pca = PCA(n_components=0.99, svd_solver='full')\n",
    "\n",
    "x1 = pca.fit_transform(x1)\n",
    "x1 = pd.DataFrame(x1)\n",
    "\n",
    "x = x0.reset_index(drop=True)\n",
    "             \n",
    "xpre = x \n",
    "\n",
    "x = MMS.fit_transform(x).reshape(12, 481, x.shape[1])\n",
    "xpre = xpre.values.reshape(12, 481, xpre.shape[1])\n",
    "\n",
    "MMS = MinMaxScaler()\n",
    "\n",
    "x_trainr, x_testr = train_test_split(xpre, random_state=20)\n",
    "\n",
    "x_train, x_test, y_train, y_test = train_test_split(x, y, random_state=20)\n",
    "mean_absolute_error(x_testr[:,:,0].reshape(x_testr.shape[0], x_testr.shape[1]), y_test.reshape(x_testr.shape[0], x_testr.shape[1]))"
   ]
  },
  {
   "cell_type": "markdown",
   "id": "7aeac07c",
   "metadata": {},
   "source": [
    "Con los valores de la iteracion in = 0: 0.019607886210243702"
   ]
  },
  {
   "cell_type": "code",
   "execution_count": null,
   "id": "98253b96",
   "metadata": {
    "scrolled": true
   },
   "outputs": [],
   "source": [
    "mean_absolute_error(MIXEDF0[['Analytic function']], MIXEDF0[['señal']])"
   ]
  },
  {
   "cell_type": "code",
   "execution_count": null,
   "id": "375a47bd",
   "metadata": {},
   "outputs": [],
   "source": [
    "mean_absolute_error(x_testr[:,:,0].reshape(x_testr.shape[0], x_testr.shape[1]), y_test.reshape(x_testr.shape[0], x_testr.shape[1]))"
   ]
  },
  {
   "cell_type": "code",
   "execution_count": null,
   "id": "1f62db8c",
   "metadata": {},
   "outputs": [],
   "source": [
    "MIXEDF0.set_index('r')[['Analytic function']].plot()"
   ]
  },
  {
   "cell_type": "markdown",
   "id": "7c68bd2c",
   "metadata": {},
   "source": [
    "## MAE"
   ]
  },
  {
   "cell_type": "code",
   "execution_count": null,
   "id": "ab4f96b8",
   "metadata": {
    "scrolled": true
   },
   "outputs": [],
   "source": [
    "def model_builder(hp):\n",
    "\n",
    "    hp_units1 = hp.Choice('units Conv', values=[4, 8, 16, 32, 64])\n",
    "    hp_units3 = hp.Int('units 3', min_value=200, max_value=2000, step=50)\n",
    "    hp_units4 = hp.Int('units 4', min_value=10, max_value=200, step=10)\n",
    "    kernel1 = hp.Choice('kernel 1', values=[1, 3, 5, 7, 9])\n",
    "    hp_learning_rate = hp.Choice('learning_rate', values=[1e-2, 1e-3])\n",
    "    dropout = hp.Float('Dropout', min_value=0, max_value=0.2, step=0.05)\n",
    "    activation1=hp.Choice('dense_activation 1',values=['relu', 'relu', 'elu', 'selu'])\n",
    "    activation2=hp.Choice('dense_activation 2',values=['relu', 'relu', 'elu', 'selu'])\n",
    "    activation3=hp.Choice('dense_activation 3',values=['relu', 'relu', 'elu', 'selu'])\n",
    "    activation4=hp.Choice('dense_activation 4',values=['relu', 'relu', 'elu', 'selu'])\n",
    "    activation5=hp.Choice('dense_activation 5',values=['relu', 'relu', 'elu', 'selu'])\n",
    "    activation6=hp.Choice('dense_activation 6',values=['relu', 'linear'])\n",
    "\n",
    "\n",
    "    model = Sequential()\n",
    "    model.add(Conv1D(hp_units1, (kernel1), padding='same', activation=activation1))\n",
    "    model.add(Dropout(dropout))\n",
    "    model.add(Conv1D(hp_units1*2, kernel_size=(kernel1), padding='same', activation=activation2))\n",
    "    model.add(Dropout(dropout))\n",
    "    model.add(Conv1D(hp_units1*4, kernel_size=(kernel1), padding='same', activation=activation3))\n",
    "    model.add(Dropout(dropout))\n",
    "    model.add(Dense(hp_units3, activation=activation4))\n",
    "    model.add(Dense(hp_units4, activation=activation5))\n",
    "    model.add(Dense(1, activation=activation6))\n",
    "    model.compile(optimizer=tf.keras.optimizers.RMSprop(learning_rate=hp_learning_rate)\n",
    "                                , loss='mae', metrics = ['MAE'])\n",
    "    return model\n",
    "\n",
    "tuner = kt.Hyperband(model_builder, \n",
    "                     objective='val_loss', max_epochs=150, hyperband_iterations=3,\n",
    "                     directory='my_dir',\n",
    "                     project_name='Conv1D_IN0_RMSprop')\n",
    "\n",
    "\n",
    "stop_early = tf.keras.callbacks.EarlyStopping(monitor='loss', patience=3)\n",
    "\n",
    "tuner.search(x_train, y_train, epochs=100, validation_data=(x_test, y_test), callbacks=[stop_early], batch_size=x_train.shape[0])\n",
    "\n"
   ]
  },
  {
   "cell_type": "code",
   "execution_count": null,
   "id": "9db872fb",
   "metadata": {},
   "outputs": [],
   "source": [
    "def model_builder(hp):\n",
    "\n",
    "    hp_units1 = hp.Choice('units Conv', values=[4, 8, 16, 32, 64])\n",
    "    hp_units3 = hp.Int('units 3', min_value=200, max_value=2000, step=50)\n",
    "    hp_units4 = hp.Int('units 4', min_value=10, max_value=200, step=10)\n",
    "    kernel1 = hp.Choice('kernel 1', values=[1, 3, 5, 7, 9, 11, 13, 15, 17, 19])\n",
    "    hp_learning_rate = hp.Choice('learning_rate', values=[1e-2, 1e-3])\n",
    "    dropout = hp.Float('Dropout', min_value=0, max_value=0.2, step=0.05)\n",
    "    activation1=hp.Choice('dense_activation 1',values=['relu', 'relu', 'elu', 'selu'])\n",
    "    activation2=hp.Choice('dense_activation 2',values=['relu', 'relu', 'elu', 'selu'])\n",
    "    activation3=hp.Choice('dense_activation 3',values=['relu', 'relu', 'elu', 'selu'])\n",
    "    activation4=hp.Choice('dense_activation 4',values=['relu', 'relu', 'elu', 'selu'])\n",
    "    activation5=hp.Choice('dense_activation 5',values=['relu', 'relu', 'elu', 'selu'])\n",
    "    activation6=hp.Choice('dense_activation 6',values=['relu', 'linear'])\n",
    "\n",
    "\n",
    "    model = Sequential()\n",
    "    model.add(Conv1D(hp_units1, (kernel1), padding='same', activation=activation1))\n",
    "    model.add(Dropout(dropout))\n",
    "    model.add(Conv1D(hp_units1*2, kernel_size=(kernel1), padding='same', activation=activation2))\n",
    "    model.add(Dropout(dropout))\n",
    "    model.add(Conv1D(hp_units1*4, kernel_size=(kernel1), padding='same', activation=activation3))\n",
    "    model.add(Dropout(dropout))\n",
    "    model.add(Dense(hp_units3, activation=activation4))\n",
    "    model.add(Dense(hp_units4, activation=activation5))\n",
    "    model.add(Dense(1, activation=activation6))\n",
    "    model.compile(optimizer=tf.keras.optimizers.Adamax(learning_rate=hp_learning_rate)\n",
    "                                , loss='mae', metrics = ['MAE'])\n",
    "    return model\n",
    "\n",
    "tuner = kt.Hyperband(model_builder, \n",
    "                     objective='val_loss', max_epochs=150, hyperband_iterations=3,\n",
    "                     directory='my_dir',\n",
    "                     project_name='Conv1D_IN0_Adamax')\n",
    "\n",
    "stop_early = tf.keras.callbacks.EarlyStopping(monitor='loss', patience=3)\n",
    "\n",
    "tuner.search(x_train, y_train, epochs=100, validation_data=(x_test, y_test), callbacks=[stop_early], batch_size=x_train.shape[0])\n",
    "\n"
   ]
  },
  {
   "cell_type": "code",
   "execution_count": null,
   "id": "b4d42e79",
   "metadata": {},
   "outputs": [],
   "source": [
    "def model_builder(hp):\n",
    "\n",
    "    hp_units1 = hp.Choice('units Conv', values=[4, 8, 16, 32, 64])\n",
    "    hp_units3 = hp.Int('units 3', min_value=200, max_value=2000, step=50)\n",
    "    hp_units4 = hp.Int('units 4', min_value=10, max_value=200, step=10)\n",
    "    kernel1 = hp.Choice('kernel 1', values=[1, 3, 5, 7, 9])\n",
    "    hp_learning_rate = hp.Choice('learning_rate', values=[1e-2, 1e-3])\n",
    "    dropout = hp.Float('Dropout', min_value=0, max_value=0.2, step=0.05)\n",
    "    activation1=hp.Choice('dense_activation 1',values=['relu', 'relu', 'elu', 'selu'])\n",
    "    activation2=hp.Choice('dense_activation 2',values=['relu', 'relu', 'elu', 'selu'])\n",
    "    activation3=hp.Choice('dense_activation 3',values=['relu', 'relu', 'elu', 'selu'])\n",
    "    activation4=hp.Choice('dense_activation 4',values=['relu', 'relu', 'elu', 'selu'])\n",
    "    activation5=hp.Choice('dense_activation 5',values=['relu', 'relu', 'elu', 'selu'])\n",
    "    activation6=hp.Choice('dense_activation 6',values=['relu', 'linear'])\n",
    "\n",
    "\n",
    "    model = Sequential()\n",
    "    model.add(Conv1D(hp_units1, kernel1, padding='same', activation=activation1))\n",
    "    model.add(Dropout(dropout))\n",
    "    model.add(Conv1D(hp_units1*2, kernel_size=(kernel1), padding='same', activation=activation2))\n",
    "    model.add(Dropout(dropout))\n",
    "    model.add(Conv1D(hp_units1*4, kernel_size=(kernel1), padding='same', activation=activation3))\n",
    "    model.add(Dropout(dropout))\n",
    "    model.add(Dense(hp_units3, activation=activation4))\n",
    "    model.add(Dense(hp_units4, activation=activation5))\n",
    "    model.add(Dense(1, activation=activation6))\n",
    "    model.compile(optimizer=tf.keras.optimizers.Adam(learning_rate=hp_learning_rate)\n",
    "                                , loss='mae', metrics = ['MAE'])\n",
    "    return model\n",
    "\n",
    "tuner = kt.Hyperband(model_builder, \n",
    "                     objective='val_loss', max_epochs=150, hyperband_iterations=3,\n",
    "                     directory='my_dir',\n",
    "                     project_name='Conv1D_IN0_Adam')\n",
    "\n",
    "\n",
    "stop_early = tf.keras.callbacks.EarlyStopping(monitor='loss', patience=3)\n",
    "\n",
    "tuner.search(x_train, y_train, epochs=100, validation_data=(x_test, y_test), callbacks=[stop_early], batch_size=x_train.shape[0])\n",
    "\n"
   ]
  },
  {
   "cell_type": "markdown",
   "id": "ef9f7dbe",
   "metadata": {},
   "source": [
    "## COSLOGH"
   ]
  },
  {
   "cell_type": "code",
   "execution_count": null,
   "id": "a92b3438",
   "metadata": {
    "scrolled": true
   },
   "outputs": [],
   "source": [
    "def model_builder(hp):\n",
    "\n",
    "    hp_units1 = hp.Choice('units Conv', values=[4, 8, 16, 32, 64])\n",
    "    hp_units3 = hp.Int('units 3', min_value=200, max_value=2000, step=50)\n",
    "    hp_units4 = hp.Int('units 4', min_value=10, max_value=200, step=10)\n",
    "    kernel1 = hp.Choice('kernel 1', values=[1, 3, 5, 7, 9])\n",
    "    hp_learning_rate = hp.Choice('learning_rate', values=[1e-2, 1e-3])\n",
    "    dropout = hp.Float('Dropout', min_value=0, max_value=0.2, step=0.05)\n",
    "    activation1=hp.Choice('dense_activation 1',values=['relu', 'relu', 'elu', 'selu'])\n",
    "    activation2=hp.Choice('dense_activation 2',values=['relu', 'relu', 'elu', 'selu'])\n",
    "    activation3=hp.Choice('dense_activation 3',values=['relu', 'relu', 'elu', 'selu'])\n",
    "    activation4=hp.Choice('dense_activation 4',values=['relu', 'relu', 'elu', 'selu'])\n",
    "    activation5=hp.Choice('dense_activation 5',values=['relu', 'relu', 'elu', 'selu'])\n",
    "    activation6=hp.Choice('dense_activation 6',values=['relu', 'linear'])\n",
    "\n",
    "\n",
    "    model = Sequential()\n",
    "    model.add(Conv1D(hp_units1, (kernel1), padding='same', activation=activation1))\n",
    "    model.add(Dropout(dropout))\n",
    "    model.add(Conv1D(hp_units1*2, kernel_size=(kernel1), padding='same', activation=activation2))\n",
    "    model.add(Dropout(dropout))\n",
    "    model.add(Conv1D(hp_units1*4, kernel_size=(kernel1), padding='same', activation=activation3))\n",
    "    model.add(Dropout(dropout))\n",
    "    model.add(Dense(hp_units3, activation=activation4))\n",
    "    model.add(Dense(hp_units4, activation=activation5))\n",
    "    model.add(Dense(1, activation=activation6))\n",
    "    model.compile(optimizer=tf.keras.optimizers.RMSprop(learning_rate=hp_learning_rate)\n",
    "                                , loss='log_cosh', metrics = ['MAE'])\n",
    "    return model\n",
    "\n",
    "tuner = kt.Hyperband(model_builder, \n",
    "                     objective='val_MAE', max_epochs=150, hyperband_iterations=3,\n",
    "                     directory='my_dir',\n",
    "                     project_name='Conv1D_COSLOGH_IN0_RMSprop')\n",
    "\n",
    "\n",
    "stop_early = tf.keras.callbacks.EarlyStopping(monitor='loss', patience=3)\n",
    "\n",
    "tuner.search(x_train, y_train, epochs=100, validation_data=(x_test, y_test), callbacks=[stop_early], batch_size=x_train.shape[0])\n",
    "\n"
   ]
  },
  {
   "cell_type": "code",
   "execution_count": null,
   "id": "426fd4fc",
   "metadata": {},
   "outputs": [],
   "source": [
    "def model_builder(hp):\n",
    "\n",
    "    hp_units1 = hp.Choice('units Conv', values=[4, 8, 16, 32, 64])\n",
    "    hp_units3 = hp.Int('units 3', min_value=200, max_value=2000, step=50)\n",
    "    hp_units4 = hp.Int('units 4', min_value=10, max_value=200, step=10)\n",
    "    kernel1 = hp.Choice('kernel 1', values=[1, 3, 5, 7, 9, 11, 13, 15, 17, 19])\n",
    "    hp_learning_rate = hp.Choice('learning_rate', values=[1e-2, 1e-3])\n",
    "    dropout = hp.Float('Dropout', min_value=0, max_value=0.2, step=0.05)\n",
    "    activation1=hp.Choice('dense_activation 1',values=['relu', 'relu', 'elu', 'selu'])\n",
    "    activation2=hp.Choice('dense_activation 2',values=['relu', 'relu', 'elu', 'selu'])\n",
    "    activation3=hp.Choice('dense_activation 3',values=['relu', 'relu', 'elu', 'selu'])\n",
    "    activation4=hp.Choice('dense_activation 4',values=['relu', 'relu', 'elu', 'selu'])\n",
    "    activation5=hp.Choice('dense_activation 5',values=['relu', 'relu', 'elu', 'selu'])\n",
    "    activation6=hp.Choice('dense_activation 6',values=['relu', 'linear'])\n",
    "\n",
    "\n",
    "    model = Sequential()\n",
    "    model.add(Conv1D(hp_units1, (kernel1), padding='same', activation=activation1))\n",
    "    model.add(Dropout(dropout))\n",
    "    model.add(Conv1D(hp_units1*2, kernel_size=(kernel1), padding='same', activation=activation2))\n",
    "    model.add(Dropout(dropout))\n",
    "    model.add(Conv1D(hp_units1*4, kernel_size=(kernel1), padding='same', activation=activation3))\n",
    "    model.add(Dropout(dropout))\n",
    "    model.add(Dense(hp_units3, activation=activation4))\n",
    "    model.add(Dense(hp_units4, activation=activation5))\n",
    "    model.add(Dense(1, activation=activation6))\n",
    "    model.compile(optimizer=tf.keras.optimizers.Adamax(learning_rate=hp_learning_rate)\n",
    "                                , loss='log_cosh', metrics = ['MAE'])\n",
    "    return model\n",
    "\n",
    "tuner = kt.Hyperband(model_builder, \n",
    "                     objective='val_MAE', max_epochs=150, hyperband_iterations=3,\n",
    "                     directory='my_dir',\n",
    "                     project_name='Conv1D_COSLOGH_IN0_Adamax')\n",
    "\n",
    "stop_early = tf.keras.callbacks.EarlyStopping(monitor='loss', patience=3)\n",
    "\n",
    "tuner.search(x_train, y_train, epochs=100, validation_data=(x_test, y_test), callbacks=[stop_early], batch_size=x_train.shape[0])\n",
    "\n"
   ]
  },
  {
   "cell_type": "code",
   "execution_count": null,
   "id": "7a3f9435",
   "metadata": {},
   "outputs": [],
   "source": [
    "def model_builder(hp):\n",
    "\n",
    "    hp_units1 = hp.Choice('units Conv', values=[4, 8, 16, 32, 64])\n",
    "    hp_units3 = hp.Int('units 3', min_value=200, max_value=2000, step=50)\n",
    "    hp_units4 = hp.Int('units 4', min_value=10, max_value=200, step=10)\n",
    "    kernel1 = hp.Choice('kernel 1', values=[1, 3, 5, 7, 9])\n",
    "    hp_learning_rate = hp.Choice('learning_rate', values=[1e-2, 1e-3])\n",
    "    dropout = hp.Float('Dropout', min_value=0, max_value=0.2, step=0.05)\n",
    "    activation1=hp.Choice('dense_activation 1',values=['relu', 'relu', 'elu', 'selu'])\n",
    "    activation2=hp.Choice('dense_activation 2',values=['relu', 'relu', 'elu', 'selu'])\n",
    "    activation3=hp.Choice('dense_activation 3',values=['relu', 'relu', 'elu', 'selu'])\n",
    "    activation4=hp.Choice('dense_activation 4',values=['relu', 'relu', 'elu', 'selu'])\n",
    "    activation5=hp.Choice('dense_activation 5',values=['relu', 'relu', 'elu', 'selu'])\n",
    "    activation6=hp.Choice('dense_activation 6',values=['relu', 'linear'])\n",
    "\n",
    "\n",
    "    model = Sequential()\n",
    "    model.add(Conv1D(hp_units1, kernel1, padding='same', activation=activation1))\n",
    "    model.add(Dropout(dropout))\n",
    "    model.add(Conv1D(hp_units1*2, kernel_size=(kernel1), padding='same', activation=activation2))\n",
    "    model.add(Dropout(dropout))\n",
    "    model.add(Conv1D(hp_units1*4, kernel_size=(kernel1), padding='same', activation=activation3))\n",
    "    model.add(Dropout(dropout))\n",
    "    model.add(Dense(hp_units3, activation=activation4))\n",
    "    model.add(Dense(hp_units4, activation=activation5))\n",
    "    model.add(Dense(1, activation=activation6))\n",
    "    model.compile(optimizer=tf.keras.optimizers.Adam(learning_rate=hp_learning_rate)\n",
    "                                , loss='log_cosh', metrics = ['MAE'])\n",
    "    return model\n",
    "\n",
    "tuner = kt.Hyperband(model_builder, \n",
    "                     objective='val_MAE', max_epochs=150, hyperband_iterations=3,\n",
    "                     directory='my_dir',\n",
    "                     project_name='Conv1D_COSLOGH_IN0_Adam')\n",
    "\n",
    "\n",
    "stop_early = tf.keras.callbacks.EarlyStopping(monitor='loss', patience=3)\n",
    "\n",
    "tuner.search(x_train, y_train, epochs=100, validation_data=(x_test, y_test), callbacks=[stop_early], batch_size=x_train.shape[0])\n",
    "\n"
   ]
  },
  {
   "cell_type": "markdown",
   "id": "54c18c00",
   "metadata": {},
   "source": [
    "## MSE"
   ]
  },
  {
   "cell_type": "code",
   "execution_count": null,
   "id": "21023d10",
   "metadata": {
    "scrolled": true
   },
   "outputs": [],
   "source": [
    "def model_builder(hp):\n",
    "\n",
    "    hp_units1 = hp.Choice('units Conv', values=[4, 8, 16, 32, 64])\n",
    "    hp_units3 = hp.Int('units 3', min_value=200, max_value=2000, step=50)\n",
    "    hp_units4 = hp.Int('units 4', min_value=10, max_value=200, step=10)\n",
    "    kernel1 = hp.Choice('kernel 1', values=[1, 3, 5, 7, 9])\n",
    "    hp_learning_rate = hp.Choice('learning_rate', values=[1e-2, 1e-3])\n",
    "    dropout = hp.Float('Dropout', min_value=0, max_value=0.2, step=0.05)\n",
    "    activation1=hp.Choice('dense_activation 1',values=['relu', 'relu', 'elu', 'selu'])\n",
    "    activation2=hp.Choice('dense_activation 2',values=['relu', 'relu', 'elu', 'selu'])\n",
    "    activation3=hp.Choice('dense_activation 3',values=['relu', 'relu', 'elu', 'selu'])\n",
    "    activation4=hp.Choice('dense_activation 4',values=['relu', 'relu', 'elu', 'selu'])\n",
    "    activation5=hp.Choice('dense_activation 5',values=['relu', 'relu', 'elu', 'selu'])\n",
    "    activation6=hp.Choice('dense_activation 6',values=['relu', 'linear'])\n",
    "\n",
    "\n",
    "    model = Sequential()\n",
    "    model.add(Conv1D(hp_units1, (kernel1), padding='same', activation=activation1))\n",
    "    model.add(Dropout(dropout))\n",
    "    model.add(Conv1D(hp_units1*2, kernel_size=(kernel1), padding='same', activation=activation2))\n",
    "    model.add(Dropout(dropout))\n",
    "    model.add(Conv1D(hp_units1*4, kernel_size=(kernel1), padding='same', activation=activation3))\n",
    "    model.add(Dropout(dropout))\n",
    "    model.add(Dense(hp_units3, activation=activation4))\n",
    "    model.add(Dense(hp_units4, activation=activation5))\n",
    "    model.add(Dense(1, activation=activation6))\n",
    "    model.compile(optimizer=tf.keras.optimizers.RMSprop(learning_rate=hp_learning_rate)\n",
    "                                , loss='mse', metrics = ['MAE'])\n",
    "    return model\n",
    "\n",
    "tuner = kt.Hyperband(model_builder, \n",
    "                     objective='val_MAE', max_epochs=150, hyperband_iterations=3,\n",
    "                     directory='my_dir',\n",
    "                     project_name='Conv1D_MSE_IN0_RMSprop')\n",
    "\n",
    "\n",
    "stop_early = tf.keras.callbacks.EarlyStopping(monitor='loss', patience=3)\n",
    "\n",
    "tuner.search(x_train, y_train, epochs=100, validation_data=(x_test, y_test), callbacks=[stop_early], batch_size=x_train.shape[0])\n",
    "\n"
   ]
  },
  {
   "cell_type": "code",
   "execution_count": null,
   "id": "e75c702f",
   "metadata": {},
   "outputs": [],
   "source": [
    "def model_builder(hp):\n",
    "\n",
    "    hp_units1 = hp.Choice('units Conv', values=[4, 8, 16, 32, 64])\n",
    "    hp_units3 = hp.Int('units 3', min_value=200, max_value=2000, step=50)\n",
    "    hp_units4 = hp.Int('units 4', min_value=10, max_value=200, step=10)\n",
    "    kernel1 = hp.Choice('kernel 1', values=[1, 3, 5, 7, 9, 11, 13, 15, 17, 19])\n",
    "    hp_learning_rate = hp.Choice('learning_rate', values=[1e-2, 1e-3])\n",
    "    dropout = hp.Float('Dropout', min_value=0, max_value=0.2, step=0.05)\n",
    "    activation1=hp.Choice('dense_activation 1',values=['relu', 'relu', 'elu', 'selu'])\n",
    "    activation2=hp.Choice('dense_activation 2',values=['relu', 'relu', 'elu', 'selu'])\n",
    "    activation3=hp.Choice('dense_activation 3',values=['relu', 'relu', 'elu', 'selu'])\n",
    "    activation4=hp.Choice('dense_activation 4',values=['relu', 'relu', 'elu', 'selu'])\n",
    "    activation5=hp.Choice('dense_activation 5',values=['relu', 'relu', 'elu', 'selu'])\n",
    "    activation6=hp.Choice('dense_activation 6',values=['relu', 'linear'])\n",
    "\n",
    "\n",
    "    model = Sequential()\n",
    "    model.add(Conv1D(hp_units1, (kernel1), padding='same', activation=activation1))\n",
    "    model.add(Dropout(dropout))\n",
    "    model.add(Conv1D(hp_units1*2, kernel_size=(kernel1), padding='same', activation=activation2))\n",
    "    model.add(Dropout(dropout))\n",
    "    model.add(Conv1D(hp_units1*4, kernel_size=(kernel1), padding='same', activation=activation3))\n",
    "    model.add(Dropout(dropout))\n",
    "    model.add(Dense(hp_units3, activation=activation4))\n",
    "    model.add(Dense(hp_units4, activation=activation5))\n",
    "    model.add(Dense(1, activation=activation6))\n",
    "    model.compile(optimizer=tf.keras.optimizers.Adamax(learning_rate=hp_learning_rate)\n",
    "                                , loss='mse', metrics = ['MAE'])\n",
    "    return model\n",
    "\n",
    "tuner = kt.Hyperband(model_builder, \n",
    "                     objective='val_MAE', max_epochs=150, hyperband_iterations=3,\n",
    "                     directory='my_dir',\n",
    "                     project_name='Conv1D_MSE_IN0_Adamax')\n",
    "\n",
    "stop_early = tf.keras.callbacks.EarlyStopping(monitor='loss', patience=3)\n",
    "\n",
    "tuner.search(x_train, y_train, epochs=100, validation_data=(x_test, y_test), callbacks=[stop_early], batch_size=x_train.shape[0])\n",
    "\n"
   ]
  },
  {
   "cell_type": "code",
   "execution_count": null,
   "id": "3f9eebf2",
   "metadata": {},
   "outputs": [],
   "source": [
    "def model_builder(hp):\n",
    "\n",
    "    hp_units1 = hp.Choice('units Conv', values=[4, 8, 16, 32, 64])\n",
    "    hp_units3 = hp.Int('units 3', min_value=200, max_value=2000, step=50)\n",
    "    hp_units4 = hp.Int('units 4', min_value=10, max_value=200, step=10)\n",
    "    kernel1 = hp.Choice('kernel 1', values=[1, 3, 5, 7, 9])\n",
    "    hp_learning_rate = hp.Choice('learning_rate', values=[1e-2, 1e-3])\n",
    "    dropout = hp.Float('Dropout', min_value=0, max_value=0.2, step=0.05)\n",
    "    activation1=hp.Choice('dense_activation 1',values=['relu', 'relu', 'elu', 'selu'])\n",
    "    activation2=hp.Choice('dense_activation 2',values=['relu', 'relu', 'elu', 'selu'])\n",
    "    activation3=hp.Choice('dense_activation 3',values=['relu', 'relu', 'elu', 'selu'])\n",
    "    activation4=hp.Choice('dense_activation 4',values=['relu', 'relu', 'elu', 'selu'])\n",
    "    activation5=hp.Choice('dense_activation 5',values=['relu', 'relu', 'elu', 'selu'])\n",
    "    activation6=hp.Choice('dense_activation 6',values=['relu', 'linear'])\n",
    "\n",
    "\n",
    "    model = Sequential()\n",
    "    model.add(Conv1D(hp_units1, kernel1, padding='same', activation=activation1))\n",
    "    model.add(Dropout(dropout))\n",
    "    model.add(Conv1D(hp_units1*2, kernel_size=(kernel1), padding='same', activation=activation2))\n",
    "    model.add(Dropout(dropout))\n",
    "    model.add(Conv1D(hp_units1*4, kernel_size=(kernel1), padding='same', activation=activation3))\n",
    "    model.add(Dropout(dropout))\n",
    "    model.add(Dense(hp_units3, activation=activation4))\n",
    "    model.add(Dense(hp_units4, activation=activation5))\n",
    "    model.add(Dense(1, activation=activation6))\n",
    "    model.compile(optimizer=tf.keras.optimizers.Adam(learning_rate=hp_learning_rate)\n",
    "                                , loss='mse', metrics = ['MAE'])\n",
    "    return model\n",
    "\n",
    "tuner = kt.Hyperband(model_builder, \n",
    "                     objective='val_MAE', max_epochs=150, hyperband_iterations=3,\n",
    "                     directory='my_dir',\n",
    "                     project_name='Conv1D_MSE_IN0_Adam')\n",
    "\n",
    "\n",
    "stop_early = tf.keras.callbacks.EarlyStopping(monitor='loss', patience=3)\n",
    "\n",
    "tuner.search(x_train, y_train, epochs=100, validation_data=(x_test, y_test), callbacks=[stop_early], batch_size=x_train.shape[0])\n",
    "\n"
   ]
  },
  {
   "cell_type": "markdown",
   "id": "baaf33f6",
   "metadata": {},
   "source": [
    "# results"
   ]
  },
  {
   "cell_type": "markdown",
   "id": "a6ae4a39",
   "metadata": {},
   "source": [
    "## Analytic result"
   ]
  },
  {
   "cell_type": "code",
   "execution_count": null,
   "id": "325fcb42",
   "metadata": {},
   "outputs": [],
   "source": [
    "mean_absolute_error(x_testr[:,:,0].reshape(x_testr.shape[0], x_testr.shape[1]), y_test.reshape(x_testr.shape[0], x_testr.shape[1]))"
   ]
  },
  {
   "cell_type": "markdown",
   "id": "0452e830",
   "metadata": {},
   "source": [
    "## MAE"
   ]
  },
  {
   "cell_type": "code",
   "execution_count": null,
   "id": "72812879",
   "metadata": {
    "scrolled": true
   },
   "outputs": [],
   "source": [
    "tuner = kt.Hyperband(model_builder, \n",
    "                     objective='val_loss', max_epochs=150, hyperband_iterations=3,\n",
    "                     directory='my_dir', \n",
    "                     project_name='Conv1D_IN0_RMSprop')\n",
    "\n",
    "modelRMSpropMAE = tuner.get_best_models()[0]\n",
    "mean_absolute_error(modelRMSpropMAE.predict(x_test).reshape(x_testr.shape[0], x_testr.shape[1]), y_test.reshape(x_testr.shape[0], x_testr.shape[1]))\n"
   ]
  },
  {
   "cell_type": "code",
   "execution_count": null,
   "id": "a4c9a4dc",
   "metadata": {},
   "outputs": [],
   "source": [
    "tuner = kt.Hyperband(model_builder, \n",
    "                     objective='val_loss', max_epochs=150, hyperband_iterations=3,\n",
    "                     directory='my_dir', \n",
    "                     project_name='Conv1D_IN0_Adamax')\n",
    "\n",
    "modelAdamaxMAE = tuner.get_best_models()[0]\n",
    "mean_absolute_error(modelAdamaxMAE.predict(x_test).reshape(x_testr.shape[0], x_testr.shape[1]), y_test.reshape(x_testr.shape[0], x_testr.shape[1]))\n"
   ]
  },
  {
   "cell_type": "code",
   "execution_count": null,
   "id": "0606949c",
   "metadata": {},
   "outputs": [],
   "source": [
    "tuner = kt.Hyperband(model_builder, \n",
    "                     objective='val_loss', max_epochs=150, hyperband_iterations=3,\n",
    "                     directory='my_dir', \n",
    "                     project_name='Conv1D_IN0_Adam')\n",
    "\n",
    "modelAdamMAE = tuner.get_best_models()[0]\n",
    "mean_absolute_error(modelAdamMAE.predict(x_test).reshape(x_testr.shape[0], x_testr.shape[1]), y_test.reshape(x_testr.shape[0], x_testr.shape[1]))\n"
   ]
  },
  {
   "cell_type": "markdown",
   "id": "6f332234",
   "metadata": {},
   "source": [
    "## COSLOGH"
   ]
  },
  {
   "cell_type": "code",
   "execution_count": null,
   "id": "9a8bd1bb",
   "metadata": {
    "scrolled": true
   },
   "outputs": [],
   "source": [
    "tuner = kt.Hyperband(model_builder, \n",
    "                     objective='val_loss', max_epochs=150, hyperband_iterations=3,\n",
    "                     directory='my_dir', \n",
    "                     project_name='Conv1D_COSLOGH_IN0_RMSprop')\n",
    "\n",
    "modelRMSpropCOSLOGH = tuner.get_best_models()[0]\n",
    "mean_absolute_error(modelRMSpropCOSLOGH.predict(x_test).reshape(x_testr.shape[0], x_testr.shape[1]), y_test.reshape(x_testr.shape[0], x_testr.shape[1]))\n"
   ]
  },
  {
   "cell_type": "code",
   "execution_count": null,
   "id": "fe111b2e",
   "metadata": {},
   "outputs": [],
   "source": [
    "tuner = kt.Hyperband(model_builder, \n",
    "                     objective='val_loss', max_epochs=150, hyperband_iterations=3,\n",
    "                     directory='my_dir', \n",
    "                     project_name='Conv1D_COSLOGH_IN0_Adamax')\n",
    "\n",
    "modelAdamaxCOSLOGH = tuner.get_best_models()[0]\n",
    "modelAdamaxCOSLOGH.build([12, 481, 1])\n",
    "modelAdamaxCOSLOGH.summary()\n"
   ]
  },
  {
   "cell_type": "code",
   "execution_count": null,
   "id": "8087bcca",
   "metadata": {},
   "outputs": [],
   "source": [
    "import pandas as pd "
   ]
  },
  {
   "cell_type": "code",
   "execution_count": null,
   "id": "50901c2d",
   "metadata": {},
   "outputs": [],
   "source": [
    "modelAdamaxCOSLOGH.summary()\n"
   ]
  },
  {
   "cell_type": "code",
   "execution_count": null,
   "id": "b7a51f2a",
   "metadata": {},
   "outputs": [],
   "source": [
    "tuner = kt.Hyperband(model_builder, \n",
    "                     objective='val_loss', max_epochs=150, hyperband_iterations=3,\n",
    "                     directory='my_dir', \n",
    "                     project_name='Conv1D_COSLOGH_IN0_Adamax')\n",
    "\n",
    "modelAdamaxCOSLOGH = tuner.get_best_models()[0]\n",
    "mean_absolute_error(modelAdamaxCOSLOGH.predict(x_test).reshape(x_testr.shape[0], x_testr.shape[1]), y_test.reshape(x_testr.shape[0], x_testr.shape[1]))\n"
   ]
  },
  {
   "cell_type": "code",
   "execution_count": null,
   "id": "54e97b4a",
   "metadata": {},
   "outputs": [],
   "source": [
    "tuner = kt.Hyperband(model_builder, \n",
    "                     objective='val_loss', max_epochs=150, hyperband_iterations=3,\n",
    "                     directory='my_dir', \n",
    "                     project_name='Conv1D_COSLOGH_IN0_Adam')\n",
    "\n",
    "modelAdamCOSLOGH = tuner.get_best_models()[0]\n",
    "mean_absolute_error(modelAdamCOSLOGH.predict(x_test).reshape(x_testr.shape[0], x_testr.shape[1]), y_test.reshape(x_testr.shape[0], x_testr.shape[1]))\n"
   ]
  },
  {
   "cell_type": "markdown",
   "id": "151f84dd",
   "metadata": {},
   "source": [
    "## MSE"
   ]
  },
  {
   "cell_type": "code",
   "execution_count": null,
   "id": "b6182a56",
   "metadata": {
    "scrolled": true
   },
   "outputs": [],
   "source": [
    "tuner = kt.Hyperband(model_builder, \n",
    "                     objective='val_loss', max_epochs=150, hyperband_iterations=3,\n",
    "                     directory='my_dir', \n",
    "                     project_name='Conv1D_MSE_IN0_RMSprop')\n",
    "\n",
    "modelRMSpropMSE = tuner.get_best_models()[0]\n",
    "mean_absolute_error(modelRMSpropMSE.predict(x_test).reshape(x_testr.shape[0], x_testr.shape[1]), y_test.reshape(x_testr.shape[0], x_testr.shape[1]))\n"
   ]
  },
  {
   "cell_type": "code",
   "execution_count": null,
   "id": "067018ba",
   "metadata": {},
   "outputs": [],
   "source": [
    "tuner = kt.Hyperband(model_builder, \n",
    "                     objective='val_loss', max_epochs=150, hyperband_iterations=3,\n",
    "                     directory='my_dir', \n",
    "                     project_name='Conv1D_MSE_IN0_Adamax')\n",
    "\n",
    "modelAdamaxMSE = tuner.get_best_models()[0]\n",
    "mean_absolute_error(modelAdamaxMSE.predict(x_test).reshape(x_testr.shape[0], x_testr.shape[1]), y_test.reshape(x_testr.shape[0], x_testr.shape[1]))\n"
   ]
  },
  {
   "cell_type": "code",
   "execution_count": null,
   "id": "6abded11",
   "metadata": {},
   "outputs": [],
   "source": [
    "tuner = kt.Hyperband(model_builder, \n",
    "                     objective='val_loss', max_epochs=150, hyperband_iterations=3,\n",
    "                     directory='my_dir', \n",
    "                     project_name='Conv1D_MSE_IN0_Adam')\n",
    "\n",
    "modelAdamMSE = tuner.get_best_models()[0]\n",
    "mean_absolute_error(modelAdamMSE.predict(x_test).reshape(x_testr.shape[0], x_testr.shape[1]), y_test.reshape(x_testr.shape[0], x_testr.shape[1]))\n"
   ]
  },
  {
   "cell_type": "code",
   "execution_count": null,
   "id": "7057a94c",
   "metadata": {},
   "outputs": [],
   "source": []
  },
  {
   "cell_type": "code",
   "execution_count": null,
   "id": "3a6d4c87",
   "metadata": {},
   "outputs": [],
   "source": [
    "mean_absolute_error(x_testr[:,:,0].reshape(x_testr.shape[0], x_testr.shape[1]), y_test.reshape(x_testr.shape[0], x_testr.shape[1])) - mean_absolute_error(modelAdamMAE.predict(x_test).reshape(x_testr.shape[0], x_testr.shape[1]), y_test.reshape(x_testr.shape[0], x_testr.shape[1]))\n"
   ]
  },
  {
   "cell_type": "code",
   "execution_count": null,
   "id": "3e0a1649",
   "metadata": {},
   "outputs": [],
   "source": [
    "(0.0006980330077038244/mean_absolute_error(x_testr[:,:,0].reshape(x_testr.shape[0], x_testr.shape[1]), y_test.reshape(x_testr.shape[0], x_testr.shape[1])))*100"
   ]
  },
  {
   "cell_type": "code",
   "execution_count": null,
   "id": "dfea0888",
   "metadata": {},
   "outputs": [],
   "source": [
    "DF = pd.DataFrame(np.ravel(x_testr[:,:,0].reshape(x_testr.shape[0], x_testr.shape[1])), columns=['Analytic'])\n",
    "DF['Modelled'] = np.ravel(modelAdamMAE.predict(x_test).reshape(x_testr.shape[0], x_testr.shape[1]))\n",
    "DF['Real'] = np.ravel(y_test.reshape(x_testr.shape[0], x_testr.shape[1]))\n",
    "\n",
    "DF.plot()"
   ]
  },
  {
   "cell_type": "code",
   "execution_count": null,
   "id": "bb7478a9",
   "metadata": {},
   "outputs": [],
   "source": []
  },
  {
   "cell_type": "code",
   "execution_count": null,
   "id": "8f8a3693",
   "metadata": {},
   "outputs": [],
   "source": [
    "pd.DataFrame(index=['Analytic', 'MAE Adamax', 'MAE RMSprop', 'MAE Adam', 'log cosh Adamax',\n",
    "                   'log cosh RMSprop', 'log cosh Adam', 'MSE Adamax', 'MSE RMSprop', 'MSE Adam'],\n",
    "            data = [mean_absolute_error(x_testr[:,:,0].reshape(x_testr.shape[0], x_testr.shape[1]), y_test.reshape(x_testr.shape[0], x_testr.shape[1])), \n",
    "                   mean_absolute_error(modelAdamaxMAE.predict(x_test).reshape(x_testr.shape[0], x_testr.shape[1]), y_test.reshape(x_testr.shape[0], x_testr.shape[1])),\n",
    "                    mean_absolute_error(modelRMSpropMAE.predict(x_test).reshape(x_testr.shape[0], x_testr.shape[1]), y_test.reshape(x_testr.shape[0], x_testr.shape[1])),\n",
    "                    mean_absolute_error(modelAdamMAE.predict(x_test).reshape(x_testr.shape[0], x_testr.shape[1]), y_test.reshape(x_testr.shape[0], x_testr.shape[1])),\n",
    "                    mean_absolute_error(modelAdamaxCOSLOGH.predict(x_test).reshape(x_testr.shape[0], x_testr.shape[1]), y_test.reshape(x_testr.shape[0], x_testr.shape[1])),\n",
    "                    mean_absolute_error(modelRMSpropCOSLOGH.predict(x_test).reshape(x_testr.shape[0], x_testr.shape[1]), y_test.reshape(x_testr.shape[0], x_testr.shape[1])),\n",
    "                    mean_absolute_error(modelAdamCOSLOGH.predict(x_test).reshape(x_testr.shape[0], x_testr.shape[1]), y_test.reshape(x_testr.shape[0], x_testr.shape[1])),\n",
    "                    mean_absolute_error(modelAdamaxMSE.predict(x_test).reshape(x_testr.shape[0], x_testr.shape[1]), y_test.reshape(x_testr.shape[0], x_testr.shape[1])),\n",
    "                    mean_absolute_error(modelRMSpropMSE.predict(x_test).reshape(x_testr.shape[0], x_testr.shape[1]), y_test.reshape(x_testr.shape[0], x_testr.shape[1])),\n",
    "                    mean_absolute_error(modelAdamMSE.predict(x_test).reshape(x_testr.shape[0], x_testr.shape[1]), y_test.reshape(x_testr.shape[0], x_testr.shape[1]))\n",
    "], columns=['MAE over real data']).sort_values('MAE over real data')"
   ]
  },
  {
   "cell_type": "code",
   "execution_count": null,
   "id": "288bcdbe",
   "metadata": {},
   "outputs": [],
   "source": [
    "from bokeh.plotting import figure, show"
   ]
  },
  {
   "cell_type": "code",
   "execution_count": null,
   "id": "a7ee2649",
   "metadata": {},
   "outputs": [],
   "source": [
    "r_train, r_test = train_test_split(MIXEDF0['r'].to_numpy().reshape(12, 481,1), random_state=20)\n",
    "Mixed_train, Mixed_test = train_test_split(MIXEDF0.to_numpy().reshape(12, 481,MIXEDF0.shape[1]), random_state=20)\n"
   ]
  },
  {
   "cell_type": "code",
   "execution_count": null,
   "id": "1f6cb3de",
   "metadata": {},
   "outputs": [],
   "source": [
    "pd.DataFrame(Mixed_test[0], columns=MIXEDF0.columns)"
   ]
  },
  {
   "cell_type": "code",
   "execution_count": null,
   "id": "27e3a61b",
   "metadata": {},
   "outputs": [],
   "source": [
    "np.ravel(r_test[0]).shape"
   ]
  },
  {
   "cell_type": "code",
   "execution_count": null,
   "id": "ab73aa3f",
   "metadata": {},
   "outputs": [],
   "source": [
    "from bokeh.plotting import output_notebook\n",
    "output_notebook()\n",
    "\n",
    "p = figure(height=400, width=800, title='40x40 profile on y axis, Z=85')\n",
    "\n",
    "\n",
    "p.line(np.ravel(r_test[0]), DF['Modelled'][:481], color='red', line_dash='dashed', legend_label='CNN')\n",
    "p.line(np.ravel(r_test[0]), DF['Analytic'][:481], color='blue', line_dash='dashdot', legend_label='Analytic equation')\n",
    "p.line(np.ravel(r_test[0]), DF['Real'][:481], color='black', line_width=3, legend_label='Real data', alpha=0.5)\n",
    "p.legend.location = 'bottom'\n",
    "show(p)"
   ]
  },
  {
   "cell_type": "code",
   "execution_count": null,
   "id": "4d6dd0de",
   "metadata": {},
   "outputs": [],
   "source": [
    "pd.DataFrame(Mixed_test[1], columns=MIXEDF0.columns)"
   ]
  },
  {
   "cell_type": "code",
   "execution_count": null,
   "id": "72393425",
   "metadata": {},
   "outputs": [],
   "source": [
    "from bokeh.plotting import output_notebook\n",
    "output_notebook()\n",
    "\n",
    "p = figure(height=400, width=800, title='10x10 profile on y axis, Z=100')\n",
    "\n",
    "\n",
    "p.line(np.ravel(r_test[0]), DF['Modelled'][481:481*2], color='red', line_dash='dashed', legend_label='CNN')\n",
    "p.line(np.ravel(r_test[0]), DF['Analytic'][481:481*2], color='blue', line_dash='dashdot', legend_label='Analytic equation')\n",
    "p.line(np.ravel(r_test[0]), DF['Real'][481:481*2], color='black', line_width=3, legend_label='Real data', alpha=0.5)\n",
    "p.legend.location = 'bottom'\n",
    "show(p)"
   ]
  },
  {
   "cell_type": "code",
   "execution_count": null,
   "id": "4c86e2a6",
   "metadata": {},
   "outputs": [],
   "source": [
    "pd.DataFrame(Mixed_test[2], columns=MIXEDF0.columns)"
   ]
  },
  {
   "cell_type": "code",
   "execution_count": null,
   "id": "de563892",
   "metadata": {},
   "outputs": [],
   "source": [
    "from bokeh.plotting import output_notebook\n",
    "output_notebook()\n",
    "\n",
    "p = figure(height=400, width=800, title='5x5 profile on y axis, Z=115')\n",
    "\n",
    "\n",
    "p.line(np.ravel(r_test[0]), DF['Modelled'][481*2:481*3], color='red', line_dash='dashed', legend_label='CNN')\n",
    "p.line(np.ravel(r_test[0]), DF['Analytic'][481*2:481*3], color='blue', line_dash='dashdot', legend_label='Analytic equation')\n",
    "p.line(np.ravel(r_test[0]), DF['Real'][481*2:481*3], color='black', line_width=3, legend_label='Real data', alpha=0.5)\n",
    "p.legend.location = 'top_left'\n",
    "show(p)"
   ]
  },
  {
   "cell_type": "code",
   "execution_count": null,
   "id": "e963d4fe",
   "metadata": {},
   "outputs": [],
   "source": []
  },
  {
   "cell_type": "code",
   "execution_count": null,
   "id": "200a19de",
   "metadata": {},
   "outputs": [],
   "source": []
  },
  {
   "cell_type": "code",
   "execution_count": null,
   "id": "db3fd686",
   "metadata": {},
   "outputs": [],
   "source": []
  },
  {
   "cell_type": "code",
   "execution_count": null,
   "id": "1b77b0fc",
   "metadata": {},
   "outputs": [],
   "source": []
  },
  {
   "cell_type": "code",
   "execution_count": null,
   "id": "e2c4e724",
   "metadata": {},
   "outputs": [],
   "source": []
  },
  {
   "cell_type": "code",
   "execution_count": null,
   "id": "c27811da",
   "metadata": {},
   "outputs": [],
   "source": []
  },
  {
   "cell_type": "code",
   "execution_count": null,
   "id": "d7a98b30",
   "metadata": {},
   "outputs": [],
   "source": []
  },
  {
   "cell_type": "code",
   "execution_count": null,
   "id": "8013602a",
   "metadata": {},
   "outputs": [],
   "source": []
  },
  {
   "cell_type": "code",
   "execution_count": null,
   "id": "f13f33c7",
   "metadata": {},
   "outputs": [],
   "source": []
  },
  {
   "cell_type": "code",
   "execution_count": null,
   "id": "d3f75b12",
   "metadata": {},
   "outputs": [],
   "source": []
  },
  {
   "cell_type": "code",
   "execution_count": null,
   "id": "7f7c0306",
   "metadata": {},
   "outputs": [],
   "source": []
  },
  {
   "cell_type": "code",
   "execution_count": null,
   "id": "ea4a1f06",
   "metadata": {},
   "outputs": [],
   "source": []
  },
  {
   "cell_type": "code",
   "execution_count": null,
   "id": "928f2694",
   "metadata": {},
   "outputs": [],
   "source": []
  },
  {
   "cell_type": "code",
   "execution_count": null,
   "id": "9fe17d3e",
   "metadata": {},
   "outputs": [],
   "source": []
  },
  {
   "cell_type": "code",
   "execution_count": null,
   "id": "bbc2945e",
   "metadata": {},
   "outputs": [],
   "source": []
  }
 ],
 "metadata": {
  "kernelspec": {
   "display_name": "Python 3",
   "language": "python",
   "name": "python3"
  },
  "language_info": {
   "codemirror_mode": {
    "name": "ipython",
    "version": 3
   },
   "file_extension": ".py",
   "mimetype": "text/x-python",
   "name": "python",
   "nbconvert_exporter": "python",
   "pygments_lexer": "ipython3",
   "version": "3.7.6"
  },
  "toc": {
   "base_numbering": 1,
   "nav_menu": {},
   "number_sections": true,
   "sideBar": false,
   "skip_h1_title": false,
   "title_cell": "Table of Contents",
   "title_sidebar": "Contents",
   "toc_cell": false,
   "toc_position": {
    "height": "908.875px",
    "left": "28px",
    "top": "111.125px",
    "width": "383.969px"
   },
   "toc_section_display": true,
   "toc_window_display": true
  },
  "varInspector": {
   "cols": {
    "lenName": 16,
    "lenType": 16,
    "lenVar": 40
   },
   "kernels_config": {
    "python": {
     "delete_cmd_postfix": "",
     "delete_cmd_prefix": "del ",
     "library": "var_list.py",
     "varRefreshCmd": "print(var_dic_list())"
    },
    "r": {
     "delete_cmd_postfix": ") ",
     "delete_cmd_prefix": "rm(",
     "library": "var_list.r",
     "varRefreshCmd": "cat(var_dic_list()) "
    }
   },
   "types_to_exclude": [
    "module",
    "function",
    "builtin_function_or_method",
    "instance",
    "_Feature"
   ],
   "window_display": false
  }
 },
 "nbformat": 4,
 "nbformat_minor": 5
}
