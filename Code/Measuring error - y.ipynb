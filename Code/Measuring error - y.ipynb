{
 "cells": [
  {
   "cell_type": "code",
   "execution_count": 1,
   "id": "8605b492",
   "metadata": {},
   "outputs": [],
   "source": [
    "import pandas as pd \n",
    "import numpy as np \n",
    "pd.options.plotting.backend = 'plotly'"
   ]
  },
  {
   "cell_type": "markdown",
   "id": "a019c346",
   "metadata": {},
   "source": [
    "# Cuadrados 100"
   ]
  },
  {
   "cell_type": "markdown",
   "id": "ef29d037",
   "metadata": {},
   "source": [
    "## 5x5"
   ]
  },
  {
   "cell_type": "code",
   "execution_count": 2,
   "id": "d339b5c2",
   "metadata": {},
   "outputs": [],
   "source": [
    "pddopen5 = pd.read_csv('OPEN/txt/5x5/5x5pdd.txt', delimiter='\t\t', names=['r', 'señal open 5x5', 'error open 5x5'], engine='python')\n",
    "pcropen5 = pd.read_csv('OPEN/txt/5x5/5x5pro-cr-100.txt', delimiter='\t\t', names=['r', 'señal open 5x5', 'error open 5x5'], engine='python')\n",
    "pinopen5 = pd.read_csv('OPEN/txt/5x5/5x5pro-in-100.txt', delimiter='\t\t', names=['r', 'señal open 5x5', 'error open 5x5'], engine='python')\n",
    "\n",
    "pddFFF5 = pd.read_csv('FFF/txt/5x5/5x5pdd.txt', delimiter='\t\t', names=['r', 'señal fff 5x5', 'error fff 5x5'], engine='python')\n",
    "pcrFFF5 = pd.read_csv('FFF/txt/5x5/5x5pro-cr-100.txt', delimiter='\t\t', names=['r', 'señal fff 5x5', 'error fff 5x5'], engine='python')\n",
    "pinFFF5 = pd.read_csv('FFF/txt/5x5/5x5pro-in-100.txt', delimiter='\t\t', names=['r', 'señal fff 5x5', 'error fff 5x5'], engine='python')\n"
   ]
  },
  {
   "cell_type": "markdown",
   "id": "c04c88df",
   "metadata": {},
   "source": [
    "## 10x10"
   ]
  },
  {
   "cell_type": "code",
   "execution_count": 3,
   "id": "9945d1fa",
   "metadata": {},
   "outputs": [],
   "source": [
    "pddopen10 = pd.read_csv('OPEN/txt/10x10/10x10pdd.txt', delimiter='\t\t', names=['r', 'señal open 10x10', 'error open 10x10'], engine='python')\n",
    "pcropen10 = pd.read_csv('OPEN/txt/10x10/10x10pro-cr-100.txt', delimiter='\t\t', names=['r', 'señal open 10x10', 'error open 10x10'], engine='python')\n",
    "pinopen10 = pd.read_csv('OPEN/txt/10x10/10x10pro-in-100.txt', delimiter='\t\t', names=['r', 'señal open 10x10', 'error open 10x10'], engine='python')\n",
    "\n",
    "pddFFF10 = pd.read_csv('FFF/txt/10x10/10x10pdd.txt', delimiter='\t\t', names=['r', 'señal fff 10x10', 'error fff 10x10'], engine='python')\n",
    "pcrFFF10 = pd.read_csv('FFF/txt/10x10/10x10pro-cr-100.txt', delimiter='\t\t', names=['r', 'señal fff 10x10', 'error fff 10x10'], engine='python')\n",
    "pinFFF10 = pd.read_csv('FFF/txt/10x10/10x10pro-in-100.txt', delimiter='\t\t', names=['r', 'señal fff 10x10', 'error fff 10x10'], engine='python')\n"
   ]
  },
  {
   "cell_type": "markdown",
   "id": "5fbeede9",
   "metadata": {},
   "source": [
    "## 20x20"
   ]
  },
  {
   "cell_type": "code",
   "execution_count": 4,
   "id": "b0e24717",
   "metadata": {
    "scrolled": true
   },
   "outputs": [],
   "source": [
    "pddopen20 = pd.read_csv('OPEN/txt/20x20/20x20pdd.txt', delimiter='\t\t', names=['r', 'señal open 20x20', 'error open 20x20'], engine='python')\n",
    "pcropen20 = pd.read_csv('OPEN/txt/20x20/20x20pro-cr-100.txt', delimiter='\t\t', names=['r', 'señal open 20x20', 'error open 20x20'], engine='python')\n",
    "pinopen20 = pd.read_csv('OPEN/txt/20x20/20x20pro-in-100.txt', delimiter='\t\t', names=['r', 'señal open 20x20', 'error open 20x20'], engine='python')\n",
    "\n",
    "pddFFF20 = pd.read_csv('FFF/txt/20x20/20x20pdd.txt', delimiter='\t\t', names=['r', 'señal fff 20x20', 'error fff 20x20'], engine='python')\n",
    "pcrFFF20 = pd.read_csv('FFF/txt/20x20/20x20pro-cr-100.txt', delimiter='\t\t', names=['r', 'señal fff 20x20', 'error fff 20x20'], engine='python')\n",
    "pinFFF20 = pd.read_csv('FFF/txt/20x20/20x20pro-in-100.txt', delimiter='\t\t', names=['r', 'señal fff 20x20', 'error fff 20x20'], engine='python')\n"
   ]
  },
  {
   "cell_type": "markdown",
   "id": "f339a46f",
   "metadata": {},
   "source": [
    "\n",
    "\n",
    "\n",
    "\n",
    "\n",
    "## 40x40"
   ]
  },
  {
   "cell_type": "code",
   "execution_count": 5,
   "id": "f35cf3d9",
   "metadata": {
    "scrolled": true
   },
   "outputs": [],
   "source": [
    "pddopen40 = pd.read_csv('OPEN/txt/40x40/40x40pdd.txt', delimiter='\t\t', names=['r', 'señal open 40x40', 'error open 40x40'], engine='python')\n",
    "pcropen40 = pd.read_csv('OPEN/txt/40x40/40x40pro-cr-100.txt', delimiter='\t\t', names=['r', 'señal open 40x40', 'error open 40x40'], engine='python')\n",
    "pinopen40 = pd.read_csv('OPEN/txt/40x40/40x40pro-in-100.txt', delimiter='\t\t', names=['r', 'señal open 40x40', 'error open 40x40'], engine='python')\n",
    "\n",
    "pddFFF40 = pd.read_csv('FFF/txt/40x40/40x40pdd.txt', delimiter='\t\t', names=['r', 'señal fff 40x40', 'error fff 40x40'], engine='python')\n",
    "pcrFFF40 = pd.read_csv('FFF/txt/40x40/40x40pro-cr-100.txt', delimiter='\t\t', names=['r', 'señal fff 40x40', 'error fff 40x40'], engine='python')\n",
    "pinFFF40 = pd.read_csv('FFF/txt/40x40/40x40pro-in-100.txt', delimiter='\t\t', names=['r', 'señal fff 40x40', 'error fff 40x40'], engine='python')\n"
   ]
  },
  {
   "cell_type": "markdown",
   "id": "e4531bba",
   "metadata": {},
   "source": [
    "# Cuadrados 115"
   ]
  },
  {
   "cell_type": "markdown",
   "id": "105a6bd7",
   "metadata": {},
   "source": [
    "## 5x5"
   ]
  },
  {
   "cell_type": "code",
   "execution_count": 6,
   "id": "59cf23bf",
   "metadata": {},
   "outputs": [],
   "source": [
    "pddopen5_115 = pd.read_csv('OPEN/txt/5x5/5x5pdd.txt', delimiter='\t\t', names=['r', 'señal open 5x5', 'error open 5x5'], engine='python')\n",
    "pcropen5_115 = pd.read_csv('OPEN/txt/5x5/5x5pro-cr-115.txt', delimiter='\t\t', names=['r', 'señal open 5x5', 'error open 5x5'], engine='python')\n",
    "pinopen5_115 = pd.read_csv('OPEN/txt/5x5/5x5pro-in-115.txt', delimiter='\t\t', names=['r', 'señal open 5x5', 'error open 5x5'], engine='python')\n",
    "\n",
    "pddFFF5_115 = pd.read_csv('FFF/txt/5x5/5x5pdd.txt', delimiter='\t\t', names=['r', 'señal fff 5x5', 'error fff 5x5'], engine='python')\n",
    "pcrFFF5_115 = pd.read_csv('FFF/txt/5x5/5x5pro-cr-115.txt', delimiter='\t\t', names=['r', 'señal fff 5x5', 'error fff 5x5'], engine='python')\n",
    "pinFFF5_115 = pd.read_csv('FFF/txt/5x5/5x5pro-in-115.txt', delimiter='\t\t', names=['r', 'señal fff 5x5', 'error fff 5x5'], engine='python')\n"
   ]
  },
  {
   "cell_type": "markdown",
   "id": "e22a47c0",
   "metadata": {},
   "source": [
    "## 10x10"
   ]
  },
  {
   "cell_type": "code",
   "execution_count": 7,
   "id": "3c54b0b0",
   "metadata": {},
   "outputs": [],
   "source": [
    "pddopen10_115 = pd.read_csv('OPEN/txt/10x10/10x10pdd.txt', delimiter='\t\t', names=['r', 'señal open 10x10', 'error open 10x10'], engine='python')\n",
    "pcropen10_115 = pd.read_csv('OPEN/txt/10x10/10x10pro-cr-115.txt', delimiter='\t\t', names=['r', 'señal open 10x10', 'error open 10x10'], engine='python')\n",
    "pinopen10_115 = pd.read_csv('OPEN/txt/10x10/10x10pro-in-115.txt', delimiter='\t\t', names=['r', 'señal open 10x10', 'error open 10x10'], engine='python')\n",
    "\n",
    "pddFFF10_115 = pd.read_csv('FFF/txt/10x10/10x10pdd.txt', delimiter='\t\t', names=['r', 'señal fff 10x10', 'error fff 10x10'], engine='python')\n",
    "pcrFFF10_115 = pd.read_csv('FFF/txt/10x10/10x10pro-cr-115.txt', delimiter='\t\t', names=['r', 'señal fff 10x10', 'error fff 10x10'], engine='python')\n",
    "pinFFF10_115 = pd.read_csv('FFF/txt/10x10/10x10pro-in-115.txt', delimiter='\t\t', names=['r', 'señal fff 10x10', 'error fff 10x10'], engine='python')\n"
   ]
  },
  {
   "cell_type": "markdown",
   "id": "871d9041",
   "metadata": {},
   "source": [
    "## 20x20"
   ]
  },
  {
   "cell_type": "code",
   "execution_count": 8,
   "id": "687e7947",
   "metadata": {
    "scrolled": true
   },
   "outputs": [],
   "source": [
    "pddopen20_115 = pd.read_csv('OPEN/txt/20x20/20x20pdd.txt', delimiter='\t\t', names=['r', 'señal open 20x20', 'error open 20x20'], engine='python')\n",
    "pcropen20_115 = pd.read_csv('OPEN/txt/20x20/20x20pro-cr-115.txt', delimiter='\t\t', names=['r', 'señal open 20x20', 'error open 20x20'], engine='python')\n",
    "pinopen20_115 = pd.read_csv('OPEN/txt/20x20/20x20pro-in-115.txt', delimiter='\t\t', names=['r', 'señal open 20x20', 'error open 20x20'], engine='python')\n",
    "\n",
    "pddFFF20_115 = pd.read_csv('FFF/txt/20x20/20x20pdd.txt', delimiter='\t\t', names=['r', 'señal fff 20x20', 'error fff 20x20'], engine='python')\n",
    "pcrFFF20_115 = pd.read_csv('FFF/txt/20x20/20x20pro-cr-115.txt', delimiter='\t\t', names=['r', 'señal fff 20x20', 'error fff 20x20'], engine='python')\n",
    "pinFFF20_115 = pd.read_csv('FFF/txt/20x20/20x20pro-in-115.txt', delimiter='\t\t', names=['r', 'señal fff 20x20', 'error fff 20x20'], engine='python')\n"
   ]
  },
  {
   "cell_type": "markdown",
   "id": "d39a58fe",
   "metadata": {},
   "source": [
    "## 40x40"
   ]
  },
  {
   "cell_type": "code",
   "execution_count": 9,
   "id": "88cb2bc5",
   "metadata": {
    "scrolled": true
   },
   "outputs": [],
   "source": [
    "pddopen40_115 = pd.read_csv('OPEN/txt/40x40/40x40pdd.txt', delimiter='\t\t', names=['r', 'señal open 40x40', 'error open 40x40'], engine='python')\n",
    "pcropen40_115 = pd.read_csv('OPEN/txt/40x40/40x40pro-cr-115.txt', delimiter='\t\t', names=['r', 'señal open 40x40', 'error open 40x40'], engine='python')\n",
    "pinopen40_115 = pd.read_csv('OPEN/txt/40x40/40x40pro-in-115.txt', delimiter='\t\t', names=['r', 'señal open 40x40', 'error open 40x40'], engine='python')\n",
    "\n",
    "pddFFF40_115 = pd.read_csv('FFF/txt/40x40/40x40pdd.txt', delimiter='\t\t', names=['r', 'señal fff 40x40', 'error fff 40x40'], engine='python')\n",
    "pcrFFF40_115 = pd.read_csv('FFF/txt/40x40/40x40pro-cr-115.txt', delimiter='\t\t', names=['r', 'señal fff 40x40', 'error fff 40x40'], engine='python')\n",
    "pinFFF40_115 = pd.read_csv('FFF/txt/40x40/40x40pro-in-115.txt', delimiter='\t\t', names=['r', 'señal fff 40x40', 'error fff 40x40'], engine='python')\n"
   ]
  },
  {
   "cell_type": "markdown",
   "id": "5438186e",
   "metadata": {},
   "source": [
    "# 85"
   ]
  },
  {
   "cell_type": "markdown",
   "id": "48d00a8a",
   "metadata": {},
   "source": [
    "## 5x5"
   ]
  },
  {
   "cell_type": "code",
   "execution_count": 10,
   "id": "d36d5869",
   "metadata": {},
   "outputs": [],
   "source": [
    "pddopen5_85 = pd.read_csv('OPEN/txt/5x5/5x5pdd.txt', delimiter='\t\t', names=['r', 'señal open 5x5', 'error open 5x5'], engine='python')\n",
    "pcropen5_85 = pd.read_csv('OPEN/txt/5x5/5x5pro-cr-85.txt', delimiter='\t\t', names=['r', 'señal open 5x5', 'error open 5x5'], engine='python')\n",
    "pinopen5_85 = pd.read_csv('OPEN/txt/5x5/5x5pro-in-85.txt', delimiter='\t\t', names=['r', 'señal open 5x5', 'error open 5x5'], engine='python')\n",
    "\n",
    "pddFFF5_85 = pd.read_csv('FFF/txt/5x5/5x5pdd.txt', delimiter='\t\t', names=['r', 'señal fff 5x5', 'error fff 5x5'], engine='python')\n",
    "pcrFFF5_85 = pd.read_csv('FFF/txt/5x5/5x5pro-cr-85.txt', delimiter='\t\t', names=['r', 'señal fff 5x5', 'error fff 5x5'], engine='python')\n",
    "pinFFF5_85 = pd.read_csv('FFF/txt/5x5/5x5pro-in-85.txt', delimiter='\t\t', names=['r', 'señal fff 5x5', 'error fff 5x5'], engine='python')\n"
   ]
  },
  {
   "cell_type": "markdown",
   "id": "b946e4d5",
   "metadata": {},
   "source": [
    "## 10x10"
   ]
  },
  {
   "cell_type": "code",
   "execution_count": 11,
   "id": "46d19212",
   "metadata": {},
   "outputs": [],
   "source": [
    "pddopen10_85 = pd.read_csv('OPEN/txt/10x10/10x10pdd.txt', delimiter='\t\t', names=['r', 'señal open 10x10', 'error open 10x10'], engine='python')\n",
    "pcropen10_85 = pd.read_csv('OPEN/txt/10x10/10x10pro-cr-85.txt', delimiter='\t\t', names=['r', 'señal open 10x10', 'error open 10x10'], engine='python')\n",
    "pinopen10_85 = pd.read_csv('OPEN/txt/10x10/10x10pro-in-85.txt', delimiter='\t\t', names=['r', 'señal open 10x10', 'error open 10x10'], engine='python')\n",
    "\n",
    "pddFFF10_85 = pd.read_csv('FFF/txt/10x10/10x10pdd.txt', delimiter='\t\t', names=['r', 'señal fff 10x10', 'error fff 10x10'], engine='python')\n",
    "pcrFFF10_85 = pd.read_csv('FFF/txt/10x10/10x10pro-cr-85.txt', delimiter='\t\t', names=['r', 'señal fff 10x10', 'error fff 10x10'], engine='python')\n",
    "pinFFF10_85 = pd.read_csv('FFF/txt/10x10/10x10pro-in-85.txt', delimiter='\t\t', names=['r', 'señal fff 10x10', 'error fff 10x10'], engine='python')\n"
   ]
  },
  {
   "cell_type": "markdown",
   "id": "aaa31482",
   "metadata": {},
   "source": [
    "## 20x20"
   ]
  },
  {
   "cell_type": "code",
   "execution_count": 12,
   "id": "0c04053a",
   "metadata": {
    "scrolled": true
   },
   "outputs": [],
   "source": [
    "pddopen20_85 = pd.read_csv('OPEN/txt/20x20/20x20pdd.txt', delimiter='\t\t', names=['r', 'señal open 20x20', 'error open 20x20'], engine='python')\n",
    "pcropen20_85 = pd.read_csv('OPEN/txt/20x20/20x20pro-cr-85.txt', delimiter='\t\t', names=['r', 'señal open 20x20', 'error open 20x20'], engine='python')\n",
    "pinopen20_85 = pd.read_csv('OPEN/txt/20x20/20x20pro-in-85.txt', delimiter='\t\t', names=['r', 'señal open 20x20', 'error open 20x20'], engine='python')\n",
    "\n",
    "pddFFF20_85 = pd.read_csv('FFF/txt/20x20/20x20pdd.txt', delimiter='\t\t', names=['r', 'señal fff 20x20', 'error fff 20x20'], engine='python')\n",
    "pcrFFF20_85 = pd.read_csv('FFF/txt/20x20/20x20pro-cr-85.txt', delimiter='\t\t', names=['r', 'señal fff 20x20', 'error fff 20x20'], engine='python')\n",
    "pinFFF20_85 = pd.read_csv('FFF/txt/20x20/20x20pro-in-85.txt', delimiter='\t\t', names=['r', 'señal fff 20x20', 'error fff 20x20'], engine='python')\n"
   ]
  },
  {
   "cell_type": "markdown",
   "id": "d1d1ec83",
   "metadata": {},
   "source": [
    "## 40x40"
   ]
  },
  {
   "cell_type": "code",
   "execution_count": 13,
   "id": "4494ab02",
   "metadata": {
    "scrolled": true
   },
   "outputs": [],
   "source": [
    "pddopen40_85 = pd.read_csv('OPEN/txt/40x40/40x40pdd.txt', delimiter='\t\t', names=['r', 'señal open 40x40', 'error open 40x40'], engine='python')\n",
    "pcropen40_85 = pd.read_csv('OPEN/txt/40x40/40x40pro-cr-85.txt', delimiter='\t\t', names=['r', 'señal open 40x40', 'error open 40x40'], engine='python')\n",
    "pinopen40_85 = pd.read_csv('OPEN/txt/40x40/40x40pro-in-85.txt', delimiter='\t\t', names=['r', 'señal open 40x40', 'error open 40x40'], engine='python')\n",
    "\n",
    "pddFFF40_85 = pd.read_csv('FFF/txt/40x40/40x40pdd.txt', delimiter='\t\t', names=['r', 'señal fff 40x40', 'error fff 40x40'], engine='python')\n",
    "pcrFFF40_85 = pd.read_csv('FFF/txt/40x40/40x40pro-cr-85.txt', delimiter='\t\t', names=['r', 'señal fff 40x40', 'error fff 40x40'], engine='python')\n",
    "pinFFF40_85 = pd.read_csv('FFF/txt/40x40/40x40pro-in-85.txt', delimiter='\t\t', names=['r', 'señal fff 40x40', 'error fff 40x40'], engine='python')\n"
   ]
  },
  {
   "cell_type": "markdown",
   "id": "16cd01bc",
   "metadata": {},
   "source": [
    "# Rectangular"
   ]
  },
  {
   "cell_type": "markdown",
   "id": "9f8e9c1b",
   "metadata": {},
   "source": [
    "## 40x5"
   ]
  },
  {
   "cell_type": "code",
   "execution_count": 14,
   "id": "7f84e1c1",
   "metadata": {
    "scrolled": true
   },
   "outputs": [],
   "source": [
    "pddopen40x5 = pd.read_csv('OPEN/txt/40x5/40x5pdd.txt', delimiter='\t\t', names=['r', 'señal open 40x5', 'error open 40x5'], engine='python')\n",
    "pcropen40x5 = pd.read_csv('OPEN/txt/40x5/40x5pro-cr-100.txt', delimiter='\t\t', names=['r', 'señal open 40x5', 'error open 40x5'], engine='python')\n",
    "pinopen40x5 = pd.read_csv('OPEN/txt/40x5/40x5pro-in-100.txt', delimiter='\t\t', names=['r', 'señal open 40x5', 'error open 40x5'], engine='python')\n",
    "\n",
    "pddFFF40x5 = pd.read_csv('FFF/txt/40x5/40x5pdd.txt', delimiter='\t\t', names=['r', 'señal fff 40x5', 'error fff 40x5'], engine='python')\n",
    "pcrFFF40x5 = pd.read_csv('FFF/txt/40x5/40x5pro-cr-100.txt', delimiter='\t\t', names=['r', 'señal fff 40x5', 'error fff 40x5'], engine='python')\n",
    "pinFFF40x5 = pd.read_csv('FFF/txt/40x5/40x5pro-in-100.txt', delimiter='\t\t', names=['r', 'señal fff 40x5', 'error fff 40x5'], engine='python')\n",
    "\n",
    "\n",
    "pddopen40x5_85 = pd.read_csv('OPEN/txt/40x5/40x5pdd.txt', delimiter='\t\t', names=['r', 'señal open 40x5', 'error open 40x5'], engine='python')\n",
    "pcropen40x5_85 = pd.read_csv('OPEN/txt/40x5/40x5pro-cr-85.txt', delimiter='\t\t', names=['r', 'señal open 40x5', 'error open 40x5'], engine='python')\n",
    "pinopen40x5_85 = pd.read_csv('OPEN/txt/40x5/40x5pro-in-85.txt', delimiter='\t\t', names=['r', 'señal open 40x5', 'error open 40x5'], engine='python')\n",
    "\n",
    "pddFFF40x5_85 = pd.read_csv('FFF/txt/40x5/40x5pdd.txt', delimiter='\t\t', names=['r', 'señal fff 40x5', 'error fff 40x5'], engine='python')\n",
    "pcrFFF40x5_85 = pd.read_csv('FFF/txt/40x5/40x5pro-cr-85.txt', delimiter='\t\t', names=['r', 'señal fff 40x5', 'error fff 40x5'], engine='python')\n",
    "pinFFF40x5_85 = pd.read_csv('FFF/txt/40x5/40x5pro-in-85.txt', delimiter='\t\t', names=['r', 'señal fff 40x5', 'error fff 40x5'], engine='python')\n",
    "\n",
    "\n",
    "pddopen40x5_115 = pd.read_csv('OPEN/txt/40x5/40x5pdd.txt', delimiter='\t\t', names=['r', 'señal open 40x5', 'error open 40x5'], engine='python')\n",
    "pcropen40x5_115 = pd.read_csv('OPEN/txt/40x5/40x5pro-cr-115.txt', delimiter='\t\t', names=['r', 'señal open 40x5', 'error open 40x5'], engine='python')\n",
    "pinopen40x5_115 = pd.read_csv('OPEN/txt/40x5/40x5pro-in-115.txt', delimiter='\t\t', names=['r', 'señal open 40x5', 'error open 40x5'], engine='python')\n",
    "\n",
    "pddFFF40x5_115 = pd.read_csv('FFF/txt/40x5/40x5pdd.txt', delimiter='\t\t', names=['r', 'señal fff 40x5', 'error fff 40x5'], engine='python')\n",
    "pcrFFF40x5_115 = pd.read_csv('FFF/txt/40x5/40x5pro-cr-115.txt', delimiter='\t\t', names=['r', 'señal fff 40x5', 'error fff 40x5'], engine='python')\n",
    "pinFFF40x5_115 = pd.read_csv('FFF/txt/40x5/40x5pro-in-115.txt', delimiter='\t\t', names=['r', 'señal fff 40x5', 'error fff 40x5'], engine='python')\n"
   ]
  },
  {
   "cell_type": "markdown",
   "id": "c47ad251",
   "metadata": {},
   "source": [
    "# Merge Data"
   ]
  },
  {
   "cell_type": "code",
   "execution_count": 15,
   "id": "81483ace",
   "metadata": {},
   "outputs": [],
   "source": [
    "NewR = pd.DataFrame(np.linspace(-240, 240, 481), columns=['r'])\n",
    "\n",
    "def Delimiting(data, FFF, Limit):\n",
    "    global Mixed, NewData\n",
    "    NewData = data.iloc[:,:2]\n",
    "    NewData['FFF'] = FFF\n",
    "    NewData.columns = ['r', 'señal', 'FFF']\n",
    "    NewData['Limit'] = Limit\n",
    "    NewData['Area'] = Limit**2\n",
    "    NewData = NewData.merge(NewR, how='outer').sort_values('r').reset_index(drop=True)\n",
    "    NewData.loc[-1,'señal']=0\n",
    "    NewData.loc[0,'señal']=0\n",
    "    NewData.interpolate(method='linear', inplace=True, limit_direction='both')\n",
    "    NewData = NewData.set_index('r').loc[np.linspace(-240, 240, 481)].reset_index()\n",
    "    NewData = NewData.groupby('r').mean().reset_index('r')\n",
    "    Mixed = pd.concat([Mixed, NewData])\n"
   ]
  },
  {
   "cell_type": "code",
   "execution_count": 16,
   "id": "a4fbc50c",
   "metadata": {},
   "outputs": [],
   "source": [
    "Mixed = pd.DataFrame(columns=['r', 'señal', 'FFF', 'Limit'])\n",
    "\n",
    "Delimiting(pinFFF5, 1, 50)\n",
    "Delimiting(pinopen5, 0, 50)\n",
    "Delimiting(pinFFF10, 1, 100)\n",
    "Delimiting(pinopen10, 0, 100)\n",
    "Delimiting(pinFFF20, 1, 200)\n",
    "Delimiting(pinopen20, 0, 200)\n",
    "Delimiting(pinFFF40, 1, 400)\n",
    "Delimiting(pinopen40, 0, 400)\n",
    "\n",
    "MixedIN = Mixed\n",
    "MixedIN['In'] = 1\n",
    "MixedIN['Z'] = 100"
   ]
  },
  {
   "cell_type": "code",
   "execution_count": 17,
   "id": "fe1744b5",
   "metadata": {},
   "outputs": [],
   "source": [
    "Mixed = pd.DataFrame(columns=['r', 'señal', 'FFF', 'Limit'])\n",
    "\n",
    "Delimiting(pcrFFF5, 1, 50)\n",
    "Delimiting(pcropen5, 0, 50)\n",
    "Delimiting(pcrFFF10, 1, 100)\n",
    "Delimiting(pcropen10, 0, 100)\n",
    "Delimiting(pcrFFF20, 1, 200)\n",
    "Delimiting(pcropen20, 0, 200)\n",
    "Delimiting(pcrFFF40, 1, 400)\n",
    "Delimiting(pcropen40, 0, 400)\n",
    "\n",
    "MixedCR = Mixed\n",
    "MixedCR['In'] = 0\n",
    "MixedCR['Z'] = 100"
   ]
  },
  {
   "cell_type": "code",
   "execution_count": 18,
   "id": "99c24561",
   "metadata": {},
   "outputs": [],
   "source": [
    "Mixed = pd.DataFrame(columns=['r', 'señal', 'FFF', 'Limit'])\n",
    "\n",
    "Delimiting(pinFFF5_85, 1, 50)\n",
    "Delimiting(pinopen5_85, 0, 50)\n",
    "Delimiting(pinFFF10_85, 1_85, 100)\n",
    "Delimiting(pinopen10_85, 0, 100)\n",
    "Delimiting(pinFFF20_85, 1, 200)\n",
    "Delimiting(pinopen20_85, 0, 200)\n",
    "Delimiting(pinFFF40_85, 1, 400)\n",
    "Delimiting(pinopen40_85, 0, 400)\n",
    "\n",
    "MixedIN85 = Mixed\n",
    "MixedIN85['In'] = 1\n",
    "MixedIN85['Z'] = 85"
   ]
  },
  {
   "cell_type": "code",
   "execution_count": 19,
   "id": "d370266a",
   "metadata": {},
   "outputs": [],
   "source": [
    "Mixed = pd.DataFrame(columns=['r', 'señal', 'FFF', 'Limit'])\n",
    "\n",
    "Delimiting(pcrFFF5_85, 1, 50)\n",
    "Delimiting(pcropen5_85, 0, 50)\n",
    "Delimiting(pcrFFF10_85, 1_85, 100)\n",
    "Delimiting(pcropen10_85, 0, 100)\n",
    "Delimiting(pcrFFF20_85, 1, 200)\n",
    "Delimiting(pcropen20_85, 0, 200)\n",
    "Delimiting(pcrFFF40_85, 1, 400)\n",
    "Delimiting(pcropen40_85, 0, 400)\n",
    "\n",
    "MixedCR85 = Mixed\n",
    "MixedCR85['In'] = 0\n",
    "MixedCR85['Z'] = 85"
   ]
  },
  {
   "cell_type": "code",
   "execution_count": 20,
   "id": "2b9e590a",
   "metadata": {},
   "outputs": [],
   "source": [
    "Mixed = pd.DataFrame(columns=['r', 'señal', 'FFF', 'Limit'])\n",
    "\n",
    "Delimiting(pinFFF5_115, 1, 50)\n",
    "Delimiting(pinopen5_115, 0, 50)\n",
    "Delimiting(pinFFF10_115, 1_115, 100)\n",
    "Delimiting(pinopen10_115, 0, 100)\n",
    "Delimiting(pinFFF20_115, 1, 200)\n",
    "Delimiting(pinopen20_115, 0, 200)\n",
    "Delimiting(pinFFF40_115, 1, 400)\n",
    "Delimiting(pinopen40_115, 0, 400)\n",
    "\n",
    "MixedIN115 = Mixed\n",
    "MixedIN115['In'] = 1\n",
    "MixedIN115['Z'] = 115"
   ]
  },
  {
   "cell_type": "code",
   "execution_count": 21,
   "id": "9fabe6ef",
   "metadata": {},
   "outputs": [],
   "source": [
    "Mixed = pd.DataFrame(columns=['r', 'señal', 'FFF', 'Limit'])\n",
    "\n",
    "Delimiting(pcrFFF5_115, 1, 50)\n",
    "Delimiting(pcropen5_115, 0, 50)\n",
    "Delimiting(pcrFFF10_115, 1_115, 100)\n",
    "Delimiting(pcropen10_115, 0, 100)\n",
    "Delimiting(pcrFFF20_115, 1, 200)\n",
    "Delimiting(pcropen20_115, 0, 200)\n",
    "Delimiting(pcrFFF40_115, 1, 400)\n",
    "Delimiting(pcropen40_115, 0, 400)\n",
    "\n",
    "MixedCR115 = Mixed\n",
    "MixedCR115['In'] = 0\n",
    "MixedCR115['Z'] = 115"
   ]
  },
  {
   "cell_type": "code",
   "execution_count": 22,
   "id": "27b7a492",
   "metadata": {},
   "outputs": [],
   "source": [
    "def Delimiting(data, FFF, Limit1, Limit2, In, Z):\n",
    "    global Mixed\n",
    "    NewData = data.iloc[:,:2]\n",
    "    NewData['FFF'] = FFF\n",
    "    NewData.columns = ['r', 'señal', 'FFF']\n",
    "    NewData['Limit'] = Limit1\n",
    "    NewData['Area'] = Limit1*Limit2\n",
    "    NewData['In'] = In\n",
    "    NewData['Z'] = Z\n",
    "    Mixed = pd.concat([Mixed, NewData])\n",
    "    NewData = NewData.merge(NewR, how='outer').sort_values('r').reset_index(drop=True)\n",
    "    NewData.loc[-1,'señal']=0\n",
    "    NewData.loc[0,'señal']=0\n",
    "    NewData.interpolate(method='linear', inplace=True, limit_direction='both')\n",
    "    NewData = NewData.set_index('r').loc[np.linspace(-240, 240, 481)].reset_index()\n",
    "    NewData = NewData.groupby('r').mean().reset_index('r')\n",
    "    Mixed = pd.concat([Mixed, NewData])\n",
    "\n",
    "    \n",
    "    \n",
    "    \n",
    "    \n",
    "    \n",
    "Mixed = pd.DataFrame(columns=['r', 'señal', 'FFF', 'Limit', 'Z'])\n",
    "\n",
    "Delimiting(pcropen40x5, 0, 50, 400, 0, 100)\n",
    "Delimiting(pinopen40x5, 0, 400, 50, 1, 100)\n",
    "Delimiting(pcrFFF40x5, 1, 50, 400, 0, 100)\n",
    "Delimiting(pinFFF40x5, 1, 400, 50, 1, 100)\n",
    "Delimiting(pcropen40x5_85, 0, 50, 400, 0, 85)\n",
    "Delimiting(pinopen40x5_85, 0, 400, 50, 1, 85)\n",
    "Delimiting(pcrFFF40x5_85, 1, 50, 400, 0, 85)\n",
    "Delimiting(pinFFF40x5_85, 1, 400, 50, 1, 85)\n",
    "Delimiting(pcropen40x5_115, 0, 50, 400, 0, 115)\n",
    "Delimiting(pinopen40x5_115, 0, 400, 50, 1, 115)\n",
    "Delimiting(pcrFFF40x5_115, 1, 50, 400, 0, 115)\n",
    "Delimiting(pinFFF40x5_115, 1, 400, 50, 1, 115)\n",
    "\n",
    "\n",
    "Mixed40x5 = Mixed.reset_index(drop=True)"
   ]
  },
  {
   "cell_type": "code",
   "execution_count": 23,
   "id": "8fb7d188",
   "metadata": {},
   "outputs": [
    {
     "data": {
      "text/plain": [
       "518.5"
      ]
     },
     "execution_count": 23,
     "metadata": {},
     "output_type": "execute_result"
    }
   ],
   "source": [
    "2074/4"
   ]
  },
  {
   "cell_type": "code",
   "execution_count": 24,
   "id": "ac1286bc",
   "metadata": {},
   "outputs": [],
   "source": [
    "Mixed = pd.concat([MixedCR, MixedIN, MixedIN85, MixedCR85, MixedCR115, MixedIN115]).reset_index(drop=True)\n",
    "Mixed['r'] = Mixed['r']+3\n",
    "Mixed = Mixed.loc[:,['r', 'señal', 'FFF', 'Limit', 'Area', 'In', 'Z']]\n",
    "Mixed = Mixed[Mixed['In']==0].reset_index(drop=True)"
   ]
  },
  {
   "cell_type": "markdown",
   "id": "f06ada41",
   "metadata": {},
   "source": [
    "\n",
    "\n",
    "\\\\[ \\Phi_\\gamma (x,y,z) = w_0 \\Phi_0(x,y,z) \\Phi_{horn}^\\gamma (x,y,z) \\\\]\n",
    "\n",
    "Primero calcularemos \\\\(\\Phi_0^\\gamma\\\\)"
   ]
  },
  {
   "cell_type": "markdown",
   "id": "e90143c4",
   "metadata": {},
   "source": [
    "\\\\[ \\Phi_\\alpha = Z(z; z_D^x, z_D^y, z_\\alpha) T_\\alpha(x_\\alpha^+, x_\\alpha^-) T_\\alpha(y_\\alpha^+, y_\\alpha^- ) \\\\]"
   ]
  },
  {
   "cell_type": "markdown",
   "id": "5cbdc318",
   "metadata": {},
   "source": [
    "\\\\[ Z(z; z^x_D, z^y_D, z_0) = \\frac{1}{4} \\frac{(z_D^x - z_0) (z^y_D - z_0 )}{(z-z_0)^2} \\\\]\n",
    "\n",
    "\n",
    "\n",
    "\n",
    "\n",
    "Donde \\\\( z_U^x  = 43.1cm ; z_U^y = 29.8cm ; z^x_D = 50.9cm ; z_D^y= 42.6cm \\\\)\n",
    "\n",
    "\n",
    "\\\\[ Z(z; z^x_D, z^y_D, z_0) = \\frac{1}{4} \\frac{(50.9 - z_0) (42.6 - z_0 )}{(z-z_0)^2} \\\\]\n",
    "\\\\[ Z(z; z^x_D, z^y_D, z_s) = \\frac{1}{4} \\frac{(50.9 - z_s) (42.6 - z_s )}{(z-z_s)^2} \\\\]\n",
    "\n",
    "\n",
    "Vamos a establecer z_0 como 0\n",
    "\n",
    "\\\\[ Z(z; z^x_D, z^y_D, z_0) = \\frac{1}{4} \\frac{(50.9) (42.6)}{(z)^2} \\\\]\n"
   ]
  },
  {
   "cell_type": "markdown",
   "id": "ff262400",
   "metadata": {},
   "source": [
    "# Z "
   ]
  },
  {
   "cell_type": "code",
   "execution_count": 25,
   "id": "07b903d4",
   "metadata": {},
   "outputs": [],
   "source": [
    "Z_s = []\n",
    "\n",
    "for i in np.arange(0, Mixed.shape[0]):\n",
    "    if Mixed['FFF'].loc[i]==1:\n",
    "        Z_s.append(12.47)\n",
    "    else:\n",
    "        Z_s.append(0)\n",
    "        \n",
    "Mixed['Zs'] = Z_s"
   ]
  },
  {
   "cell_type": "code",
   "execution_count": 26,
   "id": "3133c8bb",
   "metadata": {},
   "outputs": [],
   "source": [
    "z_x_u = 36.7\n",
    "z_y_u = 28\n",
    "\n",
    "z_x_d = 44.5\n",
    "z_y_d = 35.8\n",
    "\n",
    "\n",
    "\n",
    "Mixed['Big Z'] = (0.25*z_x_d*z_y_d)/(Mixed['Z']**2)\n",
    "Mixed['Big Z Col'] = (0.25*(z_x_d-Mixed[['Zs']].to_numpy())*(z_y_d-Mixed[['Zs']].to_numpy()))/(Mixed[['Z']].to_numpy()**2)"
   ]
  },
  {
   "cell_type": "markdown",
   "id": "890eded3",
   "metadata": {},
   "source": [
    "Por tanto:\n",
    "\n",
    "\\\\[X_0 = \\frac{\\frac{x_0^+}{\\delta_0}}{\\sqrt{1+\\frac{x_0^+}{\\delta_0}}} + \\frac{\\frac{x_0^-}{\\delta_0}}{\\sqrt{1-\\frac{x_0^-}{\\delta_0}}}\\\\]\n",
    "\n",
    "\\\\[Y_0 = \\frac{\\frac{y_0^+}{\\delta_0}}{\\sqrt{1+\\frac{y_0^+}{\\delta_0}}} + \\frac{\\frac{y_0^-}{\\delta_0}}{\\sqrt{1-\\frac{y_0^-}{\\delta_0}}}\\\\]\n",
    "\n",
    "\n",
    "\n"
   ]
  },
  {
   "cell_type": "markdown",
   "id": "b4704cd1",
   "metadata": {},
   "source": [
    "\\\\[ \\Phi_\\alpha = \\frac{542.085}{z^2}* (\\frac{\\frac{x_0^+}{\\delta_0}}{\\sqrt{1+\\frac{x_0^+}{\\delta_0}}} + \\frac{\\frac{x_0^-}{\\delta_0}}{\\sqrt{1-\\frac{x_0^-}{\\delta_0}}}) * (\\frac{\\frac{y_0^+}{\\delta_0}}{\\sqrt{1+\\frac{y_0^+}{\\delta_0}}} + \\frac{\\frac{y_0^-}{\\delta_0}}{\\sqrt{1-\\frac{y_0^-}{\\delta_0}}}) \\\\]\n",
    "\n"
   ]
  },
  {
   "cell_type": "markdown",
   "id": "e72caf90",
   "metadata": {},
   "source": [
    "Donde \\\\(x_\\alpha; y_\\alpha\\\\)\n",
    "\n",
    "\\\\[x_\\alpha^{\\pm}  = min[\\frac{w_I^xz_U^x(z-z_0) \\pm 2xz_I(z_0 - z_U^x)}{2z_I(z-z_U^x)}, \\frac{w_I^xz_D^x(z-z_0) \\pm 2xz_I (z_0-z_D^x)}{2z_I(z-z_D^x)}] \\\\]\n",
    "\n",
    "\\\\[y_\\alpha^{\\pm}  = min[\\frac{w_I^yz_U^y(z-z_0) \\pm 2yz_I(z_0 - z_U^y)}{2z_I(z-z_U^y)}, \\frac{w_I^yz_D^y(z-z_0) \\pm 2yz_I (z_0-z_D^y)}{2z_I(z-z_D^y)}] \\\\]\n",
    "\n",
    "\n",
    "Por tanto sabiendo que \\\\(z_0\\\\) es 0 y \\\\Z_I = 100\\\\)\n",
    "\n",
    "\\\\[x_\\alpha^{\\pm} = min[ \\frac{43.1*w_I^x*z \\pm -8620*x}{200(z-43.1)} , \\frac{ 50.9* w_I^x*(z) \\pm -10180*x* }{200(z-50.9)}] \\\\]\n",
    "\n",
    "\\\\[y_\\alpha^{\\pm}  = min[\\frac{29.8*w_I^y * z \\pm -5960*y}{200(z-29.8)}, \\frac{42.6*w_I^y*(z) \\pm -8520*y)}{200(z-42.6)}] \\\\]\n"
   ]
  },
  {
   "cell_type": "markdown",
   "id": "677ec3ca",
   "metadata": {},
   "source": [
    "# Ts"
   ]
  },
  {
   "cell_type": "code",
   "execution_count": 29,
   "id": "c900fd0a",
   "metadata": {},
   "outputs": [
    {
     "data": {
      "text/plain": [
       "array([  2500.,  10000.,  40000., 160000.])"
      ]
     },
     "execution_count": 29,
     "metadata": {},
     "output_type": "execute_result"
    }
   ],
   "source": [
    "Mixed['Area'].unique()"
   ]
  },
  {
   "cell_type": "code",
   "execution_count": 35,
   "id": "46a95317",
   "metadata": {},
   "outputs": [
    {
     "data": {
      "text/html": [
       "\n",
       "    <div class=\"bk-root\">\n",
       "        <a href=\"https://bokeh.org\" target=\"_blank\" class=\"bk-logo bk-logo-small bk-logo-notebook\"></a>\n",
       "        <span id=\"1513\">Loading BokehJS ...</span>\n",
       "    </div>"
      ]
     },
     "metadata": {},
     "output_type": "display_data"
    },
    {
     "data": {
      "application/javascript": [
       "\n",
       "(function(root) {\n",
       "  function now() {\n",
       "    return new Date();\n",
       "  }\n",
       "\n",
       "  const force = true;\n",
       "\n",
       "  if (typeof root._bokeh_onload_callbacks === \"undefined\" || force === true) {\n",
       "    root._bokeh_onload_callbacks = [];\n",
       "    root._bokeh_is_loading = undefined;\n",
       "  }\n",
       "\n",
       "  const JS_MIME_TYPE = 'application/javascript';\n",
       "  const HTML_MIME_TYPE = 'text/html';\n",
       "  const EXEC_MIME_TYPE = 'application/vnd.bokehjs_exec.v0+json';\n",
       "  const CLASS_NAME = 'output_bokeh rendered_html';\n",
       "\n",
       "  /**\n",
       "   * Render data to the DOM node\n",
       "   */\n",
       "  function render(props, node) {\n",
       "    const script = document.createElement(\"script\");\n",
       "    node.appendChild(script);\n",
       "  }\n",
       "\n",
       "  /**\n",
       "   * Handle when an output is cleared or removed\n",
       "   */\n",
       "  function handleClearOutput(event, handle) {\n",
       "    const cell = handle.cell;\n",
       "\n",
       "    const id = cell.output_area._bokeh_element_id;\n",
       "    const server_id = cell.output_area._bokeh_server_id;\n",
       "    // Clean up Bokeh references\n",
       "    if (id != null && id in Bokeh.index) {\n",
       "      Bokeh.index[id].model.document.clear();\n",
       "      delete Bokeh.index[id];\n",
       "    }\n",
       "\n",
       "    if (server_id !== undefined) {\n",
       "      // Clean up Bokeh references\n",
       "      const cmd_clean = \"from bokeh.io.state import curstate; print(curstate().uuid_to_server['\" + server_id + \"'].get_sessions()[0].document.roots[0]._id)\";\n",
       "      cell.notebook.kernel.execute(cmd_clean, {\n",
       "        iopub: {\n",
       "          output: function(msg) {\n",
       "            const id = msg.content.text.trim();\n",
       "            if (id in Bokeh.index) {\n",
       "              Bokeh.index[id].model.document.clear();\n",
       "              delete Bokeh.index[id];\n",
       "            }\n",
       "          }\n",
       "        }\n",
       "      });\n",
       "      // Destroy server and session\n",
       "      const cmd_destroy = \"import bokeh.io.notebook as ion; ion.destroy_server('\" + server_id + \"')\";\n",
       "      cell.notebook.kernel.execute(cmd_destroy);\n",
       "    }\n",
       "  }\n",
       "\n",
       "  /**\n",
       "   * Handle when a new output is added\n",
       "   */\n",
       "  function handleAddOutput(event, handle) {\n",
       "    const output_area = handle.output_area;\n",
       "    const output = handle.output;\n",
       "\n",
       "    // limit handleAddOutput to display_data with EXEC_MIME_TYPE content only\n",
       "    if ((output.output_type != \"display_data\") || (!Object.prototype.hasOwnProperty.call(output.data, EXEC_MIME_TYPE))) {\n",
       "      return\n",
       "    }\n",
       "\n",
       "    const toinsert = output_area.element.find(\".\" + CLASS_NAME.split(' ')[0]);\n",
       "\n",
       "    if (output.metadata[EXEC_MIME_TYPE][\"id\"] !== undefined) {\n",
       "      toinsert[toinsert.length - 1].firstChild.textContent = output.data[JS_MIME_TYPE];\n",
       "      // store reference to embed id on output_area\n",
       "      output_area._bokeh_element_id = output.metadata[EXEC_MIME_TYPE][\"id\"];\n",
       "    }\n",
       "    if (output.metadata[EXEC_MIME_TYPE][\"server_id\"] !== undefined) {\n",
       "      const bk_div = document.createElement(\"div\");\n",
       "      bk_div.innerHTML = output.data[HTML_MIME_TYPE];\n",
       "      const script_attrs = bk_div.children[0].attributes;\n",
       "      for (let i = 0; i < script_attrs.length; i++) {\n",
       "        toinsert[toinsert.length - 1].firstChild.setAttribute(script_attrs[i].name, script_attrs[i].value);\n",
       "        toinsert[toinsert.length - 1].firstChild.textContent = bk_div.children[0].textContent\n",
       "      }\n",
       "      // store reference to server id on output_area\n",
       "      output_area._bokeh_server_id = output.metadata[EXEC_MIME_TYPE][\"server_id\"];\n",
       "    }\n",
       "  }\n",
       "\n",
       "  function register_renderer(events, OutputArea) {\n",
       "\n",
       "    function append_mime(data, metadata, element) {\n",
       "      // create a DOM node to render to\n",
       "      const toinsert = this.create_output_subarea(\n",
       "        metadata,\n",
       "        CLASS_NAME,\n",
       "        EXEC_MIME_TYPE\n",
       "      );\n",
       "      this.keyboard_manager.register_events(toinsert);\n",
       "      // Render to node\n",
       "      const props = {data: data, metadata: metadata[EXEC_MIME_TYPE]};\n",
       "      render(props, toinsert[toinsert.length - 1]);\n",
       "      element.append(toinsert);\n",
       "      return toinsert\n",
       "    }\n",
       "\n",
       "    /* Handle when an output is cleared or removed */\n",
       "    events.on('clear_output.CodeCell', handleClearOutput);\n",
       "    events.on('delete.Cell', handleClearOutput);\n",
       "\n",
       "    /* Handle when a new output is added */\n",
       "    events.on('output_added.OutputArea', handleAddOutput);\n",
       "\n",
       "    /**\n",
       "     * Register the mime type and append_mime function with output_area\n",
       "     */\n",
       "    OutputArea.prototype.register_mime_type(EXEC_MIME_TYPE, append_mime, {\n",
       "      /* Is output safe? */\n",
       "      safe: true,\n",
       "      /* Index of renderer in `output_area.display_order` */\n",
       "      index: 0\n",
       "    });\n",
       "  }\n",
       "\n",
       "  // register the mime type if in Jupyter Notebook environment and previously unregistered\n",
       "  if (root.Jupyter !== undefined) {\n",
       "    const events = require('base/js/events');\n",
       "    const OutputArea = require('notebook/js/outputarea').OutputArea;\n",
       "\n",
       "    if (OutputArea.prototype.mime_types().indexOf(EXEC_MIME_TYPE) == -1) {\n",
       "      register_renderer(events, OutputArea);\n",
       "    }\n",
       "  }\n",
       "\n",
       "  \n",
       "  if (typeof (root._bokeh_timeout) === \"undefined\" || force === true) {\n",
       "    root._bokeh_timeout = Date.now() + 5000;\n",
       "    root._bokeh_failed_load = false;\n",
       "  }\n",
       "\n",
       "  const NB_LOAD_WARNING = {'data': {'text/html':\n",
       "     \"<div style='background-color: #fdd'>\\n\"+\n",
       "     \"<p>\\n\"+\n",
       "     \"BokehJS does not appear to have successfully loaded. If loading BokehJS from CDN, this \\n\"+\n",
       "     \"may be due to a slow or bad network connection. Possible fixes:\\n\"+\n",
       "     \"</p>\\n\"+\n",
       "     \"<ul>\\n\"+\n",
       "     \"<li>re-rerun `output_notebook()` to attempt to load from CDN again, or</li>\\n\"+\n",
       "     \"<li>use INLINE resources instead, as so:</li>\\n\"+\n",
       "     \"</ul>\\n\"+\n",
       "     \"<code>\\n\"+\n",
       "     \"from bokeh.resources import INLINE\\n\"+\n",
       "     \"output_notebook(resources=INLINE)\\n\"+\n",
       "     \"</code>\\n\"+\n",
       "     \"</div>\"}};\n",
       "\n",
       "  function display_loaded() {\n",
       "    const el = document.getElementById(\"1513\");\n",
       "    if (el != null) {\n",
       "      el.textContent = \"BokehJS is loading...\";\n",
       "    }\n",
       "    if (root.Bokeh !== undefined) {\n",
       "      if (el != null) {\n",
       "        el.textContent = \"BokehJS \" + root.Bokeh.version + \" successfully loaded.\";\n",
       "      }\n",
       "    } else if (Date.now() < root._bokeh_timeout) {\n",
       "      setTimeout(display_loaded, 100)\n",
       "    }\n",
       "  }\n",
       "\n",
       "\n",
       "  function run_callbacks() {\n",
       "    try {\n",
       "      root._bokeh_onload_callbacks.forEach(function(callback) {\n",
       "        if (callback != null)\n",
       "          callback();\n",
       "      });\n",
       "    } finally {\n",
       "      delete root._bokeh_onload_callbacks\n",
       "    }\n",
       "    console.debug(\"Bokeh: all callbacks have finished\");\n",
       "  }\n",
       "\n",
       "  function load_libs(css_urls, js_urls, callback) {\n",
       "    if (css_urls == null) css_urls = [];\n",
       "    if (js_urls == null) js_urls = [];\n",
       "\n",
       "    root._bokeh_onload_callbacks.push(callback);\n",
       "    if (root._bokeh_is_loading > 0) {\n",
       "      console.debug(\"Bokeh: BokehJS is being loaded, scheduling callback at\", now());\n",
       "      return null;\n",
       "    }\n",
       "    if (js_urls == null || js_urls.length === 0) {\n",
       "      run_callbacks();\n",
       "      return null;\n",
       "    }\n",
       "    console.debug(\"Bokeh: BokehJS not loaded, scheduling load and callback at\", now());\n",
       "    root._bokeh_is_loading = css_urls.length + js_urls.length;\n",
       "\n",
       "    function on_load() {\n",
       "      root._bokeh_is_loading--;\n",
       "      if (root._bokeh_is_loading === 0) {\n",
       "        console.debug(\"Bokeh: all BokehJS libraries/stylesheets loaded\");\n",
       "        run_callbacks()\n",
       "      }\n",
       "    }\n",
       "\n",
       "    function on_error(url) {\n",
       "      console.error(\"failed to load \" + url);\n",
       "    }\n",
       "\n",
       "    for (let i = 0; i < css_urls.length; i++) {\n",
       "      const url = css_urls[i];\n",
       "      const element = document.createElement(\"link\");\n",
       "      element.onload = on_load;\n",
       "      element.onerror = on_error.bind(null, url);\n",
       "      element.rel = \"stylesheet\";\n",
       "      element.type = \"text/css\";\n",
       "      element.href = url;\n",
       "      console.debug(\"Bokeh: injecting link tag for BokehJS stylesheet: \", url);\n",
       "      document.body.appendChild(element);\n",
       "    }\n",
       "\n",
       "    for (let i = 0; i < js_urls.length; i++) {\n",
       "      const url = js_urls[i];\n",
       "      const element = document.createElement('script');\n",
       "      element.onload = on_load;\n",
       "      element.onerror = on_error.bind(null, url);\n",
       "      element.async = false;\n",
       "      element.src = url;\n",
       "      console.debug(\"Bokeh: injecting script tag for BokehJS library: \", url);\n",
       "      document.head.appendChild(element);\n",
       "    }\n",
       "  };\n",
       "\n",
       "  function inject_raw_css(css) {\n",
       "    const element = document.createElement(\"style\");\n",
       "    element.appendChild(document.createTextNode(css));\n",
       "    document.body.appendChild(element);\n",
       "  }\n",
       "\n",
       "  \n",
       "  const js_urls = [\"https://cdn.bokeh.org/bokeh/release/bokeh-2.4.2.min.js\", \"https://cdn.bokeh.org/bokeh/release/bokeh-gl-2.4.2.min.js\", \"https://cdn.bokeh.org/bokeh/release/bokeh-widgets-2.4.2.min.js\", \"https://cdn.bokeh.org/bokeh/release/bokeh-tables-2.4.2.min.js\", \"https://cdn.bokeh.org/bokeh/release/bokeh-mathjax-2.4.2.min.js\"];\n",
       "  const css_urls = [];\n",
       "  \n",
       "\n",
       "  const inline_js = [\n",
       "    function(Bokeh) {\n",
       "      Bokeh.set_log_level(\"info\");\n",
       "    },\n",
       "    function(Bokeh) {\n",
       "    \n",
       "    \n",
       "    }\n",
       "  ];\n",
       "\n",
       "  function run_inline_js() {\n",
       "    \n",
       "    if (root.Bokeh !== undefined || force === true) {\n",
       "      \n",
       "    for (let i = 0; i < inline_js.length; i++) {\n",
       "      inline_js[i].call(root, root.Bokeh);\n",
       "    }\n",
       "    if (force === true) {\n",
       "        display_loaded();\n",
       "      }} else if (Date.now() < root._bokeh_timeout) {\n",
       "      setTimeout(run_inline_js, 100);\n",
       "    } else if (!root._bokeh_failed_load) {\n",
       "      console.log(\"Bokeh: BokehJS failed to load within specified timeout.\");\n",
       "      root._bokeh_failed_load = true;\n",
       "    } else if (force !== true) {\n",
       "      const cell = $(document.getElementById(\"1513\")).parents('.cell').data().cell;\n",
       "      cell.output_area.append_execute_result(NB_LOAD_WARNING)\n",
       "    }\n",
       "\n",
       "  }\n",
       "\n",
       "  if (root._bokeh_is_loading === 0) {\n",
       "    console.debug(\"Bokeh: BokehJS loaded, going straight to plotting\");\n",
       "    run_inline_js();\n",
       "  } else {\n",
       "    load_libs(css_urls, js_urls, function() {\n",
       "      console.debug(\"Bokeh: BokehJS plotting callback run at\", now());\n",
       "      run_inline_js();\n",
       "    });\n",
       "  }\n",
       "}(window));"
      ],
      "application/vnd.bokehjs_load.v0+json": "\n(function(root) {\n  function now() {\n    return new Date();\n  }\n\n  const force = true;\n\n  if (typeof root._bokeh_onload_callbacks === \"undefined\" || force === true) {\n    root._bokeh_onload_callbacks = [];\n    root._bokeh_is_loading = undefined;\n  }\n\n  \n\n  \n  if (typeof (root._bokeh_timeout) === \"undefined\" || force === true) {\n    root._bokeh_timeout = Date.now() + 5000;\n    root._bokeh_failed_load = false;\n  }\n\n  const NB_LOAD_WARNING = {'data': {'text/html':\n     \"<div style='background-color: #fdd'>\\n\"+\n     \"<p>\\n\"+\n     \"BokehJS does not appear to have successfully loaded. If loading BokehJS from CDN, this \\n\"+\n     \"may be due to a slow or bad network connection. Possible fixes:\\n\"+\n     \"</p>\\n\"+\n     \"<ul>\\n\"+\n     \"<li>re-rerun `output_notebook()` to attempt to load from CDN again, or</li>\\n\"+\n     \"<li>use INLINE resources instead, as so:</li>\\n\"+\n     \"</ul>\\n\"+\n     \"<code>\\n\"+\n     \"from bokeh.resources import INLINE\\n\"+\n     \"output_notebook(resources=INLINE)\\n\"+\n     \"</code>\\n\"+\n     \"</div>\"}};\n\n  function display_loaded() {\n    const el = document.getElementById(\"1513\");\n    if (el != null) {\n      el.textContent = \"BokehJS is loading...\";\n    }\n    if (root.Bokeh !== undefined) {\n      if (el != null) {\n        el.textContent = \"BokehJS \" + root.Bokeh.version + \" successfully loaded.\";\n      }\n    } else if (Date.now() < root._bokeh_timeout) {\n      setTimeout(display_loaded, 100)\n    }\n  }\n\n\n  function run_callbacks() {\n    try {\n      root._bokeh_onload_callbacks.forEach(function(callback) {\n        if (callback != null)\n          callback();\n      });\n    } finally {\n      delete root._bokeh_onload_callbacks\n    }\n    console.debug(\"Bokeh: all callbacks have finished\");\n  }\n\n  function load_libs(css_urls, js_urls, callback) {\n    if (css_urls == null) css_urls = [];\n    if (js_urls == null) js_urls = [];\n\n    root._bokeh_onload_callbacks.push(callback);\n    if (root._bokeh_is_loading > 0) {\n      console.debug(\"Bokeh: BokehJS is being loaded, scheduling callback at\", now());\n      return null;\n    }\n    if (js_urls == null || js_urls.length === 0) {\n      run_callbacks();\n      return null;\n    }\n    console.debug(\"Bokeh: BokehJS not loaded, scheduling load and callback at\", now());\n    root._bokeh_is_loading = css_urls.length + js_urls.length;\n\n    function on_load() {\n      root._bokeh_is_loading--;\n      if (root._bokeh_is_loading === 0) {\n        console.debug(\"Bokeh: all BokehJS libraries/stylesheets loaded\");\n        run_callbacks()\n      }\n    }\n\n    function on_error(url) {\n      console.error(\"failed to load \" + url);\n    }\n\n    for (let i = 0; i < css_urls.length; i++) {\n      const url = css_urls[i];\n      const element = document.createElement(\"link\");\n      element.onload = on_load;\n      element.onerror = on_error.bind(null, url);\n      element.rel = \"stylesheet\";\n      element.type = \"text/css\";\n      element.href = url;\n      console.debug(\"Bokeh: injecting link tag for BokehJS stylesheet: \", url);\n      document.body.appendChild(element);\n    }\n\n    for (let i = 0; i < js_urls.length; i++) {\n      const url = js_urls[i];\n      const element = document.createElement('script');\n      element.onload = on_load;\n      element.onerror = on_error.bind(null, url);\n      element.async = false;\n      element.src = url;\n      console.debug(\"Bokeh: injecting script tag for BokehJS library: \", url);\n      document.head.appendChild(element);\n    }\n  };\n\n  function inject_raw_css(css) {\n    const element = document.createElement(\"style\");\n    element.appendChild(document.createTextNode(css));\n    document.body.appendChild(element);\n  }\n\n  \n  const js_urls = [\"https://cdn.bokeh.org/bokeh/release/bokeh-2.4.2.min.js\", \"https://cdn.bokeh.org/bokeh/release/bokeh-gl-2.4.2.min.js\", \"https://cdn.bokeh.org/bokeh/release/bokeh-widgets-2.4.2.min.js\", \"https://cdn.bokeh.org/bokeh/release/bokeh-tables-2.4.2.min.js\", \"https://cdn.bokeh.org/bokeh/release/bokeh-mathjax-2.4.2.min.js\"];\n  const css_urls = [];\n  \n\n  const inline_js = [\n    function(Bokeh) {\n      Bokeh.set_log_level(\"info\");\n    },\n    function(Bokeh) {\n    \n    \n    }\n  ];\n\n  function run_inline_js() {\n    \n    if (root.Bokeh !== undefined || force === true) {\n      \n    for (let i = 0; i < inline_js.length; i++) {\n      inline_js[i].call(root, root.Bokeh);\n    }\n    if (force === true) {\n        display_loaded();\n      }} else if (Date.now() < root._bokeh_timeout) {\n      setTimeout(run_inline_js, 100);\n    } else if (!root._bokeh_failed_load) {\n      console.log(\"Bokeh: BokehJS failed to load within specified timeout.\");\n      root._bokeh_failed_load = true;\n    } else if (force !== true) {\n      const cell = $(document.getElementById(\"1513\")).parents('.cell').data().cell;\n      cell.output_area.append_execute_result(NB_LOAD_WARNING)\n    }\n\n  }\n\n  if (root._bokeh_is_loading === 0) {\n    console.debug(\"Bokeh: BokehJS loaded, going straight to plotting\");\n    run_inline_js();\n  } else {\n    load_libs(css_urls, js_urls, function() {\n      console.debug(\"Bokeh: BokehJS plotting callback run at\", now());\n      run_inline_js();\n    });\n  }\n}(window));"
     },
     "metadata": {},
     "output_type": "display_data"
    },
    {
     "data": {
      "text/html": [
       "\n",
       "\n",
       "\n",
       "\n",
       "\n",
       "\n",
       "  <div class=\"bk-root\" id=\"275bb348-cc39-4653-a41b-90b64f146a28\" data-root-id=\"1514\"></div>\n"
      ]
     },
     "metadata": {},
     "output_type": "display_data"
    },
    {
     "data": {
      "application/javascript": [
       "(function(root) {\n",
       "  function embed_document(root) {\n",
       "    \n",
       "  const docs_json = {\"dedc1c4c-c809-4eea-9d0c-8317f873e804\":{\"defs\":[],\"roots\":{\"references\":[{\"attributes\":{\"below\":[{\"id\":\"1525\"}],\"center\":[{\"id\":\"1528\"},{\"id\":\"1532\"},{\"id\":\"1563\"}],\"height\":400,\"left\":[{\"id\":\"1529\"}],\"renderers\":[{\"id\":\"1551\"}],\"title\":{\"id\":\"1515\"},\"toolbar\":{\"id\":\"1540\"},\"width\":800,\"x_range\":{\"id\":\"1517\"},\"x_scale\":{\"id\":\"1521\"},\"y_range\":{\"id\":\"1519\"},\"y_scale\":{\"id\":\"1523\"}},\"id\":\"1514\",\"subtype\":\"Figure\",\"type\":\"Plot\"},{\"attributes\":{\"axis\":{\"id\":\"1529\"},\"coordinates\":null,\"dimension\":1,\"group\":null,\"ticker\":null},\"id\":\"1532\",\"type\":\"Grid\"},{\"attributes\":{\"overlay\":{\"id\":\"1539\"}},\"id\":\"1535\",\"type\":\"BoxZoomTool\"},{\"attributes\":{},\"id\":\"1533\",\"type\":\"PanTool\"},{\"attributes\":{},\"id\":\"1534\",\"type\":\"WheelZoomTool\"},{\"attributes\":{},\"id\":\"1558\",\"type\":\"BasicTickFormatter\"},{\"attributes\":{\"coordinates\":null,\"group\":null,\"items\":[{\"id\":\"1564\"}],\"location\":\"bottom\"},\"id\":\"1563\",\"type\":\"Legend\"},{\"attributes\":{},\"id\":\"1538\",\"type\":\"HelpTool\"},{\"attributes\":{\"source\":{\"id\":\"1547\"}},\"id\":\"1552\",\"type\":\"CDSView\"},{\"attributes\":{\"coordinates\":null,\"group\":null,\"text\":\"40x40 cm\\u00b2 profile on x axis, Z=100 ccm\"},\"id\":\"1515\",\"type\":\"Title\"},{\"attributes\":{\"label\":{\"value\":\"Signal\"},\"renderers\":[{\"id\":\"1551\"}]},\"id\":\"1564\",\"type\":\"LegendItem\"},{\"attributes\":{\"axis\":{\"id\":\"1525\"},\"coordinates\":null,\"group\":null,\"ticker\":null},\"id\":\"1528\",\"type\":\"Grid\"},{\"attributes\":{\"line_alpha\":0.1,\"line_color\":\"#1f77b4\",\"line_width\":2,\"x\":{\"field\":\"x\"},\"y\":{\"field\":\"y\"}},\"id\":\"1549\",\"type\":\"Line\"},{\"attributes\":{\"coordinates\":null,\"data_source\":{\"id\":\"1547\"},\"glyph\":{\"id\":\"1548\"},\"group\":null,\"hover_glyph\":null,\"muted_glyph\":{\"id\":\"1550\"},\"nonselection_glyph\":{\"id\":\"1549\"},\"view\":{\"id\":\"1552\"}},\"id\":\"1551\",\"type\":\"GlyphRenderer\"},{\"attributes\":{},\"id\":\"1555\",\"type\":\"BasicTickFormatter\"},{\"attributes\":{},\"id\":\"1559\",\"type\":\"AllLabels\"},{\"attributes\":{},\"id\":\"1561\",\"type\":\"Selection\"},{\"attributes\":{},\"id\":\"1519\",\"type\":\"DataRange1d\"},{\"attributes\":{},\"id\":\"1536\",\"type\":\"SaveTool\"},{\"attributes\":{},\"id\":\"1517\",\"type\":\"DataRange1d\"},{\"attributes\":{},\"id\":\"1521\",\"type\":\"LinearScale\"},{\"attributes\":{\"data\":{\"x\":{\"__ndarray__\":\"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\",\"dtype\":\"float64\",\"order\":\"little\",\"shape\":[481]},\"y\":{\"__ndarray__\":\"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\",\"dtype\":\"float64\",\"order\":\"little\",\"shape\":[481]}},\"selected\":{\"id\":\"1561\"},\"selection_policy\":{\"id\":\"1560\"}},\"id\":\"1547\",\"type\":\"ColumnDataSource\"},{\"attributes\":{},\"id\":\"1537\",\"type\":\"ResetTool\"},{\"attributes\":{},\"id\":\"1556\",\"type\":\"AllLabels\"},{\"attributes\":{},\"id\":\"1560\",\"type\":\"UnionRenderers\"},{\"attributes\":{\"bottom_units\":\"screen\",\"coordinates\":null,\"fill_alpha\":0.5,\"fill_color\":\"lightgrey\",\"group\":null,\"left_units\":\"screen\",\"level\":\"overlay\",\"line_alpha\":1.0,\"line_color\":\"black\",\"line_dash\":[4,4],\"line_width\":2,\"right_units\":\"screen\",\"syncable\":false,\"top_units\":\"screen\"},\"id\":\"1539\",\"type\":\"BoxAnnotation\"},{\"attributes\":{\"line_alpha\":0.2,\"line_color\":\"#1f77b4\",\"line_width\":2,\"x\":{\"field\":\"x\"},\"y\":{\"field\":\"y\"}},\"id\":\"1550\",\"type\":\"Line\"},{\"attributes\":{},\"id\":\"1530\",\"type\":\"BasicTicker\"},{\"attributes\":{},\"id\":\"1523\",\"type\":\"LinearScale\"},{\"attributes\":{\"axis_label\":\"Fluence (MeV/cm\\u00b2)\",\"axis_label_text_font_size\":\"15pt\",\"coordinates\":null,\"formatter\":{\"id\":\"1555\"},\"group\":null,\"major_label_policy\":{\"id\":\"1556\"},\"ticker\":{\"id\":\"1530\"}},\"id\":\"1529\",\"type\":\"LinearAxis\"},{\"attributes\":{\"tools\":[{\"id\":\"1533\"},{\"id\":\"1534\"},{\"id\":\"1535\"},{\"id\":\"1536\"},{\"id\":\"1537\"},{\"id\":\"1538\"}]},\"id\":\"1540\",\"type\":\"Toolbar\"},{\"attributes\":{\"line_color\":\"#1f77b4\",\"line_width\":2,\"x\":{\"field\":\"x\"},\"y\":{\"field\":\"y\"}},\"id\":\"1548\",\"type\":\"Line\"},{\"attributes\":{},\"id\":\"1526\",\"type\":\"BasicTicker\"},{\"attributes\":{\"axis_label\":\"r (cm)\",\"axis_label_text_font_size\":\"15pt\",\"coordinates\":null,\"formatter\":{\"id\":\"1558\"},\"group\":null,\"major_label_policy\":{\"id\":\"1559\"},\"ticker\":{\"id\":\"1526\"}},\"id\":\"1525\",\"type\":\"LinearAxis\"}],\"root_ids\":[\"1514\"]},\"title\":\"Bokeh Application\",\"version\":\"2.4.2\"}};\n",
       "  const render_items = [{\"docid\":\"dedc1c4c-c809-4eea-9d0c-8317f873e804\",\"root_ids\":[\"1514\"],\"roots\":{\"1514\":\"275bb348-cc39-4653-a41b-90b64f146a28\"}}];\n",
       "  root.Bokeh.embed.embed_items_notebook(docs_json, render_items);\n",
       "\n",
       "  }\n",
       "  if (root.Bokeh !== undefined) {\n",
       "    embed_document(root);\n",
       "  } else {\n",
       "    let attempts = 0;\n",
       "    const timer = setInterval(function(root) {\n",
       "      if (root.Bokeh !== undefined) {\n",
       "        clearInterval(timer);\n",
       "        embed_document(root);\n",
       "      } else {\n",
       "        attempts++;\n",
       "        if (attempts > 100) {\n",
       "          clearInterval(timer);\n",
       "          console.log(\"Bokeh: ERROR: Unable to run BokehJS code because BokehJS library is missing\");\n",
       "        }\n",
       "      }\n",
       "    }, 10, root)\n",
       "  }\n",
       "})(window);"
      ],
      "application/vnd.bokehjs_exec.v0+json": ""
     },
     "metadata": {
      "application/vnd.bokehjs_exec.v0+json": {
       "id": "1514"
      }
     },
     "output_type": "display_data"
    }
   ],
   "source": [
    "from bokeh.plotting import figure, show\n",
    "from bokeh.plotting import output_notebook\n",
    "output_notebook()\n",
    "\n",
    "p = figure(height=400, width=800, title='40x40 cm² profile on x axis, Z=100 ccm', x_axis_label='r (cm)', y_axis_label='Fluence (MeV/cm²)')\n",
    "\n",
    "\n",
    "p.line(np.ravel(Mixed[(Mixed['Z']==100) & (Mixed['Area']==160000) & (Mixed['FFF']==0)]['r']), Mixed[(Mixed['Z']==100) & (Mixed['Area']==160000) & (Mixed['FFF']==0)]['señal'], legend_label='Signal', line_width=2)\n",
    "p.legend.location = 'bottom'\n",
    "p.xaxis.axis_label_text_font_size = \"15pt\"\n",
    "p.yaxis.axis_label_text_font_size = \"15pt\"\n",
    "\n",
    "\n",
    "\n",
    "show(p)"
   ]
  },
  {
   "cell_type": "markdown",
   "id": "0cf36ccb",
   "metadata": {},
   "source": [
    "In = 1 -> X \n",
    "In = 0 -> Y"
   ]
  },
  {
   "cell_type": "code",
   "execution_count": 27,
   "id": "52606a4f",
   "metadata": {},
   "outputs": [],
   "source": [
    "\n",
    "\n",
    "\n",
    "def pos_neg(number, zs):\n",
    "\n",
    "    x_01pos = []\n",
    "    x_01neg = []\n",
    "    x_02pos = []\n",
    "    x_02neg = []\n",
    "    y_01pos = []\n",
    "    y_01neg = []\n",
    "    y_02pos = []\n",
    "    y_02neg = []\n",
    "\n",
    "    for i in np.arange(number, Mixed.shape[0]):\n",
    "        if Mixed[['In']].loc[i].to_numpy() == 1:\n",
    "            x_01pos.append(float((z_x_u*Mixed[['Limit']].loc[i].to_numpy()*(Mixed[['Z']].loc[i].to_numpy()-zs) + (zs - z_x_u)*2*100*Mixed[['r']].loc[i].to_numpy())/(2*100*(Mixed[['Z']].loc[i].to_numpy() - z_x_u))))\n",
    "            x_01neg.append(float((z_x_u*Mixed[['Limit']].loc[i].to_numpy()*(Mixed[['Z']].loc[i].to_numpy()-zs) - (zs - z_x_u)*2*100*Mixed[['r']].loc[i].to_numpy())/(2*100*(Mixed[['Z']].loc[i].to_numpy() - z_x_u))))\n",
    "            x_02pos.append(float((z_x_d*Mixed[['Limit']].loc[i].to_numpy()*(Mixed[['Z']].loc[i].to_numpy()-zs) + (zs - z_x_u)*2*100*Mixed[['r']].loc[i].to_numpy())/(2*100*(Mixed[['Z']].loc[i].to_numpy() - z_x_d))))\n",
    "            x_02neg.append(float((z_x_d*Mixed[['Limit']].loc[i].to_numpy()*(Mixed[['Z']].loc[i].to_numpy()-zs) - (zs - z_x_u)*2*100*Mixed[['r']].loc[i].to_numpy())/(2*100*(Mixed[['Z']].loc[i].to_numpy() - z_x_d))))\n",
    "\n",
    "            y_01pos.append(float((z_y_u*Mixed[['Limit']].loc[i].to_numpy()*(Mixed[['Z']].loc[i].to_numpy()-zs))/(2*100*(Mixed[['Z']].loc[i].to_numpy() - z_y_u))))\n",
    "            y_01neg.append(float((z_y_u*Mixed[['Limit']].loc[i].to_numpy()*(Mixed[['Z']].loc[i].to_numpy()-zs))/(2*100*(Mixed[['Z']].loc[i].to_numpy() - z_y_u))))\n",
    "            y_02pos.append(float((z_y_d*Mixed[['Limit']].loc[i].to_numpy()*(Mixed[['Z']].loc[i].to_numpy()-zs))/(2*100*(Mixed[['Z']].loc[i].to_numpy() - z_y_d))))\n",
    "            y_02neg.append(float((z_y_d*Mixed[['Limit']].loc[i].to_numpy()*(Mixed[['Z']].loc[i].to_numpy()-zs))/(2*100*(Mixed[['Z']].loc[i].to_numpy() - z_y_d))))\n",
    "\n",
    "\n",
    "\n",
    "        else:    \n",
    "            x_01pos.append(float((z_x_u*Mixed[['Limit']].loc[i].to_numpy()*(Mixed[['Z']].loc[i].to_numpy()-zs))/(2*100*(Mixed[['Z']].loc[i].to_numpy() - z_x_u))))\n",
    "            x_01neg.append(float((z_x_u*Mixed[['Limit']].loc[i].to_numpy()*(Mixed[['Z']].loc[i].to_numpy()-zs))/(2*100*(Mixed[['Z']].loc[i].to_numpy() - z_x_u))))\n",
    "            x_02pos.append(float((z_x_d*Mixed[['Limit']].loc[i].to_numpy()*(Mixed[['Z']].loc[i].to_numpy()-zs))/(2*100*(Mixed[['Z']].loc[i].to_numpy() - z_x_d))))\n",
    "            x_02neg.append(float((z_x_d*Mixed[['Limit']].loc[i].to_numpy()*(Mixed[['Z']].loc[i].to_numpy()-zs))/(2*100*(Mixed[['Z']].loc[i].to_numpy() - z_x_d))))\n",
    "\n",
    "\n",
    "            y_01pos.append(float((z_y_u*Mixed[['Limit']].loc[i].to_numpy()*(Mixed[['Z']].loc[i].to_numpy()-zs) + (zs - z_y_u)*2*100*Mixed[['r']].loc[i].to_numpy())/(2*100*(Mixed[['Z']].loc[i].to_numpy() - z_y_u))))\n",
    "            y_01neg.append(float((z_y_u*Mixed[['Limit']].loc[i].to_numpy()*(Mixed[['Z']].loc[i].to_numpy()-zs) - (zs - z_y_u)*2*100*Mixed[['r']].loc[i].to_numpy())/(2*100*(Mixed[['Z']].loc[i].to_numpy() - z_y_u))))\n",
    "            y_02pos.append(float((z_y_d*Mixed[['Limit']].loc[i].to_numpy()*(Mixed[['Z']].loc[i].to_numpy()-zs) + (zs - z_y_u)*2*100*Mixed[['r']].loc[i].to_numpy())/(2*100*(Mixed[['Z']].loc[i].to_numpy() - z_y_d))))\n",
    "            y_02neg.append(float((z_y_d*Mixed[['Limit']].loc[i].to_numpy()*(Mixed[['Z']].loc[i].to_numpy()-zs) - (zs - z_y_u)*2*100*Mixed[['r']].loc[i].to_numpy())/(2*100*(Mixed[['Z']].loc[i].to_numpy() - z_y_d))))\n",
    "\n",
    "\n",
    "\n",
    "    x_0pos = []\n",
    "    for i, j in zip(x_01pos, x_02pos):\n",
    "        if i<j:\n",
    "            x_0pos.append(float(i))\n",
    "        else:\n",
    "            x_0pos.append(float(j))\n",
    "\n",
    "    y_0pos = []\n",
    "    for i, j in zip(y_01pos, y_02pos):\n",
    "        if i<j:\n",
    "            y_0pos.append(float(i))\n",
    "        else:\n",
    "            y_0pos.append(float(j))\n",
    "\n",
    "\n",
    "    x_0neg = []\n",
    "    for i, j in zip(x_01neg, x_02neg):\n",
    "        if i<j:\n",
    "            x_0neg.append(float(i))\n",
    "        else:\n",
    "            x_0neg.append(float(j))\n",
    "\n",
    "    y_0neg = []\n",
    "    for i, j in zip(y_01neg, y_02neg):\n",
    "        if i<j:\n",
    "            y_0neg.append(float(i))\n",
    "        else:\n",
    "            y_0neg.append(float(j))\n",
    "\n",
    "    if zs==0:\n",
    "        \n",
    "    \n",
    "        Mixed['xpos'] = x_0pos\n",
    "        Mixed['xneg'] = x_0neg\n",
    "\n",
    "        Mixed['ypos'] = y_0pos\n",
    "        Mixed['yneg'] = y_0neg\n",
    "    \n",
    "    if zs!=0:\n",
    "        Mixed['xpos col'] = x_0pos\n",
    "        Mixed['xneg col'] = x_0neg\n",
    "\n",
    "        Mixed['ypos col'] = y_0pos\n",
    "        Mixed['yneg col'] = y_0neg\n",
    "\n",
    "    \n",
    "\n",
    "pos_neg(0, 0)\n",
    "pos_neg(0, Mixed[['Zs']].loc[i].to_numpy())"
   ]
  },
  {
   "cell_type": "markdown",
   "id": "51021e4a",
   "metadata": {},
   "source": [
    "Volviendo a la ecuación mostrada antes\n",
    "\n",
    "\\\\[ \\Phi_\\alpha = \\frac{542.085}{z^2}* (\\frac{\\frac{x_0^+}{\\delta_0}}{\\sqrt{1+\\frac{x_0^+}{\\delta_0}}} + \\frac{\\frac{x_0^-}{\\delta_0}}{\\sqrt{1+\\frac{x_0^-}{\\delta_0}}}) * (\\frac{\\frac{y_0^+}{\\delta_0}}{\\sqrt{1+\\frac{y_0^+}{\\delta_0}}} + \\frac{\\frac{y_0^-}{\\delta_0}}{\\sqrt{1+\\frac{y_0^-}{\\delta_0}}}) \\\\]\n"
   ]
  },
  {
   "cell_type": "markdown",
   "id": "17a44f12",
   "metadata": {},
   "source": [
    "\\\\[ \\Phi_\\gamma (x,y,z) = w_0 \\Phi_0(x,y,z) \\Phi_{horn}^\\gamma (x,y,z) \\\\]\n",
    "\n",
    "w_0 es la importancia de la fluencia primaria, que es la que estamos usando únicamente.\n",
    "\n",
    "\\\\[ \\Phi_\\gamma (x,y,z) = \\Phi_0(x,y,z) * \\Phi_{horn}^\\gamma (x,y,z) \\\\]\n",
    "\n",
    "\n",
    "Por lo que tenemos ya una de las dos partes, ahora calculamos \\\\(\\phi^\\gamma_{horn}\\\\)"
   ]
  },
  {
   "cell_type": "markdown",
   "id": "3e750970",
   "metadata": {},
   "source": [
    "\\\\[\\Phi_{horn} = 1+ \\rho^2\\sum^4_{j=0} h_j^{\\gamma, e} \\rho^j \\\\]\n",
    "\n",
    "Donde\n",
    "\n",
    "\\\\[\\rho = \\frac{\\sqrt{x^2 + y^2}}{z-z_0} \\\\]\n"
   ]
  },
  {
   "cell_type": "markdown",
   "id": "2cd01cc9",
   "metadata": {},
   "source": [
    "# Rho"
   ]
  },
  {
   "cell_type": "code",
   "execution_count": 28,
   "id": "526c708d",
   "metadata": {},
   "outputs": [],
   "source": [
    "Mixed['Rho'] = np.abs((Mixed['r']))/(Mixed['Z'])"
   ]
  },
  {
   "cell_type": "markdown",
   "id": "f74bd822",
   "metadata": {},
   "source": [
    "# Analytic equation"
   ]
  },
  {
   "cell_type": "code",
   "execution_count": 29,
   "id": "d2f21e77",
   "metadata": {},
   "outputs": [],
   "source": [
    "from sklearn.metrics import mean_absolute_error"
   ]
  },
  {
   "cell_type": "markdown",
   "id": "043a04d0",
   "metadata": {},
   "source": [
    "## First iteration"
   ]
  },
  {
   "cell_type": "code",
   "execution_count": 31,
   "id": "6160401e",
   "metadata": {},
   "outputs": [
    {
     "name": "stdout",
     "output_type": "stream",
     "text": [
      "0.030933958861756726\n",
      "0.030532448554750513\n",
      "0.030161051290514353\n",
      "0.02980051930037126\n",
      "0.02946572547288586\n",
      "0.029179337586192917\n",
      "0.028914570704582743\n",
      "0.028670493975151375\n",
      "0.028459881696675925\n",
      "0.0282752589513549\n",
      "0.02811943686906862\n",
      "0.02797535701377934\n",
      "0.027841372591383633\n",
      "0.027722021378492383\n",
      "0.027612863008239782\n",
      "0.02753044260014042\n",
      "0.027456396386596565\n",
      "0.02739891242965251\n",
      "0.027358852890147493\n",
      "0.027327831980643622\n",
      "0.02731111236279264\n",
      "0.02730597239440783\n",
      "0.027309932332271275\n",
      "0.02731642696140518\n",
      "0.02732641570258628\n",
      "0.027346987628510837\n",
      "0.02739101607706469\n",
      "0.02743964667467014\n",
      "0.027488956361981273\n",
      "0.02754519787518864\n",
      "0.027608519632653896\n",
      "0.02768293091978529\n"
     ]
    },
    {
     "ename": "KeyboardInterrupt",
     "evalue": "",
     "output_type": "error",
     "traceback": [
      "\u001b[0;31m---------------------------------------------------------------------------\u001b[0m",
      "\u001b[0;31mKeyboardInterrupt\u001b[0m                         Traceback (most recent call last)",
      "\u001b[0;32m<ipython-input-31-d573a3928a73>\u001b[0m in \u001b[0;36m<module>\u001b[0;34m\u001b[0m\n\u001b[1;32m     26\u001b[0m         \u001b[0mzforanalytic\u001b[0m \u001b[0;34m=\u001b[0m \u001b[0mfloat\u001b[0m\u001b[0;34m(\u001b[0m\u001b[0mMIXEDF0\u001b[0m\u001b[0;34m.\u001b[0m\u001b[0mloc\u001b[0m\u001b[0;34m[\u001b[0m\u001b[0mi\u001b[0m\u001b[0;34m,\u001b[0m \u001b[0;34m'Z'\u001b[0m\u001b[0;34m]\u001b[0m\u001b[0;34m)\u001b[0m\u001b[0;34m\u001b[0m\u001b[0;34m\u001b[0m\u001b[0m\n\u001b[1;32m     27\u001b[0m         \u001b[0mmaxsignal\u001b[0m \u001b[0;34m=\u001b[0m \u001b[0mMIXEDF0\u001b[0m\u001b[0;34m[\u001b[0m\u001b[0;34m(\u001b[0m\u001b[0mMIXEDF0\u001b[0m\u001b[0;34m[\u001b[0m\u001b[0;34m'Limit'\u001b[0m\u001b[0;34m]\u001b[0m\u001b[0;34m==\u001b[0m\u001b[0mLimit\u001b[0m\u001b[0;34m)\u001b[0m \u001b[0;34m&\u001b[0m \u001b[0;34m(\u001b[0m\u001b[0mMIXEDF0\u001b[0m\u001b[0;34m[\u001b[0m\u001b[0;34m'Area'\u001b[0m\u001b[0;34m]\u001b[0m\u001b[0;34m==\u001b[0m\u001b[0mArea\u001b[0m\u001b[0;34m)\u001b[0m \u001b[0;34m&\u001b[0m \u001b[0;34m(\u001b[0m\u001b[0mMIXEDF0\u001b[0m\u001b[0;34m[\u001b[0m\u001b[0;34m'Z'\u001b[0m\u001b[0;34m]\u001b[0m\u001b[0;34m==\u001b[0m\u001b[0mzforanalytic\u001b[0m\u001b[0;34m)\u001b[0m\u001b[0;34m]\u001b[0m\u001b[0;34m[\u001b[0m\u001b[0;34m'señal'\u001b[0m\u001b[0;34m]\u001b[0m\u001b[0;34m.\u001b[0m\u001b[0mmax\u001b[0m\u001b[0;34m(\u001b[0m\u001b[0;34m)\u001b[0m\u001b[0;34m\u001b[0m\u001b[0;34m\u001b[0m\u001b[0m\n\u001b[0;32m---> 28\u001b[0;31m         \u001b[0mmaxanalytic\u001b[0m \u001b[0;34m=\u001b[0m \u001b[0mMIXEDF0\u001b[0m\u001b[0;34m[\u001b[0m\u001b[0;34m(\u001b[0m\u001b[0mMIXEDF0\u001b[0m\u001b[0;34m[\u001b[0m\u001b[0;34m'Limit'\u001b[0m\u001b[0;34m]\u001b[0m\u001b[0;34m==\u001b[0m\u001b[0mLimit\u001b[0m\u001b[0;34m)\u001b[0m \u001b[0;34m&\u001b[0m \u001b[0;34m(\u001b[0m\u001b[0mMIXEDF0\u001b[0m\u001b[0;34m[\u001b[0m\u001b[0;34m'Area'\u001b[0m\u001b[0;34m]\u001b[0m\u001b[0;34m==\u001b[0m\u001b[0mArea\u001b[0m\u001b[0;34m)\u001b[0m \u001b[0;34m&\u001b[0m \u001b[0;34m(\u001b[0m\u001b[0mMIXEDF0\u001b[0m\u001b[0;34m[\u001b[0m\u001b[0;34m'Z'\u001b[0m\u001b[0;34m]\u001b[0m\u001b[0;34m==\u001b[0m\u001b[0mzforanalytic\u001b[0m\u001b[0;34m)\u001b[0m\u001b[0;34m]\u001b[0m\u001b[0;34m[\u001b[0m\u001b[0;34m'a'\u001b[0m\u001b[0;34m]\u001b[0m\u001b[0;34m.\u001b[0m\u001b[0mmax\u001b[0m\u001b[0;34m(\u001b[0m\u001b[0;34m)\u001b[0m\u001b[0;34m\u001b[0m\u001b[0;34m\u001b[0m\u001b[0m\n\u001b[0m\u001b[1;32m     29\u001b[0m         \u001b[0mNewA\u001b[0m\u001b[0;34m.\u001b[0m\u001b[0mappend\u001b[0m\u001b[0;34m(\u001b[0m\u001b[0mMIXEDF0\u001b[0m\u001b[0;34m.\u001b[0m\u001b[0mloc\u001b[0m\u001b[0;34m[\u001b[0m\u001b[0mi\u001b[0m\u001b[0;34m,\u001b[0m \u001b[0;34m'a'\u001b[0m\u001b[0;34m]\u001b[0m\u001b[0;34m*\u001b[0m\u001b[0;34m(\u001b[0m\u001b[0mmaxsignal\u001b[0m\u001b[0;34m/\u001b[0m\u001b[0mmaxanalytic\u001b[0m\u001b[0;34m)\u001b[0m\u001b[0;34m)\u001b[0m\u001b[0;34m\u001b[0m\u001b[0;34m\u001b[0m\u001b[0m\n\u001b[1;32m     30\u001b[0m \u001b[0;34m\u001b[0m\u001b[0m\n",
      "\u001b[0;32m~/anaconda3/lib/python3.7/site-packages/pandas/core/frame.py\u001b[0m in \u001b[0;36m__getitem__\u001b[0;34m(self, key)\u001b[0m\n\u001b[1;32m   3013\u001b[0m         \u001b[0;31m# Do we have a (boolean) 1d indexer?\u001b[0m\u001b[0;34m\u001b[0m\u001b[0;34m\u001b[0m\u001b[0;34m\u001b[0m\u001b[0m\n\u001b[1;32m   3014\u001b[0m         \u001b[0;32mif\u001b[0m \u001b[0mcom\u001b[0m\u001b[0;34m.\u001b[0m\u001b[0mis_bool_indexer\u001b[0m\u001b[0;34m(\u001b[0m\u001b[0mkey\u001b[0m\u001b[0;34m)\u001b[0m\u001b[0;34m:\u001b[0m\u001b[0;34m\u001b[0m\u001b[0;34m\u001b[0m\u001b[0m\n\u001b[0;32m-> 3015\u001b[0;31m             \u001b[0;32mreturn\u001b[0m \u001b[0mself\u001b[0m\u001b[0;34m.\u001b[0m\u001b[0m_getitem_bool_array\u001b[0m\u001b[0;34m(\u001b[0m\u001b[0mkey\u001b[0m\u001b[0;34m)\u001b[0m\u001b[0;34m\u001b[0m\u001b[0;34m\u001b[0m\u001b[0m\n\u001b[0m\u001b[1;32m   3016\u001b[0m \u001b[0;34m\u001b[0m\u001b[0m\n\u001b[1;32m   3017\u001b[0m         \u001b[0;31m# We are left with two options: a single key, and a collection of keys,\u001b[0m\u001b[0;34m\u001b[0m\u001b[0;34m\u001b[0m\u001b[0;34m\u001b[0m\u001b[0m\n",
      "\u001b[0;32m~/anaconda3/lib/python3.7/site-packages/pandas/core/frame.py\u001b[0m in \u001b[0;36m_getitem_bool_array\u001b[0;34m(self, key)\u001b[0m\n\u001b[1;32m   3068\u001b[0m         \u001b[0mkey\u001b[0m \u001b[0;34m=\u001b[0m \u001b[0mcheck_bool_indexer\u001b[0m\u001b[0;34m(\u001b[0m\u001b[0mself\u001b[0m\u001b[0;34m.\u001b[0m\u001b[0mindex\u001b[0m\u001b[0;34m,\u001b[0m \u001b[0mkey\u001b[0m\u001b[0;34m)\u001b[0m\u001b[0;34m\u001b[0m\u001b[0;34m\u001b[0m\u001b[0m\n\u001b[1;32m   3069\u001b[0m         \u001b[0mindexer\u001b[0m \u001b[0;34m=\u001b[0m \u001b[0mkey\u001b[0m\u001b[0;34m.\u001b[0m\u001b[0mnonzero\u001b[0m\u001b[0;34m(\u001b[0m\u001b[0;34m)\u001b[0m\u001b[0;34m[\u001b[0m\u001b[0;36m0\u001b[0m\u001b[0;34m]\u001b[0m\u001b[0;34m\u001b[0m\u001b[0;34m\u001b[0m\u001b[0m\n\u001b[0;32m-> 3070\u001b[0;31m         \u001b[0;32mreturn\u001b[0m \u001b[0mself\u001b[0m\u001b[0;34m.\u001b[0m\u001b[0m_take_with_is_copy\u001b[0m\u001b[0;34m(\u001b[0m\u001b[0mindexer\u001b[0m\u001b[0;34m,\u001b[0m \u001b[0maxis\u001b[0m\u001b[0;34m=\u001b[0m\u001b[0;36m0\u001b[0m\u001b[0;34m)\u001b[0m\u001b[0;34m\u001b[0m\u001b[0;34m\u001b[0m\u001b[0m\n\u001b[0m\u001b[1;32m   3071\u001b[0m \u001b[0;34m\u001b[0m\u001b[0m\n\u001b[1;32m   3072\u001b[0m     \u001b[0;32mdef\u001b[0m \u001b[0m_getitem_multilevel\u001b[0m\u001b[0;34m(\u001b[0m\u001b[0mself\u001b[0m\u001b[0;34m,\u001b[0m \u001b[0mkey\u001b[0m\u001b[0;34m)\u001b[0m\u001b[0;34m:\u001b[0m\u001b[0;34m\u001b[0m\u001b[0;34m\u001b[0m\u001b[0m\n",
      "\u001b[0;32m~/anaconda3/lib/python3.7/site-packages/pandas/core/generic.py\u001b[0m in \u001b[0;36m_take_with_is_copy\u001b[0;34m(self, indices, axis)\u001b[0m\n\u001b[1;32m   3598\u001b[0m         \u001b[0mSee\u001b[0m \u001b[0mthe\u001b[0m \u001b[0mdocstring\u001b[0m \u001b[0mof\u001b[0m\u001b[0;31m \u001b[0m\u001b[0;31m`\u001b[0m\u001b[0mtake\u001b[0m\u001b[0;31m`\u001b[0m \u001b[0;32mfor\u001b[0m \u001b[0mfull\u001b[0m \u001b[0mexplanation\u001b[0m \u001b[0mof\u001b[0m \u001b[0mthe\u001b[0m \u001b[0mparameters\u001b[0m\u001b[0;34m.\u001b[0m\u001b[0;34m\u001b[0m\u001b[0;34m\u001b[0m\u001b[0m\n\u001b[1;32m   3599\u001b[0m         \"\"\"\n\u001b[0;32m-> 3600\u001b[0;31m         \u001b[0mresult\u001b[0m \u001b[0;34m=\u001b[0m \u001b[0mself\u001b[0m\u001b[0;34m.\u001b[0m\u001b[0mtake\u001b[0m\u001b[0;34m(\u001b[0m\u001b[0mindices\u001b[0m\u001b[0;34m=\u001b[0m\u001b[0mindices\u001b[0m\u001b[0;34m,\u001b[0m \u001b[0maxis\u001b[0m\u001b[0;34m=\u001b[0m\u001b[0maxis\u001b[0m\u001b[0;34m)\u001b[0m\u001b[0;34m\u001b[0m\u001b[0;34m\u001b[0m\u001b[0m\n\u001b[0m\u001b[1;32m   3601\u001b[0m         \u001b[0;31m# Maybe set copy if we didn't actually change the index.\u001b[0m\u001b[0;34m\u001b[0m\u001b[0;34m\u001b[0m\u001b[0;34m\u001b[0m\u001b[0m\n\u001b[1;32m   3602\u001b[0m         \u001b[0;32mif\u001b[0m \u001b[0;32mnot\u001b[0m \u001b[0mresult\u001b[0m\u001b[0;34m.\u001b[0m\u001b[0m_get_axis\u001b[0m\u001b[0;34m(\u001b[0m\u001b[0maxis\u001b[0m\u001b[0;34m)\u001b[0m\u001b[0;34m.\u001b[0m\u001b[0mequals\u001b[0m\u001b[0;34m(\u001b[0m\u001b[0mself\u001b[0m\u001b[0;34m.\u001b[0m\u001b[0m_get_axis\u001b[0m\u001b[0;34m(\u001b[0m\u001b[0maxis\u001b[0m\u001b[0;34m)\u001b[0m\u001b[0;34m)\u001b[0m\u001b[0;34m:\u001b[0m\u001b[0;34m\u001b[0m\u001b[0;34m\u001b[0m\u001b[0m\n",
      "\u001b[0;32m~/anaconda3/lib/python3.7/site-packages/pandas/core/generic.py\u001b[0m in \u001b[0;36mtake\u001b[0;34m(self, indices, axis, is_copy, **kwargs)\u001b[0m\n\u001b[1;32m   3585\u001b[0m \u001b[0;34m\u001b[0m\u001b[0m\n\u001b[1;32m   3586\u001b[0m         new_data = self._mgr.take(\n\u001b[0;32m-> 3587\u001b[0;31m             \u001b[0mindices\u001b[0m\u001b[0;34m,\u001b[0m \u001b[0maxis\u001b[0m\u001b[0;34m=\u001b[0m\u001b[0mself\u001b[0m\u001b[0;34m.\u001b[0m\u001b[0m_get_block_manager_axis\u001b[0m\u001b[0;34m(\u001b[0m\u001b[0maxis\u001b[0m\u001b[0;34m)\u001b[0m\u001b[0;34m,\u001b[0m \u001b[0mverify\u001b[0m\u001b[0;34m=\u001b[0m\u001b[0;32mTrue\u001b[0m\u001b[0;34m\u001b[0m\u001b[0;34m\u001b[0m\u001b[0m\n\u001b[0m\u001b[1;32m   3588\u001b[0m         )\n\u001b[1;32m   3589\u001b[0m         \u001b[0;32mreturn\u001b[0m \u001b[0mself\u001b[0m\u001b[0;34m.\u001b[0m\u001b[0m_constructor\u001b[0m\u001b[0;34m(\u001b[0m\u001b[0mnew_data\u001b[0m\u001b[0;34m)\u001b[0m\u001b[0;34m.\u001b[0m\u001b[0m__finalize__\u001b[0m\u001b[0;34m(\u001b[0m\u001b[0mself\u001b[0m\u001b[0;34m,\u001b[0m \u001b[0mmethod\u001b[0m\u001b[0;34m=\u001b[0m\u001b[0;34m\"take\"\u001b[0m\u001b[0;34m)\u001b[0m\u001b[0;34m\u001b[0m\u001b[0;34m\u001b[0m\u001b[0m\n",
      "\u001b[0;32m~/anaconda3/lib/python3.7/site-packages/pandas/core/internals/managers.py\u001b[0m in \u001b[0;36mtake\u001b[0;34m(self, indexer, axis, verify, convert)\u001b[0m\n\u001b[1;32m   1473\u001b[0m         \u001b[0mnew_labels\u001b[0m \u001b[0;34m=\u001b[0m \u001b[0mself\u001b[0m\u001b[0;34m.\u001b[0m\u001b[0maxes\u001b[0m\u001b[0;34m[\u001b[0m\u001b[0maxis\u001b[0m\u001b[0;34m]\u001b[0m\u001b[0;34m.\u001b[0m\u001b[0mtake\u001b[0m\u001b[0;34m(\u001b[0m\u001b[0mindexer\u001b[0m\u001b[0;34m)\u001b[0m\u001b[0;34m\u001b[0m\u001b[0;34m\u001b[0m\u001b[0m\n\u001b[1;32m   1474\u001b[0m         return self.reindex_indexer(\n\u001b[0;32m-> 1475\u001b[0;31m             \u001b[0mnew_axis\u001b[0m\u001b[0;34m=\u001b[0m\u001b[0mnew_labels\u001b[0m\u001b[0;34m,\u001b[0m \u001b[0mindexer\u001b[0m\u001b[0;34m=\u001b[0m\u001b[0mindexer\u001b[0m\u001b[0;34m,\u001b[0m \u001b[0maxis\u001b[0m\u001b[0;34m=\u001b[0m\u001b[0maxis\u001b[0m\u001b[0;34m,\u001b[0m \u001b[0mallow_dups\u001b[0m\u001b[0;34m=\u001b[0m\u001b[0;32mTrue\u001b[0m\u001b[0;34m\u001b[0m\u001b[0;34m\u001b[0m\u001b[0m\n\u001b[0m\u001b[1;32m   1476\u001b[0m         )\n\u001b[1;32m   1477\u001b[0m \u001b[0;34m\u001b[0m\u001b[0m\n",
      "\u001b[0;32m~/anaconda3/lib/python3.7/site-packages/pandas/core/internals/managers.py\u001b[0m in \u001b[0;36mreindex_indexer\u001b[0;34m(self, new_axis, indexer, axis, fill_value, allow_dups, copy, consolidate, only_slice)\u001b[0m\n\u001b[1;32m   1317\u001b[0m                     ),\n\u001b[1;32m   1318\u001b[0m                 )\n\u001b[0;32m-> 1319\u001b[0;31m                 \u001b[0;32mfor\u001b[0m \u001b[0mblk\u001b[0m \u001b[0;32min\u001b[0m \u001b[0mself\u001b[0m\u001b[0;34m.\u001b[0m\u001b[0mblocks\u001b[0m\u001b[0;34m\u001b[0m\u001b[0;34m\u001b[0m\u001b[0m\n\u001b[0m\u001b[1;32m   1320\u001b[0m             ]\n\u001b[1;32m   1321\u001b[0m \u001b[0;34m\u001b[0m\u001b[0m\n",
      "\u001b[0;32m~/anaconda3/lib/python3.7/site-packages/pandas/core/internals/managers.py\u001b[0m in \u001b[0;36m<listcomp>\u001b[0;34m(.0)\u001b[0m\n\u001b[1;32m   1317\u001b[0m                     ),\n\u001b[1;32m   1318\u001b[0m                 )\n\u001b[0;32m-> 1319\u001b[0;31m                 \u001b[0;32mfor\u001b[0m \u001b[0mblk\u001b[0m \u001b[0;32min\u001b[0m \u001b[0mself\u001b[0m\u001b[0;34m.\u001b[0m\u001b[0mblocks\u001b[0m\u001b[0;34m\u001b[0m\u001b[0;34m\u001b[0m\u001b[0m\n\u001b[0m\u001b[1;32m   1320\u001b[0m             ]\n\u001b[1;32m   1321\u001b[0m \u001b[0;34m\u001b[0m\u001b[0m\n",
      "\u001b[0;32m~/anaconda3/lib/python3.7/site-packages/pandas/core/internals/blocks.py\u001b[0m in \u001b[0;36mtake_nd\u001b[0;34m(self, indexer, axis, new_mgr_locs, fill_value)\u001b[0m\n\u001b[1;32m   1394\u001b[0m \u001b[0;34m\u001b[0m\u001b[0m\n\u001b[1;32m   1395\u001b[0m         new_values = algos.take_nd(\n\u001b[0;32m-> 1396\u001b[0;31m             \u001b[0mvalues\u001b[0m\u001b[0;34m,\u001b[0m \u001b[0mindexer\u001b[0m\u001b[0;34m,\u001b[0m \u001b[0maxis\u001b[0m\u001b[0;34m=\u001b[0m\u001b[0maxis\u001b[0m\u001b[0;34m,\u001b[0m \u001b[0mallow_fill\u001b[0m\u001b[0;34m=\u001b[0m\u001b[0mallow_fill\u001b[0m\u001b[0;34m,\u001b[0m \u001b[0mfill_value\u001b[0m\u001b[0;34m=\u001b[0m\u001b[0mfill_value\u001b[0m\u001b[0;34m\u001b[0m\u001b[0;34m\u001b[0m\u001b[0m\n\u001b[0m\u001b[1;32m   1397\u001b[0m         )\n\u001b[1;32m   1398\u001b[0m \u001b[0;34m\u001b[0m\u001b[0m\n",
      "\u001b[0;32m~/anaconda3/lib/python3.7/site-packages/pandas/core/algorithms.py\u001b[0m in \u001b[0;36mtake_nd\u001b[0;34m(arr, indexer, axis, out, fill_value, allow_fill)\u001b[0m\n\u001b[1;32m   1755\u001b[0m \u001b[0;34m\u001b[0m\u001b[0m\n\u001b[1;32m   1756\u001b[0m     func = _get_take_nd_function(\n\u001b[0;32m-> 1757\u001b[0;31m         \u001b[0marr\u001b[0m\u001b[0;34m.\u001b[0m\u001b[0mndim\u001b[0m\u001b[0;34m,\u001b[0m \u001b[0marr\u001b[0m\u001b[0;34m.\u001b[0m\u001b[0mdtype\u001b[0m\u001b[0;34m,\u001b[0m \u001b[0mout\u001b[0m\u001b[0;34m.\u001b[0m\u001b[0mdtype\u001b[0m\u001b[0;34m,\u001b[0m \u001b[0maxis\u001b[0m\u001b[0;34m=\u001b[0m\u001b[0maxis\u001b[0m\u001b[0;34m,\u001b[0m \u001b[0mmask_info\u001b[0m\u001b[0;34m=\u001b[0m\u001b[0mmask_info\u001b[0m\u001b[0;34m\u001b[0m\u001b[0;34m\u001b[0m\u001b[0m\n\u001b[0m\u001b[1;32m   1758\u001b[0m     )\n\u001b[1;32m   1759\u001b[0m     \u001b[0mfunc\u001b[0m\u001b[0;34m(\u001b[0m\u001b[0marr\u001b[0m\u001b[0;34m,\u001b[0m \u001b[0mindexer\u001b[0m\u001b[0;34m,\u001b[0m \u001b[0mout\u001b[0m\u001b[0;34m,\u001b[0m \u001b[0mfill_value\u001b[0m\u001b[0;34m)\u001b[0m\u001b[0;34m\u001b[0m\u001b[0;34m\u001b[0m\u001b[0m\n",
      "\u001b[0;32m~/anaconda3/lib/python3.7/site-packages/pandas/core/algorithms.py\u001b[0m in \u001b[0;36m_get_take_nd_function\u001b[0;34m(ndim, arr_dtype, out_dtype, axis, mask_info)\u001b[0m\n\u001b[1;32m   1536\u001b[0m ):\n\u001b[1;32m   1537\u001b[0m     \u001b[0;32mif\u001b[0m \u001b[0mndim\u001b[0m \u001b[0;34m<=\u001b[0m \u001b[0;36m2\u001b[0m\u001b[0;34m:\u001b[0m\u001b[0;34m\u001b[0m\u001b[0;34m\u001b[0m\u001b[0m\n\u001b[0;32m-> 1538\u001b[0;31m         \u001b[0mtup\u001b[0m \u001b[0;34m=\u001b[0m \u001b[0;34m(\u001b[0m\u001b[0marr_dtype\u001b[0m\u001b[0;34m.\u001b[0m\u001b[0mname\u001b[0m\u001b[0;34m,\u001b[0m \u001b[0mout_dtype\u001b[0m\u001b[0;34m.\u001b[0m\u001b[0mname\u001b[0m\u001b[0;34m)\u001b[0m\u001b[0;34m\u001b[0m\u001b[0;34m\u001b[0m\u001b[0m\n\u001b[0m\u001b[1;32m   1539\u001b[0m         \u001b[0;32mif\u001b[0m \u001b[0mndim\u001b[0m \u001b[0;34m==\u001b[0m \u001b[0;36m1\u001b[0m\u001b[0;34m:\u001b[0m\u001b[0;34m\u001b[0m\u001b[0;34m\u001b[0m\u001b[0m\n\u001b[1;32m   1540\u001b[0m             \u001b[0mfunc\u001b[0m \u001b[0;34m=\u001b[0m \u001b[0m_take_1d_dict\u001b[0m\u001b[0;34m.\u001b[0m\u001b[0mget\u001b[0m\u001b[0;34m(\u001b[0m\u001b[0mtup\u001b[0m\u001b[0;34m,\u001b[0m \u001b[0;32mNone\u001b[0m\u001b[0;34m)\u001b[0m\u001b[0;34m\u001b[0m\u001b[0;34m\u001b[0m\u001b[0m\n",
      "\u001b[0;32m~/anaconda3/lib/python3.7/site-packages/numpy/core/_dtype.py\u001b[0m in \u001b[0;36m_name_get\u001b[0;34m(dtype)\u001b[0m\n\u001b[1;32m    326\u001b[0m         \u001b[0;32mreturn\u001b[0m \u001b[0mdtype\u001b[0m\u001b[0;34m.\u001b[0m\u001b[0mtype\u001b[0m\u001b[0;34m.\u001b[0m\u001b[0m__name__\u001b[0m\u001b[0;34m\u001b[0m\u001b[0;34m\u001b[0m\u001b[0m\n\u001b[1;32m    327\u001b[0m \u001b[0;34m\u001b[0m\u001b[0m\n\u001b[0;32m--> 328\u001b[0;31m     \u001b[0;32mif\u001b[0m \u001b[0missubclass\u001b[0m\u001b[0;34m(\u001b[0m\u001b[0mdtype\u001b[0m\u001b[0;34m.\u001b[0m\u001b[0mtype\u001b[0m\u001b[0;34m,\u001b[0m \u001b[0mnp\u001b[0m\u001b[0;34m.\u001b[0m\u001b[0mvoid\u001b[0m\u001b[0;34m)\u001b[0m\u001b[0;34m:\u001b[0m\u001b[0;34m\u001b[0m\u001b[0;34m\u001b[0m\u001b[0m\n\u001b[0m\u001b[1;32m    329\u001b[0m         \u001b[0;31m# historically, void subclasses preserve their name, eg `record64`\u001b[0m\u001b[0;34m\u001b[0m\u001b[0;34m\u001b[0m\u001b[0;34m\u001b[0m\u001b[0m\n\u001b[1;32m    330\u001b[0m         \u001b[0mname\u001b[0m \u001b[0;34m=\u001b[0m \u001b[0mdtype\u001b[0m\u001b[0;34m.\u001b[0m\u001b[0mtype\u001b[0m\u001b[0;34m.\u001b[0m\u001b[0m__name__\u001b[0m\u001b[0;34m\u001b[0m\u001b[0;34m\u001b[0m\u001b[0m\n",
      "\u001b[0;31mKeyboardInterrupt\u001b[0m: "
     ]
    }
   ],
   "source": [
    "\n",
    "coef = 0 \n",
    "errorcoef = np.inf\n",
    "for l in np.linspace(1, 3, 50):\n",
    "\n",
    "    Arg1 = (Mixed[Mixed['FFF']==0]['xpos']/l)/((1 + (Mixed[Mixed['FFF']==0]['xpos']/l)**2)**(1/2))\n",
    "    Arg2 = (Mixed[Mixed['FFF']==0]['xneg']/l)/((1 + (Mixed[Mixed['FFF']==0]['xneg']/l)**2)**(1/2))\n",
    "\n",
    "    Arg3 = (Mixed[Mixed['FFF']==0]['ypos']/l)/((1 + (Mixed[Mixed['FFF']==0]['ypos']/l)**2)**(1/2))\n",
    "    Arg4 = (Mixed[Mixed['FFF']==0]['yneg']/l)/((1 + (Mixed[Mixed['FFF']==0]['yneg']/l)**2)**(1/2))\n",
    "    a = Mixed[Mixed['FFF']==0]['Big Z'] * (Arg1+Arg2) * (Arg3+Arg4) * (1 + (Mixed[Mixed['FFF']==0]['Rho']**2) * (-1.000000e-05 + 0.001*Mixed[Mixed['FFF']==0]['Rho'] + 1.000000e-05*Mixed[Mixed['FFF']==0]['Rho']**2 + 0.001*Mixed[Mixed['FFF']==0]['Rho']**3 + 0.001*Mixed[Mixed['FFF']==0]['Rho']**5))\n",
    "\n",
    "    a = a.reset_index(drop=True)\n",
    "\n",
    "    MIXEDF0 = Mixed[Mixed['FFF']==0].reset_index(drop=True)\n",
    "\n",
    "\n",
    "\n",
    "    MIXEDF0['a'] = a\n",
    "    LimitedSignal = []\n",
    "\n",
    "\n",
    "    NewA = []\n",
    "    for i in np.arange(0, MIXEDF0.shape[0]):\n",
    "        Limit = float(MIXEDF0.loc[i, 'Limit'])\n",
    "        Area = float(MIXEDF0.loc[i, 'Area'])\n",
    "        zforanalytic = float(MIXEDF0.loc[i, 'Z'])\n",
    "        maxsignal = MIXEDF0[(MIXEDF0['Limit']==Limit) & (MIXEDF0['Area']==Area) & (MIXEDF0['Z']==zforanalytic)]['señal'].max()\n",
    "        maxanalytic = MIXEDF0[(MIXEDF0['Limit']==Limit) & (MIXEDF0['Area']==Area) & (MIXEDF0['Z']==zforanalytic)]['a'].max()\n",
    "        NewA.append(MIXEDF0.loc[i, 'a']*(maxsignal/maxanalytic))\n",
    "\n",
    "        if np.abs(MIXEDF0.loc[i, 'r']) > MIXEDF0.loc[i, 'Limit']/2:\n",
    "            LimitedSignal.append(0)\n",
    "        else:\n",
    "            LimitedSignal.append(1)\n",
    "\n",
    "    MIXEDF0.drop('a', axis=1, inplace=True)\n",
    "    MIXEDF0['Analytic function'] = NewA\n",
    "    MIXEDF0['Limited'] = LimitedSignal\n",
    "\n",
    "\n",
    "\n",
    "    print(mean_absolute_error(NewA, MIXEDF0['señal'].values))\n",
    "    if mean_absolute_error(NewA, MIXEDF0['señal'].values) < errorcoef:\n",
    "        errorcoef = mean_absolute_error(NewA, MIXEDF0['señal'].values)\n",
    "        coef = l\n",
    "        \n",
    "        \n",
    "Arg1 = (Mixed[Mixed['FFF']==0]['xpos']/coef)/((1 + (Mixed[Mixed['FFF']==0]['xpos']/coef)**2)**(1/2))\n",
    "Arg2 = (Mixed[Mixed['FFF']==0]['xneg']/coef)/((1 + (Mixed[Mixed['FFF']==0]['xneg']/coef)**2)**(1/2))\n",
    "\n",
    "Arg3 = (Mixed[Mixed['FFF']==0]['ypos']/coef)/((1 + (Mixed[Mixed['FFF']==0]['ypos']/coef)**2)**(1/2))\n",
    "Arg4 = (Mixed[Mixed['FFF']==0]['yneg']/coef)/((1 + (Mixed[Mixed['FFF']==0]['yneg']/coef)**2)**(1/2))\n",
    "a = Mixed[Mixed['FFF']==0]['Big Z'] * (Arg1+Arg2) * (Arg3+Arg4) * (1 + (Mixed[Mixed['FFF']==0]['Rho']**2) * (-1.000000e-05 + 0.001*Mixed[Mixed['FFF']==0]['Rho'] + 1.000000e-05*Mixed[Mixed['FFF']==0]['Rho']**2 + 0.001*Mixed[Mixed['FFF']==0]['Rho']**3 + 0.001*Mixed[Mixed['FFF']==0]['Rho']**5))\n",
    "\n",
    "a = a.reset_index(drop=True)\n",
    "\n",
    "MIXEDF0 = Mixed[Mixed['FFF']==0].reset_index(drop=True)\n",
    "\n",
    "\n",
    "\n",
    "MIXEDF0['a'] = a\n",
    "LimitedSignal = []\n",
    "\n",
    "\n",
    "NewA = []\n",
    "for i in np.arange(0, MIXEDF0.shape[0]):\n",
    "    Limit = float(MIXEDF0.loc[i, 'Limit'])\n",
    "    Area = float(MIXEDF0.loc[i, 'Area'])\n",
    "    zforanalytic = float(MIXEDF0.loc[i, 'Z'])\n",
    "    maxsignal = MIXEDF0[(MIXEDF0['Limit']==Limit) & (MIXEDF0['Area']==Area) & (MIXEDF0['Z']==zforanalytic)]['señal'].max()\n",
    "    maxanalytic = MIXEDF0[(MIXEDF0['Limit']==Limit) & (MIXEDF0['Area']==Area) & (MIXEDF0['Z']==zforanalytic)]['a'].max()\n",
    "    NewA.append(MIXEDF0.loc[i, 'a']*(maxsignal/maxanalytic))\n",
    "\n",
    "    if np.abs(MIXEDF0.loc[i, 'r']) > MIXEDF0.loc[i, 'Limit']/2:\n",
    "        LimitedSignal.append(0)\n",
    "    else:\n",
    "        LimitedSignal.append(1)\n",
    "\n",
    "MIXEDF0.drop('a', axis=1, inplace=True)\n",
    "MIXEDF0['Analytic function'] = NewA\n",
    "MIXEDF0['Limited'] = LimitedSignal\n",
    "\n",
    "MIXEDF0.set_index('r')[['señal', 'Analytic function', 'Limited']].plot()"
   ]
  },
  {
   "cell_type": "markdown",
   "id": "2386edd9",
   "metadata": {},
   "source": [
    "## Second iteration"
   ]
  },
  {
   "cell_type": "code",
   "execution_count": 46,
   "id": "2df2a26a",
   "metadata": {},
   "outputs": [
    {
     "name": "stdout",
     "output_type": "stream",
     "text": [
      "0.027150795163264924\n",
      "0.02682421755293772\n",
      "0.026521748677948858\n",
      "0.026242953295307177\n",
      "0.025993258465678973\n",
      "0.02577309150044049\n",
      "0.025576593190025466\n",
      "0.025406039402893963\n",
      "0.025272386153132827\n",
      "0.0251602978465844\n",
      "0.02506909911930489\n",
      "0.02499438856908686\n",
      "0.02493128859461674\n",
      "0.024876880813776578\n",
      "0.024839435743930244\n",
      "0.024818967650526737\n",
      "0.024805525927344932\n",
      "0.024806152895553723\n",
      "0.024825340634788917\n",
      "0.024855289839750768\n",
      "0.024894318274982098\n",
      "0.02494083030652286\n",
      "0.024994849986404135\n",
      "0.025056630235879822\n",
      "0.025126338553212647\n",
      "0.025201578717766043\n",
      "0.025290590387220042\n",
      "0.02539048956493856\n",
      "0.02549298937938569\n",
      "0.025598727467269697\n",
      "0.025709826020077448\n",
      "0.0258319271896988\n",
      "0.02595443427766401\n",
      "0.02608479211875776\n",
      "0.026225552447550864\n",
      "0.026370008118054924\n",
      "0.02652016601204901\n",
      "0.02667476649376009\n",
      "0.02683487070157156\n",
      "0.026998625869434707\n",
      "0.027164110971778014\n",
      "0.02733374347250043\n",
      "0.02750532795687647\n"
     ]
    },
    {
     "ename": "KeyboardInterrupt",
     "evalue": "",
     "output_type": "error",
     "traceback": [
      "\u001b[0;31m---------------------------------------------------------------------------\u001b[0m",
      "\u001b[0;31mKeyboardInterrupt\u001b[0m                         Traceback (most recent call last)",
      "\u001b[0;32m<ipython-input-46-e576ae601d75>\u001b[0m in \u001b[0;36m<module>\u001b[0;34m\u001b[0m\n\u001b[1;32m     25\u001b[0m         \u001b[0mArea\u001b[0m \u001b[0;34m=\u001b[0m \u001b[0mfloat\u001b[0m\u001b[0;34m(\u001b[0m\u001b[0mMIXEDF0\u001b[0m\u001b[0;34m.\u001b[0m\u001b[0mloc\u001b[0m\u001b[0;34m[\u001b[0m\u001b[0mi\u001b[0m\u001b[0;34m,\u001b[0m \u001b[0;34m'Area'\u001b[0m\u001b[0;34m]\u001b[0m\u001b[0;34m)\u001b[0m\u001b[0;34m\u001b[0m\u001b[0;34m\u001b[0m\u001b[0m\n\u001b[1;32m     26\u001b[0m         \u001b[0mzforanalytic\u001b[0m \u001b[0;34m=\u001b[0m \u001b[0mfloat\u001b[0m\u001b[0;34m(\u001b[0m\u001b[0mMIXEDF0\u001b[0m\u001b[0;34m.\u001b[0m\u001b[0mloc\u001b[0m\u001b[0;34m[\u001b[0m\u001b[0mi\u001b[0m\u001b[0;34m,\u001b[0m \u001b[0;34m'Z'\u001b[0m\u001b[0;34m]\u001b[0m\u001b[0;34m)\u001b[0m\u001b[0;34m\u001b[0m\u001b[0;34m\u001b[0m\u001b[0m\n\u001b[0;32m---> 27\u001b[0;31m         \u001b[0mmaxsignal\u001b[0m \u001b[0;34m=\u001b[0m \u001b[0mMIXEDF0\u001b[0m\u001b[0;34m[\u001b[0m\u001b[0;34m(\u001b[0m\u001b[0mMIXEDF0\u001b[0m\u001b[0;34m[\u001b[0m\u001b[0;34m'Limit'\u001b[0m\u001b[0;34m]\u001b[0m\u001b[0;34m==\u001b[0m\u001b[0mLimit\u001b[0m\u001b[0;34m)\u001b[0m \u001b[0;34m&\u001b[0m \u001b[0;34m(\u001b[0m\u001b[0mMIXEDF0\u001b[0m\u001b[0;34m[\u001b[0m\u001b[0;34m'Area'\u001b[0m\u001b[0;34m]\u001b[0m\u001b[0;34m==\u001b[0m\u001b[0mArea\u001b[0m\u001b[0;34m)\u001b[0m \u001b[0;34m&\u001b[0m \u001b[0;34m(\u001b[0m\u001b[0mMIXEDF0\u001b[0m\u001b[0;34m[\u001b[0m\u001b[0;34m'Z'\u001b[0m\u001b[0;34m]\u001b[0m\u001b[0;34m==\u001b[0m\u001b[0mzforanalytic\u001b[0m\u001b[0;34m)\u001b[0m\u001b[0;34m]\u001b[0m\u001b[0;34m[\u001b[0m\u001b[0;34m'señal'\u001b[0m\u001b[0;34m]\u001b[0m\u001b[0;34m.\u001b[0m\u001b[0mmax\u001b[0m\u001b[0;34m(\u001b[0m\u001b[0;34m)\u001b[0m\u001b[0;34m\u001b[0m\u001b[0;34m\u001b[0m\u001b[0m\n\u001b[0m\u001b[1;32m     28\u001b[0m         \u001b[0mmaxanalytic\u001b[0m \u001b[0;34m=\u001b[0m \u001b[0mMIXEDF0\u001b[0m\u001b[0;34m[\u001b[0m\u001b[0;34m(\u001b[0m\u001b[0mMIXEDF0\u001b[0m\u001b[0;34m[\u001b[0m\u001b[0;34m'Limit'\u001b[0m\u001b[0;34m]\u001b[0m\u001b[0;34m==\u001b[0m\u001b[0mLimit\u001b[0m\u001b[0;34m)\u001b[0m \u001b[0;34m&\u001b[0m \u001b[0;34m(\u001b[0m\u001b[0mMIXEDF0\u001b[0m\u001b[0;34m[\u001b[0m\u001b[0;34m'Area'\u001b[0m\u001b[0;34m]\u001b[0m\u001b[0;34m==\u001b[0m\u001b[0mArea\u001b[0m\u001b[0;34m)\u001b[0m \u001b[0;34m&\u001b[0m \u001b[0;34m(\u001b[0m\u001b[0mMIXEDF0\u001b[0m\u001b[0;34m[\u001b[0m\u001b[0;34m'Z'\u001b[0m\u001b[0;34m]\u001b[0m\u001b[0;34m==\u001b[0m\u001b[0mzforanalytic\u001b[0m\u001b[0;34m)\u001b[0m\u001b[0;34m]\u001b[0m\u001b[0;34m[\u001b[0m\u001b[0;34m'a'\u001b[0m\u001b[0;34m]\u001b[0m\u001b[0;34m.\u001b[0m\u001b[0mmax\u001b[0m\u001b[0;34m(\u001b[0m\u001b[0;34m)\u001b[0m\u001b[0;34m\u001b[0m\u001b[0;34m\u001b[0m\u001b[0m\n\u001b[1;32m     29\u001b[0m         \u001b[0mNewA\u001b[0m\u001b[0;34m.\u001b[0m\u001b[0mappend\u001b[0m\u001b[0;34m(\u001b[0m\u001b[0mMIXEDF0\u001b[0m\u001b[0;34m.\u001b[0m\u001b[0mloc\u001b[0m\u001b[0;34m[\u001b[0m\u001b[0mi\u001b[0m\u001b[0;34m,\u001b[0m \u001b[0;34m'a'\u001b[0m\u001b[0;34m]\u001b[0m\u001b[0;34m*\u001b[0m\u001b[0;34m(\u001b[0m\u001b[0mmaxsignal\u001b[0m\u001b[0;34m/\u001b[0m\u001b[0mmaxanalytic\u001b[0m\u001b[0;34m)\u001b[0m\u001b[0;34m)\u001b[0m\u001b[0;34m\u001b[0m\u001b[0;34m\u001b[0m\u001b[0m\n",
      "\u001b[0;32m~/anaconda3/lib/python3.7/site-packages/pandas/core/ops/common.py\u001b[0m in \u001b[0;36mnew_method\u001b[0;34m(self, other)\u001b[0m\n\u001b[1;32m     63\u001b[0m         \u001b[0mother\u001b[0m \u001b[0;34m=\u001b[0m \u001b[0mitem_from_zerodim\u001b[0m\u001b[0;34m(\u001b[0m\u001b[0mother\u001b[0m\u001b[0;34m)\u001b[0m\u001b[0;34m\u001b[0m\u001b[0;34m\u001b[0m\u001b[0m\n\u001b[1;32m     64\u001b[0m \u001b[0;34m\u001b[0m\u001b[0m\n\u001b[0;32m---> 65\u001b[0;31m         \u001b[0;32mreturn\u001b[0m \u001b[0mmethod\u001b[0m\u001b[0;34m(\u001b[0m\u001b[0mself\u001b[0m\u001b[0;34m,\u001b[0m \u001b[0mother\u001b[0m\u001b[0;34m)\u001b[0m\u001b[0;34m\u001b[0m\u001b[0;34m\u001b[0m\u001b[0m\n\u001b[0m\u001b[1;32m     66\u001b[0m \u001b[0;34m\u001b[0m\u001b[0m\n\u001b[1;32m     67\u001b[0m     \u001b[0;32mreturn\u001b[0m \u001b[0mnew_method\u001b[0m\u001b[0;34m\u001b[0m\u001b[0;34m\u001b[0m\u001b[0m\n",
      "\u001b[0;32m~/anaconda3/lib/python3.7/site-packages/pandas/core/arraylike.py\u001b[0m in \u001b[0;36m__eq__\u001b[0;34m(self, other)\u001b[0m\n\u001b[1;32m     27\u001b[0m     \u001b[0;34m@\u001b[0m\u001b[0munpack_zerodim_and_defer\u001b[0m\u001b[0;34m(\u001b[0m\u001b[0;34m\"__eq__\"\u001b[0m\u001b[0;34m)\u001b[0m\u001b[0;34m\u001b[0m\u001b[0;34m\u001b[0m\u001b[0m\n\u001b[1;32m     28\u001b[0m     \u001b[0;32mdef\u001b[0m \u001b[0m__eq__\u001b[0m\u001b[0;34m(\u001b[0m\u001b[0mself\u001b[0m\u001b[0;34m,\u001b[0m \u001b[0mother\u001b[0m\u001b[0;34m)\u001b[0m\u001b[0;34m:\u001b[0m\u001b[0;34m\u001b[0m\u001b[0;34m\u001b[0m\u001b[0m\n\u001b[0;32m---> 29\u001b[0;31m         \u001b[0;32mreturn\u001b[0m \u001b[0mself\u001b[0m\u001b[0;34m.\u001b[0m\u001b[0m_cmp_method\u001b[0m\u001b[0;34m(\u001b[0m\u001b[0mother\u001b[0m\u001b[0;34m,\u001b[0m \u001b[0moperator\u001b[0m\u001b[0;34m.\u001b[0m\u001b[0meq\u001b[0m\u001b[0;34m)\u001b[0m\u001b[0;34m\u001b[0m\u001b[0;34m\u001b[0m\u001b[0m\n\u001b[0m\u001b[1;32m     30\u001b[0m \u001b[0;34m\u001b[0m\u001b[0m\n\u001b[1;32m     31\u001b[0m     \u001b[0;34m@\u001b[0m\u001b[0munpack_zerodim_and_defer\u001b[0m\u001b[0;34m(\u001b[0m\u001b[0;34m\"__ne__\"\u001b[0m\u001b[0;34m)\u001b[0m\u001b[0;34m\u001b[0m\u001b[0;34m\u001b[0m\u001b[0m\n",
      "\u001b[0;32m~/anaconda3/lib/python3.7/site-packages/pandas/core/series.py\u001b[0m in \u001b[0;36m_cmp_method\u001b[0;34m(self, other, op)\u001b[0m\n\u001b[1;32m   4978\u001b[0m         \u001b[0mres_values\u001b[0m \u001b[0;34m=\u001b[0m \u001b[0mops\u001b[0m\u001b[0;34m.\u001b[0m\u001b[0mcomparison_op\u001b[0m\u001b[0;34m(\u001b[0m\u001b[0mlvalues\u001b[0m\u001b[0;34m,\u001b[0m \u001b[0mrvalues\u001b[0m\u001b[0;34m,\u001b[0m \u001b[0mop\u001b[0m\u001b[0;34m)\u001b[0m\u001b[0;34m\u001b[0m\u001b[0;34m\u001b[0m\u001b[0m\n\u001b[1;32m   4979\u001b[0m \u001b[0;34m\u001b[0m\u001b[0m\n\u001b[0;32m-> 4980\u001b[0;31m         \u001b[0;32mreturn\u001b[0m \u001b[0mself\u001b[0m\u001b[0;34m.\u001b[0m\u001b[0m_construct_result\u001b[0m\u001b[0;34m(\u001b[0m\u001b[0mres_values\u001b[0m\u001b[0;34m,\u001b[0m \u001b[0mname\u001b[0m\u001b[0;34m=\u001b[0m\u001b[0mres_name\u001b[0m\u001b[0;34m)\u001b[0m\u001b[0;34m\u001b[0m\u001b[0;34m\u001b[0m\u001b[0m\n\u001b[0m\u001b[1;32m   4981\u001b[0m \u001b[0;34m\u001b[0m\u001b[0m\n\u001b[1;32m   4982\u001b[0m     \u001b[0;32mdef\u001b[0m \u001b[0m_logical_method\u001b[0m\u001b[0;34m(\u001b[0m\u001b[0mself\u001b[0m\u001b[0;34m,\u001b[0m \u001b[0mother\u001b[0m\u001b[0;34m,\u001b[0m \u001b[0mop\u001b[0m\u001b[0;34m)\u001b[0m\u001b[0;34m:\u001b[0m\u001b[0;34m\u001b[0m\u001b[0;34m\u001b[0m\u001b[0m\n",
      "\u001b[0;32m~/anaconda3/lib/python3.7/site-packages/pandas/core/series.py\u001b[0m in \u001b[0;36m_construct_result\u001b[0;34m(self, result, name)\u001b[0m\n\u001b[1;32m   2761\u001b[0m         \u001b[0;31m# We do not pass dtype to ensure that the Series constructor\u001b[0m\u001b[0;34m\u001b[0m\u001b[0;34m\u001b[0m\u001b[0;34m\u001b[0m\u001b[0m\n\u001b[1;32m   2762\u001b[0m         \u001b[0;31m#  does inference in the case where `result` has object-dtype.\u001b[0m\u001b[0;34m\u001b[0m\u001b[0;34m\u001b[0m\u001b[0;34m\u001b[0m\u001b[0m\n\u001b[0;32m-> 2763\u001b[0;31m         \u001b[0mout\u001b[0m \u001b[0;34m=\u001b[0m \u001b[0mself\u001b[0m\u001b[0;34m.\u001b[0m\u001b[0m_constructor\u001b[0m\u001b[0;34m(\u001b[0m\u001b[0mresult\u001b[0m\u001b[0;34m,\u001b[0m \u001b[0mindex\u001b[0m\u001b[0;34m=\u001b[0m\u001b[0mself\u001b[0m\u001b[0;34m.\u001b[0m\u001b[0mindex\u001b[0m\u001b[0;34m)\u001b[0m\u001b[0;34m\u001b[0m\u001b[0;34m\u001b[0m\u001b[0m\n\u001b[0m\u001b[1;32m   2764\u001b[0m         \u001b[0mout\u001b[0m \u001b[0;34m=\u001b[0m \u001b[0mout\u001b[0m\u001b[0;34m.\u001b[0m\u001b[0m__finalize__\u001b[0m\u001b[0;34m(\u001b[0m\u001b[0mself\u001b[0m\u001b[0;34m)\u001b[0m\u001b[0;34m\u001b[0m\u001b[0;34m\u001b[0m\u001b[0m\n\u001b[1;32m   2765\u001b[0m \u001b[0;34m\u001b[0m\u001b[0m\n",
      "\u001b[0;32m~/anaconda3/lib/python3.7/site-packages/pandas/core/series.py\u001b[0m in \u001b[0;36m__init__\u001b[0;34m(self, data, index, dtype, name, copy, fastpath)\u001b[0m\n\u001b[1;32m    362\u001b[0m                     \u001b[0mdata\u001b[0m \u001b[0;34m=\u001b[0m \u001b[0mdata\u001b[0m\u001b[0;34m.\u001b[0m\u001b[0mcopy\u001b[0m\u001b[0;34m(\u001b[0m\u001b[0;34m)\u001b[0m\u001b[0;34m\u001b[0m\u001b[0;34m\u001b[0m\u001b[0m\n\u001b[1;32m    363\u001b[0m             \u001b[0;32melse\u001b[0m\u001b[0;34m:\u001b[0m\u001b[0;34m\u001b[0m\u001b[0;34m\u001b[0m\u001b[0m\n\u001b[0;32m--> 364\u001b[0;31m                 \u001b[0mdata\u001b[0m \u001b[0;34m=\u001b[0m \u001b[0msanitize_array\u001b[0m\u001b[0;34m(\u001b[0m\u001b[0mdata\u001b[0m\u001b[0;34m,\u001b[0m \u001b[0mindex\u001b[0m\u001b[0;34m,\u001b[0m \u001b[0mdtype\u001b[0m\u001b[0;34m,\u001b[0m \u001b[0mcopy\u001b[0m\u001b[0;34m,\u001b[0m \u001b[0mraise_cast_failure\u001b[0m\u001b[0;34m=\u001b[0m\u001b[0;32mTrue\u001b[0m\u001b[0;34m)\u001b[0m\u001b[0;34m\u001b[0m\u001b[0;34m\u001b[0m\u001b[0m\n\u001b[0m\u001b[1;32m    365\u001b[0m \u001b[0;34m\u001b[0m\u001b[0m\n\u001b[1;32m    366\u001b[0m                 \u001b[0mdata\u001b[0m \u001b[0;34m=\u001b[0m \u001b[0mSingleBlockManager\u001b[0m\u001b[0;34m.\u001b[0m\u001b[0mfrom_array\u001b[0m\u001b[0;34m(\u001b[0m\u001b[0mdata\u001b[0m\u001b[0;34m,\u001b[0m \u001b[0mindex\u001b[0m\u001b[0;34m)\u001b[0m\u001b[0;34m\u001b[0m\u001b[0;34m\u001b[0m\u001b[0m\n",
      "\u001b[0;32m~/anaconda3/lib/python3.7/site-packages/pandas/core/construction.py\u001b[0m in \u001b[0;36msanitize_array\u001b[0;34m(data, index, dtype, copy, raise_cast_failure)\u001b[0m\n\u001b[1;32m    443\u001b[0m \u001b[0;34m\u001b[0m\u001b[0m\n\u001b[1;32m    444\u001b[0m     \u001b[0;31m# extract ndarray or ExtensionArray, ensure we have no PandasArray\u001b[0m\u001b[0;34m\u001b[0m\u001b[0;34m\u001b[0m\u001b[0;34m\u001b[0m\u001b[0m\n\u001b[0;32m--> 445\u001b[0;31m     \u001b[0mdata\u001b[0m \u001b[0;34m=\u001b[0m \u001b[0mextract_array\u001b[0m\u001b[0;34m(\u001b[0m\u001b[0mdata\u001b[0m\u001b[0;34m,\u001b[0m \u001b[0mextract_numpy\u001b[0m\u001b[0;34m=\u001b[0m\u001b[0;32mTrue\u001b[0m\u001b[0;34m)\u001b[0m\u001b[0;34m\u001b[0m\u001b[0;34m\u001b[0m\u001b[0m\n\u001b[0m\u001b[1;32m    446\u001b[0m \u001b[0;34m\u001b[0m\u001b[0m\n\u001b[1;32m    447\u001b[0m     \u001b[0;31m# GH#846\u001b[0m\u001b[0;34m\u001b[0m\u001b[0;34m\u001b[0m\u001b[0;34m\u001b[0m\u001b[0m\n",
      "\u001b[0;32m~/anaconda3/lib/python3.7/site-packages/pandas/core/construction.py\u001b[0m in \u001b[0;36mextract_array\u001b[0;34m(obj, extract_numpy)\u001b[0m\n\u001b[1;32m    394\u001b[0m     \u001b[0marray\u001b[0m\u001b[0;34m(\u001b[0m\u001b[0;34m[\u001b[0m\u001b[0;36m1\u001b[0m\u001b[0;34m,\u001b[0m \u001b[0;36m2\u001b[0m\u001b[0;34m,\u001b[0m \u001b[0;36m3\u001b[0m\u001b[0;34m]\u001b[0m\u001b[0;34m)\u001b[0m\u001b[0;34m\u001b[0m\u001b[0;34m\u001b[0m\u001b[0m\n\u001b[1;32m    395\u001b[0m     \"\"\"\n\u001b[0;32m--> 396\u001b[0;31m     \u001b[0;32mif\u001b[0m \u001b[0misinstance\u001b[0m\u001b[0;34m(\u001b[0m\u001b[0mobj\u001b[0m\u001b[0;34m,\u001b[0m \u001b[0;34m(\u001b[0m\u001b[0mABCIndexClass\u001b[0m\u001b[0;34m,\u001b[0m \u001b[0mABCSeries\u001b[0m\u001b[0;34m)\u001b[0m\u001b[0;34m)\u001b[0m\u001b[0;34m:\u001b[0m\u001b[0;34m\u001b[0m\u001b[0;34m\u001b[0m\u001b[0m\n\u001b[0m\u001b[1;32m    397\u001b[0m         \u001b[0mobj\u001b[0m \u001b[0;34m=\u001b[0m \u001b[0mobj\u001b[0m\u001b[0;34m.\u001b[0m\u001b[0marray\u001b[0m\u001b[0;34m\u001b[0m\u001b[0;34m\u001b[0m\u001b[0m\n\u001b[1;32m    398\u001b[0m \u001b[0;34m\u001b[0m\u001b[0m\n",
      "\u001b[0;31mKeyboardInterrupt\u001b[0m: "
     ]
    }
   ],
   "source": [
    "\n",
    "coef = 0 \n",
    "errorcoef = np.inf\n",
    "for l in np.linspace(1, 3, 50):\n",
    "\n",
    "    Arg1 = (Mixed[Mixed['FFF']==0]['xpos']/l)/((1 + (Mixed[Mixed['FFF']==0]['xpos']/l)**2)**(1/2))\n",
    "    Arg2 = (Mixed[Mixed['FFF']==0]['xneg']/l)/((1 + (Mixed[Mixed['FFF']==0]['xneg']/l)**2)**(1/2))\n",
    "\n",
    "    Arg3 = (Mixed[Mixed['FFF']==0]['ypos']/l)/((1 + (Mixed[Mixed['FFF']==0]['ypos']/l)**2)**(1/2))\n",
    "    Arg4 = (Mixed[Mixed['FFF']==0]['yneg']/l)/((1 + (Mixed[Mixed['FFF']==0]['yneg']/l)**2)**(1/2))\n",
    "    a = Mixed[Mixed['FFF']==0]['Big Z'] * (Arg1+Arg2) * (Arg3+Arg4) * (1 + (Mixed[Mixed['FFF']==0]['Rho']**2) * (1e-6 + 1e-2*Mixed[Mixed['FFF']==0]['Rho'] + 1*10**(-4.5)*Mixed[Mixed['FFF']==0]['Rho']**2 + 1*10**(-3.1)*Mixed[Mixed['FFF']==0]['Rho']**3 + 1e-4*Mixed[Mixed['FFF']==0]['Rho']**5))\n",
    "\n",
    "    a = a.reset_index(drop=True)\n",
    "\n",
    "    MIXEDF0 = Mixed[Mixed['FFF']==0].reset_index(drop=True)\n",
    "\n",
    "\n",
    "\n",
    "    MIXEDF0['a'] = a\n",
    "    LimitedSignal = []\n",
    "\n",
    "\n",
    "    NewA = []\n",
    "    for i in np.arange(0, MIXEDF0.shape[0]):\n",
    "        Limit = float(MIXEDF0.loc[i, 'Limit'])\n",
    "        Area = float(MIXEDF0.loc[i, 'Area'])\n",
    "        zforanalytic = float(MIXEDF0.loc[i, 'Z'])\n",
    "        maxsignal = MIXEDF0[(MIXEDF0['Limit']==Limit) & (MIXEDF0['Area']==Area) & (MIXEDF0['Z']==zforanalytic)]['señal'].max()\n",
    "        maxanalytic = MIXEDF0[(MIXEDF0['Limit']==Limit) & (MIXEDF0['Area']==Area) & (MIXEDF0['Z']==zforanalytic)]['a'].max()\n",
    "        NewA.append(MIXEDF0.loc[i, 'a']*(maxsignal/maxanalytic))\n",
    "\n",
    "        if np.abs(MIXEDF0.loc[i, 'r']) > MIXEDF0.loc[i, 'Limit']/2:\n",
    "            LimitedSignal.append(0)\n",
    "        else:\n",
    "            LimitedSignal.append(1)\n",
    "\n",
    "    MIXEDF0.drop('a', axis=1, inplace=True)\n",
    "    MIXEDF0['Analytic function'] = NewA\n",
    "    MIXEDF0['Limited'] = LimitedSignal\n",
    "\n",
    "\n",
    "\n",
    "    print(mean_absolute_error(NewA, MIXEDF0['señal'].values))\n",
    "    if mean_absolute_error(NewA, MIXEDF0['señal'].values) < errorcoef:\n",
    "        errorcoef = mean_absolute_error(NewA, MIXEDF0['señal'].values)\n",
    "        coef = l\n",
    "        \n",
    "        \n",
    "Arg1 = (Mixed[Mixed['FFF']==0]['xpos']/coef)/((1 + (Mixed[Mixed['FFF']==0]['xpos']/coef)**2)**(1/2))\n",
    "Arg2 = (Mixed[Mixed['FFF']==0]['xneg']/coef)/((1 + (Mixed[Mixed['FFF']==0]['xneg']/coef)**2)**(1/2))\n",
    "\n",
    "Arg3 = (Mixed[Mixed['FFF']==0]['ypos']/coef)/((1 + (Mixed[Mixed['FFF']==0]['ypos']/coef)**2)**(1/2))\n",
    "Arg4 = (Mixed[Mixed['FFF']==0]['yneg']/coef)/((1 + (Mixed[Mixed['FFF']==0]['yneg']/coef)**2)**(1/2))\n",
    "a = Mixed[Mixed['FFF']==0]['Big Z'] * (Arg1+Arg2) * (Arg3+Arg4) * (1 + (Mixed[Mixed['FFF']==0]['Rho']**2) * (1e-6 + 1e-2*Mixed[Mixed['FFF']==0]['Rho'] + 1*10**(-4.5)*Mixed[Mixed['FFF']==0]['Rho']**2 + 1*10**(-3.1)*Mixed[Mixed['FFF']==0]['Rho']**3 + 1e-4*Mixed[Mixed['FFF']==0]['Rho']**5))\n",
    "\n",
    "a = a.reset_index(drop=True)\n",
    "\n",
    "MIXEDF0 = Mixed[Mixed['FFF']==0].reset_index(drop=True)\n",
    "\n",
    "\n",
    "\n",
    "MIXEDF0['a'] = a\n",
    "LimitedSignal = []\n",
    "\n",
    "\n",
    "NewA = []\n",
    "for i in np.arange(0, MIXEDF0.shape[0]):\n",
    "    Limit = float(MIXEDF0.loc[i, 'Limit'])\n",
    "    Area = float(MIXEDF0.loc[i, 'Area'])\n",
    "    zforanalytic = float(MIXEDF0.loc[i, 'Z'])\n",
    "    maxsignal = MIXEDF0[(MIXEDF0['Limit']==Limit) & (MIXEDF0['Area']==Area) & (MIXEDF0['Z']==zforanalytic)]['señal'].max()\n",
    "    maxanalytic = MIXEDF0[(MIXEDF0['Limit']==Limit) & (MIXEDF0['Area']==Area) & (MIXEDF0['Z']==zforanalytic)]['a'].max()\n",
    "    NewA.append(MIXEDF0.loc[i, 'a']*(maxsignal/maxanalytic))\n",
    "\n",
    "    if np.abs(MIXEDF0.loc[i, 'r']) > MIXEDF0.loc[i, 'Limit']/2:\n",
    "        LimitedSignal.append(0)\n",
    "    else:\n",
    "        LimitedSignal.append(1)\n",
    "\n",
    "MIXEDF0.drop('a', axis=1, inplace=True)\n",
    "MIXEDF0['Analytic function'] = NewA\n",
    "MIXEDF0['Limited'] = LimitedSignal\n",
    "\n",
    "MIXEDF0.set_index('r')[['señal', 'Analytic function', 'Limited']].plot()"
   ]
  },
  {
   "cell_type": "markdown",
   "id": "34655c74",
   "metadata": {},
   "source": [
    "## Third iteration"
   ]
  },
  {
   "cell_type": "code",
   "execution_count": null,
   "id": "f8f8c4bc",
   "metadata": {},
   "outputs": [],
   "source": [
    "2.511886e-07\t0.010000\t0.000068\t0.000527\t0.00001\n"
   ]
  },
  {
   "cell_type": "code",
   "execution_count": 49,
   "id": "14e7b986",
   "metadata": {},
   "outputs": [
    {
     "data": {
      "text/plain": [
       "2.511886e-07"
      ]
     },
     "execution_count": 49,
     "metadata": {},
     "output_type": "execute_result"
    }
   ],
   "source": []
  },
  {
   "cell_type": "code",
   "execution_count": 50,
   "id": "a65b8d8b",
   "metadata": {
    "scrolled": true
   },
   "outputs": [
    {
     "name": "stdout",
     "output_type": "stream",
     "text": [
      "0.025653656424184358\n",
      "0.025346447354803042\n",
      "0.025065145598754057\n",
      "0.02480569214284439\n",
      "0.024577059192208154\n",
      "0.02437442309366293\n",
      "0.024196204930361093\n",
      "0.02404523096927623\n",
      "0.023925987480563102\n",
      "0.023831432847698966\n",
      "0.02376158946986762\n",
      "0.023701144081594357\n",
      "0.02365413854898106\n",
      "0.02361801429042672\n",
      "0.02359659211270646\n",
      "0.02359159143397546\n",
      "0.023593217138633934\n",
      "0.023609393683211202\n",
      "0.023644357805078266\n",
      "0.023688117853104606\n",
      "0.02373920163232505\n",
      "0.023803665512971188\n",
      "0.02387314703099447\n",
      "0.02394639811925377\n"
     ]
    },
    {
     "ename": "KeyboardInterrupt",
     "evalue": "",
     "output_type": "error",
     "traceback": [
      "\u001b[0;31m---------------------------------------------------------------------------\u001b[0m",
      "\u001b[0;31mKeyboardInterrupt\u001b[0m                         Traceback (most recent call last)",
      "\u001b[0;32m<ipython-input-50-ff57cd1b5d19>\u001b[0m in \u001b[0;36m<module>\u001b[0;34m\u001b[0m\n\u001b[1;32m     26\u001b[0m         \u001b[0mzforanalytic\u001b[0m \u001b[0;34m=\u001b[0m \u001b[0mfloat\u001b[0m\u001b[0;34m(\u001b[0m\u001b[0mMIXEDF0\u001b[0m\u001b[0;34m.\u001b[0m\u001b[0mloc\u001b[0m\u001b[0;34m[\u001b[0m\u001b[0mi\u001b[0m\u001b[0;34m,\u001b[0m \u001b[0;34m'Z'\u001b[0m\u001b[0;34m]\u001b[0m\u001b[0;34m)\u001b[0m\u001b[0;34m\u001b[0m\u001b[0;34m\u001b[0m\u001b[0m\n\u001b[1;32m     27\u001b[0m         \u001b[0mmaxsignal\u001b[0m \u001b[0;34m=\u001b[0m \u001b[0mMIXEDF0\u001b[0m\u001b[0;34m[\u001b[0m\u001b[0;34m(\u001b[0m\u001b[0mMIXEDF0\u001b[0m\u001b[0;34m[\u001b[0m\u001b[0;34m'Limit'\u001b[0m\u001b[0;34m]\u001b[0m\u001b[0;34m==\u001b[0m\u001b[0mLimit\u001b[0m\u001b[0;34m)\u001b[0m \u001b[0;34m&\u001b[0m \u001b[0;34m(\u001b[0m\u001b[0mMIXEDF0\u001b[0m\u001b[0;34m[\u001b[0m\u001b[0;34m'Area'\u001b[0m\u001b[0;34m]\u001b[0m\u001b[0;34m==\u001b[0m\u001b[0mArea\u001b[0m\u001b[0;34m)\u001b[0m \u001b[0;34m&\u001b[0m \u001b[0;34m(\u001b[0m\u001b[0mMIXEDF0\u001b[0m\u001b[0;34m[\u001b[0m\u001b[0;34m'Z'\u001b[0m\u001b[0;34m]\u001b[0m\u001b[0;34m==\u001b[0m\u001b[0mzforanalytic\u001b[0m\u001b[0;34m)\u001b[0m\u001b[0;34m]\u001b[0m\u001b[0;34m[\u001b[0m\u001b[0;34m'señal'\u001b[0m\u001b[0;34m]\u001b[0m\u001b[0;34m.\u001b[0m\u001b[0mmax\u001b[0m\u001b[0;34m(\u001b[0m\u001b[0;34m)\u001b[0m\u001b[0;34m\u001b[0m\u001b[0;34m\u001b[0m\u001b[0m\n\u001b[0;32m---> 28\u001b[0;31m         \u001b[0mmaxanalytic\u001b[0m \u001b[0;34m=\u001b[0m \u001b[0mMIXEDF0\u001b[0m\u001b[0;34m[\u001b[0m\u001b[0;34m(\u001b[0m\u001b[0mMIXEDF0\u001b[0m\u001b[0;34m[\u001b[0m\u001b[0;34m'Limit'\u001b[0m\u001b[0;34m]\u001b[0m\u001b[0;34m==\u001b[0m\u001b[0mLimit\u001b[0m\u001b[0;34m)\u001b[0m \u001b[0;34m&\u001b[0m \u001b[0;34m(\u001b[0m\u001b[0mMIXEDF0\u001b[0m\u001b[0;34m[\u001b[0m\u001b[0;34m'Area'\u001b[0m\u001b[0;34m]\u001b[0m\u001b[0;34m==\u001b[0m\u001b[0mArea\u001b[0m\u001b[0;34m)\u001b[0m \u001b[0;34m&\u001b[0m \u001b[0;34m(\u001b[0m\u001b[0mMIXEDF0\u001b[0m\u001b[0;34m[\u001b[0m\u001b[0;34m'Z'\u001b[0m\u001b[0;34m]\u001b[0m\u001b[0;34m==\u001b[0m\u001b[0mzforanalytic\u001b[0m\u001b[0;34m)\u001b[0m\u001b[0;34m]\u001b[0m\u001b[0;34m[\u001b[0m\u001b[0;34m'a'\u001b[0m\u001b[0;34m]\u001b[0m\u001b[0;34m.\u001b[0m\u001b[0mmax\u001b[0m\u001b[0;34m(\u001b[0m\u001b[0;34m)\u001b[0m\u001b[0;34m\u001b[0m\u001b[0;34m\u001b[0m\u001b[0m\n\u001b[0m\u001b[1;32m     29\u001b[0m         \u001b[0mNewA\u001b[0m\u001b[0;34m.\u001b[0m\u001b[0mappend\u001b[0m\u001b[0;34m(\u001b[0m\u001b[0mMIXEDF0\u001b[0m\u001b[0;34m.\u001b[0m\u001b[0mloc\u001b[0m\u001b[0;34m[\u001b[0m\u001b[0mi\u001b[0m\u001b[0;34m,\u001b[0m \u001b[0;34m'a'\u001b[0m\u001b[0;34m]\u001b[0m\u001b[0;34m*\u001b[0m\u001b[0;34m(\u001b[0m\u001b[0mmaxsignal\u001b[0m\u001b[0;34m/\u001b[0m\u001b[0mmaxanalytic\u001b[0m\u001b[0;34m)\u001b[0m\u001b[0;34m)\u001b[0m\u001b[0;34m\u001b[0m\u001b[0;34m\u001b[0m\u001b[0m\n\u001b[1;32m     30\u001b[0m \u001b[0;34m\u001b[0m\u001b[0m\n",
      "\u001b[0;32m~/anaconda3/lib/python3.7/site-packages/pandas/core/frame.py\u001b[0m in \u001b[0;36m__getitem__\u001b[0;34m(self, key)\u001b[0m\n\u001b[1;32m   3013\u001b[0m         \u001b[0;31m# Do we have a (boolean) 1d indexer?\u001b[0m\u001b[0;34m\u001b[0m\u001b[0;34m\u001b[0m\u001b[0;34m\u001b[0m\u001b[0m\n\u001b[1;32m   3014\u001b[0m         \u001b[0;32mif\u001b[0m \u001b[0mcom\u001b[0m\u001b[0;34m.\u001b[0m\u001b[0mis_bool_indexer\u001b[0m\u001b[0;34m(\u001b[0m\u001b[0mkey\u001b[0m\u001b[0;34m)\u001b[0m\u001b[0;34m:\u001b[0m\u001b[0;34m\u001b[0m\u001b[0;34m\u001b[0m\u001b[0m\n\u001b[0;32m-> 3015\u001b[0;31m             \u001b[0;32mreturn\u001b[0m \u001b[0mself\u001b[0m\u001b[0;34m.\u001b[0m\u001b[0m_getitem_bool_array\u001b[0m\u001b[0;34m(\u001b[0m\u001b[0mkey\u001b[0m\u001b[0;34m)\u001b[0m\u001b[0;34m\u001b[0m\u001b[0;34m\u001b[0m\u001b[0m\n\u001b[0m\u001b[1;32m   3016\u001b[0m \u001b[0;34m\u001b[0m\u001b[0m\n\u001b[1;32m   3017\u001b[0m         \u001b[0;31m# We are left with two options: a single key, and a collection of keys,\u001b[0m\u001b[0;34m\u001b[0m\u001b[0;34m\u001b[0m\u001b[0;34m\u001b[0m\u001b[0m\n",
      "\u001b[0;32m~/anaconda3/lib/python3.7/site-packages/pandas/core/frame.py\u001b[0m in \u001b[0;36m_getitem_bool_array\u001b[0;34m(self, key)\u001b[0m\n\u001b[1;32m   3068\u001b[0m         \u001b[0mkey\u001b[0m \u001b[0;34m=\u001b[0m \u001b[0mcheck_bool_indexer\u001b[0m\u001b[0;34m(\u001b[0m\u001b[0mself\u001b[0m\u001b[0;34m.\u001b[0m\u001b[0mindex\u001b[0m\u001b[0;34m,\u001b[0m \u001b[0mkey\u001b[0m\u001b[0;34m)\u001b[0m\u001b[0;34m\u001b[0m\u001b[0;34m\u001b[0m\u001b[0m\n\u001b[1;32m   3069\u001b[0m         \u001b[0mindexer\u001b[0m \u001b[0;34m=\u001b[0m \u001b[0mkey\u001b[0m\u001b[0;34m.\u001b[0m\u001b[0mnonzero\u001b[0m\u001b[0;34m(\u001b[0m\u001b[0;34m)\u001b[0m\u001b[0;34m[\u001b[0m\u001b[0;36m0\u001b[0m\u001b[0;34m]\u001b[0m\u001b[0;34m\u001b[0m\u001b[0;34m\u001b[0m\u001b[0m\n\u001b[0;32m-> 3070\u001b[0;31m         \u001b[0;32mreturn\u001b[0m \u001b[0mself\u001b[0m\u001b[0;34m.\u001b[0m\u001b[0m_take_with_is_copy\u001b[0m\u001b[0;34m(\u001b[0m\u001b[0mindexer\u001b[0m\u001b[0;34m,\u001b[0m \u001b[0maxis\u001b[0m\u001b[0;34m=\u001b[0m\u001b[0;36m0\u001b[0m\u001b[0;34m)\u001b[0m\u001b[0;34m\u001b[0m\u001b[0;34m\u001b[0m\u001b[0m\n\u001b[0m\u001b[1;32m   3071\u001b[0m \u001b[0;34m\u001b[0m\u001b[0m\n\u001b[1;32m   3072\u001b[0m     \u001b[0;32mdef\u001b[0m \u001b[0m_getitem_multilevel\u001b[0m\u001b[0;34m(\u001b[0m\u001b[0mself\u001b[0m\u001b[0;34m,\u001b[0m \u001b[0mkey\u001b[0m\u001b[0;34m)\u001b[0m\u001b[0;34m:\u001b[0m\u001b[0;34m\u001b[0m\u001b[0;34m\u001b[0m\u001b[0m\n",
      "\u001b[0;32m~/anaconda3/lib/python3.7/site-packages/pandas/core/generic.py\u001b[0m in \u001b[0;36m_take_with_is_copy\u001b[0;34m(self, indices, axis)\u001b[0m\n\u001b[1;32m   3598\u001b[0m         \u001b[0mSee\u001b[0m \u001b[0mthe\u001b[0m \u001b[0mdocstring\u001b[0m \u001b[0mof\u001b[0m\u001b[0;31m \u001b[0m\u001b[0;31m`\u001b[0m\u001b[0mtake\u001b[0m\u001b[0;31m`\u001b[0m \u001b[0;32mfor\u001b[0m \u001b[0mfull\u001b[0m \u001b[0mexplanation\u001b[0m \u001b[0mof\u001b[0m \u001b[0mthe\u001b[0m \u001b[0mparameters\u001b[0m\u001b[0;34m.\u001b[0m\u001b[0;34m\u001b[0m\u001b[0;34m\u001b[0m\u001b[0m\n\u001b[1;32m   3599\u001b[0m         \"\"\"\n\u001b[0;32m-> 3600\u001b[0;31m         \u001b[0mresult\u001b[0m \u001b[0;34m=\u001b[0m \u001b[0mself\u001b[0m\u001b[0;34m.\u001b[0m\u001b[0mtake\u001b[0m\u001b[0;34m(\u001b[0m\u001b[0mindices\u001b[0m\u001b[0;34m=\u001b[0m\u001b[0mindices\u001b[0m\u001b[0;34m,\u001b[0m \u001b[0maxis\u001b[0m\u001b[0;34m=\u001b[0m\u001b[0maxis\u001b[0m\u001b[0;34m)\u001b[0m\u001b[0;34m\u001b[0m\u001b[0;34m\u001b[0m\u001b[0m\n\u001b[0m\u001b[1;32m   3601\u001b[0m         \u001b[0;31m# Maybe set copy if we didn't actually change the index.\u001b[0m\u001b[0;34m\u001b[0m\u001b[0;34m\u001b[0m\u001b[0;34m\u001b[0m\u001b[0m\n\u001b[1;32m   3602\u001b[0m         \u001b[0;32mif\u001b[0m \u001b[0;32mnot\u001b[0m \u001b[0mresult\u001b[0m\u001b[0;34m.\u001b[0m\u001b[0m_get_axis\u001b[0m\u001b[0;34m(\u001b[0m\u001b[0maxis\u001b[0m\u001b[0;34m)\u001b[0m\u001b[0;34m.\u001b[0m\u001b[0mequals\u001b[0m\u001b[0;34m(\u001b[0m\u001b[0mself\u001b[0m\u001b[0;34m.\u001b[0m\u001b[0m_get_axis\u001b[0m\u001b[0;34m(\u001b[0m\u001b[0maxis\u001b[0m\u001b[0;34m)\u001b[0m\u001b[0;34m)\u001b[0m\u001b[0;34m:\u001b[0m\u001b[0;34m\u001b[0m\u001b[0;34m\u001b[0m\u001b[0m\n",
      "\u001b[0;32m~/anaconda3/lib/python3.7/site-packages/pandas/core/generic.py\u001b[0m in \u001b[0;36mtake\u001b[0;34m(self, indices, axis, is_copy, **kwargs)\u001b[0m\n\u001b[1;32m   3585\u001b[0m \u001b[0;34m\u001b[0m\u001b[0m\n\u001b[1;32m   3586\u001b[0m         new_data = self._mgr.take(\n\u001b[0;32m-> 3587\u001b[0;31m             \u001b[0mindices\u001b[0m\u001b[0;34m,\u001b[0m \u001b[0maxis\u001b[0m\u001b[0;34m=\u001b[0m\u001b[0mself\u001b[0m\u001b[0;34m.\u001b[0m\u001b[0m_get_block_manager_axis\u001b[0m\u001b[0;34m(\u001b[0m\u001b[0maxis\u001b[0m\u001b[0;34m)\u001b[0m\u001b[0;34m,\u001b[0m \u001b[0mverify\u001b[0m\u001b[0;34m=\u001b[0m\u001b[0;32mTrue\u001b[0m\u001b[0;34m\u001b[0m\u001b[0;34m\u001b[0m\u001b[0m\n\u001b[0m\u001b[1;32m   3588\u001b[0m         )\n\u001b[1;32m   3589\u001b[0m         \u001b[0;32mreturn\u001b[0m \u001b[0mself\u001b[0m\u001b[0;34m.\u001b[0m\u001b[0m_constructor\u001b[0m\u001b[0;34m(\u001b[0m\u001b[0mnew_data\u001b[0m\u001b[0;34m)\u001b[0m\u001b[0;34m.\u001b[0m\u001b[0m__finalize__\u001b[0m\u001b[0;34m(\u001b[0m\u001b[0mself\u001b[0m\u001b[0;34m,\u001b[0m \u001b[0mmethod\u001b[0m\u001b[0;34m=\u001b[0m\u001b[0;34m\"take\"\u001b[0m\u001b[0;34m)\u001b[0m\u001b[0;34m\u001b[0m\u001b[0;34m\u001b[0m\u001b[0m\n",
      "\u001b[0;32m~/anaconda3/lib/python3.7/site-packages/pandas/core/internals/managers.py\u001b[0m in \u001b[0;36mtake\u001b[0;34m(self, indexer, axis, verify, convert)\u001b[0m\n\u001b[1;32m   1473\u001b[0m         \u001b[0mnew_labels\u001b[0m \u001b[0;34m=\u001b[0m \u001b[0mself\u001b[0m\u001b[0;34m.\u001b[0m\u001b[0maxes\u001b[0m\u001b[0;34m[\u001b[0m\u001b[0maxis\u001b[0m\u001b[0;34m]\u001b[0m\u001b[0;34m.\u001b[0m\u001b[0mtake\u001b[0m\u001b[0;34m(\u001b[0m\u001b[0mindexer\u001b[0m\u001b[0;34m)\u001b[0m\u001b[0;34m\u001b[0m\u001b[0;34m\u001b[0m\u001b[0m\n\u001b[1;32m   1474\u001b[0m         return self.reindex_indexer(\n\u001b[0;32m-> 1475\u001b[0;31m             \u001b[0mnew_axis\u001b[0m\u001b[0;34m=\u001b[0m\u001b[0mnew_labels\u001b[0m\u001b[0;34m,\u001b[0m \u001b[0mindexer\u001b[0m\u001b[0;34m=\u001b[0m\u001b[0mindexer\u001b[0m\u001b[0;34m,\u001b[0m \u001b[0maxis\u001b[0m\u001b[0;34m=\u001b[0m\u001b[0maxis\u001b[0m\u001b[0;34m,\u001b[0m \u001b[0mallow_dups\u001b[0m\u001b[0;34m=\u001b[0m\u001b[0;32mTrue\u001b[0m\u001b[0;34m\u001b[0m\u001b[0;34m\u001b[0m\u001b[0m\n\u001b[0m\u001b[1;32m   1476\u001b[0m         )\n\u001b[1;32m   1477\u001b[0m \u001b[0;34m\u001b[0m\u001b[0m\n",
      "\u001b[0;32m~/anaconda3/lib/python3.7/site-packages/pandas/core/internals/managers.py\u001b[0m in \u001b[0;36mreindex_indexer\u001b[0;34m(self, new_axis, indexer, axis, fill_value, allow_dups, copy, consolidate, only_slice)\u001b[0m\n\u001b[1;32m   1317\u001b[0m                     ),\n\u001b[1;32m   1318\u001b[0m                 )\n\u001b[0;32m-> 1319\u001b[0;31m                 \u001b[0;32mfor\u001b[0m \u001b[0mblk\u001b[0m \u001b[0;32min\u001b[0m \u001b[0mself\u001b[0m\u001b[0;34m.\u001b[0m\u001b[0mblocks\u001b[0m\u001b[0;34m\u001b[0m\u001b[0;34m\u001b[0m\u001b[0m\n\u001b[0m\u001b[1;32m   1320\u001b[0m             ]\n\u001b[1;32m   1321\u001b[0m \u001b[0;34m\u001b[0m\u001b[0m\n",
      "\u001b[0;32m~/anaconda3/lib/python3.7/site-packages/pandas/core/internals/managers.py\u001b[0m in \u001b[0;36m<listcomp>\u001b[0;34m(.0)\u001b[0m\n\u001b[1;32m   1317\u001b[0m                     ),\n\u001b[1;32m   1318\u001b[0m                 )\n\u001b[0;32m-> 1319\u001b[0;31m                 \u001b[0;32mfor\u001b[0m \u001b[0mblk\u001b[0m \u001b[0;32min\u001b[0m \u001b[0mself\u001b[0m\u001b[0;34m.\u001b[0m\u001b[0mblocks\u001b[0m\u001b[0;34m\u001b[0m\u001b[0;34m\u001b[0m\u001b[0m\n\u001b[0m\u001b[1;32m   1320\u001b[0m             ]\n\u001b[1;32m   1321\u001b[0m \u001b[0;34m\u001b[0m\u001b[0m\n",
      "\u001b[0;32m~/anaconda3/lib/python3.7/site-packages/pandas/core/internals/blocks.py\u001b[0m in \u001b[0;36mtake_nd\u001b[0;34m(self, indexer, axis, new_mgr_locs, fill_value)\u001b[0m\n\u001b[1;32m   1394\u001b[0m \u001b[0;34m\u001b[0m\u001b[0m\n\u001b[1;32m   1395\u001b[0m         new_values = algos.take_nd(\n\u001b[0;32m-> 1396\u001b[0;31m             \u001b[0mvalues\u001b[0m\u001b[0;34m,\u001b[0m \u001b[0mindexer\u001b[0m\u001b[0;34m,\u001b[0m \u001b[0maxis\u001b[0m\u001b[0;34m=\u001b[0m\u001b[0maxis\u001b[0m\u001b[0;34m,\u001b[0m \u001b[0mallow_fill\u001b[0m\u001b[0;34m=\u001b[0m\u001b[0mallow_fill\u001b[0m\u001b[0;34m,\u001b[0m \u001b[0mfill_value\u001b[0m\u001b[0;34m=\u001b[0m\u001b[0mfill_value\u001b[0m\u001b[0;34m\u001b[0m\u001b[0;34m\u001b[0m\u001b[0m\n\u001b[0m\u001b[1;32m   1397\u001b[0m         )\n\u001b[1;32m   1398\u001b[0m \u001b[0;34m\u001b[0m\u001b[0m\n",
      "\u001b[0;32m~/anaconda3/lib/python3.7/site-packages/pandas/core/algorithms.py\u001b[0m in \u001b[0;36mtake_nd\u001b[0;34m(arr, indexer, axis, out, fill_value, allow_fill)\u001b[0m\n\u001b[1;32m   1716\u001b[0m             \u001b[0;32mif\u001b[0m \u001b[0mdtype\u001b[0m \u001b[0;34m!=\u001b[0m \u001b[0marr\u001b[0m\u001b[0;34m.\u001b[0m\u001b[0mdtype\u001b[0m \u001b[0;32mand\u001b[0m \u001b[0;34m(\u001b[0m\u001b[0mout\u001b[0m \u001b[0;32mis\u001b[0m \u001b[0;32mNone\u001b[0m \u001b[0;32mor\u001b[0m \u001b[0mout\u001b[0m\u001b[0;34m.\u001b[0m\u001b[0mdtype\u001b[0m \u001b[0;34m!=\u001b[0m \u001b[0mdtype\u001b[0m\u001b[0;34m)\u001b[0m\u001b[0;34m:\u001b[0m\u001b[0;34m\u001b[0m\u001b[0;34m\u001b[0m\u001b[0m\n\u001b[1;32m   1717\u001b[0m                 \u001b[0;31m# check if promotion is actually required based on indexer\u001b[0m\u001b[0;34m\u001b[0m\u001b[0;34m\u001b[0m\u001b[0;34m\u001b[0m\u001b[0m\n\u001b[0;32m-> 1718\u001b[0;31m                 \u001b[0mmask\u001b[0m \u001b[0;34m=\u001b[0m \u001b[0mindexer\u001b[0m \u001b[0;34m==\u001b[0m \u001b[0;34m-\u001b[0m\u001b[0;36m1\u001b[0m\u001b[0;34m\u001b[0m\u001b[0;34m\u001b[0m\u001b[0m\n\u001b[0m\u001b[1;32m   1719\u001b[0m                 \u001b[0mneeds_masking\u001b[0m \u001b[0;34m=\u001b[0m \u001b[0mmask\u001b[0m\u001b[0;34m.\u001b[0m\u001b[0many\u001b[0m\u001b[0;34m(\u001b[0m\u001b[0;34m)\u001b[0m\u001b[0;34m\u001b[0m\u001b[0;34m\u001b[0m\u001b[0m\n\u001b[1;32m   1720\u001b[0m                 \u001b[0mmask_info\u001b[0m \u001b[0;34m=\u001b[0m \u001b[0mmask\u001b[0m\u001b[0;34m,\u001b[0m \u001b[0mneeds_masking\u001b[0m\u001b[0;34m\u001b[0m\u001b[0;34m\u001b[0m\u001b[0m\n",
      "\u001b[0;31mKeyboardInterrupt\u001b[0m: "
     ]
    }
   ],
   "source": [
    "\n",
    "coef = 0 \n",
    "errorcoef = np.inf\n",
    "for l in np.linspace(1, 3, 50):\n",
    "\n",
    "    Arg1 = (Mixed[Mixed['FFF']==0]['xpos']/l)/((1 + (Mixed[Mixed['FFF']==0]['xpos']/l)**2)**(1/2))\n",
    "    Arg2 = (Mixed[Mixed['FFF']==0]['xneg']/l)/((1 + (Mixed[Mixed['FFF']==0]['xneg']/l)**2)**(1/2))\n",
    "\n",
    "    Arg3 = (Mixed[Mixed['FFF']==0]['ypos']/l)/((1 + (Mixed[Mixed['FFF']==0]['ypos']/l)**2)**(1/2))\n",
    "    Arg4 = (Mixed[Mixed['FFF']==0]['yneg']/l)/((1 + (Mixed[Mixed['FFF']==0]['yneg']/l)**2)**(1/2))\n",
    "    a = Mixed[Mixed['FFF']==0]['Big Z'] * (Arg1+Arg2) * (Arg3+Arg4) * (1 + (Mixed[Mixed['FFF']==0]['Rho']**2) * (2.511886e-07 + 0.010000*Mixed[Mixed['FFF']==0]['Rho'] + 0.000068*Mixed[Mixed['FFF']==0]['Rho']**2 + 0.000527*Mixed[Mixed['FFF']==0]['Rho']**3 + 0.00001*Mixed[Mixed['FFF']==0]['Rho']**5))\n",
    "\n",
    "    a = a.reset_index(drop=True)\n",
    "\n",
    "    MIXEDF0 = Mixed[Mixed['FFF']==0].reset_index(drop=True)\n",
    "\n",
    "\n",
    "\n",
    "    MIXEDF0['a'] = a\n",
    "    LimitedSignal = []\n",
    "\n",
    "\n",
    "    NewA = []\n",
    "    for i in np.arange(0, MIXEDF0.shape[0]):\n",
    "        Limit = float(MIXEDF0.loc[i, 'Limit'])\n",
    "        Area = float(MIXEDF0.loc[i, 'Area'])\n",
    "        zforanalytic = float(MIXEDF0.loc[i, 'Z'])\n",
    "        maxsignal = MIXEDF0[(MIXEDF0['Limit']==Limit) & (MIXEDF0['Area']==Area) & (MIXEDF0['Z']==zforanalytic)]['señal'].max()\n",
    "        maxanalytic = MIXEDF0[(MIXEDF0['Limit']==Limit) & (MIXEDF0['Area']==Area) & (MIXEDF0['Z']==zforanalytic)]['a'].max()\n",
    "        NewA.append(MIXEDF0.loc[i, 'a']*(maxsignal/maxanalytic))\n",
    "\n",
    "        if np.abs(MIXEDF0.loc[i, 'r']) > MIXEDF0.loc[i, 'Limit']/2:\n",
    "            LimitedSignal.append(0)\n",
    "        else:\n",
    "            LimitedSignal.append(1)\n",
    "\n",
    "    MIXEDF0.drop('a', axis=1, inplace=True)\n",
    "    MIXEDF0['Analytic function'] = NewA\n",
    "    MIXEDF0['Limited'] = LimitedSignal\n",
    "\n",
    "\n",
    "\n",
    "    print(mean_absolute_error(NewA, MIXEDF0['señal'].values))\n",
    "    if mean_absolute_error(NewA, MIXEDF0['señal'].values) < errorcoef:\n",
    "        errorcoef = mean_absolute_error(NewA, MIXEDF0['señal'].values)\n",
    "        coef = l\n",
    "        \n",
    "        \n",
    "Arg1 = (Mixed[Mixed['FFF']==0]['xpos']/coef)/((1 + (Mixed[Mixed['FFF']==0]['xpos']/coef)**2)**(1/2))\n",
    "Arg2 = (Mixed[Mixed['FFF']==0]['xneg']/coef)/((1 + (Mixed[Mixed['FFF']==0]['xneg']/coef)**2)**(1/2))\n",
    "\n",
    "Arg3 = (Mixed[Mixed['FFF']==0]['ypos']/coef)/((1 + (Mixed[Mixed['FFF']==0]['ypos']/coef)**2)**(1/2))\n",
    "Arg4 = (Mixed[Mixed['FFF']==0]['yneg']/coef)/((1 + (Mixed[Mixed['FFF']==0]['yneg']/coef)**2)**(1/2))\n",
    "a = Mixed[Mixed['FFF']==0]['Big Z'] * (Arg1+Arg2) * (Arg3+Arg4) * (1 + (Mixed[Mixed['FFF']==0]['Rho']**2) * (2.511886e-07 + 0.010000*Mixed[Mixed['FFF']==0]['Rho'] + 0.000068*Mixed[Mixed['FFF']==0]['Rho']**2 + 0.000527*Mixed[Mixed['FFF']==0]['Rho']**3 + 0.00001*Mixed[Mixed['FFF']==0]['Rho']**5))\n",
    "\n",
    "a = a.reset_index(drop=True)\n",
    "\n",
    "MIXEDF0 = Mixed[Mixed['FFF']==0].reset_index(drop=True)\n",
    "\n",
    "\n",
    "\n",
    "MIXEDF0['a'] = a\n",
    "LimitedSignal = []\n",
    "\n",
    "\n",
    "NewA = []\n",
    "for i in np.arange(0, MIXEDF0.shape[0]):\n",
    "    Limit = float(MIXEDF0.loc[i, 'Limit'])\n",
    "    Area = float(MIXEDF0.loc[i, 'Area'])\n",
    "    zforanalytic = float(MIXEDF0.loc[i, 'Z'])\n",
    "    maxsignal = MIXEDF0[(MIXEDF0['Limit']==Limit) & (MIXEDF0['Area']==Area) & (MIXEDF0['Z']==zforanalytic)]['señal'].max()\n",
    "    maxanalytic = MIXEDF0[(MIXEDF0['Limit']==Limit) & (MIXEDF0['Area']==Area) & (MIXEDF0['Z']==zforanalytic)]['a'].max()\n",
    "    NewA.append(MIXEDF0.loc[i, 'a']*(maxsignal/maxanalytic))\n",
    "\n",
    "    if np.abs(MIXEDF0.loc[i, 'r']) > MIXEDF0.loc[i, 'Limit']/2:\n",
    "        LimitedSignal.append(0)\n",
    "    else:\n",
    "        LimitedSignal.append(1)\n",
    "\n",
    "MIXEDF0.drop('a', axis=1, inplace=True)\n",
    "MIXEDF0['Analytic function'] =     NewA\n",
    "MIXEDF0['Limited'] = LimitedSignal\n"
   ]
  },
  {
   "cell_type": "code",
   "execution_count": null,
   "id": "243eee98",
   "metadata": {},
   "outputs": [],
   "source": []
  },
  {
   "cell_type": "code",
   "execution_count": null,
   "id": "f55be9ca",
   "metadata": {},
   "outputs": [],
   "source": []
  },
  {
   "cell_type": "code",
   "execution_count": 51,
   "id": "5c78185a",
   "metadata": {},
   "outputs": [
    {
     "data": {
      "text/plain": [
       "1.6122448979591835"
      ]
     },
     "execution_count": 51,
     "metadata": {},
     "output_type": "execute_result"
    }
   ],
   "source": [
    "coef"
   ]
  },
  {
   "cell_type": "code",
   "execution_count": null,
   "id": "79340109",
   "metadata": {},
   "outputs": [],
   "source": [
    "a = Mixed[Mixed['FFF']==0]['Big Z'] * (Arg1+Arg2) * (Arg3+Arg4) * (1 + (Mixed[Mixed['FFF']==0]['Rho']**2) * (-1.000000e-05 + 0.001*Mixed[Mixed['FFF']==0]['Rho'] + 1.000000e-05*Mixed[Mixed['FFF']==0]['Rho']**2 + 0.001*Mixed[Mixed['FFF']==0]['Rho']**3 + 0.001*Mixed[Mixed['FFF']==0]['Rho']**5))\n"
   ]
  },
  {
   "cell_type": "markdown",
   "id": "3515e641",
   "metadata": {},
   "source": [
    "## Results"
   ]
  },
  {
   "cell_type": "code",
   "execution_count": null,
   "id": "278f7cb6",
   "metadata": {},
   "outputs": [],
   "source": [
    "a = Mixed[Mixed['FFF']==0]['Big Z'] * (Arg1+Arg2) * (Arg3+Arg4) * (1 + (Mixed[Mixed['FFF']==0]['Rho']**2) * (1e-6 + 1e-2*Mixed[Mixed['FFF']==0]['Rho'] + 1*10**(-4.5)*Mixed[Mixed['FFF']==0]['Rho']**2 + 1*10**(-3.1)*Mixed[Mixed['FFF']==0]['Rho']**3 + 1e-4*Mixed[Mixed['FFF']==0]['Rho']**5))\n"
   ]
  },
  {
   "cell_type": "code",
   "execution_count": null,
   "id": "6332acc2",
   "metadata": {},
   "outputs": [],
   "source": [
    "2.511886e-07\t0.010000\t0.000068\t0.000527\t0.00001\n"
   ]
  },
  {
   "cell_type": "code",
   "execution_count": 52,
   "id": "e5337bc7",
   "metadata": {},
   "outputs": [
    {
     "name": "stdout",
     "output_type": "stream",
     "text": [
      "\\begin{tabular}{lrrrrrrr}\n",
      "\\toprule\n",
      "{} &      0 &             1 &      2 &         3 &         4 &        5 &         6 \\\\\n",
      "\\midrule\n",
      "First iteration  &  1.857 & -1.000000e-05 &  0.001 &  0.000010 &  0.001000 &  0.00100 &  0.027306 \\\\\n",
      "Second iteration &  1.653 &  1.000000e-06 &  0.010 &  0.000032 &  0.000794 &  0.00010 &  0.024800 \\\\\n",
      "Third iteration  &  1.612 &  2.511886e-07 &  0.010 &  0.000068 &  0.000527 &  0.00001 &  0.023591 \\\\\n",
      "\\bottomrule\n",
      "\\end{tabular}\n",
      "\n"
     ]
    }
   ],
   "source": [
    "Results = pd.DataFrame(data=[1.857, -1e-5, 0.001, 1.000000e-05, 0.001, 0.001, 0.027306], columns=['First iteration'])\n",
    "Results['Second iteration'] = [1.653, 1e-6, 1e-2, 10**(-4.5), 10**(-3.1), 1e-4, 0.0248]\n",
    "Results['Third iteration'] = [1.612, 2.511886e-07, 0.010000, 0.000068, 0.000527, 0.00001, 0.023591]\n",
    "print(Results.transpose().to_latex())"
   ]
  },
  {
   "cell_type": "code",
   "execution_count": null,
   "id": "3f501ef9",
   "metadata": {},
   "outputs": [],
   "source": []
  }
 ],
 "metadata": {
  "kernelspec": {
   "display_name": "Python 3",
   "language": "python",
   "name": "python3"
  },
  "language_info": {
   "codemirror_mode": {
    "name": "ipython",
    "version": 3
   },
   "file_extension": ".py",
   "mimetype": "text/x-python",
   "name": "python",
   "nbconvert_exporter": "python",
   "pygments_lexer": "ipython3",
   "version": "3.7.6"
  },
  "toc": {
   "base_numbering": 1,
   "nav_menu": {},
   "number_sections": true,
   "sideBar": true,
   "skip_h1_title": false,
   "title_cell": "Table of Contents",
   "title_sidebar": "Contents",
   "toc_cell": false,
   "toc_position": {},
   "toc_section_display": true,
   "toc_window_display": true
  }
 },
 "nbformat": 4,
 "nbformat_minor": 5
}
